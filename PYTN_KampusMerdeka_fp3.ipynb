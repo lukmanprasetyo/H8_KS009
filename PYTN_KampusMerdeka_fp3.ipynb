{
  "cells": [
    {
      "cell_type": "markdown",
      "metadata": {
        "id": "view-in-github",
        "colab_type": "text"
      },
      "source": [
        "<a href=\"https://colab.research.google.com/github/lukmanprasetyo/H8_KS009/blob/master/PYTN_KampusMerdeka_fp3.ipynb\" target=\"_parent\"><img src=\"https://colab.research.google.com/assets/colab-badge.svg\" alt=\"Open In Colab\"/></a>"
      ]
    },
    {
      "cell_type": "markdown",
      "id": "20d78e3a",
      "metadata": {
        "id": "20d78e3a"
      },
      "source": [
        "![download.png](attachment:download.png)"
      ]
    },
    {
      "cell_type": "markdown",
      "id": "07a2e407",
      "metadata": {
        "id": "07a2e407"
      },
      "source": [
        " # FINAL PROJECT 3"
      ]
    },
    {
      "cell_type": "markdown",
      "id": "82f0a929",
      "metadata": {
        "id": "82f0a929"
      },
      "source": [
        "Team :\n",
        "1. Anugrah Aidin Yotolembah PYTN-KS09-023\n",
        "2. Natalie Novenrodumetasa PYTN-KS09-001\n",
        "3. LUKMAN PRASETYO NUGROHO PYTN-KS09-004\n",
        "\n"
      ]
    },
    {
      "cell_type": "markdown",
      "id": "95dd9117",
      "metadata": {
        "id": "95dd9117"
      },
      "source": [
        "## A. Perkenalan"
      ]
    },
    {
      "cell_type": "markdown",
      "id": "19cc3929",
      "metadata": {
        "id": "19cc3929"
      },
      "source": [
        "### Latar Belakang"
      ]
    },
    {
      "cell_type": "markdown",
      "id": "b2fc04d5",
      "metadata": {
        "id": "b2fc04d5"
      },
      "source": [
        "Penyakit kardiovaskular (CVDs) adalah penyebab kematian nomor 1 secara global, mengambil sekitar 17,9 juta jiwa setiap tahun, yang menyumbang 31% dari semua kematian di seluruh dunia.\n",
        "Gagal jantung adalah kejadian umum yang disebabkan oleh CVD dan kumpulan data ini berisi 12 fitur yang dapat digunakan untuk memprediksi kematian akibat gagal jantung.\n",
        "\n",
        "Sebagian besar penyakit kardiovaskular dapat dicegah dengan mengatasi faktor risiko perilaku seperti penggunaan tembakau, diet tidak sehat dan obesitas, kurangnya aktivitas fisik, dan penggunaan alkohol yang berbahaya menggunakan strategi di seluruh populasi.\n",
        "\n",
        "Orang dengan penyakit kardiovaskular atau yang berada pada risiko kardiovaskular tinggi (karena adanya satu atau lebih faktor risiko seperti hipertensi, diabetes, hiperlipidemia atau penyakit yang sudah ada) memerlukan deteksi dan manajemen dini di mana model pembelajaran mesin dapat sangat membantu.\n",
        "\n",
        "Pada final project 3 kali ini, memakai dataset yang berasal dari kaggle yang berjudul Heart Failure Prediction, yang berisi tentang faktor-faktor kematian oleh gagal jantung yang memiliki 13 atribut dengan 299 rows. Atribut yang menjadi target yaitu atribut Death Event/Kematian, sedangkan atribut lainnya merupakan prediktor."
      ]
    },
    {
      "cell_type": "markdown",
      "id": "91bd6f0e",
      "metadata": {
        "id": "91bd6f0e"
      },
      "source": [
        "## B. Import Library\n",
        "bagian ini berisi library apa saja yang di pakai oleh program pada final project 3 ini"
      ]
    },
    {
      "cell_type": "code",
      "execution_count": 1,
      "id": "0e14cd03",
      "metadata": {
        "id": "0e14cd03",
        "outputId": "e461abce-7411-41be-a417-a62a67650371",
        "colab": {
          "base_uri": "https://localhost:8080/"
        }
      },
      "outputs": [
        {
          "output_type": "stream",
          "name": "stdout",
          "text": [
            "library sudah siap !!\n"
          ]
        }
      ],
      "source": [
        "# import library preprocessing dan visualisasi\n",
        "import pandas as pd\n",
        "import numpy as np\n",
        "import matplotlib.pyplot as plt\n",
        "import seaborn as sns\n",
        "from sklearn import preprocessing\n",
        "from sklearn.model_selection import train_test_split\n",
        "\n",
        "# import library modelling\n",
        "from sklearn.ensemble import RandomForestClassifier\n",
        "from sklearn.naive_bayes import GaussianNB\n",
        "from sklearn.ensemble import ExtraTreesClassifier\n",
        "from sklearn.ensemble import GradientBoostingClassifier\n",
        "from sklearn.metrics import classification_report\n",
        "from sklearn.metrics import confusion_matrix\n",
        "from sklearn.metrics import accuracy_score, f1_score, precision_score\n",
        "import pickle\n",
        "\n",
        "import warnings\n",
        "warnings.filterwarnings(\"ignore\")\n",
        "\n",
        "print('library sudah siap !!')"
      ]
    },
    {
      "cell_type": "markdown",
      "id": "c0ae0898",
      "metadata": {
        "id": "c0ae0898"
      },
      "source": [
        "## C. Data Loading\n",
        "Bagian ini berisi proses data loading yang kemudian dilanjutkan dengan\n",
        "explorasi data secara sederhana.\n"
      ]
    },
    {
      "cell_type": "markdown",
      "id": "7cec9f15",
      "metadata": {
        "id": "7cec9f15"
      },
      "source": [
        "1. Pertama kita akan memasukkan dataset ke dalam program ini"
      ]
    },
    {
      "cell_type": "code",
      "source": [
        "from google.colab import drive\n",
        "drive.mount('/content/drive/')"
      ],
      "metadata": {
        "colab": {
          "base_uri": "https://localhost:8080/"
        },
        "id": "qdcEf7Z--u6s",
        "outputId": "a6a530ab-1f3e-48d8-cd85-fbbcb5e194d9"
      },
      "id": "qdcEf7Z--u6s",
      "execution_count": 2,
      "outputs": [
        {
          "output_type": "stream",
          "name": "stdout",
          "text": [
            "Mounted at /content/drive/\n"
          ]
        }
      ]
    },
    {
      "cell_type": "code",
      "source": [
        "import os\n",
        "os.environ[\"KAGGLE_CONFIG_DIR\"] = '/content/drive/MyDrive/dataset'"
      ],
      "metadata": {
        "id": "saL0tSle_Wtp"
      },
      "id": "saL0tSle_Wtp",
      "execution_count": 3,
      "outputs": []
    },
    {
      "cell_type": "code",
      "source": [
        "%cd drive/MyDrive/dataset/"
      ],
      "metadata": {
        "colab": {
          "base_uri": "https://localhost:8080/"
        },
        "id": "3dmgqk1l_ajK",
        "outputId": "a54adc17-8bc7-475b-ed19-c6b6b2e3b442"
      },
      "id": "3dmgqk1l_ajK",
      "execution_count": 5,
      "outputs": [
        {
          "output_type": "stream",
          "name": "stdout",
          "text": [
            "/content/drive/MyDrive/dataset\n"
          ]
        }
      ]
    },
    {
      "cell_type": "code",
      "source": [
        "!kaggle datasets download -d andrewmvd/heart-failure-clinical-data"
      ],
      "metadata": {
        "colab": {
          "base_uri": "https://localhost:8080/"
        },
        "id": "5-8TIqcK_cMF",
        "outputId": "05cdbe3f-fc3c-4a46-d59f-470e15aeeb3b"
      },
      "id": "5-8TIqcK_cMF",
      "execution_count": null,
      "outputs": [
        {
          "output_type": "stream",
          "name": "stdout",
          "text": [
            "Downloading heart-failure-clinical-data.zip to /content/drive/MyDrive/dataset\n",
            "\r  0% 0.00/3.97k [00:00<?, ?B/s]\n",
            "\r100% 3.97k/3.97k [00:00<00:00, 710kB/s]\n"
          ]
        }
      ]
    },
    {
      "cell_type": "code",
      "source": [
        "!unzip heart-failure-clinical-data"
      ],
      "metadata": {
        "colab": {
          "base_uri": "https://localhost:8080/"
        },
        "id": "on7R-fFv_djo",
        "outputId": "9cef5276-b79c-4a61-aadf-776652b0f1a8"
      },
      "id": "on7R-fFv_djo",
      "execution_count": null,
      "outputs": [
        {
          "output_type": "stream",
          "name": "stdout",
          "text": [
            "Archive:  heart-failure-clinical-data.zip\n",
            "  inflating: heart_failure_clinical_records_dataset.csv  \n"
          ]
        }
      ]
    },
    {
      "cell_type": "code",
      "execution_count": 6,
      "id": "3284820e",
      "metadata": {
        "id": "3284820e",
        "outputId": "2dc7d21a-cd9d-47e5-9788-3327104941f9",
        "colab": {
          "base_uri": "https://localhost:8080/"
        }
      },
      "outputs": [
        {
          "output_type": "stream",
          "name": "stdout",
          "text": [
            "dataset sudah siap\n"
          ]
        }
      ],
      "source": [
        "df = pd.read_csv('heart_failure_clinical_records_dataset.csv')\n",
        "df\n",
        "\n",
        "print('dataset sudah siap')"
      ]
    },
    {
      "cell_type": "markdown",
      "id": "e3db7b97",
      "metadata": {
        "id": "e3db7b97"
      },
      "source": [
        "2. Selanjutnya kita akan menampilkan informasi 5 data teratas dan  data terbawah"
      ]
    },
    {
      "cell_type": "code",
      "execution_count": 8,
      "id": "dbcbd1ff",
      "metadata": {
        "id": "dbcbd1ff",
        "outputId": "83ea082a-6d2b-4925-c645-82b6f6b4d5ef",
        "colab": {
          "base_uri": "https://localhost:8080/",
          "height": 270
        }
      },
      "outputs": [
        {
          "output_type": "execute_result",
          "data": {
            "text/plain": [
              "    age  anaemia  creatinine_phosphokinase  diabetes  ejection_fraction  \\\n",
              "0  75.0        0                       582         0                 20   \n",
              "1  55.0        0                      7861         0                 38   \n",
              "2  65.0        0                       146         0                 20   \n",
              "3  50.0        1                       111         0                 20   \n",
              "4  65.0        1                       160         1                 20   \n",
              "\n",
              "   high_blood_pressure  platelets  serum_creatinine  serum_sodium  sex  \\\n",
              "0                    1  265000.00               1.9           130    1   \n",
              "1                    0  263358.03               1.1           136    1   \n",
              "2                    0  162000.00               1.3           129    1   \n",
              "3                    0  210000.00               1.9           137    1   \n",
              "4                    0  327000.00               2.7           116    0   \n",
              "\n",
              "   smoking  time  DEATH_EVENT  \n",
              "0        0     4            1  \n",
              "1        0     6            1  \n",
              "2        1     7            1  \n",
              "3        0     7            1  \n",
              "4        0     8            1  "
            ],
            "text/html": [
              "\n",
              "  <div id=\"df-54ada97c-b007-4ee3-a4e7-7131c4282089\">\n",
              "    <div class=\"colab-df-container\">\n",
              "      <div>\n",
              "<style scoped>\n",
              "    .dataframe tbody tr th:only-of-type {\n",
              "        vertical-align: middle;\n",
              "    }\n",
              "\n",
              "    .dataframe tbody tr th {\n",
              "        vertical-align: top;\n",
              "    }\n",
              "\n",
              "    .dataframe thead th {\n",
              "        text-align: right;\n",
              "    }\n",
              "</style>\n",
              "<table border=\"1\" class=\"dataframe\">\n",
              "  <thead>\n",
              "    <tr style=\"text-align: right;\">\n",
              "      <th></th>\n",
              "      <th>age</th>\n",
              "      <th>anaemia</th>\n",
              "      <th>creatinine_phosphokinase</th>\n",
              "      <th>diabetes</th>\n",
              "      <th>ejection_fraction</th>\n",
              "      <th>high_blood_pressure</th>\n",
              "      <th>platelets</th>\n",
              "      <th>serum_creatinine</th>\n",
              "      <th>serum_sodium</th>\n",
              "      <th>sex</th>\n",
              "      <th>smoking</th>\n",
              "      <th>time</th>\n",
              "      <th>DEATH_EVENT</th>\n",
              "    </tr>\n",
              "  </thead>\n",
              "  <tbody>\n",
              "    <tr>\n",
              "      <th>0</th>\n",
              "      <td>75.0</td>\n",
              "      <td>0</td>\n",
              "      <td>582</td>\n",
              "      <td>0</td>\n",
              "      <td>20</td>\n",
              "      <td>1</td>\n",
              "      <td>265000.00</td>\n",
              "      <td>1.9</td>\n",
              "      <td>130</td>\n",
              "      <td>1</td>\n",
              "      <td>0</td>\n",
              "      <td>4</td>\n",
              "      <td>1</td>\n",
              "    </tr>\n",
              "    <tr>\n",
              "      <th>1</th>\n",
              "      <td>55.0</td>\n",
              "      <td>0</td>\n",
              "      <td>7861</td>\n",
              "      <td>0</td>\n",
              "      <td>38</td>\n",
              "      <td>0</td>\n",
              "      <td>263358.03</td>\n",
              "      <td>1.1</td>\n",
              "      <td>136</td>\n",
              "      <td>1</td>\n",
              "      <td>0</td>\n",
              "      <td>6</td>\n",
              "      <td>1</td>\n",
              "    </tr>\n",
              "    <tr>\n",
              "      <th>2</th>\n",
              "      <td>65.0</td>\n",
              "      <td>0</td>\n",
              "      <td>146</td>\n",
              "      <td>0</td>\n",
              "      <td>20</td>\n",
              "      <td>0</td>\n",
              "      <td>162000.00</td>\n",
              "      <td>1.3</td>\n",
              "      <td>129</td>\n",
              "      <td>1</td>\n",
              "      <td>1</td>\n",
              "      <td>7</td>\n",
              "      <td>1</td>\n",
              "    </tr>\n",
              "    <tr>\n",
              "      <th>3</th>\n",
              "      <td>50.0</td>\n",
              "      <td>1</td>\n",
              "      <td>111</td>\n",
              "      <td>0</td>\n",
              "      <td>20</td>\n",
              "      <td>0</td>\n",
              "      <td>210000.00</td>\n",
              "      <td>1.9</td>\n",
              "      <td>137</td>\n",
              "      <td>1</td>\n",
              "      <td>0</td>\n",
              "      <td>7</td>\n",
              "      <td>1</td>\n",
              "    </tr>\n",
              "    <tr>\n",
              "      <th>4</th>\n",
              "      <td>65.0</td>\n",
              "      <td>1</td>\n",
              "      <td>160</td>\n",
              "      <td>1</td>\n",
              "      <td>20</td>\n",
              "      <td>0</td>\n",
              "      <td>327000.00</td>\n",
              "      <td>2.7</td>\n",
              "      <td>116</td>\n",
              "      <td>0</td>\n",
              "      <td>0</td>\n",
              "      <td>8</td>\n",
              "      <td>1</td>\n",
              "    </tr>\n",
              "  </tbody>\n",
              "</table>\n",
              "</div>\n",
              "      <button class=\"colab-df-convert\" onclick=\"convertToInteractive('df-54ada97c-b007-4ee3-a4e7-7131c4282089')\"\n",
              "              title=\"Convert this dataframe to an interactive table.\"\n",
              "              style=\"display:none;\">\n",
              "        \n",
              "  <svg xmlns=\"http://www.w3.org/2000/svg\" height=\"24px\"viewBox=\"0 0 24 24\"\n",
              "       width=\"24px\">\n",
              "    <path d=\"M0 0h24v24H0V0z\" fill=\"none\"/>\n",
              "    <path d=\"M18.56 5.44l.94 2.06.94-2.06 2.06-.94-2.06-.94-.94-2.06-.94 2.06-2.06.94zm-11 1L8.5 8.5l.94-2.06 2.06-.94-2.06-.94L8.5 2.5l-.94 2.06-2.06.94zm10 10l.94 2.06.94-2.06 2.06-.94-2.06-.94-.94-2.06-.94 2.06-2.06.94z\"/><path d=\"M17.41 7.96l-1.37-1.37c-.4-.4-.92-.59-1.43-.59-.52 0-1.04.2-1.43.59L10.3 9.45l-7.72 7.72c-.78.78-.78 2.05 0 2.83L4 21.41c.39.39.9.59 1.41.59.51 0 1.02-.2 1.41-.59l7.78-7.78 2.81-2.81c.8-.78.8-2.07 0-2.86zM5.41 20L4 18.59l7.72-7.72 1.47 1.35L5.41 20z\"/>\n",
              "  </svg>\n",
              "      </button>\n",
              "      \n",
              "  <style>\n",
              "    .colab-df-container {\n",
              "      display:flex;\n",
              "      flex-wrap:wrap;\n",
              "      gap: 12px;\n",
              "    }\n",
              "\n",
              "    .colab-df-convert {\n",
              "      background-color: #E8F0FE;\n",
              "      border: none;\n",
              "      border-radius: 50%;\n",
              "      cursor: pointer;\n",
              "      display: none;\n",
              "      fill: #1967D2;\n",
              "      height: 32px;\n",
              "      padding: 0 0 0 0;\n",
              "      width: 32px;\n",
              "    }\n",
              "\n",
              "    .colab-df-convert:hover {\n",
              "      background-color: #E2EBFA;\n",
              "      box-shadow: 0px 1px 2px rgba(60, 64, 67, 0.3), 0px 1px 3px 1px rgba(60, 64, 67, 0.15);\n",
              "      fill: #174EA6;\n",
              "    }\n",
              "\n",
              "    [theme=dark] .colab-df-convert {\n",
              "      background-color: #3B4455;\n",
              "      fill: #D2E3FC;\n",
              "    }\n",
              "\n",
              "    [theme=dark] .colab-df-convert:hover {\n",
              "      background-color: #434B5C;\n",
              "      box-shadow: 0px 1px 3px 1px rgba(0, 0, 0, 0.15);\n",
              "      filter: drop-shadow(0px 1px 2px rgba(0, 0, 0, 0.3));\n",
              "      fill: #FFFFFF;\n",
              "    }\n",
              "  </style>\n",
              "\n",
              "      <script>\n",
              "        const buttonEl =\n",
              "          document.querySelector('#df-54ada97c-b007-4ee3-a4e7-7131c4282089 button.colab-df-convert');\n",
              "        buttonEl.style.display =\n",
              "          google.colab.kernel.accessAllowed ? 'block' : 'none';\n",
              "\n",
              "        async function convertToInteractive(key) {\n",
              "          const element = document.querySelector('#df-54ada97c-b007-4ee3-a4e7-7131c4282089');\n",
              "          const dataTable =\n",
              "            await google.colab.kernel.invokeFunction('convertToInteractive',\n",
              "                                                     [key], {});\n",
              "          if (!dataTable) return;\n",
              "\n",
              "          const docLinkHtml = 'Like what you see? Visit the ' +\n",
              "            '<a target=\"_blank\" href=https://colab.research.google.com/notebooks/data_table.ipynb>data table notebook</a>'\n",
              "            + ' to learn more about interactive tables.';\n",
              "          element.innerHTML = '';\n",
              "          dataTable['output_type'] = 'display_data';\n",
              "          await google.colab.output.renderOutput(dataTable, element);\n",
              "          const docLink = document.createElement('div');\n",
              "          docLink.innerHTML = docLinkHtml;\n",
              "          element.appendChild(docLink);\n",
              "        }\n",
              "      </script>\n",
              "    </div>\n",
              "  </div>\n",
              "  "
            ]
          },
          "metadata": {},
          "execution_count": 8
        }
      ],
      "source": [
        "df.head()"
      ]
    },
    {
      "cell_type": "code",
      "execution_count": 9,
      "id": "3d4b550d",
      "metadata": {
        "id": "3d4b550d",
        "outputId": "ec768430-9725-4448-d5e5-db4d5c4d5282",
        "colab": {
          "base_uri": "https://localhost:8080/",
          "height": 270
        }
      },
      "outputs": [
        {
          "output_type": "execute_result",
          "data": {
            "text/plain": [
              "      age  anaemia  creatinine_phosphokinase  diabetes  ejection_fraction  \\\n",
              "294  62.0        0                        61         1                 38   \n",
              "295  55.0        0                      1820         0                 38   \n",
              "296  45.0        0                      2060         1                 60   \n",
              "297  45.0        0                      2413         0                 38   \n",
              "298  50.0        0                       196         0                 45   \n",
              "\n",
              "     high_blood_pressure  platelets  serum_creatinine  serum_sodium  sex  \\\n",
              "294                    1   155000.0               1.1           143    1   \n",
              "295                    0   270000.0               1.2           139    0   \n",
              "296                    0   742000.0               0.8           138    0   \n",
              "297                    0   140000.0               1.4           140    1   \n",
              "298                    0   395000.0               1.6           136    1   \n",
              "\n",
              "     smoking  time  DEATH_EVENT  \n",
              "294        1   270            0  \n",
              "295        0   271            0  \n",
              "296        0   278            0  \n",
              "297        1   280            0  \n",
              "298        1   285            0  "
            ],
            "text/html": [
              "\n",
              "  <div id=\"df-0b11d586-82f8-44e0-89ca-3f19dea8100d\">\n",
              "    <div class=\"colab-df-container\">\n",
              "      <div>\n",
              "<style scoped>\n",
              "    .dataframe tbody tr th:only-of-type {\n",
              "        vertical-align: middle;\n",
              "    }\n",
              "\n",
              "    .dataframe tbody tr th {\n",
              "        vertical-align: top;\n",
              "    }\n",
              "\n",
              "    .dataframe thead th {\n",
              "        text-align: right;\n",
              "    }\n",
              "</style>\n",
              "<table border=\"1\" class=\"dataframe\">\n",
              "  <thead>\n",
              "    <tr style=\"text-align: right;\">\n",
              "      <th></th>\n",
              "      <th>age</th>\n",
              "      <th>anaemia</th>\n",
              "      <th>creatinine_phosphokinase</th>\n",
              "      <th>diabetes</th>\n",
              "      <th>ejection_fraction</th>\n",
              "      <th>high_blood_pressure</th>\n",
              "      <th>platelets</th>\n",
              "      <th>serum_creatinine</th>\n",
              "      <th>serum_sodium</th>\n",
              "      <th>sex</th>\n",
              "      <th>smoking</th>\n",
              "      <th>time</th>\n",
              "      <th>DEATH_EVENT</th>\n",
              "    </tr>\n",
              "  </thead>\n",
              "  <tbody>\n",
              "    <tr>\n",
              "      <th>294</th>\n",
              "      <td>62.0</td>\n",
              "      <td>0</td>\n",
              "      <td>61</td>\n",
              "      <td>1</td>\n",
              "      <td>38</td>\n",
              "      <td>1</td>\n",
              "      <td>155000.0</td>\n",
              "      <td>1.1</td>\n",
              "      <td>143</td>\n",
              "      <td>1</td>\n",
              "      <td>1</td>\n",
              "      <td>270</td>\n",
              "      <td>0</td>\n",
              "    </tr>\n",
              "    <tr>\n",
              "      <th>295</th>\n",
              "      <td>55.0</td>\n",
              "      <td>0</td>\n",
              "      <td>1820</td>\n",
              "      <td>0</td>\n",
              "      <td>38</td>\n",
              "      <td>0</td>\n",
              "      <td>270000.0</td>\n",
              "      <td>1.2</td>\n",
              "      <td>139</td>\n",
              "      <td>0</td>\n",
              "      <td>0</td>\n",
              "      <td>271</td>\n",
              "      <td>0</td>\n",
              "    </tr>\n",
              "    <tr>\n",
              "      <th>296</th>\n",
              "      <td>45.0</td>\n",
              "      <td>0</td>\n",
              "      <td>2060</td>\n",
              "      <td>1</td>\n",
              "      <td>60</td>\n",
              "      <td>0</td>\n",
              "      <td>742000.0</td>\n",
              "      <td>0.8</td>\n",
              "      <td>138</td>\n",
              "      <td>0</td>\n",
              "      <td>0</td>\n",
              "      <td>278</td>\n",
              "      <td>0</td>\n",
              "    </tr>\n",
              "    <tr>\n",
              "      <th>297</th>\n",
              "      <td>45.0</td>\n",
              "      <td>0</td>\n",
              "      <td>2413</td>\n",
              "      <td>0</td>\n",
              "      <td>38</td>\n",
              "      <td>0</td>\n",
              "      <td>140000.0</td>\n",
              "      <td>1.4</td>\n",
              "      <td>140</td>\n",
              "      <td>1</td>\n",
              "      <td>1</td>\n",
              "      <td>280</td>\n",
              "      <td>0</td>\n",
              "    </tr>\n",
              "    <tr>\n",
              "      <th>298</th>\n",
              "      <td>50.0</td>\n",
              "      <td>0</td>\n",
              "      <td>196</td>\n",
              "      <td>0</td>\n",
              "      <td>45</td>\n",
              "      <td>0</td>\n",
              "      <td>395000.0</td>\n",
              "      <td>1.6</td>\n",
              "      <td>136</td>\n",
              "      <td>1</td>\n",
              "      <td>1</td>\n",
              "      <td>285</td>\n",
              "      <td>0</td>\n",
              "    </tr>\n",
              "  </tbody>\n",
              "</table>\n",
              "</div>\n",
              "      <button class=\"colab-df-convert\" onclick=\"convertToInteractive('df-0b11d586-82f8-44e0-89ca-3f19dea8100d')\"\n",
              "              title=\"Convert this dataframe to an interactive table.\"\n",
              "              style=\"display:none;\">\n",
              "        \n",
              "  <svg xmlns=\"http://www.w3.org/2000/svg\" height=\"24px\"viewBox=\"0 0 24 24\"\n",
              "       width=\"24px\">\n",
              "    <path d=\"M0 0h24v24H0V0z\" fill=\"none\"/>\n",
              "    <path d=\"M18.56 5.44l.94 2.06.94-2.06 2.06-.94-2.06-.94-.94-2.06-.94 2.06-2.06.94zm-11 1L8.5 8.5l.94-2.06 2.06-.94-2.06-.94L8.5 2.5l-.94 2.06-2.06.94zm10 10l.94 2.06.94-2.06 2.06-.94-2.06-.94-.94-2.06-.94 2.06-2.06.94z\"/><path d=\"M17.41 7.96l-1.37-1.37c-.4-.4-.92-.59-1.43-.59-.52 0-1.04.2-1.43.59L10.3 9.45l-7.72 7.72c-.78.78-.78 2.05 0 2.83L4 21.41c.39.39.9.59 1.41.59.51 0 1.02-.2 1.41-.59l7.78-7.78 2.81-2.81c.8-.78.8-2.07 0-2.86zM5.41 20L4 18.59l7.72-7.72 1.47 1.35L5.41 20z\"/>\n",
              "  </svg>\n",
              "      </button>\n",
              "      \n",
              "  <style>\n",
              "    .colab-df-container {\n",
              "      display:flex;\n",
              "      flex-wrap:wrap;\n",
              "      gap: 12px;\n",
              "    }\n",
              "\n",
              "    .colab-df-convert {\n",
              "      background-color: #E8F0FE;\n",
              "      border: none;\n",
              "      border-radius: 50%;\n",
              "      cursor: pointer;\n",
              "      display: none;\n",
              "      fill: #1967D2;\n",
              "      height: 32px;\n",
              "      padding: 0 0 0 0;\n",
              "      width: 32px;\n",
              "    }\n",
              "\n",
              "    .colab-df-convert:hover {\n",
              "      background-color: #E2EBFA;\n",
              "      box-shadow: 0px 1px 2px rgba(60, 64, 67, 0.3), 0px 1px 3px 1px rgba(60, 64, 67, 0.15);\n",
              "      fill: #174EA6;\n",
              "    }\n",
              "\n",
              "    [theme=dark] .colab-df-convert {\n",
              "      background-color: #3B4455;\n",
              "      fill: #D2E3FC;\n",
              "    }\n",
              "\n",
              "    [theme=dark] .colab-df-convert:hover {\n",
              "      background-color: #434B5C;\n",
              "      box-shadow: 0px 1px 3px 1px rgba(0, 0, 0, 0.15);\n",
              "      filter: drop-shadow(0px 1px 2px rgba(0, 0, 0, 0.3));\n",
              "      fill: #FFFFFF;\n",
              "    }\n",
              "  </style>\n",
              "\n",
              "      <script>\n",
              "        const buttonEl =\n",
              "          document.querySelector('#df-0b11d586-82f8-44e0-89ca-3f19dea8100d button.colab-df-convert');\n",
              "        buttonEl.style.display =\n",
              "          google.colab.kernel.accessAllowed ? 'block' : 'none';\n",
              "\n",
              "        async function convertToInteractive(key) {\n",
              "          const element = document.querySelector('#df-0b11d586-82f8-44e0-89ca-3f19dea8100d');\n",
              "          const dataTable =\n",
              "            await google.colab.kernel.invokeFunction('convertToInteractive',\n",
              "                                                     [key], {});\n",
              "          if (!dataTable) return;\n",
              "\n",
              "          const docLinkHtml = 'Like what you see? Visit the ' +\n",
              "            '<a target=\"_blank\" href=https://colab.research.google.com/notebooks/data_table.ipynb>data table notebook</a>'\n",
              "            + ' to learn more about interactive tables.';\n",
              "          element.innerHTML = '';\n",
              "          dataTable['output_type'] = 'display_data';\n",
              "          await google.colab.output.renderOutput(dataTable, element);\n",
              "          const docLink = document.createElement('div');\n",
              "          docLink.innerHTML = docLinkHtml;\n",
              "          element.appendChild(docLink);\n",
              "        }\n",
              "      </script>\n",
              "    </div>\n",
              "  </div>\n",
              "  "
            ]
          },
          "metadata": {},
          "execution_count": 9
        }
      ],
      "source": [
        "df.tail()"
      ]
    },
    {
      "cell_type": "markdown",
      "id": "a2c1796e",
      "metadata": {
        "id": "a2c1796e"
      },
      "source": [
        "setelah kita menampilkan informasi 5 data teratas dan data terbawah, terdapat informasi bahwa terdapat beberapa kolom dan isi dari kolom tersebut"
      ]
    },
    {
      "cell_type": "markdown",
      "id": "904b5669",
      "metadata": {
        "id": "904b5669"
      },
      "source": [
        "3. Selanjutnya menampilkan dan mengecek  informasi pada dataset, informasi apa saja yang terdapat pada dataset ini"
      ]
    },
    {
      "cell_type": "code",
      "execution_count": 10,
      "id": "e1ae998b",
      "metadata": {
        "id": "e1ae998b",
        "outputId": "41b3cdd9-687b-4957-9e59-773f495ec487",
        "colab": {
          "base_uri": "https://localhost:8080/"
        }
      },
      "outputs": [
        {
          "output_type": "stream",
          "name": "stdout",
          "text": [
            "<class 'pandas.core.frame.DataFrame'>\n",
            "RangeIndex: 299 entries, 0 to 298\n",
            "Data columns (total 13 columns):\n",
            " #   Column                    Non-Null Count  Dtype  \n",
            "---  ------                    --------------  -----  \n",
            " 0   age                       299 non-null    float64\n",
            " 1   anaemia                   299 non-null    int64  \n",
            " 2   creatinine_phosphokinase  299 non-null    int64  \n",
            " 3   diabetes                  299 non-null    int64  \n",
            " 4   ejection_fraction         299 non-null    int64  \n",
            " 5   high_blood_pressure       299 non-null    int64  \n",
            " 6   platelets                 299 non-null    float64\n",
            " 7   serum_creatinine          299 non-null    float64\n",
            " 8   serum_sodium              299 non-null    int64  \n",
            " 9   sex                       299 non-null    int64  \n",
            " 10  smoking                   299 non-null    int64  \n",
            " 11  time                      299 non-null    int64  \n",
            " 12  DEATH_EVENT               299 non-null    int64  \n",
            "dtypes: float64(3), int64(10)\n",
            "memory usage: 30.5 KB\n"
          ]
        }
      ],
      "source": [
        "df.info()"
      ]
    },
    {
      "cell_type": "markdown",
      "id": "d9cca534",
      "metadata": {
        "id": "d9cca534"
      },
      "source": [
        "setelah kita melihat informasi pada dataset ini, bahwa terdapat range index atau baris sebanyak 299 baris, terdapat 13 columns dan juga terdapat type data yang terpakai pada dataset ini ialah tipe data float64 dan int64"
      ]
    },
    {
      "cell_type": "markdown",
      "id": "d46529b7",
      "metadata": {
        "id": "d46529b7"
      },
      "source": [
        "4. Selanjutnya menampilkan nama kolom yang terpakai pada dataset ini "
      ]
    },
    {
      "cell_type": "code",
      "execution_count": 11,
      "id": "5e99e763",
      "metadata": {
        "id": "5e99e763",
        "outputId": "0478cbe3-b303-476a-dc86-88da6d9d821f",
        "colab": {
          "base_uri": "https://localhost:8080/"
        }
      },
      "outputs": [
        {
          "output_type": "execute_result",
          "data": {
            "text/plain": [
              "Index(['age', 'anaemia', 'creatinine_phosphokinase', 'diabetes',\n",
              "       'ejection_fraction', 'high_blood_pressure', 'platelets',\n",
              "       'serum_creatinine', 'serum_sodium', 'sex', 'smoking', 'time',\n",
              "       'DEATH_EVENT'],\n",
              "      dtype='object')"
            ]
          },
          "metadata": {},
          "execution_count": 11
        }
      ],
      "source": [
        "df.columns"
      ]
    },
    {
      "cell_type": "markdown",
      "id": "16e8b5eb",
      "metadata": {
        "id": "16e8b5eb"
      },
      "source": [
        "setelah menampilkan nama kolom yang terpakai pada dataset,  terdapat 13 kolom yang namanya berbeda beda tetapi tetap berhubungan dengan kasus pada dataset ini"
      ]
    },
    {
      "cell_type": "markdown",
      "id": "e60dcc04",
      "metadata": {
        "id": "e60dcc04"
      },
      "source": [
        "5. Selanjutnya Menampilkan informasi tentang jumlah baris dan kolom yang berada di dalam dataset ini "
      ]
    },
    {
      "cell_type": "code",
      "execution_count": 12,
      "id": "462e5b13",
      "metadata": {
        "id": "462e5b13",
        "outputId": "92990e45-eaf7-497b-c33b-da42bbecdf4a",
        "colab": {
          "base_uri": "https://localhost:8080/"
        }
      },
      "outputs": [
        {
          "output_type": "execute_result",
          "data": {
            "text/plain": [
              "(299, 13)"
            ]
          },
          "metadata": {},
          "execution_count": 12
        }
      ],
      "source": [
        "df.shape"
      ]
    },
    {
      "cell_type": "markdown",
      "id": "67b9040a",
      "metadata": {
        "id": "67b9040a"
      },
      "source": [
        "pada dataset ini terdapat 299 baris dan 13 kolom pada dataset ini"
      ]
    },
    {
      "cell_type": "markdown",
      "id": "eeb4eb49",
      "metadata": {
        "id": "eeb4eb49"
      },
      "source": [
        "6. Selanjutnya menampilkan informasi tentang statistik deskriptif pada masing masing atribut yang bertipe data numerik "
      ]
    },
    {
      "cell_type": "code",
      "execution_count": 13,
      "id": "8024dd43",
      "metadata": {
        "id": "8024dd43",
        "outputId": "db41cea9-da60-4e54-fcd6-82be133adb63",
        "colab": {
          "base_uri": "https://localhost:8080/",
          "height": 364
        }
      },
      "outputs": [
        {
          "output_type": "execute_result",
          "data": {
            "text/plain": [
              "              age     anaemia  creatinine_phosphokinase    diabetes  \\\n",
              "count  299.000000  299.000000                299.000000  299.000000   \n",
              "mean    60.833893    0.431438                581.839465    0.418060   \n",
              "std     11.894809    0.496107                970.287881    0.494067   \n",
              "min     40.000000    0.000000                 23.000000    0.000000   \n",
              "25%     51.000000    0.000000                116.500000    0.000000   \n",
              "50%     60.000000    0.000000                250.000000    0.000000   \n",
              "75%     70.000000    1.000000                582.000000    1.000000   \n",
              "max     95.000000    1.000000               7861.000000    1.000000   \n",
              "\n",
              "       ejection_fraction  high_blood_pressure      platelets  \\\n",
              "count         299.000000           299.000000     299.000000   \n",
              "mean           38.083612             0.351171  263358.029264   \n",
              "std            11.834841             0.478136   97804.236869   \n",
              "min            14.000000             0.000000   25100.000000   \n",
              "25%            30.000000             0.000000  212500.000000   \n",
              "50%            38.000000             0.000000  262000.000000   \n",
              "75%            45.000000             1.000000  303500.000000   \n",
              "max            80.000000             1.000000  850000.000000   \n",
              "\n",
              "       serum_creatinine  serum_sodium         sex    smoking        time  \\\n",
              "count         299.00000    299.000000  299.000000  299.00000  299.000000   \n",
              "mean            1.39388    136.625418    0.648829    0.32107  130.260870   \n",
              "std             1.03451      4.412477    0.478136    0.46767   77.614208   \n",
              "min             0.50000    113.000000    0.000000    0.00000    4.000000   \n",
              "25%             0.90000    134.000000    0.000000    0.00000   73.000000   \n",
              "50%             1.10000    137.000000    1.000000    0.00000  115.000000   \n",
              "75%             1.40000    140.000000    1.000000    1.00000  203.000000   \n",
              "max             9.40000    148.000000    1.000000    1.00000  285.000000   \n",
              "\n",
              "       DEATH_EVENT  \n",
              "count    299.00000  \n",
              "mean       0.32107  \n",
              "std        0.46767  \n",
              "min        0.00000  \n",
              "25%        0.00000  \n",
              "50%        0.00000  \n",
              "75%        1.00000  \n",
              "max        1.00000  "
            ],
            "text/html": [
              "\n",
              "  <div id=\"df-8920a2fc-bd8c-4122-a8ab-a55e5dab4b52\">\n",
              "    <div class=\"colab-df-container\">\n",
              "      <div>\n",
              "<style scoped>\n",
              "    .dataframe tbody tr th:only-of-type {\n",
              "        vertical-align: middle;\n",
              "    }\n",
              "\n",
              "    .dataframe tbody tr th {\n",
              "        vertical-align: top;\n",
              "    }\n",
              "\n",
              "    .dataframe thead th {\n",
              "        text-align: right;\n",
              "    }\n",
              "</style>\n",
              "<table border=\"1\" class=\"dataframe\">\n",
              "  <thead>\n",
              "    <tr style=\"text-align: right;\">\n",
              "      <th></th>\n",
              "      <th>age</th>\n",
              "      <th>anaemia</th>\n",
              "      <th>creatinine_phosphokinase</th>\n",
              "      <th>diabetes</th>\n",
              "      <th>ejection_fraction</th>\n",
              "      <th>high_blood_pressure</th>\n",
              "      <th>platelets</th>\n",
              "      <th>serum_creatinine</th>\n",
              "      <th>serum_sodium</th>\n",
              "      <th>sex</th>\n",
              "      <th>smoking</th>\n",
              "      <th>time</th>\n",
              "      <th>DEATH_EVENT</th>\n",
              "    </tr>\n",
              "  </thead>\n",
              "  <tbody>\n",
              "    <tr>\n",
              "      <th>count</th>\n",
              "      <td>299.000000</td>\n",
              "      <td>299.000000</td>\n",
              "      <td>299.000000</td>\n",
              "      <td>299.000000</td>\n",
              "      <td>299.000000</td>\n",
              "      <td>299.000000</td>\n",
              "      <td>299.000000</td>\n",
              "      <td>299.00000</td>\n",
              "      <td>299.000000</td>\n",
              "      <td>299.000000</td>\n",
              "      <td>299.00000</td>\n",
              "      <td>299.000000</td>\n",
              "      <td>299.00000</td>\n",
              "    </tr>\n",
              "    <tr>\n",
              "      <th>mean</th>\n",
              "      <td>60.833893</td>\n",
              "      <td>0.431438</td>\n",
              "      <td>581.839465</td>\n",
              "      <td>0.418060</td>\n",
              "      <td>38.083612</td>\n",
              "      <td>0.351171</td>\n",
              "      <td>263358.029264</td>\n",
              "      <td>1.39388</td>\n",
              "      <td>136.625418</td>\n",
              "      <td>0.648829</td>\n",
              "      <td>0.32107</td>\n",
              "      <td>130.260870</td>\n",
              "      <td>0.32107</td>\n",
              "    </tr>\n",
              "    <tr>\n",
              "      <th>std</th>\n",
              "      <td>11.894809</td>\n",
              "      <td>0.496107</td>\n",
              "      <td>970.287881</td>\n",
              "      <td>0.494067</td>\n",
              "      <td>11.834841</td>\n",
              "      <td>0.478136</td>\n",
              "      <td>97804.236869</td>\n",
              "      <td>1.03451</td>\n",
              "      <td>4.412477</td>\n",
              "      <td>0.478136</td>\n",
              "      <td>0.46767</td>\n",
              "      <td>77.614208</td>\n",
              "      <td>0.46767</td>\n",
              "    </tr>\n",
              "    <tr>\n",
              "      <th>min</th>\n",
              "      <td>40.000000</td>\n",
              "      <td>0.000000</td>\n",
              "      <td>23.000000</td>\n",
              "      <td>0.000000</td>\n",
              "      <td>14.000000</td>\n",
              "      <td>0.000000</td>\n",
              "      <td>25100.000000</td>\n",
              "      <td>0.50000</td>\n",
              "      <td>113.000000</td>\n",
              "      <td>0.000000</td>\n",
              "      <td>0.00000</td>\n",
              "      <td>4.000000</td>\n",
              "      <td>0.00000</td>\n",
              "    </tr>\n",
              "    <tr>\n",
              "      <th>25%</th>\n",
              "      <td>51.000000</td>\n",
              "      <td>0.000000</td>\n",
              "      <td>116.500000</td>\n",
              "      <td>0.000000</td>\n",
              "      <td>30.000000</td>\n",
              "      <td>0.000000</td>\n",
              "      <td>212500.000000</td>\n",
              "      <td>0.90000</td>\n",
              "      <td>134.000000</td>\n",
              "      <td>0.000000</td>\n",
              "      <td>0.00000</td>\n",
              "      <td>73.000000</td>\n",
              "      <td>0.00000</td>\n",
              "    </tr>\n",
              "    <tr>\n",
              "      <th>50%</th>\n",
              "      <td>60.000000</td>\n",
              "      <td>0.000000</td>\n",
              "      <td>250.000000</td>\n",
              "      <td>0.000000</td>\n",
              "      <td>38.000000</td>\n",
              "      <td>0.000000</td>\n",
              "      <td>262000.000000</td>\n",
              "      <td>1.10000</td>\n",
              "      <td>137.000000</td>\n",
              "      <td>1.000000</td>\n",
              "      <td>0.00000</td>\n",
              "      <td>115.000000</td>\n",
              "      <td>0.00000</td>\n",
              "    </tr>\n",
              "    <tr>\n",
              "      <th>75%</th>\n",
              "      <td>70.000000</td>\n",
              "      <td>1.000000</td>\n",
              "      <td>582.000000</td>\n",
              "      <td>1.000000</td>\n",
              "      <td>45.000000</td>\n",
              "      <td>1.000000</td>\n",
              "      <td>303500.000000</td>\n",
              "      <td>1.40000</td>\n",
              "      <td>140.000000</td>\n",
              "      <td>1.000000</td>\n",
              "      <td>1.00000</td>\n",
              "      <td>203.000000</td>\n",
              "      <td>1.00000</td>\n",
              "    </tr>\n",
              "    <tr>\n",
              "      <th>max</th>\n",
              "      <td>95.000000</td>\n",
              "      <td>1.000000</td>\n",
              "      <td>7861.000000</td>\n",
              "      <td>1.000000</td>\n",
              "      <td>80.000000</td>\n",
              "      <td>1.000000</td>\n",
              "      <td>850000.000000</td>\n",
              "      <td>9.40000</td>\n",
              "      <td>148.000000</td>\n",
              "      <td>1.000000</td>\n",
              "      <td>1.00000</td>\n",
              "      <td>285.000000</td>\n",
              "      <td>1.00000</td>\n",
              "    </tr>\n",
              "  </tbody>\n",
              "</table>\n",
              "</div>\n",
              "      <button class=\"colab-df-convert\" onclick=\"convertToInteractive('df-8920a2fc-bd8c-4122-a8ab-a55e5dab4b52')\"\n",
              "              title=\"Convert this dataframe to an interactive table.\"\n",
              "              style=\"display:none;\">\n",
              "        \n",
              "  <svg xmlns=\"http://www.w3.org/2000/svg\" height=\"24px\"viewBox=\"0 0 24 24\"\n",
              "       width=\"24px\">\n",
              "    <path d=\"M0 0h24v24H0V0z\" fill=\"none\"/>\n",
              "    <path d=\"M18.56 5.44l.94 2.06.94-2.06 2.06-.94-2.06-.94-.94-2.06-.94 2.06-2.06.94zm-11 1L8.5 8.5l.94-2.06 2.06-.94-2.06-.94L8.5 2.5l-.94 2.06-2.06.94zm10 10l.94 2.06.94-2.06 2.06-.94-2.06-.94-.94-2.06-.94 2.06-2.06.94z\"/><path d=\"M17.41 7.96l-1.37-1.37c-.4-.4-.92-.59-1.43-.59-.52 0-1.04.2-1.43.59L10.3 9.45l-7.72 7.72c-.78.78-.78 2.05 0 2.83L4 21.41c.39.39.9.59 1.41.59.51 0 1.02-.2 1.41-.59l7.78-7.78 2.81-2.81c.8-.78.8-2.07 0-2.86zM5.41 20L4 18.59l7.72-7.72 1.47 1.35L5.41 20z\"/>\n",
              "  </svg>\n",
              "      </button>\n",
              "      \n",
              "  <style>\n",
              "    .colab-df-container {\n",
              "      display:flex;\n",
              "      flex-wrap:wrap;\n",
              "      gap: 12px;\n",
              "    }\n",
              "\n",
              "    .colab-df-convert {\n",
              "      background-color: #E8F0FE;\n",
              "      border: none;\n",
              "      border-radius: 50%;\n",
              "      cursor: pointer;\n",
              "      display: none;\n",
              "      fill: #1967D2;\n",
              "      height: 32px;\n",
              "      padding: 0 0 0 0;\n",
              "      width: 32px;\n",
              "    }\n",
              "\n",
              "    .colab-df-convert:hover {\n",
              "      background-color: #E2EBFA;\n",
              "      box-shadow: 0px 1px 2px rgba(60, 64, 67, 0.3), 0px 1px 3px 1px rgba(60, 64, 67, 0.15);\n",
              "      fill: #174EA6;\n",
              "    }\n",
              "\n",
              "    [theme=dark] .colab-df-convert {\n",
              "      background-color: #3B4455;\n",
              "      fill: #D2E3FC;\n",
              "    }\n",
              "\n",
              "    [theme=dark] .colab-df-convert:hover {\n",
              "      background-color: #434B5C;\n",
              "      box-shadow: 0px 1px 3px 1px rgba(0, 0, 0, 0.15);\n",
              "      filter: drop-shadow(0px 1px 2px rgba(0, 0, 0, 0.3));\n",
              "      fill: #FFFFFF;\n",
              "    }\n",
              "  </style>\n",
              "\n",
              "      <script>\n",
              "        const buttonEl =\n",
              "          document.querySelector('#df-8920a2fc-bd8c-4122-a8ab-a55e5dab4b52 button.colab-df-convert');\n",
              "        buttonEl.style.display =\n",
              "          google.colab.kernel.accessAllowed ? 'block' : 'none';\n",
              "\n",
              "        async function convertToInteractive(key) {\n",
              "          const element = document.querySelector('#df-8920a2fc-bd8c-4122-a8ab-a55e5dab4b52');\n",
              "          const dataTable =\n",
              "            await google.colab.kernel.invokeFunction('convertToInteractive',\n",
              "                                                     [key], {});\n",
              "          if (!dataTable) return;\n",
              "\n",
              "          const docLinkHtml = 'Like what you see? Visit the ' +\n",
              "            '<a target=\"_blank\" href=https://colab.research.google.com/notebooks/data_table.ipynb>data table notebook</a>'\n",
              "            + ' to learn more about interactive tables.';\n",
              "          element.innerHTML = '';\n",
              "          dataTable['output_type'] = 'display_data';\n",
              "          await google.colab.output.renderOutput(dataTable, element);\n",
              "          const docLink = document.createElement('div');\n",
              "          docLink.innerHTML = docLinkHtml;\n",
              "          element.appendChild(docLink);\n",
              "        }\n",
              "      </script>\n",
              "    </div>\n",
              "  </div>\n",
              "  "
            ]
          },
          "metadata": {},
          "execution_count": 13
        }
      ],
      "source": [
        "df.describe()"
      ]
    },
    {
      "cell_type": "markdown",
      "id": "1362d431",
      "metadata": {
        "id": "1362d431"
      },
      "source": [
        "Setelah menampilkan informasi tentang statistik deskriptif pada masing masing atribut yang bertipe data numerik, terdapat nilai mean, min, max, count, dan nilai lainnya yang berhubungan dengan dataset ini"
      ]
    },
    {
      "cell_type": "markdown",
      "id": "338af364",
      "metadata": {
        "id": "338af364"
      },
      "source": [
        "## D. Data Cleaning\n",
        "Bagian ini berisi proses penyiapan data berupa data cleaning sebelum\n",
        "dilakukan explorasi data lebih lanjut. Proses cleaning dapat berupa\n",
        "memberi nama baru untuk setiap kolom, mengisi missing values,\n",
        "menghapus kolom yang tidak dipakai, dan lain sebagainya."
      ]
    },
    {
      "cell_type": "markdown",
      "id": "4b1bfa87",
      "metadata": {
        "id": "4b1bfa87"
      },
      "source": [
        "1. Pertama kita akan menampilkan informasi kembali pada dataset ini agar ketika melakukan data cleaning bisa lebih muda melihat informasi pada dataset ini"
      ]
    },
    {
      "cell_type": "code",
      "execution_count": 39,
      "id": "003b2e42",
      "metadata": {
        "id": "003b2e42",
        "outputId": "3284d190-5c54-459b-bb36-07f865283825",
        "colab": {
          "base_uri": "https://localhost:8080/"
        }
      },
      "outputs": [
        {
          "output_type": "stream",
          "name": "stdout",
          "text": [
            "<class 'pandas.core.frame.DataFrame'>\n",
            "RangeIndex: 299 entries, 0 to 298\n",
            "Data columns (total 13 columns):\n",
            " #   Column                Non-Null Count  Dtype  \n",
            "---  ------                --------------  -----  \n",
            " 0   umur                  299 non-null    float64\n",
            " 1   anemia                299 non-null    int64  \n",
            " 2   kreatin_fosfokinase   299 non-null    int64  \n",
            " 3   diabetes              299 non-null    int64  \n",
            " 4   fraksi_ejeksi         299 non-null    int64  \n",
            " 5   tekanan_darah_tinggi  299 non-null    int64  \n",
            " 6   platelets             299 non-null    float64\n",
            " 7   serum_creatinine      299 non-null    float64\n",
            " 8   sodium_kreatin        299 non-null    int64  \n",
            " 9   jenis_kelamin         299 non-null    int64  \n",
            " 10  perokok               299 non-null    int64  \n",
            " 11  waktu                 299 non-null    int64  \n",
            " 12  KEMATIAN              299 non-null    int64  \n",
            "dtypes: float64(3), int64(10)\n",
            "memory usage: 30.5 KB\n"
          ]
        }
      ],
      "source": [
        "df.info()"
      ]
    },
    {
      "cell_type": "markdown",
      "id": "23bbba8e",
      "metadata": {
        "id": "23bbba8e"
      },
      "source": [
        "2. Selanjutnya mengecek nilai yang terduplikat pada dataset ini"
      ]
    },
    {
      "cell_type": "code",
      "execution_count": 40,
      "id": "9b353718",
      "metadata": {
        "id": "9b353718",
        "outputId": "ab0ca5ab-8ca3-4a0c-857c-d3010eb54729",
        "colab": {
          "base_uri": "https://localhost:8080/"
        }
      },
      "outputs": [
        {
          "output_type": "execute_result",
          "data": {
            "text/plain": [
              "0"
            ]
          },
          "metadata": {},
          "execution_count": 40
        }
      ],
      "source": [
        "df.duplicated().sum()"
      ]
    },
    {
      "cell_type": "markdown",
      "id": "df7d2ba1",
      "metadata": {
        "id": "df7d2ba1"
      },
      "source": [
        "setelah mengecek apakah ada nilai yang terduplikat pada dataset ini, ternyata yang muncul ialah 0 atau dalam artian tidak ada nilai data yang terduplikat"
      ]
    },
    {
      "cell_type": "markdown",
      "id": "70199dc7",
      "metadata": {
        "id": "70199dc7"
      },
      "source": [
        "3. Selanjutnya mengecek missing value pada dataset"
      ]
    },
    {
      "cell_type": "code",
      "execution_count": 41,
      "id": "d5543fe7",
      "metadata": {
        "id": "d5543fe7",
        "outputId": "95a21c42-40c2-4e47-cb55-339fcee714d0",
        "colab": {
          "base_uri": "https://localhost:8080/"
        }
      },
      "outputs": [
        {
          "output_type": "execute_result",
          "data": {
            "text/plain": [
              "umur                    0\n",
              "anemia                  0\n",
              "kreatin_fosfokinase     0\n",
              "diabetes                0\n",
              "fraksi_ejeksi           0\n",
              "tekanan_darah_tinggi    0\n",
              "platelets               0\n",
              "serum_creatinine        0\n",
              "sodium_kreatin          0\n",
              "jenis_kelamin           0\n",
              "perokok                 0\n",
              "waktu                   0\n",
              "KEMATIAN                0\n",
              "dtype: int64"
            ]
          },
          "metadata": {},
          "execution_count": 41
        }
      ],
      "source": [
        "df.isnull().sum()"
      ]
    },
    {
      "cell_type": "markdown",
      "id": "407f94b3",
      "metadata": {
        "id": "407f94b3"
      },
      "source": [
        "setelah mengecek missing value pada dataset ini, ternyata bernilai 0 atau dalam artian tidaka adanya missing value pada dataset ini"
      ]
    },
    {
      "cell_type": "markdown",
      "id": "144a1990",
      "metadata": {
        "id": "144a1990"
      },
      "source": [
        "4. Selanjutnya mengecek nilai unik dari masing masing atribut pada dataset ini"
      ]
    },
    {
      "cell_type": "code",
      "execution_count": 42,
      "id": "a11842f5",
      "metadata": {
        "scrolled": false,
        "id": "a11842f5",
        "outputId": "85ae3e08-e8c1-435a-ac13-73dc38a58181",
        "colab": {
          "base_uri": "https://localhost:8080/"
        }
      },
      "outputs": [
        {
          "output_type": "stream",
          "name": "stdout",
          "text": [
            "umur  : \n",
            "60.000    33\n",
            "50.000    27\n",
            "65.000    26\n",
            "70.000    25\n",
            "45.000    19\n",
            "55.000    17\n",
            "75.000    11\n",
            "53.000    10\n",
            "58.000    10\n",
            "63.000     8\n",
            "80.000     7\n",
            "72.000     7\n",
            "40.000     7\n",
            "42.000     7\n",
            "85.000     6\n",
            "68.000     5\n",
            "52.000     5\n",
            "62.000     5\n",
            "51.000     4\n",
            "59.000     4\n",
            "61.000     4\n",
            "73.000     4\n",
            "49.000     4\n",
            "69.000     3\n",
            "46.000     3\n",
            "64.000     3\n",
            "82.000     3\n",
            "90.000     3\n",
            "78.000     2\n",
            "60.667     2\n",
            "54.000     2\n",
            "77.000     2\n",
            "57.000     2\n",
            "66.000     2\n",
            "44.000     2\n",
            "67.000     2\n",
            "95.000     2\n",
            "48.000     2\n",
            "43.000     1\n",
            "86.000     1\n",
            "81.000     1\n",
            "79.000     1\n",
            "41.000     1\n",
            "94.000     1\n",
            "87.000     1\n",
            "47.000     1\n",
            "56.000     1\n",
            "Name: umur, dtype: int64\n",
            " \n",
            " \n",
            "anemia  : \n",
            "0    170\n",
            "1    129\n",
            "Name: anemia, dtype: int64\n",
            " \n",
            " \n",
            "kreatin_fosfokinase  : \n",
            "582     47\n",
            "66       4\n",
            "129      4\n",
            "231      3\n",
            "69       3\n",
            "        ..\n",
            "748      1\n",
            "1876     1\n",
            "936      1\n",
            "292      1\n",
            "2413     1\n",
            "Name: kreatin_fosfokinase, Length: 208, dtype: int64\n",
            " \n",
            " \n",
            "diabetes  : \n",
            "0    174\n",
            "1    125\n",
            "Name: diabetes, dtype: int64\n",
            " \n",
            " \n",
            "fraksi_ejeksi  : \n",
            "35    49\n",
            "38    40\n",
            "40    37\n",
            "25    36\n",
            "30    34\n",
            "60    31\n",
            "50    21\n",
            "45    20\n",
            "20    18\n",
            "55     3\n",
            "15     2\n",
            "62     2\n",
            "17     2\n",
            "65     1\n",
            "14     1\n",
            "80     1\n",
            "70     1\n",
            "Name: fraksi_ejeksi, dtype: int64\n",
            " \n",
            " \n",
            "tekanan_darah_tinggi  : \n",
            "0    194\n",
            "1    105\n",
            "Name: tekanan_darah_tinggi, dtype: int64\n",
            " \n",
            " \n",
            "platelets  : \n",
            "263358.03    25\n",
            "221000.00     4\n",
            "279000.00     4\n",
            "271000.00     4\n",
            "305000.00     4\n",
            "             ..\n",
            "227000.00     1\n",
            "289000.00     1\n",
            "300000.00     1\n",
            "217000.00     1\n",
            "742000.00     1\n",
            "Name: platelets, Length: 176, dtype: int64\n",
            " \n",
            " \n",
            "serum_creatinine  : \n",
            "1.00    50\n",
            "1.10    32\n",
            "0.90    32\n",
            "1.20    24\n",
            "0.80    24\n",
            "1.30    20\n",
            "0.70    19\n",
            "1.18    11\n",
            "1.40     9\n",
            "1.70     9\n",
            "1.83     8\n",
            "1.60     6\n",
            "1.90     5\n",
            "2.10     5\n",
            "1.50     5\n",
            "0.60     4\n",
            "1.80     4\n",
            "2.30     3\n",
            "2.70     3\n",
            "2.50     3\n",
            "3.50     2\n",
            "2.40     2\n",
            "3.00     2\n",
            "0.50     1\n",
            "5.00     1\n",
            "0.75     1\n",
            "6.10     1\n",
            "3.40     1\n",
            "3.70     1\n",
            "9.00     1\n",
            "4.00     1\n",
            "3.20     1\n",
            "5.80     1\n",
            "2.90     1\n",
            "2.00     1\n",
            "2.20     1\n",
            "6.80     1\n",
            "9.40     1\n",
            "4.40     1\n",
            "3.80     1\n",
            "Name: serum_creatinine, dtype: int64\n",
            " \n",
            " \n",
            "sodium_kreatin  : \n",
            "136    40\n",
            "137    38\n",
            "140    35\n",
            "134    32\n",
            "138    23\n",
            "139    22\n",
            "135    16\n",
            "132    14\n",
            "141    12\n",
            "142    11\n",
            "133    10\n",
            "145     9\n",
            "130     9\n",
            "144     5\n",
            "131     5\n",
            "127     3\n",
            "143     3\n",
            "128     2\n",
            "129     2\n",
            "121     1\n",
            "116     1\n",
            "146     1\n",
            "126     1\n",
            "124     1\n",
            "113     1\n",
            "125     1\n",
            "148     1\n",
            "Name: sodium_kreatin, dtype: int64\n",
            " \n",
            " \n",
            "jenis_kelamin  : \n",
            "1    194\n",
            "0    105\n",
            "Name: jenis_kelamin, dtype: int64\n",
            " \n",
            " \n",
            "perokok  : \n",
            "0    203\n",
            "1     96\n",
            "Name: perokok, dtype: int64\n",
            " \n",
            " \n",
            "waktu  : \n",
            "250    7\n",
            "187    7\n",
            "10     6\n",
            "186    6\n",
            "107    6\n",
            "      ..\n",
            "97     1\n",
            "96     1\n",
            "86     1\n",
            "77     1\n",
            "285    1\n",
            "Name: waktu, Length: 148, dtype: int64\n",
            " \n",
            " \n",
            "KEMATIAN  : \n",
            "0    203\n",
            "1     96\n",
            "Name: KEMATIAN, dtype: int64\n",
            " \n",
            " \n"
          ]
        }
      ],
      "source": [
        "for col in df.columns:\n",
        "    print(col, ' : ')\n",
        "    print(df[col].value_counts())\n",
        "    print(\" \")\n",
        "    print(\" \")"
      ]
    },
    {
      "cell_type": "markdown",
      "id": "aeb0db03",
      "metadata": {
        "id": "aeb0db03"
      },
      "source": [
        "pada dataset di dalam ini terdapat banya sekali terdapat nilai unik sesuai kolom yang ada "
      ]
    },
    {
      "cell_type": "markdown",
      "id": "31fe4b1b",
      "metadata": {
        "scrolled": false,
        "id": "31fe4b1b"
      },
      "source": [
        "5. selanjutnya mengubah atau memberi nama baru di setiap kolom, tujuannya agar saat membaca data dan mengolah data bisa di pahami secara umum "
      ]
    },
    {
      "cell_type": "code",
      "execution_count": 43,
      "id": "2ecc022d",
      "metadata": {
        "id": "2ecc022d",
        "outputId": "ce095efc-72e4-4acf-9b60-77a6466a2863",
        "colab": {
          "base_uri": "https://localhost:8080/",
          "height": 270
        }
      },
      "outputs": [
        {
          "output_type": "execute_result",
          "data": {
            "text/plain": [
              "   umur  anemia  kreatin_fosfokinase  diabetes  fraksi_ejeksi  \\\n",
              "0  75.0       0                  582         0             20   \n",
              "1  55.0       0                 7861         0             38   \n",
              "2  65.0       0                  146         0             20   \n",
              "3  50.0       1                  111         0             20   \n",
              "4  65.0       1                  160         1             20   \n",
              "\n",
              "   tekanan_darah_tinggi  platelets  serum_creatinine  sodium_kreatin  \\\n",
              "0                     1  265000.00               1.9             130   \n",
              "1                     0  263358.03               1.1             136   \n",
              "2                     0  162000.00               1.3             129   \n",
              "3                     0  210000.00               1.9             137   \n",
              "4                     0  327000.00               2.7             116   \n",
              "\n",
              "   jenis_kelamin  perokok  waktu  KEMATIAN  \n",
              "0              1        0      4         1  \n",
              "1              1        0      6         1  \n",
              "2              1        1      7         1  \n",
              "3              1        0      7         1  \n",
              "4              0        0      8         1  "
            ],
            "text/html": [
              "\n",
              "  <div id=\"df-554e9129-c92a-4355-9dca-279bee4e9c09\">\n",
              "    <div class=\"colab-df-container\">\n",
              "      <div>\n",
              "<style scoped>\n",
              "    .dataframe tbody tr th:only-of-type {\n",
              "        vertical-align: middle;\n",
              "    }\n",
              "\n",
              "    .dataframe tbody tr th {\n",
              "        vertical-align: top;\n",
              "    }\n",
              "\n",
              "    .dataframe thead th {\n",
              "        text-align: right;\n",
              "    }\n",
              "</style>\n",
              "<table border=\"1\" class=\"dataframe\">\n",
              "  <thead>\n",
              "    <tr style=\"text-align: right;\">\n",
              "      <th></th>\n",
              "      <th>umur</th>\n",
              "      <th>anemia</th>\n",
              "      <th>kreatin_fosfokinase</th>\n",
              "      <th>diabetes</th>\n",
              "      <th>fraksi_ejeksi</th>\n",
              "      <th>tekanan_darah_tinggi</th>\n",
              "      <th>platelets</th>\n",
              "      <th>serum_creatinine</th>\n",
              "      <th>sodium_kreatin</th>\n",
              "      <th>jenis_kelamin</th>\n",
              "      <th>perokok</th>\n",
              "      <th>waktu</th>\n",
              "      <th>KEMATIAN</th>\n",
              "    </tr>\n",
              "  </thead>\n",
              "  <tbody>\n",
              "    <tr>\n",
              "      <th>0</th>\n",
              "      <td>75.0</td>\n",
              "      <td>0</td>\n",
              "      <td>582</td>\n",
              "      <td>0</td>\n",
              "      <td>20</td>\n",
              "      <td>1</td>\n",
              "      <td>265000.00</td>\n",
              "      <td>1.9</td>\n",
              "      <td>130</td>\n",
              "      <td>1</td>\n",
              "      <td>0</td>\n",
              "      <td>4</td>\n",
              "      <td>1</td>\n",
              "    </tr>\n",
              "    <tr>\n",
              "      <th>1</th>\n",
              "      <td>55.0</td>\n",
              "      <td>0</td>\n",
              "      <td>7861</td>\n",
              "      <td>0</td>\n",
              "      <td>38</td>\n",
              "      <td>0</td>\n",
              "      <td>263358.03</td>\n",
              "      <td>1.1</td>\n",
              "      <td>136</td>\n",
              "      <td>1</td>\n",
              "      <td>0</td>\n",
              "      <td>6</td>\n",
              "      <td>1</td>\n",
              "    </tr>\n",
              "    <tr>\n",
              "      <th>2</th>\n",
              "      <td>65.0</td>\n",
              "      <td>0</td>\n",
              "      <td>146</td>\n",
              "      <td>0</td>\n",
              "      <td>20</td>\n",
              "      <td>0</td>\n",
              "      <td>162000.00</td>\n",
              "      <td>1.3</td>\n",
              "      <td>129</td>\n",
              "      <td>1</td>\n",
              "      <td>1</td>\n",
              "      <td>7</td>\n",
              "      <td>1</td>\n",
              "    </tr>\n",
              "    <tr>\n",
              "      <th>3</th>\n",
              "      <td>50.0</td>\n",
              "      <td>1</td>\n",
              "      <td>111</td>\n",
              "      <td>0</td>\n",
              "      <td>20</td>\n",
              "      <td>0</td>\n",
              "      <td>210000.00</td>\n",
              "      <td>1.9</td>\n",
              "      <td>137</td>\n",
              "      <td>1</td>\n",
              "      <td>0</td>\n",
              "      <td>7</td>\n",
              "      <td>1</td>\n",
              "    </tr>\n",
              "    <tr>\n",
              "      <th>4</th>\n",
              "      <td>65.0</td>\n",
              "      <td>1</td>\n",
              "      <td>160</td>\n",
              "      <td>1</td>\n",
              "      <td>20</td>\n",
              "      <td>0</td>\n",
              "      <td>327000.00</td>\n",
              "      <td>2.7</td>\n",
              "      <td>116</td>\n",
              "      <td>0</td>\n",
              "      <td>0</td>\n",
              "      <td>8</td>\n",
              "      <td>1</td>\n",
              "    </tr>\n",
              "  </tbody>\n",
              "</table>\n",
              "</div>\n",
              "      <button class=\"colab-df-convert\" onclick=\"convertToInteractive('df-554e9129-c92a-4355-9dca-279bee4e9c09')\"\n",
              "              title=\"Convert this dataframe to an interactive table.\"\n",
              "              style=\"display:none;\">\n",
              "        \n",
              "  <svg xmlns=\"http://www.w3.org/2000/svg\" height=\"24px\"viewBox=\"0 0 24 24\"\n",
              "       width=\"24px\">\n",
              "    <path d=\"M0 0h24v24H0V0z\" fill=\"none\"/>\n",
              "    <path d=\"M18.56 5.44l.94 2.06.94-2.06 2.06-.94-2.06-.94-.94-2.06-.94 2.06-2.06.94zm-11 1L8.5 8.5l.94-2.06 2.06-.94-2.06-.94L8.5 2.5l-.94 2.06-2.06.94zm10 10l.94 2.06.94-2.06 2.06-.94-2.06-.94-.94-2.06-.94 2.06-2.06.94z\"/><path d=\"M17.41 7.96l-1.37-1.37c-.4-.4-.92-.59-1.43-.59-.52 0-1.04.2-1.43.59L10.3 9.45l-7.72 7.72c-.78.78-.78 2.05 0 2.83L4 21.41c.39.39.9.59 1.41.59.51 0 1.02-.2 1.41-.59l7.78-7.78 2.81-2.81c.8-.78.8-2.07 0-2.86zM5.41 20L4 18.59l7.72-7.72 1.47 1.35L5.41 20z\"/>\n",
              "  </svg>\n",
              "      </button>\n",
              "      \n",
              "  <style>\n",
              "    .colab-df-container {\n",
              "      display:flex;\n",
              "      flex-wrap:wrap;\n",
              "      gap: 12px;\n",
              "    }\n",
              "\n",
              "    .colab-df-convert {\n",
              "      background-color: #E8F0FE;\n",
              "      border: none;\n",
              "      border-radius: 50%;\n",
              "      cursor: pointer;\n",
              "      display: none;\n",
              "      fill: #1967D2;\n",
              "      height: 32px;\n",
              "      padding: 0 0 0 0;\n",
              "      width: 32px;\n",
              "    }\n",
              "\n",
              "    .colab-df-convert:hover {\n",
              "      background-color: #E2EBFA;\n",
              "      box-shadow: 0px 1px 2px rgba(60, 64, 67, 0.3), 0px 1px 3px 1px rgba(60, 64, 67, 0.15);\n",
              "      fill: #174EA6;\n",
              "    }\n",
              "\n",
              "    [theme=dark] .colab-df-convert {\n",
              "      background-color: #3B4455;\n",
              "      fill: #D2E3FC;\n",
              "    }\n",
              "\n",
              "    [theme=dark] .colab-df-convert:hover {\n",
              "      background-color: #434B5C;\n",
              "      box-shadow: 0px 1px 3px 1px rgba(0, 0, 0, 0.15);\n",
              "      filter: drop-shadow(0px 1px 2px rgba(0, 0, 0, 0.3));\n",
              "      fill: #FFFFFF;\n",
              "    }\n",
              "  </style>\n",
              "\n",
              "      <script>\n",
              "        const buttonEl =\n",
              "          document.querySelector('#df-554e9129-c92a-4355-9dca-279bee4e9c09 button.colab-df-convert');\n",
              "        buttonEl.style.display =\n",
              "          google.colab.kernel.accessAllowed ? 'block' : 'none';\n",
              "\n",
              "        async function convertToInteractive(key) {\n",
              "          const element = document.querySelector('#df-554e9129-c92a-4355-9dca-279bee4e9c09');\n",
              "          const dataTable =\n",
              "            await google.colab.kernel.invokeFunction('convertToInteractive',\n",
              "                                                     [key], {});\n",
              "          if (!dataTable) return;\n",
              "\n",
              "          const docLinkHtml = 'Like what you see? Visit the ' +\n",
              "            '<a target=\"_blank\" href=https://colab.research.google.com/notebooks/data_table.ipynb>data table notebook</a>'\n",
              "            + ' to learn more about interactive tables.';\n",
              "          element.innerHTML = '';\n",
              "          dataTable['output_type'] = 'display_data';\n",
              "          await google.colab.output.renderOutput(dataTable, element);\n",
              "          const docLink = document.createElement('div');\n",
              "          docLink.innerHTML = docLinkHtml;\n",
              "          element.appendChild(docLink);\n",
              "        }\n",
              "      </script>\n",
              "    </div>\n",
              "  </div>\n",
              "  "
            ]
          },
          "metadata": {},
          "execution_count": 43
        }
      ],
      "source": [
        "df.head()"
      ]
    },
    {
      "cell_type": "code",
      "execution_count": 44,
      "id": "b29458d9",
      "metadata": {
        "id": "b29458d9",
        "outputId": "f5fafb9f-b322-4d92-8fed-4138f5a3002e",
        "colab": {
          "base_uri": "https://localhost:8080/",
          "height": 488
        }
      },
      "outputs": [
        {
          "output_type": "execute_result",
          "data": {
            "text/plain": [
              "     umur  anemia  kreatin_fosfokinase  diabetes  fraksi_ejeksi  \\\n",
              "0    75.0       0                  582         0             20   \n",
              "1    55.0       0                 7861         0             38   \n",
              "2    65.0       0                  146         0             20   \n",
              "3    50.0       1                  111         0             20   \n",
              "4    65.0       1                  160         1             20   \n",
              "..    ...     ...                  ...       ...            ...   \n",
              "294  62.0       0                   61         1             38   \n",
              "295  55.0       0                 1820         0             38   \n",
              "296  45.0       0                 2060         1             60   \n",
              "297  45.0       0                 2413         0             38   \n",
              "298  50.0       0                  196         0             45   \n",
              "\n",
              "     tekanan_darah_tinggi  platelets  serum_creatinine  sodium_kreatin  \\\n",
              "0                       1  265000.00               1.9             130   \n",
              "1                       0  263358.03               1.1             136   \n",
              "2                       0  162000.00               1.3             129   \n",
              "3                       0  210000.00               1.9             137   \n",
              "4                       0  327000.00               2.7             116   \n",
              "..                    ...        ...               ...             ...   \n",
              "294                     1  155000.00               1.1             143   \n",
              "295                     0  270000.00               1.2             139   \n",
              "296                     0  742000.00               0.8             138   \n",
              "297                     0  140000.00               1.4             140   \n",
              "298                     0  395000.00               1.6             136   \n",
              "\n",
              "     jenis_kelamin  perokok  waktu  KEMATIAN  \n",
              "0                1        0      4         1  \n",
              "1                1        0      6         1  \n",
              "2                1        1      7         1  \n",
              "3                1        0      7         1  \n",
              "4                0        0      8         1  \n",
              "..             ...      ...    ...       ...  \n",
              "294              1        1    270         0  \n",
              "295              0        0    271         0  \n",
              "296              0        0    278         0  \n",
              "297              1        1    280         0  \n",
              "298              1        1    285         0  \n",
              "\n",
              "[299 rows x 13 columns]"
            ],
            "text/html": [
              "\n",
              "  <div id=\"df-e6005bfd-259d-4027-99c0-82b3735978f6\">\n",
              "    <div class=\"colab-df-container\">\n",
              "      <div>\n",
              "<style scoped>\n",
              "    .dataframe tbody tr th:only-of-type {\n",
              "        vertical-align: middle;\n",
              "    }\n",
              "\n",
              "    .dataframe tbody tr th {\n",
              "        vertical-align: top;\n",
              "    }\n",
              "\n",
              "    .dataframe thead th {\n",
              "        text-align: right;\n",
              "    }\n",
              "</style>\n",
              "<table border=\"1\" class=\"dataframe\">\n",
              "  <thead>\n",
              "    <tr style=\"text-align: right;\">\n",
              "      <th></th>\n",
              "      <th>umur</th>\n",
              "      <th>anemia</th>\n",
              "      <th>kreatin_fosfokinase</th>\n",
              "      <th>diabetes</th>\n",
              "      <th>fraksi_ejeksi</th>\n",
              "      <th>tekanan_darah_tinggi</th>\n",
              "      <th>platelets</th>\n",
              "      <th>serum_creatinine</th>\n",
              "      <th>sodium_kreatin</th>\n",
              "      <th>jenis_kelamin</th>\n",
              "      <th>perokok</th>\n",
              "      <th>waktu</th>\n",
              "      <th>KEMATIAN</th>\n",
              "    </tr>\n",
              "  </thead>\n",
              "  <tbody>\n",
              "    <tr>\n",
              "      <th>0</th>\n",
              "      <td>75.0</td>\n",
              "      <td>0</td>\n",
              "      <td>582</td>\n",
              "      <td>0</td>\n",
              "      <td>20</td>\n",
              "      <td>1</td>\n",
              "      <td>265000.00</td>\n",
              "      <td>1.9</td>\n",
              "      <td>130</td>\n",
              "      <td>1</td>\n",
              "      <td>0</td>\n",
              "      <td>4</td>\n",
              "      <td>1</td>\n",
              "    </tr>\n",
              "    <tr>\n",
              "      <th>1</th>\n",
              "      <td>55.0</td>\n",
              "      <td>0</td>\n",
              "      <td>7861</td>\n",
              "      <td>0</td>\n",
              "      <td>38</td>\n",
              "      <td>0</td>\n",
              "      <td>263358.03</td>\n",
              "      <td>1.1</td>\n",
              "      <td>136</td>\n",
              "      <td>1</td>\n",
              "      <td>0</td>\n",
              "      <td>6</td>\n",
              "      <td>1</td>\n",
              "    </tr>\n",
              "    <tr>\n",
              "      <th>2</th>\n",
              "      <td>65.0</td>\n",
              "      <td>0</td>\n",
              "      <td>146</td>\n",
              "      <td>0</td>\n",
              "      <td>20</td>\n",
              "      <td>0</td>\n",
              "      <td>162000.00</td>\n",
              "      <td>1.3</td>\n",
              "      <td>129</td>\n",
              "      <td>1</td>\n",
              "      <td>1</td>\n",
              "      <td>7</td>\n",
              "      <td>1</td>\n",
              "    </tr>\n",
              "    <tr>\n",
              "      <th>3</th>\n",
              "      <td>50.0</td>\n",
              "      <td>1</td>\n",
              "      <td>111</td>\n",
              "      <td>0</td>\n",
              "      <td>20</td>\n",
              "      <td>0</td>\n",
              "      <td>210000.00</td>\n",
              "      <td>1.9</td>\n",
              "      <td>137</td>\n",
              "      <td>1</td>\n",
              "      <td>0</td>\n",
              "      <td>7</td>\n",
              "      <td>1</td>\n",
              "    </tr>\n",
              "    <tr>\n",
              "      <th>4</th>\n",
              "      <td>65.0</td>\n",
              "      <td>1</td>\n",
              "      <td>160</td>\n",
              "      <td>1</td>\n",
              "      <td>20</td>\n",
              "      <td>0</td>\n",
              "      <td>327000.00</td>\n",
              "      <td>2.7</td>\n",
              "      <td>116</td>\n",
              "      <td>0</td>\n",
              "      <td>0</td>\n",
              "      <td>8</td>\n",
              "      <td>1</td>\n",
              "    </tr>\n",
              "    <tr>\n",
              "      <th>...</th>\n",
              "      <td>...</td>\n",
              "      <td>...</td>\n",
              "      <td>...</td>\n",
              "      <td>...</td>\n",
              "      <td>...</td>\n",
              "      <td>...</td>\n",
              "      <td>...</td>\n",
              "      <td>...</td>\n",
              "      <td>...</td>\n",
              "      <td>...</td>\n",
              "      <td>...</td>\n",
              "      <td>...</td>\n",
              "      <td>...</td>\n",
              "    </tr>\n",
              "    <tr>\n",
              "      <th>294</th>\n",
              "      <td>62.0</td>\n",
              "      <td>0</td>\n",
              "      <td>61</td>\n",
              "      <td>1</td>\n",
              "      <td>38</td>\n",
              "      <td>1</td>\n",
              "      <td>155000.00</td>\n",
              "      <td>1.1</td>\n",
              "      <td>143</td>\n",
              "      <td>1</td>\n",
              "      <td>1</td>\n",
              "      <td>270</td>\n",
              "      <td>0</td>\n",
              "    </tr>\n",
              "    <tr>\n",
              "      <th>295</th>\n",
              "      <td>55.0</td>\n",
              "      <td>0</td>\n",
              "      <td>1820</td>\n",
              "      <td>0</td>\n",
              "      <td>38</td>\n",
              "      <td>0</td>\n",
              "      <td>270000.00</td>\n",
              "      <td>1.2</td>\n",
              "      <td>139</td>\n",
              "      <td>0</td>\n",
              "      <td>0</td>\n",
              "      <td>271</td>\n",
              "      <td>0</td>\n",
              "    </tr>\n",
              "    <tr>\n",
              "      <th>296</th>\n",
              "      <td>45.0</td>\n",
              "      <td>0</td>\n",
              "      <td>2060</td>\n",
              "      <td>1</td>\n",
              "      <td>60</td>\n",
              "      <td>0</td>\n",
              "      <td>742000.00</td>\n",
              "      <td>0.8</td>\n",
              "      <td>138</td>\n",
              "      <td>0</td>\n",
              "      <td>0</td>\n",
              "      <td>278</td>\n",
              "      <td>0</td>\n",
              "    </tr>\n",
              "    <tr>\n",
              "      <th>297</th>\n",
              "      <td>45.0</td>\n",
              "      <td>0</td>\n",
              "      <td>2413</td>\n",
              "      <td>0</td>\n",
              "      <td>38</td>\n",
              "      <td>0</td>\n",
              "      <td>140000.00</td>\n",
              "      <td>1.4</td>\n",
              "      <td>140</td>\n",
              "      <td>1</td>\n",
              "      <td>1</td>\n",
              "      <td>280</td>\n",
              "      <td>0</td>\n",
              "    </tr>\n",
              "    <tr>\n",
              "      <th>298</th>\n",
              "      <td>50.0</td>\n",
              "      <td>0</td>\n",
              "      <td>196</td>\n",
              "      <td>0</td>\n",
              "      <td>45</td>\n",
              "      <td>0</td>\n",
              "      <td>395000.00</td>\n",
              "      <td>1.6</td>\n",
              "      <td>136</td>\n",
              "      <td>1</td>\n",
              "      <td>1</td>\n",
              "      <td>285</td>\n",
              "      <td>0</td>\n",
              "    </tr>\n",
              "  </tbody>\n",
              "</table>\n",
              "<p>299 rows × 13 columns</p>\n",
              "</div>\n",
              "      <button class=\"colab-df-convert\" onclick=\"convertToInteractive('df-e6005bfd-259d-4027-99c0-82b3735978f6')\"\n",
              "              title=\"Convert this dataframe to an interactive table.\"\n",
              "              style=\"display:none;\">\n",
              "        \n",
              "  <svg xmlns=\"http://www.w3.org/2000/svg\" height=\"24px\"viewBox=\"0 0 24 24\"\n",
              "       width=\"24px\">\n",
              "    <path d=\"M0 0h24v24H0V0z\" fill=\"none\"/>\n",
              "    <path d=\"M18.56 5.44l.94 2.06.94-2.06 2.06-.94-2.06-.94-.94-2.06-.94 2.06-2.06.94zm-11 1L8.5 8.5l.94-2.06 2.06-.94-2.06-.94L8.5 2.5l-.94 2.06-2.06.94zm10 10l.94 2.06.94-2.06 2.06-.94-2.06-.94-.94-2.06-.94 2.06-2.06.94z\"/><path d=\"M17.41 7.96l-1.37-1.37c-.4-.4-.92-.59-1.43-.59-.52 0-1.04.2-1.43.59L10.3 9.45l-7.72 7.72c-.78.78-.78 2.05 0 2.83L4 21.41c.39.39.9.59 1.41.59.51 0 1.02-.2 1.41-.59l7.78-7.78 2.81-2.81c.8-.78.8-2.07 0-2.86zM5.41 20L4 18.59l7.72-7.72 1.47 1.35L5.41 20z\"/>\n",
              "  </svg>\n",
              "      </button>\n",
              "      \n",
              "  <style>\n",
              "    .colab-df-container {\n",
              "      display:flex;\n",
              "      flex-wrap:wrap;\n",
              "      gap: 12px;\n",
              "    }\n",
              "\n",
              "    .colab-df-convert {\n",
              "      background-color: #E8F0FE;\n",
              "      border: none;\n",
              "      border-radius: 50%;\n",
              "      cursor: pointer;\n",
              "      display: none;\n",
              "      fill: #1967D2;\n",
              "      height: 32px;\n",
              "      padding: 0 0 0 0;\n",
              "      width: 32px;\n",
              "    }\n",
              "\n",
              "    .colab-df-convert:hover {\n",
              "      background-color: #E2EBFA;\n",
              "      box-shadow: 0px 1px 2px rgba(60, 64, 67, 0.3), 0px 1px 3px 1px rgba(60, 64, 67, 0.15);\n",
              "      fill: #174EA6;\n",
              "    }\n",
              "\n",
              "    [theme=dark] .colab-df-convert {\n",
              "      background-color: #3B4455;\n",
              "      fill: #D2E3FC;\n",
              "    }\n",
              "\n",
              "    [theme=dark] .colab-df-convert:hover {\n",
              "      background-color: #434B5C;\n",
              "      box-shadow: 0px 1px 3px 1px rgba(0, 0, 0, 0.15);\n",
              "      filter: drop-shadow(0px 1px 2px rgba(0, 0, 0, 0.3));\n",
              "      fill: #FFFFFF;\n",
              "    }\n",
              "  </style>\n",
              "\n",
              "      <script>\n",
              "        const buttonEl =\n",
              "          document.querySelector('#df-e6005bfd-259d-4027-99c0-82b3735978f6 button.colab-df-convert');\n",
              "        buttonEl.style.display =\n",
              "          google.colab.kernel.accessAllowed ? 'block' : 'none';\n",
              "\n",
              "        async function convertToInteractive(key) {\n",
              "          const element = document.querySelector('#df-e6005bfd-259d-4027-99c0-82b3735978f6');\n",
              "          const dataTable =\n",
              "            await google.colab.kernel.invokeFunction('convertToInteractive',\n",
              "                                                     [key], {});\n",
              "          if (!dataTable) return;\n",
              "\n",
              "          const docLinkHtml = 'Like what you see? Visit the ' +\n",
              "            '<a target=\"_blank\" href=https://colab.research.google.com/notebooks/data_table.ipynb>data table notebook</a>'\n",
              "            + ' to learn more about interactive tables.';\n",
              "          element.innerHTML = '';\n",
              "          dataTable['output_type'] = 'display_data';\n",
              "          await google.colab.output.renderOutput(dataTable, element);\n",
              "          const docLink = document.createElement('div');\n",
              "          docLink.innerHTML = docLinkHtml;\n",
              "          element.appendChild(docLink);\n",
              "        }\n",
              "      </script>\n",
              "    </div>\n",
              "  </div>\n",
              "  "
            ]
          },
          "metadata": {},
          "execution_count": 44
        }
      ],
      "source": [
        "df.rename(columns={'age':'umur', 'anaemia':'anemia', 'creatinine_phosphokinase':'kreatin_fosfokinase', 'ejection_fraction':'fraksi_ejeksi', 'high_blood_pressure':'tekanan_darah_tinggi', 'serum_creatine':'kreatin_serum', 'serum_sodium':'sodium_kreatin', 'sex':'jenis_kelamin', 'smoking':'perokok', 'time':'waktu', 'DEATH_EVENT':'KEMATIAN'}, inplace=True)\n",
        "df"
      ]
    },
    {
      "cell_type": "markdown",
      "id": "ce753a64",
      "metadata": {
        "id": "ce753a64"
      },
      "source": [
        "bisa di lihat, nama kolom yang sebelumnya sudah terubah dengan nama kolom yang kita ingin, kita mengubah nama kolom ini bertujuan untuk mempermudah pembacaan nama kolom"
      ]
    },
    {
      "cell_type": "markdown",
      "id": "b7ac4106",
      "metadata": {
        "id": "b7ac4106"
      },
      "source": [
        "## E. EDA : Explorasi data analysis\n",
        "setelah melakukan data cleaning, kita akan menampilkan data kembali/menriview data kembali, dan Pada bagian ini berisi explorasi data yang lebih mendalam, menggunakan quary, grouping, visualisasi sederhana, dan hal lainnya jika di perlukan"
      ]
    },
    {
      "cell_type": "markdown",
      "id": "cf642941",
      "metadata": {
        "id": "cf642941"
      },
      "source": [
        "### Explorasi Data\n",
        "Bagian ini berisi explorasi data pada dataset diatas dengan menggunakan\n",
        "query, grouping, visualisasi sederhana, dan lain sebagainya.\n"
      ]
    },
    {
      "cell_type": "markdown",
      "id": "ebaae802",
      "metadata": {
        "id": "ebaae802"
      },
      "source": [
        "1. pertama kita melihat 5 informasi data teratas dan 5 informasi data terbawah, agar kita gampang melakukan explorasi data dan melakukan visualisasi data  "
      ]
    },
    {
      "cell_type": "code",
      "execution_count": 20,
      "id": "0d9bdf80",
      "metadata": {
        "id": "0d9bdf80",
        "outputId": "de0a91ce-367e-41ca-988e-be5f688b8011",
        "colab": {
          "base_uri": "https://localhost:8080/",
          "height": 270
        }
      },
      "outputs": [
        {
          "output_type": "execute_result",
          "data": {
            "text/plain": [
              "   umur  anemia  kreatin_fosfokinase  diabetes  fraksi_ejeksi  \\\n",
              "0  75.0       0                  582         0             20   \n",
              "1  55.0       0                 7861         0             38   \n",
              "2  65.0       0                  146         0             20   \n",
              "3  50.0       1                  111         0             20   \n",
              "4  65.0       1                  160         1             20   \n",
              "\n",
              "   tekanan_darah_tinggi  platelets  serum_creatinine  sodium_kreatin  \\\n",
              "0                     1  265000.00               1.9             130   \n",
              "1                     0  263358.03               1.1             136   \n",
              "2                     0  162000.00               1.3             129   \n",
              "3                     0  210000.00               1.9             137   \n",
              "4                     0  327000.00               2.7             116   \n",
              "\n",
              "   jenis_kelamin  perokok  waktu  KEMATIAN  \n",
              "0              1        0      4         1  \n",
              "1              1        0      6         1  \n",
              "2              1        1      7         1  \n",
              "3              1        0      7         1  \n",
              "4              0        0      8         1  "
            ],
            "text/html": [
              "\n",
              "  <div id=\"df-8b287bf2-bf48-4043-aefd-f321043e8af5\">\n",
              "    <div class=\"colab-df-container\">\n",
              "      <div>\n",
              "<style scoped>\n",
              "    .dataframe tbody tr th:only-of-type {\n",
              "        vertical-align: middle;\n",
              "    }\n",
              "\n",
              "    .dataframe tbody tr th {\n",
              "        vertical-align: top;\n",
              "    }\n",
              "\n",
              "    .dataframe thead th {\n",
              "        text-align: right;\n",
              "    }\n",
              "</style>\n",
              "<table border=\"1\" class=\"dataframe\">\n",
              "  <thead>\n",
              "    <tr style=\"text-align: right;\">\n",
              "      <th></th>\n",
              "      <th>umur</th>\n",
              "      <th>anemia</th>\n",
              "      <th>kreatin_fosfokinase</th>\n",
              "      <th>diabetes</th>\n",
              "      <th>fraksi_ejeksi</th>\n",
              "      <th>tekanan_darah_tinggi</th>\n",
              "      <th>platelets</th>\n",
              "      <th>serum_creatinine</th>\n",
              "      <th>sodium_kreatin</th>\n",
              "      <th>jenis_kelamin</th>\n",
              "      <th>perokok</th>\n",
              "      <th>waktu</th>\n",
              "      <th>KEMATIAN</th>\n",
              "    </tr>\n",
              "  </thead>\n",
              "  <tbody>\n",
              "    <tr>\n",
              "      <th>0</th>\n",
              "      <td>75.0</td>\n",
              "      <td>0</td>\n",
              "      <td>582</td>\n",
              "      <td>0</td>\n",
              "      <td>20</td>\n",
              "      <td>1</td>\n",
              "      <td>265000.00</td>\n",
              "      <td>1.9</td>\n",
              "      <td>130</td>\n",
              "      <td>1</td>\n",
              "      <td>0</td>\n",
              "      <td>4</td>\n",
              "      <td>1</td>\n",
              "    </tr>\n",
              "    <tr>\n",
              "      <th>1</th>\n",
              "      <td>55.0</td>\n",
              "      <td>0</td>\n",
              "      <td>7861</td>\n",
              "      <td>0</td>\n",
              "      <td>38</td>\n",
              "      <td>0</td>\n",
              "      <td>263358.03</td>\n",
              "      <td>1.1</td>\n",
              "      <td>136</td>\n",
              "      <td>1</td>\n",
              "      <td>0</td>\n",
              "      <td>6</td>\n",
              "      <td>1</td>\n",
              "    </tr>\n",
              "    <tr>\n",
              "      <th>2</th>\n",
              "      <td>65.0</td>\n",
              "      <td>0</td>\n",
              "      <td>146</td>\n",
              "      <td>0</td>\n",
              "      <td>20</td>\n",
              "      <td>0</td>\n",
              "      <td>162000.00</td>\n",
              "      <td>1.3</td>\n",
              "      <td>129</td>\n",
              "      <td>1</td>\n",
              "      <td>1</td>\n",
              "      <td>7</td>\n",
              "      <td>1</td>\n",
              "    </tr>\n",
              "    <tr>\n",
              "      <th>3</th>\n",
              "      <td>50.0</td>\n",
              "      <td>1</td>\n",
              "      <td>111</td>\n",
              "      <td>0</td>\n",
              "      <td>20</td>\n",
              "      <td>0</td>\n",
              "      <td>210000.00</td>\n",
              "      <td>1.9</td>\n",
              "      <td>137</td>\n",
              "      <td>1</td>\n",
              "      <td>0</td>\n",
              "      <td>7</td>\n",
              "      <td>1</td>\n",
              "    </tr>\n",
              "    <tr>\n",
              "      <th>4</th>\n",
              "      <td>65.0</td>\n",
              "      <td>1</td>\n",
              "      <td>160</td>\n",
              "      <td>1</td>\n",
              "      <td>20</td>\n",
              "      <td>0</td>\n",
              "      <td>327000.00</td>\n",
              "      <td>2.7</td>\n",
              "      <td>116</td>\n",
              "      <td>0</td>\n",
              "      <td>0</td>\n",
              "      <td>8</td>\n",
              "      <td>1</td>\n",
              "    </tr>\n",
              "  </tbody>\n",
              "</table>\n",
              "</div>\n",
              "      <button class=\"colab-df-convert\" onclick=\"convertToInteractive('df-8b287bf2-bf48-4043-aefd-f321043e8af5')\"\n",
              "              title=\"Convert this dataframe to an interactive table.\"\n",
              "              style=\"display:none;\">\n",
              "        \n",
              "  <svg xmlns=\"http://www.w3.org/2000/svg\" height=\"24px\"viewBox=\"0 0 24 24\"\n",
              "       width=\"24px\">\n",
              "    <path d=\"M0 0h24v24H0V0z\" fill=\"none\"/>\n",
              "    <path d=\"M18.56 5.44l.94 2.06.94-2.06 2.06-.94-2.06-.94-.94-2.06-.94 2.06-2.06.94zm-11 1L8.5 8.5l.94-2.06 2.06-.94-2.06-.94L8.5 2.5l-.94 2.06-2.06.94zm10 10l.94 2.06.94-2.06 2.06-.94-2.06-.94-.94-2.06-.94 2.06-2.06.94z\"/><path d=\"M17.41 7.96l-1.37-1.37c-.4-.4-.92-.59-1.43-.59-.52 0-1.04.2-1.43.59L10.3 9.45l-7.72 7.72c-.78.78-.78 2.05 0 2.83L4 21.41c.39.39.9.59 1.41.59.51 0 1.02-.2 1.41-.59l7.78-7.78 2.81-2.81c.8-.78.8-2.07 0-2.86zM5.41 20L4 18.59l7.72-7.72 1.47 1.35L5.41 20z\"/>\n",
              "  </svg>\n",
              "      </button>\n",
              "      \n",
              "  <style>\n",
              "    .colab-df-container {\n",
              "      display:flex;\n",
              "      flex-wrap:wrap;\n",
              "      gap: 12px;\n",
              "    }\n",
              "\n",
              "    .colab-df-convert {\n",
              "      background-color: #E8F0FE;\n",
              "      border: none;\n",
              "      border-radius: 50%;\n",
              "      cursor: pointer;\n",
              "      display: none;\n",
              "      fill: #1967D2;\n",
              "      height: 32px;\n",
              "      padding: 0 0 0 0;\n",
              "      width: 32px;\n",
              "    }\n",
              "\n",
              "    .colab-df-convert:hover {\n",
              "      background-color: #E2EBFA;\n",
              "      box-shadow: 0px 1px 2px rgba(60, 64, 67, 0.3), 0px 1px 3px 1px rgba(60, 64, 67, 0.15);\n",
              "      fill: #174EA6;\n",
              "    }\n",
              "\n",
              "    [theme=dark] .colab-df-convert {\n",
              "      background-color: #3B4455;\n",
              "      fill: #D2E3FC;\n",
              "    }\n",
              "\n",
              "    [theme=dark] .colab-df-convert:hover {\n",
              "      background-color: #434B5C;\n",
              "      box-shadow: 0px 1px 3px 1px rgba(0, 0, 0, 0.15);\n",
              "      filter: drop-shadow(0px 1px 2px rgba(0, 0, 0, 0.3));\n",
              "      fill: #FFFFFF;\n",
              "    }\n",
              "  </style>\n",
              "\n",
              "      <script>\n",
              "        const buttonEl =\n",
              "          document.querySelector('#df-8b287bf2-bf48-4043-aefd-f321043e8af5 button.colab-df-convert');\n",
              "        buttonEl.style.display =\n",
              "          google.colab.kernel.accessAllowed ? 'block' : 'none';\n",
              "\n",
              "        async function convertToInteractive(key) {\n",
              "          const element = document.querySelector('#df-8b287bf2-bf48-4043-aefd-f321043e8af5');\n",
              "          const dataTable =\n",
              "            await google.colab.kernel.invokeFunction('convertToInteractive',\n",
              "                                                     [key], {});\n",
              "          if (!dataTable) return;\n",
              "\n",
              "          const docLinkHtml = 'Like what you see? Visit the ' +\n",
              "            '<a target=\"_blank\" href=https://colab.research.google.com/notebooks/data_table.ipynb>data table notebook</a>'\n",
              "            + ' to learn more about interactive tables.';\n",
              "          element.innerHTML = '';\n",
              "          dataTable['output_type'] = 'display_data';\n",
              "          await google.colab.output.renderOutput(dataTable, element);\n",
              "          const docLink = document.createElement('div');\n",
              "          docLink.innerHTML = docLinkHtml;\n",
              "          element.appendChild(docLink);\n",
              "        }\n",
              "      </script>\n",
              "    </div>\n",
              "  </div>\n",
              "  "
            ]
          },
          "metadata": {},
          "execution_count": 20
        }
      ],
      "source": [
        "df.head()"
      ]
    },
    {
      "cell_type": "code",
      "execution_count": 21,
      "id": "9666a8f8",
      "metadata": {
        "id": "9666a8f8",
        "outputId": "633b41ab-e6ce-49d3-97a5-92a692374c65",
        "colab": {
          "base_uri": "https://localhost:8080/",
          "height": 270
        }
      },
      "outputs": [
        {
          "output_type": "execute_result",
          "data": {
            "text/plain": [
              "     umur  anemia  kreatin_fosfokinase  diabetes  fraksi_ejeksi  \\\n",
              "294  62.0       0                   61         1             38   \n",
              "295  55.0       0                 1820         0             38   \n",
              "296  45.0       0                 2060         1             60   \n",
              "297  45.0       0                 2413         0             38   \n",
              "298  50.0       0                  196         0             45   \n",
              "\n",
              "     tekanan_darah_tinggi  platelets  serum_creatinine  sodium_kreatin  \\\n",
              "294                     1   155000.0               1.1             143   \n",
              "295                     0   270000.0               1.2             139   \n",
              "296                     0   742000.0               0.8             138   \n",
              "297                     0   140000.0               1.4             140   \n",
              "298                     0   395000.0               1.6             136   \n",
              "\n",
              "     jenis_kelamin  perokok  waktu  KEMATIAN  \n",
              "294              1        1    270         0  \n",
              "295              0        0    271         0  \n",
              "296              0        0    278         0  \n",
              "297              1        1    280         0  \n",
              "298              1        1    285         0  "
            ],
            "text/html": [
              "\n",
              "  <div id=\"df-82d2252b-3b9c-43a5-aaf8-3366f53bb02f\">\n",
              "    <div class=\"colab-df-container\">\n",
              "      <div>\n",
              "<style scoped>\n",
              "    .dataframe tbody tr th:only-of-type {\n",
              "        vertical-align: middle;\n",
              "    }\n",
              "\n",
              "    .dataframe tbody tr th {\n",
              "        vertical-align: top;\n",
              "    }\n",
              "\n",
              "    .dataframe thead th {\n",
              "        text-align: right;\n",
              "    }\n",
              "</style>\n",
              "<table border=\"1\" class=\"dataframe\">\n",
              "  <thead>\n",
              "    <tr style=\"text-align: right;\">\n",
              "      <th></th>\n",
              "      <th>umur</th>\n",
              "      <th>anemia</th>\n",
              "      <th>kreatin_fosfokinase</th>\n",
              "      <th>diabetes</th>\n",
              "      <th>fraksi_ejeksi</th>\n",
              "      <th>tekanan_darah_tinggi</th>\n",
              "      <th>platelets</th>\n",
              "      <th>serum_creatinine</th>\n",
              "      <th>sodium_kreatin</th>\n",
              "      <th>jenis_kelamin</th>\n",
              "      <th>perokok</th>\n",
              "      <th>waktu</th>\n",
              "      <th>KEMATIAN</th>\n",
              "    </tr>\n",
              "  </thead>\n",
              "  <tbody>\n",
              "    <tr>\n",
              "      <th>294</th>\n",
              "      <td>62.0</td>\n",
              "      <td>0</td>\n",
              "      <td>61</td>\n",
              "      <td>1</td>\n",
              "      <td>38</td>\n",
              "      <td>1</td>\n",
              "      <td>155000.0</td>\n",
              "      <td>1.1</td>\n",
              "      <td>143</td>\n",
              "      <td>1</td>\n",
              "      <td>1</td>\n",
              "      <td>270</td>\n",
              "      <td>0</td>\n",
              "    </tr>\n",
              "    <tr>\n",
              "      <th>295</th>\n",
              "      <td>55.0</td>\n",
              "      <td>0</td>\n",
              "      <td>1820</td>\n",
              "      <td>0</td>\n",
              "      <td>38</td>\n",
              "      <td>0</td>\n",
              "      <td>270000.0</td>\n",
              "      <td>1.2</td>\n",
              "      <td>139</td>\n",
              "      <td>0</td>\n",
              "      <td>0</td>\n",
              "      <td>271</td>\n",
              "      <td>0</td>\n",
              "    </tr>\n",
              "    <tr>\n",
              "      <th>296</th>\n",
              "      <td>45.0</td>\n",
              "      <td>0</td>\n",
              "      <td>2060</td>\n",
              "      <td>1</td>\n",
              "      <td>60</td>\n",
              "      <td>0</td>\n",
              "      <td>742000.0</td>\n",
              "      <td>0.8</td>\n",
              "      <td>138</td>\n",
              "      <td>0</td>\n",
              "      <td>0</td>\n",
              "      <td>278</td>\n",
              "      <td>0</td>\n",
              "    </tr>\n",
              "    <tr>\n",
              "      <th>297</th>\n",
              "      <td>45.0</td>\n",
              "      <td>0</td>\n",
              "      <td>2413</td>\n",
              "      <td>0</td>\n",
              "      <td>38</td>\n",
              "      <td>0</td>\n",
              "      <td>140000.0</td>\n",
              "      <td>1.4</td>\n",
              "      <td>140</td>\n",
              "      <td>1</td>\n",
              "      <td>1</td>\n",
              "      <td>280</td>\n",
              "      <td>0</td>\n",
              "    </tr>\n",
              "    <tr>\n",
              "      <th>298</th>\n",
              "      <td>50.0</td>\n",
              "      <td>0</td>\n",
              "      <td>196</td>\n",
              "      <td>0</td>\n",
              "      <td>45</td>\n",
              "      <td>0</td>\n",
              "      <td>395000.0</td>\n",
              "      <td>1.6</td>\n",
              "      <td>136</td>\n",
              "      <td>1</td>\n",
              "      <td>1</td>\n",
              "      <td>285</td>\n",
              "      <td>0</td>\n",
              "    </tr>\n",
              "  </tbody>\n",
              "</table>\n",
              "</div>\n",
              "      <button class=\"colab-df-convert\" onclick=\"convertToInteractive('df-82d2252b-3b9c-43a5-aaf8-3366f53bb02f')\"\n",
              "              title=\"Convert this dataframe to an interactive table.\"\n",
              "              style=\"display:none;\">\n",
              "        \n",
              "  <svg xmlns=\"http://www.w3.org/2000/svg\" height=\"24px\"viewBox=\"0 0 24 24\"\n",
              "       width=\"24px\">\n",
              "    <path d=\"M0 0h24v24H0V0z\" fill=\"none\"/>\n",
              "    <path d=\"M18.56 5.44l.94 2.06.94-2.06 2.06-.94-2.06-.94-.94-2.06-.94 2.06-2.06.94zm-11 1L8.5 8.5l.94-2.06 2.06-.94-2.06-.94L8.5 2.5l-.94 2.06-2.06.94zm10 10l.94 2.06.94-2.06 2.06-.94-2.06-.94-.94-2.06-.94 2.06-2.06.94z\"/><path d=\"M17.41 7.96l-1.37-1.37c-.4-.4-.92-.59-1.43-.59-.52 0-1.04.2-1.43.59L10.3 9.45l-7.72 7.72c-.78.78-.78 2.05 0 2.83L4 21.41c.39.39.9.59 1.41.59.51 0 1.02-.2 1.41-.59l7.78-7.78 2.81-2.81c.8-.78.8-2.07 0-2.86zM5.41 20L4 18.59l7.72-7.72 1.47 1.35L5.41 20z\"/>\n",
              "  </svg>\n",
              "      </button>\n",
              "      \n",
              "  <style>\n",
              "    .colab-df-container {\n",
              "      display:flex;\n",
              "      flex-wrap:wrap;\n",
              "      gap: 12px;\n",
              "    }\n",
              "\n",
              "    .colab-df-convert {\n",
              "      background-color: #E8F0FE;\n",
              "      border: none;\n",
              "      border-radius: 50%;\n",
              "      cursor: pointer;\n",
              "      display: none;\n",
              "      fill: #1967D2;\n",
              "      height: 32px;\n",
              "      padding: 0 0 0 0;\n",
              "      width: 32px;\n",
              "    }\n",
              "\n",
              "    .colab-df-convert:hover {\n",
              "      background-color: #E2EBFA;\n",
              "      box-shadow: 0px 1px 2px rgba(60, 64, 67, 0.3), 0px 1px 3px 1px rgba(60, 64, 67, 0.15);\n",
              "      fill: #174EA6;\n",
              "    }\n",
              "\n",
              "    [theme=dark] .colab-df-convert {\n",
              "      background-color: #3B4455;\n",
              "      fill: #D2E3FC;\n",
              "    }\n",
              "\n",
              "    [theme=dark] .colab-df-convert:hover {\n",
              "      background-color: #434B5C;\n",
              "      box-shadow: 0px 1px 3px 1px rgba(0, 0, 0, 0.15);\n",
              "      filter: drop-shadow(0px 1px 2px rgba(0, 0, 0, 0.3));\n",
              "      fill: #FFFFFF;\n",
              "    }\n",
              "  </style>\n",
              "\n",
              "      <script>\n",
              "        const buttonEl =\n",
              "          document.querySelector('#df-82d2252b-3b9c-43a5-aaf8-3366f53bb02f button.colab-df-convert');\n",
              "        buttonEl.style.display =\n",
              "          google.colab.kernel.accessAllowed ? 'block' : 'none';\n",
              "\n",
              "        async function convertToInteractive(key) {\n",
              "          const element = document.querySelector('#df-82d2252b-3b9c-43a5-aaf8-3366f53bb02f');\n",
              "          const dataTable =\n",
              "            await google.colab.kernel.invokeFunction('convertToInteractive',\n",
              "                                                     [key], {});\n",
              "          if (!dataTable) return;\n",
              "\n",
              "          const docLinkHtml = 'Like what you see? Visit the ' +\n",
              "            '<a target=\"_blank\" href=https://colab.research.google.com/notebooks/data_table.ipynb>data table notebook</a>'\n",
              "            + ' to learn more about interactive tables.';\n",
              "          element.innerHTML = '';\n",
              "          dataTable['output_type'] = 'display_data';\n",
              "          await google.colab.output.renderOutput(dataTable, element);\n",
              "          const docLink = document.createElement('div');\n",
              "          docLink.innerHTML = docLinkHtml;\n",
              "          element.appendChild(docLink);\n",
              "        }\n",
              "      </script>\n",
              "    </div>\n",
              "  </div>\n",
              "  "
            ]
          },
          "metadata": {},
          "execution_count": 21
        }
      ],
      "source": [
        "df.tail()"
      ]
    },
    {
      "cell_type": "markdown",
      "id": "c38d5724",
      "metadata": {
        "id": "c38d5724"
      },
      "source": [
        "2. Selanjutnya menampilkan informasi tentang statistik deskriptif pada masing masing atribut yang bertipe data numerik, yang bertujuan untuk melihat nilai statistik deskriptif pada dataset contohnya melihat nilai rata rata (mean), nilai minimal dan maksimum pada dataset ini"
      ]
    },
    {
      "cell_type": "code",
      "execution_count": 22,
      "id": "fa126b1f",
      "metadata": {
        "scrolled": false,
        "id": "fa126b1f",
        "outputId": "f8ce23b1-dc1b-4b6b-e568-e8b8940d8d81",
        "colab": {
          "base_uri": "https://localhost:8080/",
          "height": 364
        }
      },
      "outputs": [
        {
          "output_type": "execute_result",
          "data": {
            "text/plain": [
              "             umur      anemia  kreatin_fosfokinase    diabetes  fraksi_ejeksi  \\\n",
              "count  299.000000  299.000000           299.000000  299.000000     299.000000   \n",
              "mean    60.833893    0.431438           581.839465    0.418060      38.083612   \n",
              "std     11.894809    0.496107           970.287881    0.494067      11.834841   \n",
              "min     40.000000    0.000000            23.000000    0.000000      14.000000   \n",
              "25%     51.000000    0.000000           116.500000    0.000000      30.000000   \n",
              "50%     60.000000    0.000000           250.000000    0.000000      38.000000   \n",
              "75%     70.000000    1.000000           582.000000    1.000000      45.000000   \n",
              "max     95.000000    1.000000          7861.000000    1.000000      80.000000   \n",
              "\n",
              "       tekanan_darah_tinggi      platelets  serum_creatinine  sodium_kreatin  \\\n",
              "count            299.000000     299.000000         299.00000      299.000000   \n",
              "mean               0.351171  263358.029264           1.39388      136.625418   \n",
              "std                0.478136   97804.236869           1.03451        4.412477   \n",
              "min                0.000000   25100.000000           0.50000      113.000000   \n",
              "25%                0.000000  212500.000000           0.90000      134.000000   \n",
              "50%                0.000000  262000.000000           1.10000      137.000000   \n",
              "75%                1.000000  303500.000000           1.40000      140.000000   \n",
              "max                1.000000  850000.000000           9.40000      148.000000   \n",
              "\n",
              "       jenis_kelamin    perokok       waktu   KEMATIAN  \n",
              "count     299.000000  299.00000  299.000000  299.00000  \n",
              "mean        0.648829    0.32107  130.260870    0.32107  \n",
              "std         0.478136    0.46767   77.614208    0.46767  \n",
              "min         0.000000    0.00000    4.000000    0.00000  \n",
              "25%         0.000000    0.00000   73.000000    0.00000  \n",
              "50%         1.000000    0.00000  115.000000    0.00000  \n",
              "75%         1.000000    1.00000  203.000000    1.00000  \n",
              "max         1.000000    1.00000  285.000000    1.00000  "
            ],
            "text/html": [
              "\n",
              "  <div id=\"df-be596ad3-8766-4f29-bf0a-60e15f0d41a4\">\n",
              "    <div class=\"colab-df-container\">\n",
              "      <div>\n",
              "<style scoped>\n",
              "    .dataframe tbody tr th:only-of-type {\n",
              "        vertical-align: middle;\n",
              "    }\n",
              "\n",
              "    .dataframe tbody tr th {\n",
              "        vertical-align: top;\n",
              "    }\n",
              "\n",
              "    .dataframe thead th {\n",
              "        text-align: right;\n",
              "    }\n",
              "</style>\n",
              "<table border=\"1\" class=\"dataframe\">\n",
              "  <thead>\n",
              "    <tr style=\"text-align: right;\">\n",
              "      <th></th>\n",
              "      <th>umur</th>\n",
              "      <th>anemia</th>\n",
              "      <th>kreatin_fosfokinase</th>\n",
              "      <th>diabetes</th>\n",
              "      <th>fraksi_ejeksi</th>\n",
              "      <th>tekanan_darah_tinggi</th>\n",
              "      <th>platelets</th>\n",
              "      <th>serum_creatinine</th>\n",
              "      <th>sodium_kreatin</th>\n",
              "      <th>jenis_kelamin</th>\n",
              "      <th>perokok</th>\n",
              "      <th>waktu</th>\n",
              "      <th>KEMATIAN</th>\n",
              "    </tr>\n",
              "  </thead>\n",
              "  <tbody>\n",
              "    <tr>\n",
              "      <th>count</th>\n",
              "      <td>299.000000</td>\n",
              "      <td>299.000000</td>\n",
              "      <td>299.000000</td>\n",
              "      <td>299.000000</td>\n",
              "      <td>299.000000</td>\n",
              "      <td>299.000000</td>\n",
              "      <td>299.000000</td>\n",
              "      <td>299.00000</td>\n",
              "      <td>299.000000</td>\n",
              "      <td>299.000000</td>\n",
              "      <td>299.00000</td>\n",
              "      <td>299.000000</td>\n",
              "      <td>299.00000</td>\n",
              "    </tr>\n",
              "    <tr>\n",
              "      <th>mean</th>\n",
              "      <td>60.833893</td>\n",
              "      <td>0.431438</td>\n",
              "      <td>581.839465</td>\n",
              "      <td>0.418060</td>\n",
              "      <td>38.083612</td>\n",
              "      <td>0.351171</td>\n",
              "      <td>263358.029264</td>\n",
              "      <td>1.39388</td>\n",
              "      <td>136.625418</td>\n",
              "      <td>0.648829</td>\n",
              "      <td>0.32107</td>\n",
              "      <td>130.260870</td>\n",
              "      <td>0.32107</td>\n",
              "    </tr>\n",
              "    <tr>\n",
              "      <th>std</th>\n",
              "      <td>11.894809</td>\n",
              "      <td>0.496107</td>\n",
              "      <td>970.287881</td>\n",
              "      <td>0.494067</td>\n",
              "      <td>11.834841</td>\n",
              "      <td>0.478136</td>\n",
              "      <td>97804.236869</td>\n",
              "      <td>1.03451</td>\n",
              "      <td>4.412477</td>\n",
              "      <td>0.478136</td>\n",
              "      <td>0.46767</td>\n",
              "      <td>77.614208</td>\n",
              "      <td>0.46767</td>\n",
              "    </tr>\n",
              "    <tr>\n",
              "      <th>min</th>\n",
              "      <td>40.000000</td>\n",
              "      <td>0.000000</td>\n",
              "      <td>23.000000</td>\n",
              "      <td>0.000000</td>\n",
              "      <td>14.000000</td>\n",
              "      <td>0.000000</td>\n",
              "      <td>25100.000000</td>\n",
              "      <td>0.50000</td>\n",
              "      <td>113.000000</td>\n",
              "      <td>0.000000</td>\n",
              "      <td>0.00000</td>\n",
              "      <td>4.000000</td>\n",
              "      <td>0.00000</td>\n",
              "    </tr>\n",
              "    <tr>\n",
              "      <th>25%</th>\n",
              "      <td>51.000000</td>\n",
              "      <td>0.000000</td>\n",
              "      <td>116.500000</td>\n",
              "      <td>0.000000</td>\n",
              "      <td>30.000000</td>\n",
              "      <td>0.000000</td>\n",
              "      <td>212500.000000</td>\n",
              "      <td>0.90000</td>\n",
              "      <td>134.000000</td>\n",
              "      <td>0.000000</td>\n",
              "      <td>0.00000</td>\n",
              "      <td>73.000000</td>\n",
              "      <td>0.00000</td>\n",
              "    </tr>\n",
              "    <tr>\n",
              "      <th>50%</th>\n",
              "      <td>60.000000</td>\n",
              "      <td>0.000000</td>\n",
              "      <td>250.000000</td>\n",
              "      <td>0.000000</td>\n",
              "      <td>38.000000</td>\n",
              "      <td>0.000000</td>\n",
              "      <td>262000.000000</td>\n",
              "      <td>1.10000</td>\n",
              "      <td>137.000000</td>\n",
              "      <td>1.000000</td>\n",
              "      <td>0.00000</td>\n",
              "      <td>115.000000</td>\n",
              "      <td>0.00000</td>\n",
              "    </tr>\n",
              "    <tr>\n",
              "      <th>75%</th>\n",
              "      <td>70.000000</td>\n",
              "      <td>1.000000</td>\n",
              "      <td>582.000000</td>\n",
              "      <td>1.000000</td>\n",
              "      <td>45.000000</td>\n",
              "      <td>1.000000</td>\n",
              "      <td>303500.000000</td>\n",
              "      <td>1.40000</td>\n",
              "      <td>140.000000</td>\n",
              "      <td>1.000000</td>\n",
              "      <td>1.00000</td>\n",
              "      <td>203.000000</td>\n",
              "      <td>1.00000</td>\n",
              "    </tr>\n",
              "    <tr>\n",
              "      <th>max</th>\n",
              "      <td>95.000000</td>\n",
              "      <td>1.000000</td>\n",
              "      <td>7861.000000</td>\n",
              "      <td>1.000000</td>\n",
              "      <td>80.000000</td>\n",
              "      <td>1.000000</td>\n",
              "      <td>850000.000000</td>\n",
              "      <td>9.40000</td>\n",
              "      <td>148.000000</td>\n",
              "      <td>1.000000</td>\n",
              "      <td>1.00000</td>\n",
              "      <td>285.000000</td>\n",
              "      <td>1.00000</td>\n",
              "    </tr>\n",
              "  </tbody>\n",
              "</table>\n",
              "</div>\n",
              "      <button class=\"colab-df-convert\" onclick=\"convertToInteractive('df-be596ad3-8766-4f29-bf0a-60e15f0d41a4')\"\n",
              "              title=\"Convert this dataframe to an interactive table.\"\n",
              "              style=\"display:none;\">\n",
              "        \n",
              "  <svg xmlns=\"http://www.w3.org/2000/svg\" height=\"24px\"viewBox=\"0 0 24 24\"\n",
              "       width=\"24px\">\n",
              "    <path d=\"M0 0h24v24H0V0z\" fill=\"none\"/>\n",
              "    <path d=\"M18.56 5.44l.94 2.06.94-2.06 2.06-.94-2.06-.94-.94-2.06-.94 2.06-2.06.94zm-11 1L8.5 8.5l.94-2.06 2.06-.94-2.06-.94L8.5 2.5l-.94 2.06-2.06.94zm10 10l.94 2.06.94-2.06 2.06-.94-2.06-.94-.94-2.06-.94 2.06-2.06.94z\"/><path d=\"M17.41 7.96l-1.37-1.37c-.4-.4-.92-.59-1.43-.59-.52 0-1.04.2-1.43.59L10.3 9.45l-7.72 7.72c-.78.78-.78 2.05 0 2.83L4 21.41c.39.39.9.59 1.41.59.51 0 1.02-.2 1.41-.59l7.78-7.78 2.81-2.81c.8-.78.8-2.07 0-2.86zM5.41 20L4 18.59l7.72-7.72 1.47 1.35L5.41 20z\"/>\n",
              "  </svg>\n",
              "      </button>\n",
              "      \n",
              "  <style>\n",
              "    .colab-df-container {\n",
              "      display:flex;\n",
              "      flex-wrap:wrap;\n",
              "      gap: 12px;\n",
              "    }\n",
              "\n",
              "    .colab-df-convert {\n",
              "      background-color: #E8F0FE;\n",
              "      border: none;\n",
              "      border-radius: 50%;\n",
              "      cursor: pointer;\n",
              "      display: none;\n",
              "      fill: #1967D2;\n",
              "      height: 32px;\n",
              "      padding: 0 0 0 0;\n",
              "      width: 32px;\n",
              "    }\n",
              "\n",
              "    .colab-df-convert:hover {\n",
              "      background-color: #E2EBFA;\n",
              "      box-shadow: 0px 1px 2px rgba(60, 64, 67, 0.3), 0px 1px 3px 1px rgba(60, 64, 67, 0.15);\n",
              "      fill: #174EA6;\n",
              "    }\n",
              "\n",
              "    [theme=dark] .colab-df-convert {\n",
              "      background-color: #3B4455;\n",
              "      fill: #D2E3FC;\n",
              "    }\n",
              "\n",
              "    [theme=dark] .colab-df-convert:hover {\n",
              "      background-color: #434B5C;\n",
              "      box-shadow: 0px 1px 3px 1px rgba(0, 0, 0, 0.15);\n",
              "      filter: drop-shadow(0px 1px 2px rgba(0, 0, 0, 0.3));\n",
              "      fill: #FFFFFF;\n",
              "    }\n",
              "  </style>\n",
              "\n",
              "      <script>\n",
              "        const buttonEl =\n",
              "          document.querySelector('#df-be596ad3-8766-4f29-bf0a-60e15f0d41a4 button.colab-df-convert');\n",
              "        buttonEl.style.display =\n",
              "          google.colab.kernel.accessAllowed ? 'block' : 'none';\n",
              "\n",
              "        async function convertToInteractive(key) {\n",
              "          const element = document.querySelector('#df-be596ad3-8766-4f29-bf0a-60e15f0d41a4');\n",
              "          const dataTable =\n",
              "            await google.colab.kernel.invokeFunction('convertToInteractive',\n",
              "                                                     [key], {});\n",
              "          if (!dataTable) return;\n",
              "\n",
              "          const docLinkHtml = 'Like what you see? Visit the ' +\n",
              "            '<a target=\"_blank\" href=https://colab.research.google.com/notebooks/data_table.ipynb>data table notebook</a>'\n",
              "            + ' to learn more about interactive tables.';\n",
              "          element.innerHTML = '';\n",
              "          dataTable['output_type'] = 'display_data';\n",
              "          await google.colab.output.renderOutput(dataTable, element);\n",
              "          const docLink = document.createElement('div');\n",
              "          docLink.innerHTML = docLinkHtml;\n",
              "          element.appendChild(docLink);\n",
              "        }\n",
              "      </script>\n",
              "    </div>\n",
              "  </div>\n",
              "  "
            ]
          },
          "metadata": {},
          "execution_count": 22
        }
      ],
      "source": [
        "df.describe()"
      ]
    },
    {
      "cell_type": "markdown",
      "id": "2e63db19",
      "metadata": {
        "id": "2e63db19"
      },
      "source": [
        "### Mean\n",
        "melihat rata rata  umur dan jenis kelamin terhadap yang terkena penyakit kardiovaskular atau gagal jantung"
      ]
    },
    {
      "cell_type": "code",
      "execution_count": 23,
      "id": "6feab248",
      "metadata": {
        "id": "6feab248",
        "outputId": "75777d1c-b3b3-4b2f-d1ea-4891355d0a46",
        "colab": {
          "base_uri": "https://localhost:8080/"
        }
      },
      "outputs": [
        {
          "output_type": "execute_result",
          "data": {
            "text/plain": [
              "umur                        60.833893\n",
              "anemia                       0.431438\n",
              "kreatin_fosfokinase        581.839465\n",
              "diabetes                     0.418060\n",
              "fraksi_ejeksi               38.083612\n",
              "tekanan_darah_tinggi         0.351171\n",
              "platelets               263358.029264\n",
              "serum_creatinine             1.393880\n",
              "sodium_kreatin             136.625418\n",
              "jenis_kelamin                0.648829\n",
              "perokok                      0.321070\n",
              "waktu                      130.260870\n",
              "KEMATIAN                     0.321070\n",
              "dtype: float64"
            ]
          },
          "metadata": {},
          "execution_count": 23
        }
      ],
      "source": [
        "mean = df.mean()\n",
        "mean"
      ]
    },
    {
      "cell_type": "code",
      "execution_count": 24,
      "id": "f5c4824d",
      "metadata": {
        "id": "f5c4824d",
        "outputId": "34de875c-4c3e-422a-f2cf-68d348ebddfd",
        "colab": {
          "base_uri": "https://localhost:8080/",
          "height": 457
        }
      },
      "outputs": [
        {
          "output_type": "execute_result",
          "data": {
            "text/plain": [
              "                    data nilai rata rata\n",
              "0                   umur       60.833893\n",
              "1                 anemia        0.431438\n",
              "2    kreatin fosfokinase      581.839465\n",
              "3               diabetes        0.418060\n",
              "4          fraksi ejeksi       38.083612\n",
              "5   tekanan darah tinggi        0.351171\n",
              "6              platelets   263358.029264\n",
              "7       serum creatinine        1.393880\n",
              "8        sodium kreatin       136.625418\n",
              "9          jenis kelamin        0.648829\n",
              "10               perokok        0.321070\n",
              "11                 waktu      130.260870\n",
              "12             KEMATIAN         0.321070"
            ],
            "text/html": [
              "\n",
              "  <div id=\"df-474a8cd7-a7a7-4b1b-8c51-9977316fb2aa\">\n",
              "    <div class=\"colab-df-container\">\n",
              "      <div>\n",
              "<style scoped>\n",
              "    .dataframe tbody tr th:only-of-type {\n",
              "        vertical-align: middle;\n",
              "    }\n",
              "\n",
              "    .dataframe tbody tr th {\n",
              "        vertical-align: top;\n",
              "    }\n",
              "\n",
              "    .dataframe thead th {\n",
              "        text-align: right;\n",
              "    }\n",
              "</style>\n",
              "<table border=\"1\" class=\"dataframe\">\n",
              "  <thead>\n",
              "    <tr style=\"text-align: right;\">\n",
              "      <th></th>\n",
              "      <th>data</th>\n",
              "      <th>nilai rata rata</th>\n",
              "    </tr>\n",
              "  </thead>\n",
              "  <tbody>\n",
              "    <tr>\n",
              "      <th>0</th>\n",
              "      <td>umur</td>\n",
              "      <td>60.833893</td>\n",
              "    </tr>\n",
              "    <tr>\n",
              "      <th>1</th>\n",
              "      <td>anemia</td>\n",
              "      <td>0.431438</td>\n",
              "    </tr>\n",
              "    <tr>\n",
              "      <th>2</th>\n",
              "      <td>kreatin fosfokinase</td>\n",
              "      <td>581.839465</td>\n",
              "    </tr>\n",
              "    <tr>\n",
              "      <th>3</th>\n",
              "      <td>diabetes</td>\n",
              "      <td>0.418060</td>\n",
              "    </tr>\n",
              "    <tr>\n",
              "      <th>4</th>\n",
              "      <td>fraksi ejeksi</td>\n",
              "      <td>38.083612</td>\n",
              "    </tr>\n",
              "    <tr>\n",
              "      <th>5</th>\n",
              "      <td>tekanan darah tinggi</td>\n",
              "      <td>0.351171</td>\n",
              "    </tr>\n",
              "    <tr>\n",
              "      <th>6</th>\n",
              "      <td>platelets</td>\n",
              "      <td>263358.029264</td>\n",
              "    </tr>\n",
              "    <tr>\n",
              "      <th>7</th>\n",
              "      <td>serum creatinine</td>\n",
              "      <td>1.393880</td>\n",
              "    </tr>\n",
              "    <tr>\n",
              "      <th>8</th>\n",
              "      <td>sodium kreatin</td>\n",
              "      <td>136.625418</td>\n",
              "    </tr>\n",
              "    <tr>\n",
              "      <th>9</th>\n",
              "      <td>jenis kelamin</td>\n",
              "      <td>0.648829</td>\n",
              "    </tr>\n",
              "    <tr>\n",
              "      <th>10</th>\n",
              "      <td>perokok</td>\n",
              "      <td>0.321070</td>\n",
              "    </tr>\n",
              "    <tr>\n",
              "      <th>11</th>\n",
              "      <td>waktu</td>\n",
              "      <td>130.260870</td>\n",
              "    </tr>\n",
              "    <tr>\n",
              "      <th>12</th>\n",
              "      <td>KEMATIAN</td>\n",
              "      <td>0.321070</td>\n",
              "    </tr>\n",
              "  </tbody>\n",
              "</table>\n",
              "</div>\n",
              "      <button class=\"colab-df-convert\" onclick=\"convertToInteractive('df-474a8cd7-a7a7-4b1b-8c51-9977316fb2aa')\"\n",
              "              title=\"Convert this dataframe to an interactive table.\"\n",
              "              style=\"display:none;\">\n",
              "        \n",
              "  <svg xmlns=\"http://www.w3.org/2000/svg\" height=\"24px\"viewBox=\"0 0 24 24\"\n",
              "       width=\"24px\">\n",
              "    <path d=\"M0 0h24v24H0V0z\" fill=\"none\"/>\n",
              "    <path d=\"M18.56 5.44l.94 2.06.94-2.06 2.06-.94-2.06-.94-.94-2.06-.94 2.06-2.06.94zm-11 1L8.5 8.5l.94-2.06 2.06-.94-2.06-.94L8.5 2.5l-.94 2.06-2.06.94zm10 10l.94 2.06.94-2.06 2.06-.94-2.06-.94-.94-2.06-.94 2.06-2.06.94z\"/><path d=\"M17.41 7.96l-1.37-1.37c-.4-.4-.92-.59-1.43-.59-.52 0-1.04.2-1.43.59L10.3 9.45l-7.72 7.72c-.78.78-.78 2.05 0 2.83L4 21.41c.39.39.9.59 1.41.59.51 0 1.02-.2 1.41-.59l7.78-7.78 2.81-2.81c.8-.78.8-2.07 0-2.86zM5.41 20L4 18.59l7.72-7.72 1.47 1.35L5.41 20z\"/>\n",
              "  </svg>\n",
              "      </button>\n",
              "      \n",
              "  <style>\n",
              "    .colab-df-container {\n",
              "      display:flex;\n",
              "      flex-wrap:wrap;\n",
              "      gap: 12px;\n",
              "    }\n",
              "\n",
              "    .colab-df-convert {\n",
              "      background-color: #E8F0FE;\n",
              "      border: none;\n",
              "      border-radius: 50%;\n",
              "      cursor: pointer;\n",
              "      display: none;\n",
              "      fill: #1967D2;\n",
              "      height: 32px;\n",
              "      padding: 0 0 0 0;\n",
              "      width: 32px;\n",
              "    }\n",
              "\n",
              "    .colab-df-convert:hover {\n",
              "      background-color: #E2EBFA;\n",
              "      box-shadow: 0px 1px 2px rgba(60, 64, 67, 0.3), 0px 1px 3px 1px rgba(60, 64, 67, 0.15);\n",
              "      fill: #174EA6;\n",
              "    }\n",
              "\n",
              "    [theme=dark] .colab-df-convert {\n",
              "      background-color: #3B4455;\n",
              "      fill: #D2E3FC;\n",
              "    }\n",
              "\n",
              "    [theme=dark] .colab-df-convert:hover {\n",
              "      background-color: #434B5C;\n",
              "      box-shadow: 0px 1px 3px 1px rgba(0, 0, 0, 0.15);\n",
              "      filter: drop-shadow(0px 1px 2px rgba(0, 0, 0, 0.3));\n",
              "      fill: #FFFFFF;\n",
              "    }\n",
              "  </style>\n",
              "\n",
              "      <script>\n",
              "        const buttonEl =\n",
              "          document.querySelector('#df-474a8cd7-a7a7-4b1b-8c51-9977316fb2aa button.colab-df-convert');\n",
              "        buttonEl.style.display =\n",
              "          google.colab.kernel.accessAllowed ? 'block' : 'none';\n",
              "\n",
              "        async function convertToInteractive(key) {\n",
              "          const element = document.querySelector('#df-474a8cd7-a7a7-4b1b-8c51-9977316fb2aa');\n",
              "          const dataTable =\n",
              "            await google.colab.kernel.invokeFunction('convertToInteractive',\n",
              "                                                     [key], {});\n",
              "          if (!dataTable) return;\n",
              "\n",
              "          const docLinkHtml = 'Like what you see? Visit the ' +\n",
              "            '<a target=\"_blank\" href=https://colab.research.google.com/notebooks/data_table.ipynb>data table notebook</a>'\n",
              "            + ' to learn more about interactive tables.';\n",
              "          element.innerHTML = '';\n",
              "          dataTable['output_type'] = 'display_data';\n",
              "          await google.colab.output.renderOutput(dataTable, element);\n",
              "          const docLink = document.createElement('div');\n",
              "          docLink.innerHTML = docLinkHtml;\n",
              "          element.appendChild(docLink);\n",
              "        }\n",
              "      </script>\n",
              "    </div>\n",
              "  </div>\n",
              "  "
            ]
          },
          "metadata": {},
          "execution_count": 24
        }
      ],
      "source": [
        "mean = pd.DataFrame([{'data':'umur', 'nilai rata rata':'60.833893'},\n",
        "                     {'data':'anemia', 'nilai rata rata':'0.431438'},\n",
        "                     {'data':'kreatin fosfokinase', 'nilai rata rata':'581.839465'},\n",
        "                     {'data':'diabetes', 'nilai rata rata':'0.418060'},\n",
        "                     {'data':'fraksi ejeksi', 'nilai rata rata':'38.083612'},\n",
        "                     {'data':'tekanan darah tinggi', 'nilai rata rata':'0.351171'},\n",
        "                     {'data':'platelets', 'nilai rata rata':'263358.029264'},\n",
        "                     {'data':'serum creatinine', 'nilai rata rata':' 1.393880'},\n",
        "                     {'data':'sodium kreatin ', 'nilai rata rata':'136.625418'},\n",
        "                     {'data':'jenis kelamin', 'nilai rata rata':'0.648829'},\n",
        "                     {'data':'perokok', 'nilai rata rata':'0.321070'},\n",
        "                     {'data':'waktu', 'nilai rata rata':' 130.260870'},\n",
        "                     {'data':'KEMATIAN ', 'nilai rata rata':'0.321070'}])\n",
        "mean"
      ]
    },
    {
      "cell_type": "markdown",
      "id": "e6931dfb",
      "metadata": {
        "id": "e6931dfb"
      },
      "source": [
        "### Minimum \n",
        "melihat umur dan jenis kelamin yang paling rendah yang mengalami penyakit kardivoskular atau gagal jantung"
      ]
    },
    {
      "cell_type": "code",
      "execution_count": 25,
      "id": "c9796a7d",
      "metadata": {
        "id": "c9796a7d",
        "outputId": "62dc32e6-91a0-41c5-af49-9d338e021c17",
        "colab": {
          "base_uri": "https://localhost:8080/"
        }
      },
      "outputs": [
        {
          "output_type": "execute_result",
          "data": {
            "text/plain": [
              "umur                       40.0\n",
              "anemia                      0.0\n",
              "kreatin_fosfokinase        23.0\n",
              "diabetes                    0.0\n",
              "fraksi_ejeksi              14.0\n",
              "tekanan_darah_tinggi        0.0\n",
              "platelets               25100.0\n",
              "serum_creatinine            0.5\n",
              "sodium_kreatin            113.0\n",
              "jenis_kelamin               0.0\n",
              "perokok                     0.0\n",
              "waktu                       4.0\n",
              "KEMATIAN                    0.0\n",
              "dtype: float64"
            ]
          },
          "metadata": {},
          "execution_count": 25
        }
      ],
      "source": [
        "minimum = df.min()\n",
        "minimum"
      ]
    },
    {
      "cell_type": "code",
      "execution_count": 26,
      "id": "4360cd14",
      "metadata": {
        "id": "4360cd14",
        "outputId": "148a50de-6c65-4806-881d-a9ed3a7a7255",
        "colab": {
          "base_uri": "https://localhost:8080/",
          "height": 457
        }
      },
      "outputs": [
        {
          "output_type": "execute_result",
          "data": {
            "text/plain": [
              "                    data nilai minimum\n",
              "0                   umur          40.0\n",
              "1                 anemia           0.0\n",
              "2    kreatin fosfokinase          23.0\n",
              "3               diabetes           0.0\n",
              "4          fraksi ejeksi          14.0\n",
              "5   tekanan darah tinggi           0.0\n",
              "6              platelets       25100.0\n",
              "7       serum creatinine           0.5\n",
              "8        sodium kreatin          113.0\n",
              "9          jenis kelamin           0.0\n",
              "10               perokok           4.0\n",
              "11                 waktu    130.260870\n",
              "12             KEMATIAN            0.0"
            ],
            "text/html": [
              "\n",
              "  <div id=\"df-5118361e-6077-428b-af10-cb6ec060d3b2\">\n",
              "    <div class=\"colab-df-container\">\n",
              "      <div>\n",
              "<style scoped>\n",
              "    .dataframe tbody tr th:only-of-type {\n",
              "        vertical-align: middle;\n",
              "    }\n",
              "\n",
              "    .dataframe tbody tr th {\n",
              "        vertical-align: top;\n",
              "    }\n",
              "\n",
              "    .dataframe thead th {\n",
              "        text-align: right;\n",
              "    }\n",
              "</style>\n",
              "<table border=\"1\" class=\"dataframe\">\n",
              "  <thead>\n",
              "    <tr style=\"text-align: right;\">\n",
              "      <th></th>\n",
              "      <th>data</th>\n",
              "      <th>nilai minimum</th>\n",
              "    </tr>\n",
              "  </thead>\n",
              "  <tbody>\n",
              "    <tr>\n",
              "      <th>0</th>\n",
              "      <td>umur</td>\n",
              "      <td>40.0</td>\n",
              "    </tr>\n",
              "    <tr>\n",
              "      <th>1</th>\n",
              "      <td>anemia</td>\n",
              "      <td>0.0</td>\n",
              "    </tr>\n",
              "    <tr>\n",
              "      <th>2</th>\n",
              "      <td>kreatin fosfokinase</td>\n",
              "      <td>23.0</td>\n",
              "    </tr>\n",
              "    <tr>\n",
              "      <th>3</th>\n",
              "      <td>diabetes</td>\n",
              "      <td>0.0</td>\n",
              "    </tr>\n",
              "    <tr>\n",
              "      <th>4</th>\n",
              "      <td>fraksi ejeksi</td>\n",
              "      <td>14.0</td>\n",
              "    </tr>\n",
              "    <tr>\n",
              "      <th>5</th>\n",
              "      <td>tekanan darah tinggi</td>\n",
              "      <td>0.0</td>\n",
              "    </tr>\n",
              "    <tr>\n",
              "      <th>6</th>\n",
              "      <td>platelets</td>\n",
              "      <td>25100.0</td>\n",
              "    </tr>\n",
              "    <tr>\n",
              "      <th>7</th>\n",
              "      <td>serum creatinine</td>\n",
              "      <td>0.5</td>\n",
              "    </tr>\n",
              "    <tr>\n",
              "      <th>8</th>\n",
              "      <td>sodium kreatin</td>\n",
              "      <td>113.0</td>\n",
              "    </tr>\n",
              "    <tr>\n",
              "      <th>9</th>\n",
              "      <td>jenis kelamin</td>\n",
              "      <td>0.0</td>\n",
              "    </tr>\n",
              "    <tr>\n",
              "      <th>10</th>\n",
              "      <td>perokok</td>\n",
              "      <td>4.0</td>\n",
              "    </tr>\n",
              "    <tr>\n",
              "      <th>11</th>\n",
              "      <td>waktu</td>\n",
              "      <td>130.260870</td>\n",
              "    </tr>\n",
              "    <tr>\n",
              "      <th>12</th>\n",
              "      <td>KEMATIAN</td>\n",
              "      <td>0.0</td>\n",
              "    </tr>\n",
              "  </tbody>\n",
              "</table>\n",
              "</div>\n",
              "      <button class=\"colab-df-convert\" onclick=\"convertToInteractive('df-5118361e-6077-428b-af10-cb6ec060d3b2')\"\n",
              "              title=\"Convert this dataframe to an interactive table.\"\n",
              "              style=\"display:none;\">\n",
              "        \n",
              "  <svg xmlns=\"http://www.w3.org/2000/svg\" height=\"24px\"viewBox=\"0 0 24 24\"\n",
              "       width=\"24px\">\n",
              "    <path d=\"M0 0h24v24H0V0z\" fill=\"none\"/>\n",
              "    <path d=\"M18.56 5.44l.94 2.06.94-2.06 2.06-.94-2.06-.94-.94-2.06-.94 2.06-2.06.94zm-11 1L8.5 8.5l.94-2.06 2.06-.94-2.06-.94L8.5 2.5l-.94 2.06-2.06.94zm10 10l.94 2.06.94-2.06 2.06-.94-2.06-.94-.94-2.06-.94 2.06-2.06.94z\"/><path d=\"M17.41 7.96l-1.37-1.37c-.4-.4-.92-.59-1.43-.59-.52 0-1.04.2-1.43.59L10.3 9.45l-7.72 7.72c-.78.78-.78 2.05 0 2.83L4 21.41c.39.39.9.59 1.41.59.51 0 1.02-.2 1.41-.59l7.78-7.78 2.81-2.81c.8-.78.8-2.07 0-2.86zM5.41 20L4 18.59l7.72-7.72 1.47 1.35L5.41 20z\"/>\n",
              "  </svg>\n",
              "      </button>\n",
              "      \n",
              "  <style>\n",
              "    .colab-df-container {\n",
              "      display:flex;\n",
              "      flex-wrap:wrap;\n",
              "      gap: 12px;\n",
              "    }\n",
              "\n",
              "    .colab-df-convert {\n",
              "      background-color: #E8F0FE;\n",
              "      border: none;\n",
              "      border-radius: 50%;\n",
              "      cursor: pointer;\n",
              "      display: none;\n",
              "      fill: #1967D2;\n",
              "      height: 32px;\n",
              "      padding: 0 0 0 0;\n",
              "      width: 32px;\n",
              "    }\n",
              "\n",
              "    .colab-df-convert:hover {\n",
              "      background-color: #E2EBFA;\n",
              "      box-shadow: 0px 1px 2px rgba(60, 64, 67, 0.3), 0px 1px 3px 1px rgba(60, 64, 67, 0.15);\n",
              "      fill: #174EA6;\n",
              "    }\n",
              "\n",
              "    [theme=dark] .colab-df-convert {\n",
              "      background-color: #3B4455;\n",
              "      fill: #D2E3FC;\n",
              "    }\n",
              "\n",
              "    [theme=dark] .colab-df-convert:hover {\n",
              "      background-color: #434B5C;\n",
              "      box-shadow: 0px 1px 3px 1px rgba(0, 0, 0, 0.15);\n",
              "      filter: drop-shadow(0px 1px 2px rgba(0, 0, 0, 0.3));\n",
              "      fill: #FFFFFF;\n",
              "    }\n",
              "  </style>\n",
              "\n",
              "      <script>\n",
              "        const buttonEl =\n",
              "          document.querySelector('#df-5118361e-6077-428b-af10-cb6ec060d3b2 button.colab-df-convert');\n",
              "        buttonEl.style.display =\n",
              "          google.colab.kernel.accessAllowed ? 'block' : 'none';\n",
              "\n",
              "        async function convertToInteractive(key) {\n",
              "          const element = document.querySelector('#df-5118361e-6077-428b-af10-cb6ec060d3b2');\n",
              "          const dataTable =\n",
              "            await google.colab.kernel.invokeFunction('convertToInteractive',\n",
              "                                                     [key], {});\n",
              "          if (!dataTable) return;\n",
              "\n",
              "          const docLinkHtml = 'Like what you see? Visit the ' +\n",
              "            '<a target=\"_blank\" href=https://colab.research.google.com/notebooks/data_table.ipynb>data table notebook</a>'\n",
              "            + ' to learn more about interactive tables.';\n",
              "          element.innerHTML = '';\n",
              "          dataTable['output_type'] = 'display_data';\n",
              "          await google.colab.output.renderOutput(dataTable, element);\n",
              "          const docLink = document.createElement('div');\n",
              "          docLink.innerHTML = docLinkHtml;\n",
              "          element.appendChild(docLink);\n",
              "        }\n",
              "      </script>\n",
              "    </div>\n",
              "  </div>\n",
              "  "
            ]
          },
          "metadata": {},
          "execution_count": 26
        }
      ],
      "source": [
        "minimum = pd.DataFrame([{'data':'umur', 'nilai minimum':'40.0'},\n",
        "                     {'data':'anemia', 'nilai minimum':'0.0'},\n",
        "                     {'data':'kreatin fosfokinase', 'nilai minimum':'23.0'},\n",
        "                     {'data':'diabetes', 'nilai minimum':'0.0'},\n",
        "                     {'data':'fraksi ejeksi', 'nilai minimum':'14.0'},\n",
        "                     {'data':'tekanan darah tinggi', 'nilai minimum':'0.0'},\n",
        "                     {'data':'platelets', 'nilai minimum':'25100.0'},\n",
        "                     {'data':'serum creatinine', 'nilai minimum':' 0.5'},\n",
        "                     {'data':'sodium kreatin ', 'nilai minimum':'113.0'},\n",
        "                     {'data':'jenis kelamin', 'nilai minimum':'0.0'},\n",
        "                     {'data':'perokok', 'nilai minimum':'4.0'},\n",
        "                     {'data':'waktu', 'nilai minimum':' 130.260870'},\n",
        "                     {'data':'KEMATIAN ', 'nilai minimum':'0.0'}])\n",
        "minimum"
      ]
    },
    {
      "cell_type": "markdown",
      "id": "a3b1998e",
      "metadata": {
        "id": "a3b1998e"
      },
      "source": [
        "### Maksimum\n",
        "melihat umur dan jenis kelamin yang paling tinggi yang mengalami penyakit kardivoskular atau gagal jantung"
      ]
    },
    {
      "cell_type": "code",
      "execution_count": 27,
      "id": "464c22db",
      "metadata": {
        "id": "464c22db",
        "outputId": "6db34f94-df69-4a65-8876-e59d80bacf2b",
        "colab": {
          "base_uri": "https://localhost:8080/"
        }
      },
      "outputs": [
        {
          "output_type": "execute_result",
          "data": {
            "text/plain": [
              "umur                        95.0\n",
              "anemia                       1.0\n",
              "kreatin_fosfokinase       7861.0\n",
              "diabetes                     1.0\n",
              "fraksi_ejeksi               80.0\n",
              "tekanan_darah_tinggi         1.0\n",
              "platelets               850000.0\n",
              "serum_creatinine             9.4\n",
              "sodium_kreatin             148.0\n",
              "jenis_kelamin                1.0\n",
              "perokok                      1.0\n",
              "waktu                      285.0\n",
              "KEMATIAN                     1.0\n",
              "dtype: float64"
            ]
          },
          "metadata": {},
          "execution_count": 27
        }
      ],
      "source": [
        "maksimum = df.max()\n",
        "maksimum"
      ]
    },
    {
      "cell_type": "code",
      "execution_count": 28,
      "id": "d9ef178b",
      "metadata": {
        "id": "d9ef178b",
        "outputId": "b74e586a-2e18-401d-c5b7-ef77a17aaf5b",
        "colab": {
          "base_uri": "https://localhost:8080/",
          "height": 457
        }
      },
      "outputs": [
        {
          "output_type": "execute_result",
          "data": {
            "text/plain": [
              "                    data nilai maksimum\n",
              "0                   umur           95.0\n",
              "1                 anemia            1.0\n",
              "2    kreatin fosfokinase         7861.0\n",
              "3               diabetes            1.0\n",
              "4          fraksi ejeksi           80.0\n",
              "5   tekanan darah tinggi            1.0\n",
              "6              platelets     850000.0.0\n",
              "7       serum creatinine            9.4\n",
              "8        sodium kreatin           148.0\n",
              "9          jenis kelamin            1.0\n",
              "10               perokok            1.0\n",
              "11                 waktu          285.0\n",
              "12             KEMATIAN             1.0"
            ],
            "text/html": [
              "\n",
              "  <div id=\"df-0c2fbdf5-7941-4e33-a0dd-c2e138d756f3\">\n",
              "    <div class=\"colab-df-container\">\n",
              "      <div>\n",
              "<style scoped>\n",
              "    .dataframe tbody tr th:only-of-type {\n",
              "        vertical-align: middle;\n",
              "    }\n",
              "\n",
              "    .dataframe tbody tr th {\n",
              "        vertical-align: top;\n",
              "    }\n",
              "\n",
              "    .dataframe thead th {\n",
              "        text-align: right;\n",
              "    }\n",
              "</style>\n",
              "<table border=\"1\" class=\"dataframe\">\n",
              "  <thead>\n",
              "    <tr style=\"text-align: right;\">\n",
              "      <th></th>\n",
              "      <th>data</th>\n",
              "      <th>nilai maksimum</th>\n",
              "    </tr>\n",
              "  </thead>\n",
              "  <tbody>\n",
              "    <tr>\n",
              "      <th>0</th>\n",
              "      <td>umur</td>\n",
              "      <td>95.0</td>\n",
              "    </tr>\n",
              "    <tr>\n",
              "      <th>1</th>\n",
              "      <td>anemia</td>\n",
              "      <td>1.0</td>\n",
              "    </tr>\n",
              "    <tr>\n",
              "      <th>2</th>\n",
              "      <td>kreatin fosfokinase</td>\n",
              "      <td>7861.0</td>\n",
              "    </tr>\n",
              "    <tr>\n",
              "      <th>3</th>\n",
              "      <td>diabetes</td>\n",
              "      <td>1.0</td>\n",
              "    </tr>\n",
              "    <tr>\n",
              "      <th>4</th>\n",
              "      <td>fraksi ejeksi</td>\n",
              "      <td>80.0</td>\n",
              "    </tr>\n",
              "    <tr>\n",
              "      <th>5</th>\n",
              "      <td>tekanan darah tinggi</td>\n",
              "      <td>1.0</td>\n",
              "    </tr>\n",
              "    <tr>\n",
              "      <th>6</th>\n",
              "      <td>platelets</td>\n",
              "      <td>850000.0.0</td>\n",
              "    </tr>\n",
              "    <tr>\n",
              "      <th>7</th>\n",
              "      <td>serum creatinine</td>\n",
              "      <td>9.4</td>\n",
              "    </tr>\n",
              "    <tr>\n",
              "      <th>8</th>\n",
              "      <td>sodium kreatin</td>\n",
              "      <td>148.0</td>\n",
              "    </tr>\n",
              "    <tr>\n",
              "      <th>9</th>\n",
              "      <td>jenis kelamin</td>\n",
              "      <td>1.0</td>\n",
              "    </tr>\n",
              "    <tr>\n",
              "      <th>10</th>\n",
              "      <td>perokok</td>\n",
              "      <td>1.0</td>\n",
              "    </tr>\n",
              "    <tr>\n",
              "      <th>11</th>\n",
              "      <td>waktu</td>\n",
              "      <td>285.0</td>\n",
              "    </tr>\n",
              "    <tr>\n",
              "      <th>12</th>\n",
              "      <td>KEMATIAN</td>\n",
              "      <td>1.0</td>\n",
              "    </tr>\n",
              "  </tbody>\n",
              "</table>\n",
              "</div>\n",
              "      <button class=\"colab-df-convert\" onclick=\"convertToInteractive('df-0c2fbdf5-7941-4e33-a0dd-c2e138d756f3')\"\n",
              "              title=\"Convert this dataframe to an interactive table.\"\n",
              "              style=\"display:none;\">\n",
              "        \n",
              "  <svg xmlns=\"http://www.w3.org/2000/svg\" height=\"24px\"viewBox=\"0 0 24 24\"\n",
              "       width=\"24px\">\n",
              "    <path d=\"M0 0h24v24H0V0z\" fill=\"none\"/>\n",
              "    <path d=\"M18.56 5.44l.94 2.06.94-2.06 2.06-.94-2.06-.94-.94-2.06-.94 2.06-2.06.94zm-11 1L8.5 8.5l.94-2.06 2.06-.94-2.06-.94L8.5 2.5l-.94 2.06-2.06.94zm10 10l.94 2.06.94-2.06 2.06-.94-2.06-.94-.94-2.06-.94 2.06-2.06.94z\"/><path d=\"M17.41 7.96l-1.37-1.37c-.4-.4-.92-.59-1.43-.59-.52 0-1.04.2-1.43.59L10.3 9.45l-7.72 7.72c-.78.78-.78 2.05 0 2.83L4 21.41c.39.39.9.59 1.41.59.51 0 1.02-.2 1.41-.59l7.78-7.78 2.81-2.81c.8-.78.8-2.07 0-2.86zM5.41 20L4 18.59l7.72-7.72 1.47 1.35L5.41 20z\"/>\n",
              "  </svg>\n",
              "      </button>\n",
              "      \n",
              "  <style>\n",
              "    .colab-df-container {\n",
              "      display:flex;\n",
              "      flex-wrap:wrap;\n",
              "      gap: 12px;\n",
              "    }\n",
              "\n",
              "    .colab-df-convert {\n",
              "      background-color: #E8F0FE;\n",
              "      border: none;\n",
              "      border-radius: 50%;\n",
              "      cursor: pointer;\n",
              "      display: none;\n",
              "      fill: #1967D2;\n",
              "      height: 32px;\n",
              "      padding: 0 0 0 0;\n",
              "      width: 32px;\n",
              "    }\n",
              "\n",
              "    .colab-df-convert:hover {\n",
              "      background-color: #E2EBFA;\n",
              "      box-shadow: 0px 1px 2px rgba(60, 64, 67, 0.3), 0px 1px 3px 1px rgba(60, 64, 67, 0.15);\n",
              "      fill: #174EA6;\n",
              "    }\n",
              "\n",
              "    [theme=dark] .colab-df-convert {\n",
              "      background-color: #3B4455;\n",
              "      fill: #D2E3FC;\n",
              "    }\n",
              "\n",
              "    [theme=dark] .colab-df-convert:hover {\n",
              "      background-color: #434B5C;\n",
              "      box-shadow: 0px 1px 3px 1px rgba(0, 0, 0, 0.15);\n",
              "      filter: drop-shadow(0px 1px 2px rgba(0, 0, 0, 0.3));\n",
              "      fill: #FFFFFF;\n",
              "    }\n",
              "  </style>\n",
              "\n",
              "      <script>\n",
              "        const buttonEl =\n",
              "          document.querySelector('#df-0c2fbdf5-7941-4e33-a0dd-c2e138d756f3 button.colab-df-convert');\n",
              "        buttonEl.style.display =\n",
              "          google.colab.kernel.accessAllowed ? 'block' : 'none';\n",
              "\n",
              "        async function convertToInteractive(key) {\n",
              "          const element = document.querySelector('#df-0c2fbdf5-7941-4e33-a0dd-c2e138d756f3');\n",
              "          const dataTable =\n",
              "            await google.colab.kernel.invokeFunction('convertToInteractive',\n",
              "                                                     [key], {});\n",
              "          if (!dataTable) return;\n",
              "\n",
              "          const docLinkHtml = 'Like what you see? Visit the ' +\n",
              "            '<a target=\"_blank\" href=https://colab.research.google.com/notebooks/data_table.ipynb>data table notebook</a>'\n",
              "            + ' to learn more about interactive tables.';\n",
              "          element.innerHTML = '';\n",
              "          dataTable['output_type'] = 'display_data';\n",
              "          await google.colab.output.renderOutput(dataTable, element);\n",
              "          const docLink = document.createElement('div');\n",
              "          docLink.innerHTML = docLinkHtml;\n",
              "          element.appendChild(docLink);\n",
              "        }\n",
              "      </script>\n",
              "    </div>\n",
              "  </div>\n",
              "  "
            ]
          },
          "metadata": {},
          "execution_count": 28
        }
      ],
      "source": [
        "minimum = pd.DataFrame([{'data':'umur', 'nilai maksimum':'95.0'},\n",
        "                     {'data':'anemia', 'nilai maksimum':'1.0'},\n",
        "                     {'data':'kreatin fosfokinase', 'nilai maksimum':'7861.0'},\n",
        "                     {'data':'diabetes', 'nilai maksimum':'1.0'},\n",
        "                     {'data':'fraksi ejeksi', 'nilai maksimum':'80.0'},\n",
        "                     {'data':'tekanan darah tinggi', 'nilai maksimum':'1.0'},\n",
        "                     {'data':'platelets', 'nilai maksimum':'850000.0.0'},\n",
        "                     {'data':'serum creatinine', 'nilai maksimum':' 9.4'},\n",
        "                     {'data':'sodium kreatin ', 'nilai maksimum':'148.0'},\n",
        "                     {'data':'jenis kelamin', 'nilai maksimum':'1.0'},\n",
        "                     {'data':'perokok', 'nilai maksimum':'1.0'},\n",
        "                     {'data':'waktu', 'nilai maksimum':' 285.0'},\n",
        "                     {'data':'KEMATIAN ', 'nilai maksimum':'1.0'}])\n",
        "minimum"
      ]
    },
    {
      "cell_type": "markdown",
      "id": "a9822ecb",
      "metadata": {
        "id": "a9822ecb"
      },
      "source": [
        "Pada informasi di atas di peroleh informasi bahwa :\n",
        "- terdapat 13 kolom yang telah kita ubah namanya\n",
        "- rata - rata umur pasien  yang mengalami Penyakit kardiovaskular (CVDs) atau gagal jantung di umur 60 tahun\n",
        "- umur pasien yang paling rendah yang mengalami penyakit kardivoskular atau gagal jantung ialah di umur 40 tahun\n",
        "- umur pasien yang paling tinggi yang mengalami penyakit kardivoskular atau gagal jantung ialah di umur 95 tahun\n",
        "- kita asumsikan bahwa nilai 0 ialah wanita, dan nilai 1 itu pria, jadi rata rata yang paling terdampak pada penyakit kardiovasular berdasarkan informasi dari dataset ialah seorang pasien wanita\n",
        "- kita asumsikan bahwa nilai 0 ialah wanita, dan nilai 1 itu pria, jadi yang paling rendah terkena penyakit kardivoskular ialah seorang pasien wanita\n",
        "- kita asumsikan bahwa nilai 0 ialah wanita, dan nilai 1 itu pria, jadi yang paling tinggi terkena penyakit kardivoskular ialah seorang pasien pria, meskipun wanita menjadi rata rata yang terkena penyakit kardivoskular, yang paling parah terkena penyakit ini ialah pasien pria"
      ]
    },
    {
      "cell_type": "markdown",
      "id": "90da6b71",
      "metadata": {
        "id": "90da6b71"
      },
      "source": [
        "### Visualisasi Data\n",
        "melakukan visualisasi data pada data yang ada"
      ]
    },
    {
      "cell_type": "markdown",
      "id": "113b61e8",
      "metadata": {
        "id": "113b61e8"
      },
      "source": [
        "### Barplot\n",
        "visualisasi untuk membandingkan penyakit apa saja yang menyebabkan penyakit kardiovaskular (CVDs) jantung, yang dapat menimbulkan kematian pada pasien "
      ]
    },
    {
      "cell_type": "code",
      "execution_count": 29,
      "id": "f70a5fe9",
      "metadata": {
        "id": "f70a5fe9",
        "outputId": "096bb0ff-a314-4631-9a52-dd2b7fa3c523",
        "colab": {
          "base_uri": "https://localhost:8080/",
          "height": 421
        }
      },
      "outputs": [
        {
          "output_type": "execute_result",
          "data": {
            "text/plain": [
              "([<matplotlib.axis.XTick at 0x7f481bc5b690>,\n",
              "  <matplotlib.axis.XTick at 0x7f481adb7ad0>],\n",
              " [Text(0, 0, 'Tidak mengalami kematian'), Text(1, 0, 'Mengalami kematian')])"
            ]
          },
          "metadata": {},
          "execution_count": 29
        },
        {
          "output_type": "display_data",
          "data": {
            "text/plain": [
              "<Figure size 360x360 with 1 Axes>"
            ],
            "image/png": "[encoded data removed]"
          },
          "metadata": {
            "needs_background": "light"
          }
        }
      ],
      "source": [
        "h1 = df[['perokok', 'platelets', 'diabetes', 'KEMATIAN', 'umur']]\n",
        "sns.catplot(data=h1, x='KEMATIAN', y='platelets', kind='bar')\n",
        "plt.xticks(ticks=(0,1),labels=['Tidak mengalami kematian','Mengalami kematian'])"
      ]
    },
    {
      "cell_type": "code",
      "execution_count": 30,
      "id": "5dc01736",
      "metadata": {
        "id": "5dc01736",
        "outputId": "0cf5c19c-9e03-42f1-9dc3-192c8bd4bc36",
        "colab": {
          "base_uri": "https://localhost:8080/",
          "height": 421
        }
      },
      "outputs": [
        {
          "output_type": "execute_result",
          "data": {
            "text/plain": [
              "([<matplotlib.axis.XTick at 0x7f481adab250>,\n",
              "  <matplotlib.axis.XTick at 0x7f48180568d0>],\n",
              " [Text(0, 0, 'Tidak mengalami kematian'), Text(1, 0, 'Mengalami kematian')])"
            ]
          },
          "metadata": {},
          "execution_count": 30
        },
        {
          "output_type": "display_data",
          "data": {
            "text/plain": [
              "<Figure size 360x360 with 1 Axes>"
            ],
            "image/png": "[encoded data removed]"
          },
          "metadata": {
            "needs_background": "light"
          }
        }
      ],
      "source": [
        "h2 = df[['perokok', 'KEMATIAN']]\n",
        "sns.catplot(data=h1, x='KEMATIAN', y='perokok', kind='bar')\n",
        "plt.xticks(ticks=(0,1),labels=['Tidak mengalami kematian','Mengalami kematian'])"
      ]
    },
    {
      "cell_type": "code",
      "execution_count": 31,
      "id": "636cd33c",
      "metadata": {
        "id": "636cd33c",
        "outputId": "3ddc4a49-6e55-4920-8506-7eaa27b0dbe4",
        "colab": {
          "base_uri": "https://localhost:8080/",
          "height": 421
        }
      },
      "outputs": [
        {
          "output_type": "execute_result",
          "data": {
            "text/plain": [
              "([<matplotlib.axis.XTick at 0x7f48180528d0>,\n",
              "  <matplotlib.axis.XTick at 0x7f4818052890>],\n",
              " [Text(0, 0, 'Tidak mengalami kematian'), Text(1, 0, 'Mengalami kematian')])"
            ]
          },
          "metadata": {},
          "execution_count": 31
        },
        {
          "output_type": "display_data",
          "data": {
            "text/plain": [
              "<Figure size 360x360 with 1 Axes>"
            ],
            "image/png": "[encoded data removed]"
          },
          "metadata": {
            "needs_background": "light"
          }
        }
      ],
      "source": [
        "h3 = df[['anemia', 'KEMATIAN']]\n",
        "sns.catplot(data=h3, x='KEMATIAN', y='anemia', kind='bar')\n",
        "plt.xticks(ticks=(0,1),labels=['Tidak mengalami kematian','Mengalami kematian'])"
      ]
    },
    {
      "cell_type": "code",
      "execution_count": 32,
      "id": "d67c56bc",
      "metadata": {
        "id": "d67c56bc",
        "outputId": "b95d04ed-f7f3-4aba-edcf-30cbfa28088c",
        "colab": {
          "base_uri": "https://localhost:8080/",
          "height": 421
        }
      },
      "outputs": [
        {
          "output_type": "execute_result",
          "data": {
            "text/plain": [
              "([<matplotlib.axis.XTick at 0x7f4817fc2850>,\n",
              "  <matplotlib.axis.XTick at 0x7f4817fc2810>],\n",
              " [Text(0, 0, 'Tidak mengalami kematian'), Text(1, 0, 'Mengalami kematian')])"
            ]
          },
          "metadata": {},
          "execution_count": 32
        },
        {
          "output_type": "display_data",
          "data": {
            "text/plain": [
              "<Figure size 360x360 with 1 Axes>"
            ],
            "image/png": "[encoded data removed]"
          },
          "metadata": {
            "needs_background": "light"
          }
        }
      ],
      "source": [
        "h4 = df[['diabetes', 'KEMATIAN']]\n",
        "sns.catplot(data=h4, x='KEMATIAN', y='diabetes', kind='bar')\n",
        "plt.xticks(ticks=(0,1),labels=['Tidak mengalami kematian','Mengalami kematian'])"
      ]
    },
    {
      "cell_type": "code",
      "execution_count": 33,
      "id": "9697efe2",
      "metadata": {
        "id": "9697efe2",
        "outputId": "cbbd80aa-95b8-4c18-8a6e-55e5120b9ec0",
        "colab": {
          "base_uri": "https://localhost:8080/",
          "height": 421
        }
      },
      "outputs": [
        {
          "output_type": "execute_result",
          "data": {
            "text/plain": [
              "([<matplotlib.axis.XTick at 0x7f48180264d0>,\n",
              "  <matplotlib.axis.XTick at 0x7f4817f33050>],\n",
              " [Text(0, 0, 'Tidak mengalami kematian'), Text(1, 0, 'Mengalami kematian')])"
            ]
          },
          "metadata": {},
          "execution_count": 33
        },
        {
          "output_type": "display_data",
          "data": {
            "text/plain": [
              "<Figure size 360x360 with 1 Axes>"
            ],
            "image/png": "[encoded data removed]"
          },
          "metadata": {
            "needs_background": "light"
          }
        }
      ],
      "source": [
        "h5 = df[['serum_creatinine', 'KEMATIAN']]\n",
        "sns.catplot(data=h5, x='KEMATIAN', y='serum_creatinine', kind='bar')\n",
        "plt.xticks(ticks=(0,1),labels=['Tidak mengalami kematian','Mengalami kematian'])"
      ]
    },
    {
      "cell_type": "code",
      "execution_count": 34,
      "id": "eb4ad699",
      "metadata": {
        "id": "eb4ad699",
        "outputId": "b4a8b679-d543-441a-a798-e3dd9bcdd6b9",
        "colab": {
          "base_uri": "https://localhost:8080/",
          "height": 421
        }
      },
      "outputs": [
        {
          "output_type": "execute_result",
          "data": {
            "text/plain": [
              "([<matplotlib.axis.XTick at 0x7f4817fb7650>,\n",
              "  <matplotlib.axis.XTick at 0x7f4817e9e210>],\n",
              " [Text(0, 0, 'Tidak mengalami kematian'), Text(1, 0, 'Mengalami kematian')])"
            ]
          },
          "metadata": {},
          "execution_count": 34
        },
        {
          "output_type": "display_data",
          "data": {
            "text/plain": [
              "<Figure size 360x360 with 1 Axes>"
            ],
            "image/png": "[encoded data removed]"
          },
          "metadata": {
            "needs_background": "light"
          }
        }
      ],
      "source": [
        "h6 = df[['sodium_kreatin', 'KEMATIAN']]\n",
        "sns.catplot(data=h6, x='KEMATIAN', y='sodium_kreatin', kind='bar')\n",
        "plt.xticks(ticks=(0,1),labels=['Tidak mengalami kematian','Mengalami kematian'])"
      ]
    },
    {
      "cell_type": "code",
      "execution_count": 35,
      "id": "c4ecbbe9",
      "metadata": {
        "id": "c4ecbbe9",
        "outputId": "148da5d6-0e32-4b88-c883-69869253b9d5",
        "colab": {
          "base_uri": "https://localhost:8080/",
          "height": 421
        }
      },
      "outputs": [
        {
          "output_type": "execute_result",
          "data": {
            "text/plain": [
              "([<matplotlib.axis.XTick at 0x7f4817e13910>,\n",
              "  <matplotlib.axis.XTick at 0x7f4817e138d0>],\n",
              " [Text(0, 0, 'Tidak mengalami kematian'), Text(1, 0, 'Mengalami kematian')])"
            ]
          },
          "metadata": {},
          "execution_count": 35
        },
        {
          "output_type": "display_data",
          "data": {
            "text/plain": [
              "<Figure size 360x360 with 1 Axes>"
            ],
            "image/png": "[encoded data removed]"
          },
          "metadata": {
            "needs_background": "light"
          }
        }
      ],
      "source": [
        "h7 = df[['kreatin_fosfokinase', 'KEMATIAN']]\n",
        "sns.catplot(data=h7, x='KEMATIAN', y='kreatin_fosfokinase', kind='bar')\n",
        "plt.xticks(ticks=(0,1),labels=['Tidak mengalami kematian','Mengalami kematian'])"
      ]
    },
    {
      "cell_type": "code",
      "execution_count": 36,
      "id": "aece3919",
      "metadata": {
        "id": "aece3919",
        "outputId": "be72df8d-3381-4b1e-bbcf-ed822fee7ac0",
        "colab": {
          "base_uri": "https://localhost:8080/",
          "height": 421
        }
      },
      "outputs": [
        {
          "output_type": "execute_result",
          "data": {
            "text/plain": [
              "([<matplotlib.axis.XTick at 0x7f4817f22910>,\n",
              "  <matplotlib.axis.XTick at 0x7f4817e090d0>],\n",
              " [Text(0, 0, 'tidak mengalami kematian'), Text(1, 0, 'mengalami kematian')])"
            ]
          },
          "metadata": {},
          "execution_count": 36
        },
        {
          "output_type": "display_data",
          "data": {
            "text/plain": [
              "<Figure size 360x360 with 1 Axes>"
            ],
            "image/png": "[encoded data removed]"
          },
          "metadata": {
            "needs_background": "light"
          }
        }
      ],
      "source": [
        "h8 = df[['tekanan_darah_tinggi', 'KEMATIAN']]\n",
        "sns.catplot(data=h8, x='KEMATIAN', y='tekanan_darah_tinggi', kind='bar')\n",
        "plt.xticks(ticks=(0,1), labels=['tidak mengalami kematian', 'mengalami kematian'])"
      ]
    },
    {
      "cell_type": "code",
      "execution_count": 37,
      "id": "4acfaf2e",
      "metadata": {
        "id": "4acfaf2e",
        "outputId": "6bb8f811-5d41-4067-9e22-aec28e0bff94",
        "colab": {
          "base_uri": "https://localhost:8080/",
          "height": 473
        }
      },
      "outputs": [
        {
          "output_type": "stream",
          "name": "stdout",
          "text": [
            "0    203\n",
            "1     96\n",
            "Name: KEMATIAN, dtype: int64\n"
          ]
        },
        {
          "output_type": "execute_result",
          "data": {
            "text/plain": [
              "([<matplotlib.axis.XTick at 0x7f4817d77710>,\n",
              "  <matplotlib.axis.XTick at 0x7f4817d776d0>],\n",
              " [Text(0, 0, 'Tidak Mengalami kematian'), Text(1, 0, 'mengalami kematian')])"
            ]
          },
          "metadata": {},
          "execution_count": 37
        },
        {
          "output_type": "display_data",
          "data": {
            "text/plain": [
              "<Figure size 360x360 with 1 Axes>"
            ],
            "image/png": "[encoded data removed]"
          },
          "metadata": {
            "needs_background": "light"
          }
        }
      ],
      "source": [
        "print(df['KEMATIAN'].value_counts())\n",
        "sns.catplot(x = 'KEMATIAN', kind = 'count', data = df)\n",
        "plt.xticks(ticks=(0,1),labels=['Tidak Mengalami kematian','mengalami kematian'])"
      ]
    },
    {
      "cell_type": "markdown",
      "id": "015c83c1",
      "metadata": {
        "id": "015c83c1"
      },
      "source": [
        "### Penjelasan & kesimpulan \n",
        "dikeathui bahwa banyak penyakit komplikasi yang dapat menyebabkan  penyakit karidovaskular(CVDs) pada pasien.banyaknya penyakit komplikasi yang dapat menyebabkan penyakit karidovaskular (CVDs) yang telah di visualisasi, penyakit itu ialah  : \n",
        "\n",
        "#### penyakit platelets:\n",
        "bisa di lihat bahwa perbandingan antara tidak mengalami kematian dan mengalami kematian pada penyakit platelets  ialah, lebih banyak pasien tidak mengalami kematian, meskipun jumlah pasien mengalami kematian juga tidak sedikit\n",
        "  \n",
        "#### penyakit perokok :\n",
        "bisa di lihat bahwa perbandingan antara tidak mengalami kematian dan mengalami kematian pada penyakit perokok   ialah, jumlahnya bisa di bilang hampir sama, tetapi jika di hitung, yang tidak mengalami kematian itu lebih banyak, tetapi pasien harus menjaga kesehatan juga \n",
        "\n",
        "#### penyakit anemia :\n",
        "bisa di lihat bahwa perbandingan antara tidak mengalami kematian dan mengalami kematian pada penyakit anemia ialah, jumlah kematian pada pasien akibat penyakit ini lebih tinggi, penyakit ini juga akan berdampak pada penyakit karidovaskular. \n",
        "\n",
        "#### penyakit diabetes :\n",
        "bisa di lihat bahwa perbandingan antara tidak mengalami kematian dan mengalami kematian pada penyakit diabetes ialah, jumlah keduanya hampir seimbang, tetapi jika di perhatikan lagi, lebih banyak pasien yang mengalami kematian atas penyakit ini \n",
        "\n",
        "#### penyakit serum creatinine :\n",
        "bisa di lihat bahwa perbandingan antara tidak mengalami kematian dan mengalami kematian pada penyakit serum creatinine ialah, pasien lebih banyak mengalami kematian atas penyakit ini, dan nantinya akan berdampak pada penyakit karidovaskular\n",
        "\n",
        "#### penyakit sodium kreatin :\n",
        "bisa di lihat bahwa perbandingan antara tidak mengalami kematian dan mengalami kematian pada penyakit sodium kreatin  ialah, jumlahnya hampir sama, banyak pasien juga yang terkena penyakit sodium kreatin ini, tetapi jika di perhatikan kembali, penyakit ini lebih banyak tidak mengalami kematian, tetapi pasien harus menjaga kesehatan juga \n",
        "\n",
        "#### penyakit kreatin fosfokinase :\n",
        "bisa di lihat bahwa perbandingan antara tidak mengalami kematian dan mengalami kematian pada penyakit kreatin  fosfokinase ialah, pasien lebih banyak mengalami kematian pada penyakit ini, dan akan menimbulkan penyakit karidovaskular \n",
        "\n",
        "#### penyakit tekanan_darah_tinggi :\n",
        "bisa di lihat bahwa perbandingan antara tidak mengalami kematian dan mengalami kematian pada penyakit tekanan darah tinggi  ialah, pasien lebih banyak mengalami kematian pada penyakit ini dan akan menimbulkan penyakit baru contohnya penyakit yang berkomplikasi pada penyakit ini ialah penyakit karidovaskular atau penyakit gagal jantung \n",
        "\n",
        "dari penjelasan di atas bisa di tarik kesimpulan bahwa :\n",
        "- jika di lihat informasi berdasarkan visualisasi pada dataset, penyakit  karidovaskular(CVDs) ini pasiennya lebih banyak tidak mengalami kematian, meskipun begitu ada beberapa penyakit lain yang dapat menimbulkan penyakit karidovaskular ini sehingga dapat membahayakan pasien hingga pasien bisa mengalami kematian\n",
        "\n",
        "- terdapat beberapa penyakit yang dapat mengakibatkan kematian pada pasien yaitu penyakit tekanan darah tinggi, kreatin fofokinase, serum kreatin. maka pasien harus menjaga kesehatannya agar bisa hidup sehat kembali"
      ]
    },
    {
      "cell_type": "markdown",
      "id": "b57ed02f",
      "metadata": {
        "id": "b57ed02f"
      },
      "source": [
        "### BoxPlot\n"
      ]
    },
    {
      "cell_type": "markdown",
      "id": "b91ece7b",
      "metadata": {
        "id": "b91ece7b"
      },
      "source": [
        "sama seperti barplot, Melakukan visualisasi Boxplot untuk melihat distribusi data, outlier data dari setiap label dan penyakit pada pasien"
      ]
    },
    {
      "cell_type": "code",
      "execution_count": 38,
      "id": "a16d82e2",
      "metadata": {
        "scrolled": false,
        "id": "a16d82e2",
        "outputId": "4cfa00b1-4d9b-4239-d671-e2a6daa9d0c6",
        "colab": {
          "base_uri": "https://localhost:8080/",
          "height": 1000
        }
      },
      "outputs": [
        {
          "output_type": "display_data",
          "data": {
            "text/plain": [
              "<Figure size 360x360 with 1 Axes>"
            ],
            "image/png": "[encoded data removed]"
          },
          "metadata": {
            "needs_background": "light"
          }
        },
        {
          "output_type": "display_data",
          "data": {
            "text/plain": [
              "<Figure size 360x360 with 1 Axes>"
            ],
            "image/png": "[encoded data removed]"
          },
          "metadata": {
            "needs_background": "light"
          }
        },
        {
          "output_type": "display_data",
          "data": {
            "text/plain": [
              "<Figure size 360x360 with 1 Axes>"
            ],
            "image/png": "[encoded data removed]"
          },
          "metadata": {
            "needs_background": "light"
          }
        },
        {
          "output_type": "display_data",
          "data": {
            "text/plain": [
              "<Figure size 360x360 with 1 Axes>"
            ],
            "image/png": "[encoded data removed]"
          },
          "metadata": {
            "needs_background": "light"
          }
        },
        {
          "output_type": "display_data",
          "data": {
            "text/plain": [
              "<Figure size 360x360 with 1 Axes>"
            ],
            "image/png": "[encoded data removed]"
          },
          "metadata": {
            "needs_background": "light"
          }
        },
        {
          "output_type": "display_data",
          "data": {
            "text/plain": [
              "<Figure size 360x360 with 1 Axes>"
            ],
            "image/png": "[encoded data removed]"
          },
          "metadata": {
            "needs_background": "light"
          }
        },
        {
          "output_type": "display_data",
          "data": {
            "text/plain": [
              "<Figure size 360x360 with 1 Axes>"
            ],
            "image/png": "[encoded data removed]"
          },
          "metadata": {
            "needs_background": "light"
          }
        },
        {
          "output_type": "display_data",
          "data": {
            "text/plain": [
              "<Figure size 360x360 with 1 Axes>"
            ],
            "image/png": "[encoded data removed]"
          },
          "metadata": {
            "needs_background": "light"
          }
        },
        {
          "output_type": "display_data",
          "data": {
            "text/plain": [
              "<Figure size 360x360 with 1 Axes>"
            ],
            "image/png": "[encoded data removed]"
          },
          "metadata": {
            "needs_background": "light"
          }
        },
        {
          "output_type": "display_data",
          "data": {
            "text/plain": [
              "<Figure size 360x360 with 1 Axes>"
            ],
            "image/png": "[encoded data removed]"
          },
          "metadata": {
            "needs_background": "light"
          }
        },
        {
          "output_type": "display_data",
          "data": {
            "text/plain": [
              "<Figure size 360x360 with 1 Axes>"
            ],
            "image/png": "[encoded data removed]"
          },
          "metadata": {
            "needs_background": "light"
          }
        },
        {
          "output_type": "display_data",
          "data": {
            "text/plain": [
              "<Figure size 360x360 with 1 Axes>"
            ],
            "image/png": "[encoded data removed]"
          },
          "metadata": {
            "needs_background": "light"
          }
        },
        {
          "output_type": "display_data",
          "data": {
            "text/plain": [
              "<Figure size 360x360 with 1 Axes>"
            ],
            "image/png": "[encoded data removed]"
          },
          "metadata": {
            "needs_background": "light"
          }
        }
      ],
      "source": [
        "for feature in df:\n",
        "    plt.figure(figsize=(5,5))\n",
        "    sns.boxplot(df[feature])\n",
        "    plt.title(feature)"
      ]
    },
    {
      "cell_type": "markdown",
      "id": "ee3f5b05",
      "metadata": {
        "id": "ee3f5b05"
      },
      "source": [
        "Diperoleh bahwa masih terdapat atribut dengan nilai outlier yang banyak."
      ]
    },
    {
      "cell_type": "markdown",
      "id": "fd175d44",
      "metadata": {
        "scrolled": false,
        "id": "fd175d44"
      },
      "source": [
        "## F. Data Preprocessing\n",
        "Bagian ini berisi proses penyiapan data untuk proses pelatihan model,\n",
        "seperti pembagian data menjadi train-dev-test, transformasi data\n",
        "(normalisasi, encoding, dll.), dan proses-proses lain yang dibutuhkan."
      ]
    },
    {
      "cell_type": "markdown",
      "id": "2676f35b",
      "metadata": {
        "id": "2676f35b"
      },
      "source": [
        "1. pertama kita akan mendefinisikan x dan y, yang nanntinya di pakai saat pemodelan pada dataset"
      ]
    },
    {
      "cell_type": "code",
      "execution_count": 45,
      "id": "6fadab3c",
      "metadata": {
        "scrolled": false,
        "id": "6fadab3c",
        "outputId": "cc265098-14ee-445f-fbdc-8240e141ed59",
        "colab": {
          "base_uri": "https://localhost:8080/"
        }
      },
      "outputs": [
        {
          "output_type": "stream",
          "name": "stdout",
          "text": [
            "(299, 12)\n",
            "(299,)\n"
          ]
        }
      ],
      "source": [
        "X = df.drop(['KEMATIAN'], axis=1)\n",
        "y = df['KEMATIAN']\n",
        "print(X.shape)\n",
        "print(y.shape)"
      ]
    },
    {
      "cell_type": "markdown",
      "id": "57d0646d",
      "metadata": {
        "id": "57d0646d"
      },
      "source": [
        "2. selanjutnya Melakukan feature selection menggunakan library SequentialFeatureSelector dengan Metode Rergesi Linier"
      ]
    },
    {
      "cell_type": "code",
      "execution_count": 46,
      "id": "5d04411a",
      "metadata": {
        "scrolled": true,
        "id": "5d04411a",
        "outputId": "c80883ff-a81a-4990-9de0-7079a18f9ee3",
        "colab": {
          "base_uri": "https://localhost:8080/"
        }
      },
      "outputs": [
        {
          "output_type": "execute_result",
          "data": {
            "text/plain": [
              "ExtraTreesClassifier()"
            ]
          },
          "metadata": {},
          "execution_count": 46
        }
      ],
      "source": [
        "et=ExtraTreesClassifier()\n",
        "et.fit(X,y)"
      ]
    },
    {
      "cell_type": "markdown",
      "id": "5a1947f8",
      "metadata": {
        "id": "5a1947f8"
      },
      "source": [
        "3. selanjutnya melakukan training data dan testing data dengan proporsi 0.8 dan 0.2"
      ]
    },
    {
      "cell_type": "code",
      "execution_count": 47,
      "id": "24b9a445",
      "metadata": {
        "id": "24b9a445"
      },
      "outputs": [],
      "source": [
        "X_train, X_test, y_train, y_test = train_test_split(X, y, test_size=0.30, random_state=325)"
      ]
    },
    {
      "cell_type": "markdown",
      "id": "96a2d0be",
      "metadata": {
        "id": "96a2d0be"
      },
      "source": [
        "## G. Model Defining\n",
        "Metode pengujian pada training ini menggunakan metode naive bayes classifier, extra tree classifier, dan gradien boosting classifier. Alasan penggunaan metode ini yaitu tipe data prediksi yang berupa data kategorik, sehingga metode tersebut cocok digunakan.\n",
        "\n"
      ]
    },
    {
      "cell_type": "markdown",
      "id": "85e4f8cd",
      "metadata": {
        "id": "85e4f8cd"
      },
      "source": [
        "Model pertama yakni model random forest classifier  dengan n estimator 10, max depth 10, min samples split 2"
      ]
    },
    {
      "cell_type": "code",
      "execution_count": 48,
      "id": "d8d0ea5b",
      "metadata": {
        "id": "d8d0ea5b"
      },
      "outputs": [],
      "source": [
        "clf1 = RandomForestClassifier(n_estimators=10, max_depth=10,min_samples_split=2, random_state=0)"
      ]
    },
    {
      "cell_type": "markdown",
      "id": "05e8d939",
      "metadata": {
        "id": "05e8d939"
      },
      "source": [
        "Model kedua yakni model extra tree classifier dengan n estimator 10, max depth 5, min samples split 3"
      ]
    },
    {
      "cell_type": "code",
      "execution_count": 49,
      "id": "153dc6f7",
      "metadata": {
        "id": "153dc6f7"
      },
      "outputs": [],
      "source": [
        "clf2 = ExtraTreesClassifier(n_estimators=10, max_depth=5, min_samples_split=3, random_state=1)"
      ]
    },
    {
      "cell_type": "markdown",
      "id": "bcbff930",
      "metadata": {
        "id": "bcbff930"
      },
      "source": [
        "Model ketiga yakni model gradient boosting classifier dengan n estimator 100, learning rate 0.1, max depth 1"
      ]
    },
    {
      "cell_type": "code",
      "execution_count": 50,
      "id": "bdf31f16",
      "metadata": {
        "id": "bdf31f16"
      },
      "outputs": [],
      "source": [
        "clf3 = GradientBoostingClassifier(n_estimators=100, learning_rate=0.1,\n",
        "                                  max_depth=1, random_state=3)"
      ]
    },
    {
      "cell_type": "markdown",
      "id": "328190ef",
      "metadata": {
        "id": "328190ef"
      },
      "source": [
        "## H. Model Training\n",
        "pada bagian ini hanya berisi code untuk melatih model dan output yang dihasilkan."
      ]
    },
    {
      "cell_type": "code",
      "execution_count": 53,
      "id": "c0b48e76",
      "metadata": {
        "id": "c0b48e76"
      },
      "outputs": [],
      "source": [
        "model1 = clf1.fit(X_train, y_train)"
      ]
    },
    {
      "cell_type": "code",
      "execution_count": 54,
      "id": "dddc4829",
      "metadata": {
        "id": "dddc4829"
      },
      "outputs": [],
      "source": [
        "model2 = clf2.fit(X_train, y_train)"
      ]
    },
    {
      "cell_type": "code",
      "execution_count": 55,
      "id": "cbf60088",
      "metadata": {
        "id": "cbf60088"
      },
      "outputs": [],
      "source": [
        "model3 = clf3.fit(X_train, y_train)"
      ]
    },
    {
      "cell_type": "markdown",
      "id": "ca628a26",
      "metadata": {
        "id": "ca628a26"
      },
      "source": [
        "## I. Model Evaluation\n",
        "Pada bagian ini, dilakukan evaluasi model yang harus menunjukkan bagaimana performa model berdasarkan metrics yang dipilih."
      ]
    },
    {
      "cell_type": "markdown",
      "id": "2b47e49c",
      "metadata": {
        "id": "2b47e49c"
      },
      "source": [
        "### model 1 : Random Forest Classifier"
      ]
    },
    {
      "cell_type": "code",
      "execution_count": 56,
      "id": "27dbb2e2",
      "metadata": {
        "id": "27dbb2e2",
        "outputId": "4d2d51ef-b36b-450b-b608-0928435f80b8",
        "colab": {
          "base_uri": "https://localhost:8080/"
        }
      },
      "outputs": [
        {
          "output_type": "stream",
          "name": "stdout",
          "text": [
            "Test score: 0.7888888888888889\n",
            "Train score: 0.9952153110047847\n"
          ]
        }
      ],
      "source": [
        "y_pred1 = clf1.predict(X_test)\n",
        "print(\"Test score:\", clf1.score(X_test, y_test))\n",
        "print(\"Train score:\", clf1.score(X_train, y_train))"
      ]
    },
    {
      "cell_type": "code",
      "execution_count": 57,
      "id": "f2d95336",
      "metadata": {
        "id": "f2d95336",
        "outputId": "29bf1274-af95-44d2-b666-fb5179d0bab3",
        "colab": {
          "base_uri": "https://localhost:8080/",
          "height": 421
        }
      },
      "outputs": [
        {
          "output_type": "display_data",
          "data": {
            "text/plain": [
              "<Figure size 432x288 with 2 Axes>"
            ],
            "image/png": "[encoded data removed]"
          },
          "metadata": {
            "needs_background": "light"
          }
        },
        {
          "output_type": "stream",
          "name": "stdout",
          "text": [
            "              precision    recall  f1-score   support\n",
            "\n",
            "           0       0.80      0.92      0.86        62\n",
            "           1       0.74      0.50      0.60        28\n",
            "\n",
            "    accuracy                           0.79        90\n",
            "   macro avg       0.77      0.71      0.73        90\n",
            "weighted avg       0.78      0.79      0.78        90\n",
            "\n"
          ]
        }
      ],
      "source": [
        "cm1 = confusion_matrix(y_test, y_pred1)\n",
        "sns.heatmap(cm1, annot=True, fmt=\"d\", linewidths=.5, cmap = 'Reds')\n",
        "plt.show()\n",
        "print(classification_report(y_test, y_pred1))"
      ]
    },
    {
      "cell_type": "code",
      "execution_count": 58,
      "id": "008cfd78",
      "metadata": {
        "id": "008cfd78",
        "outputId": "ea30eb0e-330d-49a7-88df-cea48feac18e",
        "colab": {
          "base_uri": "https://localhost:8080/"
        }
      },
      "outputs": [
        {
          "output_type": "stream",
          "name": "stdout",
          "text": [
            "Ringkasan Evaluasi Model\n",
            "Akurasi : 0.7888888888888889\n",
            "Presisi : 0.7368421052631579\n",
            "F1 Score : 0.5957446808510638\n"
          ]
        }
      ],
      "source": [
        "print('Ringkasan Evaluasi Model')\n",
        "print('Akurasi :', accuracy_score(y_test, y_pred1))\n",
        "print('Presisi :', precision_score(y_test,y_pred1))\n",
        "print('F1 Score :', f1_score(y_test,y_pred1))"
      ]
    },
    {
      "cell_type": "markdown",
      "id": "d3d13bbf",
      "metadata": {
        "id": "d3d13bbf"
      },
      "source": [
        "### model 2 : Extra Tree Classifier"
      ]
    },
    {
      "cell_type": "code",
      "execution_count": 59,
      "id": "ac4df126",
      "metadata": {
        "id": "ac4df126",
        "outputId": "cd423c59-b919-4bf5-a63e-2d02bf0b6917",
        "colab": {
          "base_uri": "https://localhost:8080/"
        }
      },
      "outputs": [
        {
          "output_type": "stream",
          "name": "stdout",
          "text": [
            "Test score: 0.7111111111111111\n",
            "Train score: 0.8803827751196173\n"
          ]
        }
      ],
      "source": [
        "y_pred2 = clf2.predict(X_test)\n",
        "print(\"Test score:\", clf2.score(X_test, y_test))\n",
        "print(\"Train score:\", clf2.score(X_train, y_train))"
      ]
    },
    {
      "cell_type": "code",
      "execution_count": 60,
      "id": "dbcbec21",
      "metadata": {
        "id": "dbcbec21",
        "outputId": "f7a65ed0-16b7-4309-cd39-a70fb710fbff",
        "colab": {
          "base_uri": "https://localhost:8080/",
          "height": 421
        }
      },
      "outputs": [
        {
          "output_type": "display_data",
          "data": {
            "text/plain": [
              "<Figure size 432x288 with 2 Axes>"
            ],
            "image/png": "[encoded data removed]"
          },
          "metadata": {
            "needs_background": "light"
          }
        },
        {
          "output_type": "stream",
          "name": "stdout",
          "text": [
            "              precision    recall  f1-score   support\n",
            "\n",
            "           0       0.73      0.92      0.81        62\n",
            "           1       0.58      0.25      0.35        28\n",
            "\n",
            "    accuracy                           0.71        90\n",
            "   macro avg       0.66      0.58      0.58        90\n",
            "weighted avg       0.68      0.71      0.67        90\n",
            "\n"
          ]
        }
      ],
      "source": [
        "cm2 = confusion_matrix(y_test, y_pred2)\n",
        "sns.heatmap(cm2, annot=True, fmt=\"d\", linewidths=.5, cmap = 'Reds')\n",
        "plt.show()\n",
        "print(classification_report(y_test, y_pred2))"
      ]
    },
    {
      "cell_type": "code",
      "execution_count": 61,
      "id": "6ed86f6c",
      "metadata": {
        "id": "6ed86f6c",
        "outputId": "d60efed0-72b3-4d80-873c-631dac8001d3",
        "colab": {
          "base_uri": "https://localhost:8080/"
        }
      },
      "outputs": [
        {
          "output_type": "stream",
          "name": "stdout",
          "text": [
            "Ringkasan Evaluasi Model\n",
            "Akurasi : 0.7111111111111111\n",
            "Presisi : 0.5833333333333334\n",
            "F1 Score : 0.35000000000000003\n"
          ]
        }
      ],
      "source": [
        "print('Ringkasan Evaluasi Model')\n",
        "print('Akurasi :', accuracy_score(y_test, y_pred2))\n",
        "print('Presisi :', precision_score(y_test,y_pred2))\n",
        "print('F1 Score :', f1_score(y_test,y_pred2))"
      ]
    },
    {
      "cell_type": "markdown",
      "id": "ee3bea82",
      "metadata": {
        "id": "ee3bea82"
      },
      "source": [
        "### model 3 : Gradient Boosting Classifier"
      ]
    },
    {
      "cell_type": "code",
      "execution_count": 62,
      "id": "39ff91c9",
      "metadata": {
        "id": "39ff91c9",
        "outputId": "76fc0461-1d83-439b-cc08-1fca100eede5",
        "colab": {
          "base_uri": "https://localhost:8080/"
        }
      },
      "outputs": [
        {
          "output_type": "stream",
          "name": "stdout",
          "text": [
            "Test score: 0.8\n",
            "Train score: 0.9090909090909091\n"
          ]
        }
      ],
      "source": [
        "y_pred3 = clf3.predict(X_test)\n",
        "print(\"Test score:\", clf3.score(X_test, y_test))\n",
        "print(\"Train score:\", clf3.score(X_train, y_train))"
      ]
    },
    {
      "cell_type": "code",
      "execution_count": 63,
      "id": "bb642205",
      "metadata": {
        "id": "bb642205",
        "outputId": "b316c241-9db3-48a1-875d-c2d443a28d1c",
        "colab": {
          "base_uri": "https://localhost:8080/",
          "height": 421
        }
      },
      "outputs": [
        {
          "output_type": "display_data",
          "data": {
            "text/plain": [
              "<Figure size 432x288 with 2 Axes>"
            ],
            "image/png": "[encoded data removed]"
          },
          "metadata": {
            "needs_background": "light"
          }
        },
        {
          "output_type": "stream",
          "name": "stdout",
          "text": [
            "              precision    recall  f1-score   support\n",
            "\n",
            "           0       0.83      0.89      0.86        62\n",
            "           1       0.71      0.61      0.65        28\n",
            "\n",
            "    accuracy                           0.80        90\n",
            "   macro avg       0.77      0.75      0.76        90\n",
            "weighted avg       0.79      0.80      0.80        90\n",
            "\n"
          ]
        }
      ],
      "source": [
        "cm3 = confusion_matrix(y_test, y_pred3)\n",
        "sns.heatmap(cm1, annot=True, fmt=\"d\", linewidths=.5, cmap = 'Reds')\n",
        "plt.show()\n",
        "print(classification_report(y_test, y_pred3))"
      ]
    },
    {
      "cell_type": "code",
      "execution_count": 64,
      "id": "358bfedd",
      "metadata": {
        "id": "358bfedd",
        "outputId": "ab6c9111-d24e-42d0-b383-ec6d4ff08b7d",
        "colab": {
          "base_uri": "https://localhost:8080/"
        }
      },
      "outputs": [
        {
          "output_type": "stream",
          "name": "stdout",
          "text": [
            "Ringkasan Evaluasi Model\n",
            "Akurasi : 0.8\n",
            "Presisi : 0.7083333333333334\n",
            "F1 Score : 0.6538461538461539\n"
          ]
        }
      ],
      "source": [
        "print('Ringkasan Evaluasi Model')\n",
        "print('Akurasi :', accuracy_score(y_test, y_pred3))\n",
        "print('Presisi :', precision_score(y_test,y_pred3))\n",
        "print('F1 Score :', f1_score(y_test,y_pred3))"
      ]
    },
    {
      "cell_type": "markdown",
      "id": "234e20e0",
      "metadata": {
        "id": "234e20e0"
      },
      "source": [
        "Diperoleh bahwa:\n",
        "\n",
        "- Model ketiga memiliki evaluasi model paling baik dibanding kedua model lainnya\n",
        "- Model pertama dan kedua diindikasikan adanya overfitting\n",
        "- Model yang dipilih untuk deployment yakni model ketiga"
      ]
    },
    {
      "cell_type": "markdown",
      "id": "de83763c",
      "metadata": {
        "id": "de83763c"
      },
      "source": [
        "## J. Model Inference\n",
        "Bagian ini diisi dengan model inference, di mana model yang sudah kita latih akan dicoba pada data selain data yang sudah tersedia. Data yang dimaksud bisa berupa data buatan oleh student, ataupun data yang ada pada internet."
      ]
    },
    {
      "cell_type": "markdown",
      "id": "4890091e",
      "metadata": {
        "id": "4890091e"
      },
      "source": [
        "![image-3.png](attachment:image-3.png)"
      ]
    },
    {
      "cell_type": "markdown",
      "id": "3211834d",
      "metadata": {
        "id": "3211834d"
      },
      "source": [
        "![image.png](attachment:image.png)"
      ]
    },
    {
      "cell_type": "markdown",
      "id": "bbb9dd4a",
      "metadata": {
        "id": "bbb9dd4a"
      },
      "source": [
        "![image.png](attachment:image.png)"
      ]
    },
    {
      "cell_type": "markdown",
      "id": "370a020b",
      "metadata": {
        "id": "370a020b"
      },
      "source": [
        "![image.png](attachment:image.png)"
      ]
    },
    {
      "cell_type": "markdown",
      "id": "028366b1",
      "metadata": {
        "id": "028366b1"
      },
      "source": [
        "# Conclusions\n",
        "Dari analisis yang telah dilakukan, diperoleh kesimpulan sebagai berikut:\n",
        "\n",
        "- Terdapat 13 atribut yang diasumsikan memengaruhi penyakit kardiovaskular . Setelah dilakukan analisis, diambil 4 atribut/faktor yang paling berpengaruh dalam model.\n",
        "- Faktor-faktor yang berpengaruh signifikan terhadap kematian pasien gagal jantung yaitu penyakit tekanan darah tinggi, kreatin fofokinase, serum kreatin dan umur.\n",
        "- jika di lihat informasi berdasarkan visualisasi pada dataset, penyakit karidovaskular(CVDs) ini pasiennya lebih banyak tidak mengalami kematian, meskipun begitu ada beberapa penyakit lain yang dapat menimbulkan penyakit karidovaskular ini sehingga dapat membahayakan pasien hingga pasien bisa mengalami kematian\n",
        "\n",
        "- Model ensemble yang paling optimal yaitu model ketiga, diperoleh akurasi testing 80%.\n"
      ]
    },
    {
      "cell_type": "code",
      "execution_count": 65,
      "id": "f3968846",
      "metadata": {
        "id": "f3968846"
      },
      "outputs": [],
      "source": [
        "pickle.dump(clf3, open('modelfp3.pkl','wb'))"
      ]
    }
  ],
  "metadata": {
    "kernelspec": {
      "display_name": "Python 3 (ipykernel)",
      "language": "python",
      "name": "python3"
    },
    "language_info": {
      "codemirror_mode": {
        "name": "ipython",
        "version": 3
      },
      "file_extension": ".py",
      "mimetype": "text/x-python",
      "name": "python",
      "nbconvert_exporter": "python",
      "pygments_lexer": "ipython3",
      "version": "3.9.12"
    },
    "toc": {
      "base_numbering": "1",
      "nav_menu": {
        "height": "169px",
        "width": "266px"
      },
      "number_sections": false,
      "sideBar": true,
      "skip_h1_title": false,
      "title_cell": "Table of Contents",
      "title_sidebar": "Contents",
      "toc_cell": false,
      "toc_position": {},
      "toc_section_display": true,
      "toc_window_display": false
    },
    "colab": {
      "provenance": [],
      "collapsed_sections": [
        "90da6b71",
        "015c83c1",
        "fd175d44",
        "d3d13bbf",
        "ee3bea82"
      ],
      "toc_visible": true,
      "include_colab_link": true
    }
  },
  "nbformat": 4,
  "nbformat_minor": 5
}