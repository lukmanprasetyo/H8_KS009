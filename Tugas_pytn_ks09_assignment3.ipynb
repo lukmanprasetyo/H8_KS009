{
  "nbformat": 4,
  "nbformat_minor": 0,
  "metadata": {
    "colab": {
      "provenance": [],
      "authorship_tag": "ABX9TyOVvgItWdSHYB83+oHDIhyt",
      "include_colab_link": true
    },
    "kernelspec": {
      "name": "python3",
      "display_name": "Python 3"
    },
    "language_info": {
      "name": "python"
    }
  },
  "cells": [
    {
      "cell_type": "markdown",
      "metadata": {
        "id": "view-in-github",
        "colab_type": "text"
      },
      "source": [
        "<a href=\"https://colab.research.google.com/github/lukmanprasetyo/H8_KS009/blob/master/Tugas_pytn_ks09_assignment3.ipynb\" target=\"_parent\"><img src=\"https://colab.research.google.com/assets/colab-badge.svg\" alt=\"Open In Colab\"/></a>"
      ]
    },
    {
      "cell_type": "code",
      "execution_count": null,
      "metadata": {
        "id": "7NW1wqdOTU1A"
      },
      "outputs": [],
      "source": [
        "Nama : Lukman Prasetyo Nugroho\n",
        "Absensi : 004\n",
        "Alasan telat: Terkendala di perangkat (rusak) telah disampaikan ke mentor"
      ]
    },
    {
      "cell_type": "markdown",
      "source": [
        "# **Bank Marketing Data Set**\n",
        "\n",
        "Intruksi \\\n",
        "* Bersihkan dan preproses Dataset Kamu\n",
        "* Bangun Model Menggunakan Logistic Regression, KNN, SVM, Naive Bayes, Decision Tree dan Random Forest\n",
        "* Pilih 1 algoritma yang kamu anggap paling sesuai lalu jelaskan mengapa\n",
        "* Kumpulkan Informasi melalui analisi kamu"
      ],
      "metadata": {
        "id": "HMc90d_mUIII"
      }
    },
    {
      "cell_type": "markdown",
      "source": [
        "**Nama** : Lukman Prasetyo Nugroho \\\n",
        "**Absensi** : 004 \\\n",
        "Alasan telat: Terkendala di perangkat (rusak) telah disampaikan ke mentor\n"
      ],
      "metadata": {
        "id": "IqxOBHYwUEfY"
      }
    },
    {
      "cell_type": "code",
      "source": [
        "import pandas as pd\n",
        "import numpy as np\n",
        "import matplotlib as mpl\n",
        "import matplotlib.pyplot as plt\n",
        "import matplotlib.colors as colors\n",
        "import seaborn as sns\n",
        "from sklearn.linear_model import LogisticRegression\n",
        "from sklearn.neighbors import KNeighborsClassifier\n",
        "from sklearn import svm\n",
        "from sklearn.tree import DecisionTreeClassifier\n",
        "from sklearn.ensemble import RandomForestClassifier\n",
        "from sklearn.ensemble import ExtraTreesClassifier\n",
        "from sklearn.naive_bayes import GaussianNB\n",
        "from sklearn.metrics import confusion_matrix, classification_report, accuracy_score\n",
        "from sklearn.model_selection import train_test_split\n",
        "from sklearn import preprocessing"
      ],
      "metadata": {
        "id": "4dqgumVHYrnu"
      },
      "execution_count": 106,
      "outputs": []
    },
    {
      "cell_type": "code",
      "source": [
        "dataset_url = \"https://raw.githubusercontent.com/lukmanprasetyo/H8_KS009/master/bank.csv\""
      ],
      "metadata": {
        "id": "TPfDBwhwUHW9"
      },
      "execution_count": 6,
      "outputs": []
    },
    {
      "cell_type": "code",
      "source": [
        "bank = pd.read_csv(dataset_url, delimiter=';')\n",
        "bank.head()"
      ],
      "metadata": {
        "colab": {
          "base_uri": "https://localhost:8080/",
          "height": 206
        },
        "id": "jidjkXvsYIf1",
        "outputId": "1ef4fb78-1e82-4272-8928-0d1823e28ad6"
      },
      "execution_count": 11,
      "outputs": [
        {
          "output_type": "execute_result",
          "data": {
            "text/plain": [
              "   age          job  marital  education default  balance housing loan  \\\n",
              "0   30   unemployed  married    primary      no     1787      no   no   \n",
              "1   33     services  married  secondary      no     4789     yes  yes   \n",
              "2   35   management   single   tertiary      no     1350     yes   no   \n",
              "3   30   management  married   tertiary      no     1476     yes  yes   \n",
              "4   59  blue-collar  married  secondary      no        0     yes   no   \n",
              "\n",
              "    contact  day month  duration  campaign  pdays  previous poutcome   y  \n",
              "0  cellular   19   oct        79         1     -1         0  unknown  no  \n",
              "1  cellular   11   may       220         1    339         4  failure  no  \n",
              "2  cellular   16   apr       185         1    330         1  failure  no  \n",
              "3   unknown    3   jun       199         4     -1         0  unknown  no  \n",
              "4   unknown    5   may       226         1     -1         0  unknown  no  "
            ],
            "text/html": [
              "\n",
              "  <div id=\"df-a3d7e18b-2cce-41b9-b366-649c769f97a0\">\n",
              "    <div class=\"colab-df-container\">\n",
              "      <div>\n",
              "<style scoped>\n",
              "    .dataframe tbody tr th:only-of-type {\n",
              "        vertical-align: middle;\n",
              "    }\n",
              "\n",
              "    .dataframe tbody tr th {\n",
              "        vertical-align: top;\n",
              "    }\n",
              "\n",
              "    .dataframe thead th {\n",
              "        text-align: right;\n",
              "    }\n",
              "</style>\n",
              "<table border=\"1\" class=\"dataframe\">\n",
              "  <thead>\n",
              "    <tr style=\"text-align: right;\">\n",
              "      <th></th>\n",
              "      <th>age</th>\n",
              "      <th>job</th>\n",
              "      <th>marital</th>\n",
              "      <th>education</th>\n",
              "      <th>default</th>\n",
              "      <th>balance</th>\n",
              "      <th>housing</th>\n",
              "      <th>loan</th>\n",
              "      <th>contact</th>\n",
              "      <th>day</th>\n",
              "      <th>month</th>\n",
              "      <th>duration</th>\n",
              "      <th>campaign</th>\n",
              "      <th>pdays</th>\n",
              "      <th>previous</th>\n",
              "      <th>poutcome</th>\n",
              "      <th>y</th>\n",
              "    </tr>\n",
              "  </thead>\n",
              "  <tbody>\n",
              "    <tr>\n",
              "      <th>0</th>\n",
              "      <td>30</td>\n",
              "      <td>unemployed</td>\n",
              "      <td>married</td>\n",
              "      <td>primary</td>\n",
              "      <td>no</td>\n",
              "      <td>1787</td>\n",
              "      <td>no</td>\n",
              "      <td>no</td>\n",
              "      <td>cellular</td>\n",
              "      <td>19</td>\n",
              "      <td>oct</td>\n",
              "      <td>79</td>\n",
              "      <td>1</td>\n",
              "      <td>-1</td>\n",
              "      <td>0</td>\n",
              "      <td>unknown</td>\n",
              "      <td>no</td>\n",
              "    </tr>\n",
              "    <tr>\n",
              "      <th>1</th>\n",
              "      <td>33</td>\n",
              "      <td>services</td>\n",
              "      <td>married</td>\n",
              "      <td>secondary</td>\n",
              "      <td>no</td>\n",
              "      <td>4789</td>\n",
              "      <td>yes</td>\n",
              "      <td>yes</td>\n",
              "      <td>cellular</td>\n",
              "      <td>11</td>\n",
              "      <td>may</td>\n",
              "      <td>220</td>\n",
              "      <td>1</td>\n",
              "      <td>339</td>\n",
              "      <td>4</td>\n",
              "      <td>failure</td>\n",
              "      <td>no</td>\n",
              "    </tr>\n",
              "    <tr>\n",
              "      <th>2</th>\n",
              "      <td>35</td>\n",
              "      <td>management</td>\n",
              "      <td>single</td>\n",
              "      <td>tertiary</td>\n",
              "      <td>no</td>\n",
              "      <td>1350</td>\n",
              "      <td>yes</td>\n",
              "      <td>no</td>\n",
              "      <td>cellular</td>\n",
              "      <td>16</td>\n",
              "      <td>apr</td>\n",
              "      <td>185</td>\n",
              "      <td>1</td>\n",
              "      <td>330</td>\n",
              "      <td>1</td>\n",
              "      <td>failure</td>\n",
              "      <td>no</td>\n",
              "    </tr>\n",
              "    <tr>\n",
              "      <th>3</th>\n",
              "      <td>30</td>\n",
              "      <td>management</td>\n",
              "      <td>married</td>\n",
              "      <td>tertiary</td>\n",
              "      <td>no</td>\n",
              "      <td>1476</td>\n",
              "      <td>yes</td>\n",
              "      <td>yes</td>\n",
              "      <td>unknown</td>\n",
              "      <td>3</td>\n",
              "      <td>jun</td>\n",
              "      <td>199</td>\n",
              "      <td>4</td>\n",
              "      <td>-1</td>\n",
              "      <td>0</td>\n",
              "      <td>unknown</td>\n",
              "      <td>no</td>\n",
              "    </tr>\n",
              "    <tr>\n",
              "      <th>4</th>\n",
              "      <td>59</td>\n",
              "      <td>blue-collar</td>\n",
              "      <td>married</td>\n",
              "      <td>secondary</td>\n",
              "      <td>no</td>\n",
              "      <td>0</td>\n",
              "      <td>yes</td>\n",
              "      <td>no</td>\n",
              "      <td>unknown</td>\n",
              "      <td>5</td>\n",
              "      <td>may</td>\n",
              "      <td>226</td>\n",
              "      <td>1</td>\n",
              "      <td>-1</td>\n",
              "      <td>0</td>\n",
              "      <td>unknown</td>\n",
              "      <td>no</td>\n",
              "    </tr>\n",
              "  </tbody>\n",
              "</table>\n",
              "</div>\n",
              "      <button class=\"colab-df-convert\" onclick=\"convertToInteractive('df-a3d7e18b-2cce-41b9-b366-649c769f97a0')\"\n",
              "              title=\"Convert this dataframe to an interactive table.\"\n",
              "              style=\"display:none;\">\n",
              "        \n",
              "  <svg xmlns=\"http://www.w3.org/2000/svg\" height=\"24px\"viewBox=\"0 0 24 24\"\n",
              "       width=\"24px\">\n",
              "    <path d=\"M0 0h24v24H0V0z\" fill=\"none\"/>\n",
              "    <path d=\"M18.56 5.44l.94 2.06.94-2.06 2.06-.94-2.06-.94-.94-2.06-.94 2.06-2.06.94zm-11 1L8.5 8.5l.94-2.06 2.06-.94-2.06-.94L8.5 2.5l-.94 2.06-2.06.94zm10 10l.94 2.06.94-2.06 2.06-.94-2.06-.94-.94-2.06-.94 2.06-2.06.94z\"/><path d=\"M17.41 7.96l-1.37-1.37c-.4-.4-.92-.59-1.43-.59-.52 0-1.04.2-1.43.59L10.3 9.45l-7.72 7.72c-.78.78-.78 2.05 0 2.83L4 21.41c.39.39.9.59 1.41.59.51 0 1.02-.2 1.41-.59l7.78-7.78 2.81-2.81c.8-.78.8-2.07 0-2.86zM5.41 20L4 18.59l7.72-7.72 1.47 1.35L5.41 20z\"/>\n",
              "  </svg>\n",
              "      </button>\n",
              "      \n",
              "  <style>\n",
              "    .colab-df-container {\n",
              "      display:flex;\n",
              "      flex-wrap:wrap;\n",
              "      gap: 12px;\n",
              "    }\n",
              "\n",
              "    .colab-df-convert {\n",
              "      background-color: #E8F0FE;\n",
              "      border: none;\n",
              "      border-radius: 50%;\n",
              "      cursor: pointer;\n",
              "      display: none;\n",
              "      fill: #1967D2;\n",
              "      height: 32px;\n",
              "      padding: 0 0 0 0;\n",
              "      width: 32px;\n",
              "    }\n",
              "\n",
              "    .colab-df-convert:hover {\n",
              "      background-color: #E2EBFA;\n",
              "      box-shadow: 0px 1px 2px rgba(60, 64, 67, 0.3), 0px 1px 3px 1px rgba(60, 64, 67, 0.15);\n",
              "      fill: #174EA6;\n",
              "    }\n",
              "\n",
              "    [theme=dark] .colab-df-convert {\n",
              "      background-color: #3B4455;\n",
              "      fill: #D2E3FC;\n",
              "    }\n",
              "\n",
              "    [theme=dark] .colab-df-convert:hover {\n",
              "      background-color: #434B5C;\n",
              "      box-shadow: 0px 1px 3px 1px rgba(0, 0, 0, 0.15);\n",
              "      filter: drop-shadow(0px 1px 2px rgba(0, 0, 0, 0.3));\n",
              "      fill: #FFFFFF;\n",
              "    }\n",
              "  </style>\n",
              "\n",
              "      <script>\n",
              "        const buttonEl =\n",
              "          document.querySelector('#df-a3d7e18b-2cce-41b9-b366-649c769f97a0 button.colab-df-convert');\n",
              "        buttonEl.style.display =\n",
              "          google.colab.kernel.accessAllowed ? 'block' : 'none';\n",
              "\n",
              "        async function convertToInteractive(key) {\n",
              "          const element = document.querySelector('#df-a3d7e18b-2cce-41b9-b366-649c769f97a0');\n",
              "          const dataTable =\n",
              "            await google.colab.kernel.invokeFunction('convertToInteractive',\n",
              "                                                     [key], {});\n",
              "          if (!dataTable) return;\n",
              "\n",
              "          const docLinkHtml = 'Like what you see? Visit the ' +\n",
              "            '<a target=\"_blank\" href=https://colab.research.google.com/notebooks/data_table.ipynb>data table notebook</a>'\n",
              "            + ' to learn more about interactive tables.';\n",
              "          element.innerHTML = '';\n",
              "          dataTable['output_type'] = 'display_data';\n",
              "          await google.colab.output.renderOutput(dataTable, element);\n",
              "          const docLink = document.createElement('div');\n",
              "          docLink.innerHTML = docLinkHtml;\n",
              "          element.appendChild(docLink);\n",
              "        }\n",
              "      </script>\n",
              "    </div>\n",
              "  </div>\n",
              "  "
            ]
          },
          "metadata": {},
          "execution_count": 11
        }
      ]
    },
    {
      "cell_type": "markdown",
      "source": [
        "# **Data Cleaning dan Preproses Dataset**"
      ],
      "metadata": {
        "id": "5dgbieSmZUwk"
      }
    },
    {
      "cell_type": "markdown",
      "source": [
        "Melihat bentuk dan Informasi dari data"
      ],
      "metadata": {
        "id": "PAMditoYZuuL"
      }
    },
    {
      "cell_type": "code",
      "source": [
        "bank.shape"
      ],
      "metadata": {
        "colab": {
          "base_uri": "https://localhost:8080/"
        },
        "id": "iDL2bV7GYiWw",
        "outputId": "296eb774-3791-46df-e57c-23b6e3fe118a"
      },
      "execution_count": 12,
      "outputs": [
        {
          "output_type": "execute_result",
          "data": {
            "text/plain": [
              "(4521, 17)"
            ]
          },
          "metadata": {},
          "execution_count": 12
        }
      ]
    },
    {
      "cell_type": "markdown",
      "source": [
        "Terdapat 4521 baris dan 17 kolom dari dataset Bank Marketing. Selanjutnya cek jumlah data, beserta tipe data yang digunakan."
      ],
      "metadata": {
        "id": "em25n9-FaZeq"
      }
    },
    {
      "cell_type": "code",
      "source": [
        "col_list = bank.columns[bank.dtypes == 'object'].to_list()\n",
        "for col in col_list:\n",
        "    bank[col] = bank[col].astype('category')\n",
        "bank.info()"
      ],
      "metadata": {
        "id": "Awd1dRMY5X-k"
      },
      "execution_count": null,
      "outputs": []
    },
    {
      "cell_type": "code",
      "source": [
        "bank.info()"
      ],
      "metadata": {
        "colab": {
          "base_uri": "https://localhost:8080/"
        },
        "id": "pO_jdkvQZ4Gl",
        "outputId": "c06ecfe1-51b1-45d5-8e1f-c567f9e7bf6f"
      },
      "execution_count": 88,
      "outputs": [
        {
          "output_type": "stream",
          "name": "stdout",
          "text": [
            "<class 'pandas.core.frame.DataFrame'>\n",
            "RangeIndex: 4521 entries, 0 to 4520\n",
            "Data columns (total 17 columns):\n",
            " #   Column     Non-Null Count  Dtype   \n",
            "---  ------     --------------  -----   \n",
            " 0   age        4521 non-null   int64   \n",
            " 1   job        4521 non-null   category\n",
            " 2   marital    4521 non-null   category\n",
            " 3   education  4521 non-null   category\n",
            " 4   default    4521 non-null   category\n",
            " 5   balance    4521 non-null   int64   \n",
            " 6   housing    4521 non-null   category\n",
            " 7   loan       4521 non-null   category\n",
            " 8   contact    4521 non-null   category\n",
            " 9   day        4521 non-null   int64   \n",
            " 10  month      4521 non-null   category\n",
            " 11  duration   4521 non-null   int64   \n",
            " 12  campaign   4521 non-null   int64   \n",
            " 13  pdays      4521 non-null   int64   \n",
            " 14  previous   4521 non-null   int64   \n",
            " 15  poutcome   4521 non-null   category\n",
            " 16  y          4521 non-null   category\n",
            "dtypes: category(10), int64(7)\n",
            "memory usage: 293.4 KB\n"
          ]
        }
      ]
    },
    {
      "cell_type": "markdown",
      "source": [
        "Setelah melihat kolom yang tersedia, serta type data yang digunakan. Langkah selanjutnya melihat apakah ada kolom yang kosong. Maksudnya missing value dari data"
      ],
      "metadata": {
        "id": "4MPLUa5cc2Lh"
      }
    },
    {
      "cell_type": "code",
      "source": [
        "bank.isnull()"
      ],
      "metadata": {
        "colab": {
          "base_uri": "https://localhost:8080/",
          "height": 424
        },
        "id": "GiVh8rAdaL2i",
        "outputId": "4f100051-57cf-40b2-a827-14e3814d5520"
      },
      "execution_count": 14,
      "outputs": [
        {
          "output_type": "execute_result",
          "data": {
            "text/plain": [
              "        age    job  marital  education  default  balance  housing   loan  \\\n",
              "0     False  False    False      False    False    False    False  False   \n",
              "1     False  False    False      False    False    False    False  False   \n",
              "2     False  False    False      False    False    False    False  False   \n",
              "3     False  False    False      False    False    False    False  False   \n",
              "4     False  False    False      False    False    False    False  False   \n",
              "...     ...    ...      ...        ...      ...      ...      ...    ...   \n",
              "4516  False  False    False      False    False    False    False  False   \n",
              "4517  False  False    False      False    False    False    False  False   \n",
              "4518  False  False    False      False    False    False    False  False   \n",
              "4519  False  False    False      False    False    False    False  False   \n",
              "4520  False  False    False      False    False    False    False  False   \n",
              "\n",
              "      contact    day  month  duration  campaign  pdays  previous  poutcome  \\\n",
              "0       False  False  False     False     False  False     False     False   \n",
              "1       False  False  False     False     False  False     False     False   \n",
              "2       False  False  False     False     False  False     False     False   \n",
              "3       False  False  False     False     False  False     False     False   \n",
              "4       False  False  False     False     False  False     False     False   \n",
              "...       ...    ...    ...       ...       ...    ...       ...       ...   \n",
              "4516    False  False  False     False     False  False     False     False   \n",
              "4517    False  False  False     False     False  False     False     False   \n",
              "4518    False  False  False     False     False  False     False     False   \n",
              "4519    False  False  False     False     False  False     False     False   \n",
              "4520    False  False  False     False     False  False     False     False   \n",
              "\n",
              "          y  \n",
              "0     False  \n",
              "1     False  \n",
              "2     False  \n",
              "3     False  \n",
              "4     False  \n",
              "...     ...  \n",
              "4516  False  \n",
              "4517  False  \n",
              "4518  False  \n",
              "4519  False  \n",
              "4520  False  \n",
              "\n",
              "[4521 rows x 17 columns]"
            ],
            "text/html": [
              "\n",
              "  <div id=\"df-84f874d8-3452-47bf-93c7-f819f5247842\">\n",
              "    <div class=\"colab-df-container\">\n",
              "      <div>\n",
              "<style scoped>\n",
              "    .dataframe tbody tr th:only-of-type {\n",
              "        vertical-align: middle;\n",
              "    }\n",
              "\n",
              "    .dataframe tbody tr th {\n",
              "        vertical-align: top;\n",
              "    }\n",
              "\n",
              "    .dataframe thead th {\n",
              "        text-align: right;\n",
              "    }\n",
              "</style>\n",
              "<table border=\"1\" class=\"dataframe\">\n",
              "  <thead>\n",
              "    <tr style=\"text-align: right;\">\n",
              "      <th></th>\n",
              "      <th>age</th>\n",
              "      <th>job</th>\n",
              "      <th>marital</th>\n",
              "      <th>education</th>\n",
              "      <th>default</th>\n",
              "      <th>balance</th>\n",
              "      <th>housing</th>\n",
              "      <th>loan</th>\n",
              "      <th>contact</th>\n",
              "      <th>day</th>\n",
              "      <th>month</th>\n",
              "      <th>duration</th>\n",
              "      <th>campaign</th>\n",
              "      <th>pdays</th>\n",
              "      <th>previous</th>\n",
              "      <th>poutcome</th>\n",
              "      <th>y</th>\n",
              "    </tr>\n",
              "  </thead>\n",
              "  <tbody>\n",
              "    <tr>\n",
              "      <th>0</th>\n",
              "      <td>False</td>\n",
              "      <td>False</td>\n",
              "      <td>False</td>\n",
              "      <td>False</td>\n",
              "      <td>False</td>\n",
              "      <td>False</td>\n",
              "      <td>False</td>\n",
              "      <td>False</td>\n",
              "      <td>False</td>\n",
              "      <td>False</td>\n",
              "      <td>False</td>\n",
              "      <td>False</td>\n",
              "      <td>False</td>\n",
              "      <td>False</td>\n",
              "      <td>False</td>\n",
              "      <td>False</td>\n",
              "      <td>False</td>\n",
              "    </tr>\n",
              "    <tr>\n",
              "      <th>1</th>\n",
              "      <td>False</td>\n",
              "      <td>False</td>\n",
              "      <td>False</td>\n",
              "      <td>False</td>\n",
              "      <td>False</td>\n",
              "      <td>False</td>\n",
              "      <td>False</td>\n",
              "      <td>False</td>\n",
              "      <td>False</td>\n",
              "      <td>False</td>\n",
              "      <td>False</td>\n",
              "      <td>False</td>\n",
              "      <td>False</td>\n",
              "      <td>False</td>\n",
              "      <td>False</td>\n",
              "      <td>False</td>\n",
              "      <td>False</td>\n",
              "    </tr>\n",
              "    <tr>\n",
              "      <th>2</th>\n",
              "      <td>False</td>\n",
              "      <td>False</td>\n",
              "      <td>False</td>\n",
              "      <td>False</td>\n",
              "      <td>False</td>\n",
              "      <td>False</td>\n",
              "      <td>False</td>\n",
              "      <td>False</td>\n",
              "      <td>False</td>\n",
              "      <td>False</td>\n",
              "      <td>False</td>\n",
              "      <td>False</td>\n",
              "      <td>False</td>\n",
              "      <td>False</td>\n",
              "      <td>False</td>\n",
              "      <td>False</td>\n",
              "      <td>False</td>\n",
              "    </tr>\n",
              "    <tr>\n",
              "      <th>3</th>\n",
              "      <td>False</td>\n",
              "      <td>False</td>\n",
              "      <td>False</td>\n",
              "      <td>False</td>\n",
              "      <td>False</td>\n",
              "      <td>False</td>\n",
              "      <td>False</td>\n",
              "      <td>False</td>\n",
              "      <td>False</td>\n",
              "      <td>False</td>\n",
              "      <td>False</td>\n",
              "      <td>False</td>\n",
              "      <td>False</td>\n",
              "      <td>False</td>\n",
              "      <td>False</td>\n",
              "      <td>False</td>\n",
              "      <td>False</td>\n",
              "    </tr>\n",
              "    <tr>\n",
              "      <th>4</th>\n",
              "      <td>False</td>\n",
              "      <td>False</td>\n",
              "      <td>False</td>\n",
              "      <td>False</td>\n",
              "      <td>False</td>\n",
              "      <td>False</td>\n",
              "      <td>False</td>\n",
              "      <td>False</td>\n",
              "      <td>False</td>\n",
              "      <td>False</td>\n",
              "      <td>False</td>\n",
              "      <td>False</td>\n",
              "      <td>False</td>\n",
              "      <td>False</td>\n",
              "      <td>False</td>\n",
              "      <td>False</td>\n",
              "      <td>False</td>\n",
              "    </tr>\n",
              "    <tr>\n",
              "      <th>...</th>\n",
              "      <td>...</td>\n",
              "      <td>...</td>\n",
              "      <td>...</td>\n",
              "      <td>...</td>\n",
              "      <td>...</td>\n",
              "      <td>...</td>\n",
              "      <td>...</td>\n",
              "      <td>...</td>\n",
              "      <td>...</td>\n",
              "      <td>...</td>\n",
              "      <td>...</td>\n",
              "      <td>...</td>\n",
              "      <td>...</td>\n",
              "      <td>...</td>\n",
              "      <td>...</td>\n",
              "      <td>...</td>\n",
              "      <td>...</td>\n",
              "    </tr>\n",
              "    <tr>\n",
              "      <th>4516</th>\n",
              "      <td>False</td>\n",
              "      <td>False</td>\n",
              "      <td>False</td>\n",
              "      <td>False</td>\n",
              "      <td>False</td>\n",
              "      <td>False</td>\n",
              "      <td>False</td>\n",
              "      <td>False</td>\n",
              "      <td>False</td>\n",
              "      <td>False</td>\n",
              "      <td>False</td>\n",
              "      <td>False</td>\n",
              "      <td>False</td>\n",
              "      <td>False</td>\n",
              "      <td>False</td>\n",
              "      <td>False</td>\n",
              "      <td>False</td>\n",
              "    </tr>\n",
              "    <tr>\n",
              "      <th>4517</th>\n",
              "      <td>False</td>\n",
              "      <td>False</td>\n",
              "      <td>False</td>\n",
              "      <td>False</td>\n",
              "      <td>False</td>\n",
              "      <td>False</td>\n",
              "      <td>False</td>\n",
              "      <td>False</td>\n",
              "      <td>False</td>\n",
              "      <td>False</td>\n",
              "      <td>False</td>\n",
              "      <td>False</td>\n",
              "      <td>False</td>\n",
              "      <td>False</td>\n",
              "      <td>False</td>\n",
              "      <td>False</td>\n",
              "      <td>False</td>\n",
              "    </tr>\n",
              "    <tr>\n",
              "      <th>4518</th>\n",
              "      <td>False</td>\n",
              "      <td>False</td>\n",
              "      <td>False</td>\n",
              "      <td>False</td>\n",
              "      <td>False</td>\n",
              "      <td>False</td>\n",
              "      <td>False</td>\n",
              "      <td>False</td>\n",
              "      <td>False</td>\n",
              "      <td>False</td>\n",
              "      <td>False</td>\n",
              "      <td>False</td>\n",
              "      <td>False</td>\n",
              "      <td>False</td>\n",
              "      <td>False</td>\n",
              "      <td>False</td>\n",
              "      <td>False</td>\n",
              "    </tr>\n",
              "    <tr>\n",
              "      <th>4519</th>\n",
              "      <td>False</td>\n",
              "      <td>False</td>\n",
              "      <td>False</td>\n",
              "      <td>False</td>\n",
              "      <td>False</td>\n",
              "      <td>False</td>\n",
              "      <td>False</td>\n",
              "      <td>False</td>\n",
              "      <td>False</td>\n",
              "      <td>False</td>\n",
              "      <td>False</td>\n",
              "      <td>False</td>\n",
              "      <td>False</td>\n",
              "      <td>False</td>\n",
              "      <td>False</td>\n",
              "      <td>False</td>\n",
              "      <td>False</td>\n",
              "    </tr>\n",
              "    <tr>\n",
              "      <th>4520</th>\n",
              "      <td>False</td>\n",
              "      <td>False</td>\n",
              "      <td>False</td>\n",
              "      <td>False</td>\n",
              "      <td>False</td>\n",
              "      <td>False</td>\n",
              "      <td>False</td>\n",
              "      <td>False</td>\n",
              "      <td>False</td>\n",
              "      <td>False</td>\n",
              "      <td>False</td>\n",
              "      <td>False</td>\n",
              "      <td>False</td>\n",
              "      <td>False</td>\n",
              "      <td>False</td>\n",
              "      <td>False</td>\n",
              "      <td>False</td>\n",
              "    </tr>\n",
              "  </tbody>\n",
              "</table>\n",
              "<p>4521 rows × 17 columns</p>\n",
              "</div>\n",
              "      <button class=\"colab-df-convert\" onclick=\"convertToInteractive('df-84f874d8-3452-47bf-93c7-f819f5247842')\"\n",
              "              title=\"Convert this dataframe to an interactive table.\"\n",
              "              style=\"display:none;\">\n",
              "        \n",
              "  <svg xmlns=\"http://www.w3.org/2000/svg\" height=\"24px\"viewBox=\"0 0 24 24\"\n",
              "       width=\"24px\">\n",
              "    <path d=\"M0 0h24v24H0V0z\" fill=\"none\"/>\n",
              "    <path d=\"M18.56 5.44l.94 2.06.94-2.06 2.06-.94-2.06-.94-.94-2.06-.94 2.06-2.06.94zm-11 1L8.5 8.5l.94-2.06 2.06-.94-2.06-.94L8.5 2.5l-.94 2.06-2.06.94zm10 10l.94 2.06.94-2.06 2.06-.94-2.06-.94-.94-2.06-.94 2.06-2.06.94z\"/><path d=\"M17.41 7.96l-1.37-1.37c-.4-.4-.92-.59-1.43-.59-.52 0-1.04.2-1.43.59L10.3 9.45l-7.72 7.72c-.78.78-.78 2.05 0 2.83L4 21.41c.39.39.9.59 1.41.59.51 0 1.02-.2 1.41-.59l7.78-7.78 2.81-2.81c.8-.78.8-2.07 0-2.86zM5.41 20L4 18.59l7.72-7.72 1.47 1.35L5.41 20z\"/>\n",
              "  </svg>\n",
              "      </button>\n",
              "      \n",
              "  <style>\n",
              "    .colab-df-container {\n",
              "      display:flex;\n",
              "      flex-wrap:wrap;\n",
              "      gap: 12px;\n",
              "    }\n",
              "\n",
              "    .colab-df-convert {\n",
              "      background-color: #E8F0FE;\n",
              "      border: none;\n",
              "      border-radius: 50%;\n",
              "      cursor: pointer;\n",
              "      display: none;\n",
              "      fill: #1967D2;\n",
              "      height: 32px;\n",
              "      padding: 0 0 0 0;\n",
              "      width: 32px;\n",
              "    }\n",
              "\n",
              "    .colab-df-convert:hover {\n",
              "      background-color: #E2EBFA;\n",
              "      box-shadow: 0px 1px 2px rgba(60, 64, 67, 0.3), 0px 1px 3px 1px rgba(60, 64, 67, 0.15);\n",
              "      fill: #174EA6;\n",
              "    }\n",
              "\n",
              "    [theme=dark] .colab-df-convert {\n",
              "      background-color: #3B4455;\n",
              "      fill: #D2E3FC;\n",
              "    }\n",
              "\n",
              "    [theme=dark] .colab-df-convert:hover {\n",
              "      background-color: #434B5C;\n",
              "      box-shadow: 0px 1px 3px 1px rgba(0, 0, 0, 0.15);\n",
              "      filter: drop-shadow(0px 1px 2px rgba(0, 0, 0, 0.3));\n",
              "      fill: #FFFFFF;\n",
              "    }\n",
              "  </style>\n",
              "\n",
              "      <script>\n",
              "        const buttonEl =\n",
              "          document.querySelector('#df-84f874d8-3452-47bf-93c7-f819f5247842 button.colab-df-convert');\n",
              "        buttonEl.style.display =\n",
              "          google.colab.kernel.accessAllowed ? 'block' : 'none';\n",
              "\n",
              "        async function convertToInteractive(key) {\n",
              "          const element = document.querySelector('#df-84f874d8-3452-47bf-93c7-f819f5247842');\n",
              "          const dataTable =\n",
              "            await google.colab.kernel.invokeFunction('convertToInteractive',\n",
              "                                                     [key], {});\n",
              "          if (!dataTable) return;\n",
              "\n",
              "          const docLinkHtml = 'Like what you see? Visit the ' +\n",
              "            '<a target=\"_blank\" href=https://colab.research.google.com/notebooks/data_table.ipynb>data table notebook</a>'\n",
              "            + ' to learn more about interactive tables.';\n",
              "          element.innerHTML = '';\n",
              "          dataTable['output_type'] = 'display_data';\n",
              "          await google.colab.output.renderOutput(dataTable, element);\n",
              "          const docLink = document.createElement('div');\n",
              "          docLink.innerHTML = docLinkHtml;\n",
              "          element.appendChild(docLink);\n",
              "        }\n",
              "      </script>\n",
              "    </div>\n",
              "  </div>\n",
              "  "
            ]
          },
          "metadata": {},
          "execution_count": 14
        }
      ]
    },
    {
      "cell_type": "markdown",
      "source": [
        "Terlihat, didalam data tersebut. Tidak ada yang kosong\n",
        "Selanjutnya cek apakah ada kolom yang kosong, untuk memastikan"
      ],
      "metadata": {
        "id": "-WblNfK2doas"
      }
    },
    {
      "cell_type": "code",
      "source": [
        "bank.isnull().sum()\n"
      ],
      "metadata": {
        "colab": {
          "base_uri": "https://localhost:8080/"
        },
        "id": "8Npj1zK7cy4G",
        "outputId": "4f034595-de23-4e15-9e1a-f357c25f8aa2"
      },
      "execution_count": 15,
      "outputs": [
        {
          "output_type": "execute_result",
          "data": {
            "text/plain": [
              "age          0\n",
              "job          0\n",
              "marital      0\n",
              "education    0\n",
              "default      0\n",
              "balance      0\n",
              "housing      0\n",
              "loan         0\n",
              "contact      0\n",
              "day          0\n",
              "month        0\n",
              "duration     0\n",
              "campaign     0\n",
              "pdays        0\n",
              "previous     0\n",
              "poutcome     0\n",
              "y            0\n",
              "dtype: int64"
            ]
          },
          "metadata": {},
          "execution_count": 15
        }
      ]
    },
    {
      "cell_type": "markdown",
      "source": [
        "Tidak ada data yang kosong, selanjutnya ke langkah kedua yaitu proses analisa"
      ],
      "metadata": {
        "id": "c62kPbpEfqxX"
      }
    },
    {
      "cell_type": "markdown",
      "source": [
        "# **Analisa Pekerjaan dan Saldo**"
      ],
      "metadata": {
        "id": "Wkf1gtSsgP_2"
      }
    },
    {
      "cell_type": "markdown",
      "source": [],
      "metadata": {
        "id": "h9DwLKs6fs_I"
      }
    },
    {
      "cell_type": "code",
      "source": [
        "fig = plt.figure()\n",
        "ax0 = fig.add_subplot(1, 2, 1)\n",
        "ax1 = fig.add_subplot(1, 2, 2)\n",
        "\n",
        "job = pd.DataFrame()\n",
        "job['Ya'] = bank[bank['y'] == 'yes']['job'].value_counts()\n",
        "job['Tidak'] = bank[bank['y'] == 'no']['job'].value_counts()\n",
        "job.plot(kind='bar', ax=ax0)\n",
        "\n",
        "jobsaldo = bank[bank['y'] == 'yes']\n",
        "jobsaldo = jobsaldo.pivot_table(\n",
        "    index='job',\n",
        "    values='balance',\n",
        "    aggfunc=[np.mean, np.median]\n",
        ")\n",
        "jobsaldo.plot(kind='bar', ax=ax1, figsize=(20, 5))\n",
        "plt.legend(['Mean', 'Median'])"
      ],
      "metadata": {
        "colab": {
          "base_uri": "https://localhost:8080/",
          "height": 411
        },
        "id": "Ls31I7HzfodF",
        "outputId": "6b6c35a0-8d48-409a-e55b-4ac027f6455d"
      },
      "execution_count": 35,
      "outputs": [
        {
          "output_type": "execute_result",
          "data": {
            "text/plain": [
              "<matplotlib.legend.Legend at 0x7fd0930e1850>"
            ]
          },
          "metadata": {},
          "execution_count": 35
        },
        {
          "output_type": "display_data",
          "data": {
            "text/plain": [
              "<Figure size 1440x360 with 2 Axes>"
            ],
            "image/png": "[encoded data removed]"
          },
          "metadata": {
            "needs_background": "light"
          }
        }
      ]
    },
    {
      "cell_type": "markdown",
      "source": [
        "**Kesimpulan**\n",
        "\n",
        "1.   Pekerjaan yang paling banyak di terima pinjamannya, yaitu Management\n",
        "2. Pekerjaan yang paling banyak ditolak blue collar\n",
        "3. Berdasarkan rata rata, jumlah tabungan housemaid mempunyai saldo paling besar diantara yang lain\n",
        "4. Tabungan median terbesar Housemaid\n",
        "\n"
      ],
      "metadata": {
        "id": "S8ac4wvPn0tU"
      }
    },
    {
      "cell_type": "markdown",
      "source": [
        "# **Analisa Pekerjaan,  Saldo**"
      ],
      "metadata": {
        "id": "Ou6uVz18qaR8"
      }
    },
    {
      "cell_type": "markdown",
      "source": [
        "Menggunakan Pie Chart, untuk melihat presentasi pekerjaan para nasabah bank"
      ],
      "metadata": {
        "id": "a7bSDzjRqaSI"
      }
    },
    {
      "cell_type": "code",
      "source": [
        "colors_list = ['gold', 'yellowgreen', 'lightcoral', 'lightskyblue', 'lightgreen', 'pink']\n",
        "explode_list = [0.1, 0, 0, 0, 0.1, 0.1]\n",
        "\n",
        "bank['job'].value_counts().plot(kind='pie', figsize=(15, 6), autopct='%1.1f%%', shadow=True, labels=None, pctdistance=1.12 )\n",
        "plt.legend(labels=bank['job'], loc='upper left')\n",
        "plt.title('Job Percentage', y=1.12)\n",
        "plt.axis('equal')\n"
      ],
      "metadata": {
        "colab": {
          "base_uri": "https://localhost:8080/",
          "height": 489
        },
        "id": "7lUsEc-xsb2H",
        "outputId": "e01dc8fc-af2a-49fd-9097-b32856367617"
      },
      "execution_count": 68,
      "outputs": [
        {
          "output_type": "execute_result",
          "data": {
            "text/plain": [
              "(-1.1085457030296828,\n",
              " 1.1004069383474275,\n",
              " -1.1037482980929396,\n",
              " 1.1254509178639913)"
            ]
          },
          "metadata": {},
          "execution_count": 68
        },
        {
          "output_type": "display_data",
          "data": {
            "text/plain": [
              "<Figure size 1080x432 with 1 Axes>"
            ],
            "image/png": "[encoded data removed]"
          },
          "metadata": {}
        }
      ]
    },
    {
      "cell_type": "code",
      "source": [
        "colors_list = ['gold', 'yellowgreen', 'lightcoral', 'lightskyblue', 'lightgreen', 'pink']\n",
        "explode_list = [0.1, 0, 0, 0, 0.1, 0.1]\n",
        "\n",
        "bank['age'].value_counts().plot(kind='pie', figsize=(15, 6), autopct='%1.1f%%', shadow=True, labels=None, pctdistance=1.12 )\n",
        "plt.legend(labels=bank['age'], loc='upper left')\n",
        "plt.title('Umur Percentage', y=1.12)\n",
        "plt.axis('equal')"
      ],
      "metadata": {
        "colab": {
          "base_uri": "https://localhost:8080/",
          "height": 1000
        },
        "id": "mDBZGcZWvSql",
        "outputId": "1641e89c-6c55-48d0-9fc6-fa13dfc96531"
      },
      "execution_count": 69,
      "outputs": [
        {
          "output_type": "execute_result",
          "data": {
            "text/plain": [
              "(-1.1003718150294786,\n",
              " 1.1000177054809666,\n",
              " -1.1002769820857374,\n",
              " 1.1006051976517777)"
            ]
          },
          "metadata": {},
          "execution_count": 69
        },
        {
          "output_type": "display_data",
          "data": {
            "text/plain": [
              "<Figure size 1080x432 with 1 Axes>"
            ],
            "image/png": "[encoded data removed]"
          },
          "metadata": {}
        }
      ]
    },
    {
      "cell_type": "markdown",
      "source": [
        "**Kesimpulan**\n",
        "\n",
        "1. Dari data bank tersebut diketahui Unemployed memiliki presentase terbesar\n",
        "2. Presentase admin menjadi yang paling rendah\n",
        "3. Berdasarkan umur, presentase terbesar ada di umur 30 tahun\n",
        "\n"
      ],
      "metadata": {
        "id": "-JQ5E7fUqaSJ"
      }
    },
    {
      "cell_type": "code",
      "source": [],
      "metadata": {
        "id": "0VFMngQoqaSJ"
      },
      "execution_count": 69,
      "outputs": []
    },
    {
      "cell_type": "markdown",
      "source": [
        "# **Analisa Pekerjaan, dengan Pernikahan**"
      ],
      "metadata": {
        "id": "2ui9cPTjv_Pe"
      }
    },
    {
      "cell_type": "markdown",
      "source": [
        "Melihat hubungan antara pekerjaan dengan pernikahan"
      ],
      "metadata": {
        "id": "hZ3iijldv_Pf"
      }
    },
    {
      "cell_type": "code",
      "source": [
        "fig = plt.figure()\n",
        "ax0 = fig.add_subplot(1, 2, 1)\n",
        "ax1 = fig.add_subplot(1, 2, 2)\n",
        "\n",
        "edulist = list(bank['education'].unique())\n",
        "\n",
        "edujob = pd.DataFrame()\n",
        "for edu in edulist:\n",
        "    edujob[edu] = bank[bank['education'] == edu]['job'].value_counts()\n",
        "edujob.plot(kind='bar', ax=ax0)\n",
        "\n",
        "edumarital = pd.DataFrame()\n",
        "for edu in edulist:\n",
        "    edumarital[edu] = bank[bank['education'] == edu]['marital'].value_counts()\n",
        "edumarital.plot(kind='bar', ax=ax1, figsize=(20, 5))"
      ],
      "metadata": {
        "colab": {
          "base_uri": "https://localhost:8080/",
          "height": 397
        },
        "outputId": "cef7f303-2e12-4900-97eb-c22cd6a6b53a",
        "id": "lSr29Aegv_Ph"
      },
      "execution_count": 74,
      "outputs": [
        {
          "output_type": "execute_result",
          "data": {
            "text/plain": [
              "<matplotlib.axes._subplots.AxesSubplot at 0x7fd091a99450>"
            ]
          },
          "metadata": {},
          "execution_count": 74
        },
        {
          "output_type": "display_data",
          "data": {
            "text/plain": [
              "<Figure size 1440x360 with 2 Axes>"
            ],
            "image/png": "[encoded data removed]"
          },
          "metadata": {
            "needs_background": "light"
          }
        }
      ]
    },
    {
      "cell_type": "markdown",
      "source": [
        "**Kesimpulan**\n",
        "\n",
        "1. Dari data bank tersebut diketahui management memiliki presentase terbesar telah menyelesaikan pendidikan\n",
        "2. Blue-collar dan techinian mempunyai presentase yang besar telah menyelesaikan pendidikan secondary\n",
        "3. Telah menikah, mempunyai presentasi terbesar menyelesaikan secondary dalam pendidikan\n",
        "\n",
        "\n"
      ],
      "metadata": {
        "id": "ymnB2SGxv_Pj"
      }
    },
    {
      "cell_type": "markdown",
      "source": [
        "# **Correlation**"
      ],
      "metadata": {
        "id": "Q7E-er6o163S"
      }
    },
    {
      "cell_type": "markdown",
      "source": [
        "Melihat hubungan antar kolom"
      ],
      "metadata": {
        "id": "6ZAiyz7I3ffo"
      }
    },
    {
      "cell_type": "code",
      "source": [
        "col_list = bank.columns[bank.dtypes == 'category'].to_list()\n",
        "for col in col_list:\n",
        "    bank[col] = preprocessing.LabelEncoder().fit_transform(bank[col])\n",
        "\n",
        "x = bank.iloc[:, 0:16]\n",
        "y = bank.iloc[:, -1]\n",
        "\n",
        "corrmat = bank.corr()\n",
        "sns.heatmap(bank[corrmat.index].corr(),cmap=\"RdBu_r\")\n",
        "plt.title(\"Correlation Matrix\", fontsize=16)\n",
        "plt.figure(figsize=(20, 20))\n",
        "plt.show()"
      ],
      "metadata": {
        "colab": {
          "base_uri": "https://localhost:8080/",
          "height": 340
        },
        "id": "28vYlqZ37lWe",
        "outputId": "d49a9ec2-f5ef-4b0e-a46a-5eb428486303"
      },
      "execution_count": 108,
      "outputs": [
        {
          "output_type": "display_data",
          "data": {
            "text/plain": [
              "<Figure size 432x288 with 2 Axes>"
            ],
            "image/png": "[encoded data removed]"
          },
          "metadata": {
            "needs_background": "light"
          }
        },
        {
          "output_type": "display_data",
          "data": {
            "text/plain": [
              "<Figure size 1440x1440 with 0 Axes>"
            ]
          },
          "metadata": {}
        }
      ]
    },
    {
      "cell_type": "code",
      "source": [
        "model = ExtraTreesClassifier()\n",
        "model.fit(x, y)\n",
        "feat_importances = pd.Series(model.feature_importances_, index=x.columns)\n",
        "feat_importances.nlargest(10).plot(kind='barh')\n",
        "plt.show()"
      ],
      "metadata": {
        "colab": {
          "base_uri": "https://localhost:8080/",
          "height": 265
        },
        "id": "qum-KKCW-mLX",
        "outputId": "935b4baf-4d65-455c-9ef5-d8b0b10e29d6"
      },
      "execution_count": 109,
      "outputs": [
        {
          "output_type": "display_data",
          "data": {
            "text/plain": [
              "<Figure size 432x288 with 1 Axes>"
            ],
            "image/png": "[encoded data removed]"
          },
          "metadata": {
            "needs_background": "light"
          }
        }
      ]
    },
    {
      "cell_type": "markdown",
      "source": [
        "Diketahui jika duration paling mempengaruhi, apabila dibandingkan dengan kolom lainnya"
      ],
      "metadata": {
        "id": "rJvUUrDU-qI9"
      }
    },
    {
      "cell_type": "markdown",
      "source": [
        "# **Logistic Regression**"
      ],
      "metadata": {
        "id": "Ww1SaprT2WWr"
      }
    },
    {
      "cell_type": "markdown",
      "source": [
        "Selanjutnya melakukan permodelan dengan Logistic Regression"
      ],
      "metadata": {
        "id": "2ix9VjRV_02b"
      }
    },
    {
      "cell_type": "code",
      "source": [
        "x_train, x_test, y_train, y_test = train_test_split(x, y, test_size=0.3, random_state=0)"
      ],
      "metadata": {
        "id": "T-8Z3s8sv_Pl"
      },
      "execution_count": 114,
      "outputs": []
    },
    {
      "cell_type": "code",
      "source": [
        "model = LogisticRegression(solver='liblinear')\n",
        "model.fit(x_train, y_train)\n",
        "pred_test=model.predict(x_test)"
      ],
      "metadata": {
        "id": "98D2BR3j6NSv"
      },
      "execution_count": 115,
      "outputs": []
    },
    {
      "cell_type": "code",
      "source": [
        "print(\"Accuracy Score :\",accuracy_score(y_test, pred_test),\"\\n\")\n",
        "matrix=confusion_matrix(y_test, pred_test)\n",
        "print(\"Confusion Matrix :\\n\",matrix,\"\\n\")\n",
        "print(\"Classfication Report :\\n\",classification_report(y_test, pred_test))"
      ],
      "metadata": {
        "colab": {
          "base_uri": "https://localhost:8080/"
        },
        "id": "yL2AialO_J8c",
        "outputId": "9f0cc756-e17e-4a4e-95eb-d3e069aaca92"
      },
      "execution_count": 116,
      "outputs": [
        {
          "output_type": "stream",
          "name": "stdout",
          "text": [
            "Accuracy Score : 0.8739867354458364 \n",
            "\n",
            "Confusion Matrix :\n",
            " [[1155   35]\n",
            " [ 136   31]] \n",
            "\n",
            "Classfication Report :\n",
            "               precision    recall  f1-score   support\n",
            "\n",
            "           0       0.89      0.97      0.93      1190\n",
            "           1       0.47      0.19      0.27       167\n",
            "\n",
            "    accuracy                           0.87      1357\n",
            "   macro avg       0.68      0.58      0.60      1357\n",
            "weighted avg       0.84      0.87      0.85      1357\n",
            "\n"
          ]
        }
      ]
    },
    {
      "cell_type": "markdown",
      "source": [],
      "metadata": {
        "id": "B1tpnk53_u7g"
      }
    },
    {
      "cell_type": "markdown",
      "source": [
        "# **K-Nearest Neighbors**"
      ],
      "metadata": {
        "id": "ZFUjx5vUADRI"
      }
    },
    {
      "cell_type": "markdown",
      "source": [
        "Selanjutnya melakukan permodelan dengan K-Nearest Neighbors"
      ],
      "metadata": {
        "id": "suKVrFdhADRI"
      }
    },
    {
      "cell_type": "code",
      "source": [
        "x_train, x_test, y_train, y_test = train_test_split(x, y, test_size=0.3, random_state=0)"
      ],
      "metadata": {
        "id": "gSI3xlg-ADRJ"
      },
      "execution_count": 118,
      "outputs": []
    },
    {
      "cell_type": "code",
      "source": [
        "model = KNeighborsClassifier()\n",
        "model.fit(x_train, y_train)\n",
        "pred_test=model.predict(x_test)"
      ],
      "metadata": {
        "id": "9SWO5avGADRJ"
      },
      "execution_count": 117,
      "outputs": []
    },
    {
      "cell_type": "code",
      "source": [
        "print(\"Akurasi Score :\",accuracy_score(y_test, pred_test),\"\\n\")\n",
        "matrix=confusion_matrix(y_test, pred_test)\n",
        "print(\"Confusion Matrix :\\n\",matrix,\"\\n\")\n",
        "print(\"Classfication Report :\\n\",classification_report(y_test, pred_test))"
      ],
      "metadata": {
        "colab": {
          "base_uri": "https://localhost:8080/"
        },
        "outputId": "a3f37c77-1c8c-464f-d9c6-61354e9c0c91",
        "id": "1k-gQiphADRJ"
      },
      "execution_count": 119,
      "outputs": [
        {
          "output_type": "stream",
          "name": "stdout",
          "text": [
            "Akurasi Score : 0.871039056742815 \n",
            "\n",
            "Confusion Matrix :\n",
            " [[1149   41]\n",
            " [ 134   33]] \n",
            "\n",
            "Classfication Report :\n",
            "               precision    recall  f1-score   support\n",
            "\n",
            "           0       0.90      0.97      0.93      1190\n",
            "           1       0.45      0.20      0.27       167\n",
            "\n",
            "    accuracy                           0.87      1357\n",
            "   macro avg       0.67      0.58      0.60      1357\n",
            "weighted avg       0.84      0.87      0.85      1357\n",
            "\n"
          ]
        }
      ]
    },
    {
      "cell_type": "markdown",
      "source": [
        "# **SVM**"
      ],
      "metadata": {
        "id": "RJCADWIbA8cH"
      }
    },
    {
      "cell_type": "markdown",
      "source": [
        "Selanjutnya melakukan permodelan dengan SVM"
      ],
      "metadata": {
        "id": "UKLvPby1A8cI"
      }
    },
    {
      "cell_type": "code",
      "source": [
        "x_train, x_test, y_train, y_test = train_test_split(x, y, test_size=0.3, random_state=0)"
      ],
      "metadata": {
        "id": "B0fgjQGeA8cI"
      },
      "execution_count": null,
      "outputs": []
    },
    {
      "cell_type": "code",
      "source": [
        "model = svm.SVC()\n",
        "model.fit(x_train, y_train)\n",
        "pred_test=model.predict(x_test)"
      ],
      "metadata": {
        "id": "fRNIxkPzA8cJ"
      },
      "execution_count": null,
      "outputs": []
    },
    {
      "cell_type": "code",
      "source": [
        "print(\"Akurasi Score :\",accuracy_score(y_test, pred_test),\"\\n\")\n",
        "matrix=confusion_matrix(y_test, pred_test)\n",
        "print(\"Confusion Matrix :\\n\",matrix,\"\\n\")\n",
        "print(\"Classfication Report :\\n\",classification_report(y_test, pred_test))"
      ],
      "metadata": {
        "colab": {
          "base_uri": "https://localhost:8080/"
        },
        "outputId": "67ad73cc-4f76-4026-d927-d578455dfcfb",
        "id": "oBtZn7yRA8cK"
      },
      "execution_count": 120,
      "outputs": [
        {
          "output_type": "stream",
          "name": "stdout",
          "text": [
            "Akurasi Score : 0.871039056742815 \n",
            "\n",
            "Confusion Matrix :\n",
            " [[1149   41]\n",
            " [ 134   33]] \n",
            "\n",
            "Classfication Report :\n",
            "               precision    recall  f1-score   support\n",
            "\n",
            "           0       0.90      0.97      0.93      1190\n",
            "           1       0.45      0.20      0.27       167\n",
            "\n",
            "    accuracy                           0.87      1357\n",
            "   macro avg       0.67      0.58      0.60      1357\n",
            "weighted avg       0.84      0.87      0.85      1357\n",
            "\n"
          ]
        }
      ]
    },
    {
      "cell_type": "markdown",
      "source": [
        "# **Decision Tree**"
      ],
      "metadata": {
        "id": "C2GvhYyRBqeq"
      }
    },
    {
      "cell_type": "markdown",
      "source": [
        "Selanjutnya melakukan permodelan dengan Decision Tree"
      ],
      "metadata": {
        "id": "lKbVRFpyBqer"
      }
    },
    {
      "cell_type": "code",
      "source": [
        "x_train, x_test, y_train, y_test = train_test_split(x, y, test_size=0.3, random_state=0)"
      ],
      "metadata": {
        "id": "E8APbbNeBqer"
      },
      "execution_count": 129,
      "outputs": []
    },
    {
      "cell_type": "code",
      "source": [
        "model = DecisionTreeClassifier()\n",
        "model.fit(x_train, y_train)\n",
        "pred_test=model.predict(x_test)"
      ],
      "metadata": {
        "id": "Se1PcqUtBqes"
      },
      "execution_count": 128,
      "outputs": []
    },
    {
      "cell_type": "code",
      "source": [
        "print(\"Akurasi Score :\",accuracy_score(y_test, pred_test),\"\\n\")\n",
        "matrix=confusion_matrix(y_test, pred_test)\n",
        "print(\"Confusion Matrix :\\n\",matrix,\"\\n\")\n",
        "print(\"Classfication Report :\\n\",classification_report(y_test, pred_test))"
      ],
      "metadata": {
        "colab": {
          "base_uri": "https://localhost:8080/"
        },
        "outputId": "e346cfa4-4ced-4712-89fe-459d22cf41a3",
        "id": "Q1Dl7fEjBqes"
      },
      "execution_count": 130,
      "outputs": [
        {
          "output_type": "stream",
          "name": "stdout",
          "text": [
            "Akurasi Score : 0.8621960206337509 \n",
            "\n",
            "Confusion Matrix :\n",
            " [[1099   91]\n",
            " [  96   71]] \n",
            "\n",
            "Classfication Report :\n",
            "               precision    recall  f1-score   support\n",
            "\n",
            "           0       0.92      0.92      0.92      1190\n",
            "           1       0.44      0.43      0.43       167\n",
            "\n",
            "    accuracy                           0.86      1357\n",
            "   macro avg       0.68      0.67      0.68      1357\n",
            "weighted avg       0.86      0.86      0.86      1357\n",
            "\n"
          ]
        }
      ]
    },
    {
      "cell_type": "markdown",
      "source": [
        "# **Random Forest**"
      ],
      "metadata": {
        "id": "WTbdV5CwEHjJ"
      }
    },
    {
      "cell_type": "markdown",
      "source": [
        "Selanjutnya melakukan permodelan dengan Random Forest"
      ],
      "metadata": {
        "id": "NFvsTaUVEHjJ"
      }
    },
    {
      "cell_type": "code",
      "source": [
        "x_train, x_test, y_train, y_test = train_test_split(x, y, test_size=0.3, random_state=0)"
      ],
      "metadata": {
        "id": "vWseyFXiEHjK"
      },
      "execution_count": 124,
      "outputs": []
    },
    {
      "cell_type": "code",
      "source": [
        "model = RandomForestClassifier()\n",
        "model.fit(x_train, y_train)\n",
        "pred_test=model.predict(x_test)"
      ],
      "metadata": {
        "id": "UAD-26auEHjK"
      },
      "execution_count": 127,
      "outputs": []
    },
    {
      "cell_type": "code",
      "source": [
        "print(\"Akurasi Score :\",accuracy_score(y_test, pred_test),\"\\n\")\n",
        "matrix=confusion_matrix(y_test, pred_test)\n",
        "print(\"Confusion Matrix :\\n\",matrix,\"\\n\")\n",
        "print(\"Classfication Report :\\n\",classification_report(y_test, pred_test))"
      ],
      "metadata": {
        "colab": {
          "base_uri": "https://localhost:8080/"
        },
        "outputId": "2f3120ed-e07a-46a2-eaeb-25e7de5b9dc6",
        "id": "7MD5ukbcEHjL"
      },
      "execution_count": 131,
      "outputs": [
        {
          "output_type": "stream",
          "name": "stdout",
          "text": [
            "Akurasi Score : 0.8621960206337509 \n",
            "\n",
            "Confusion Matrix :\n",
            " [[1099   91]\n",
            " [  96   71]] \n",
            "\n",
            "Classfication Report :\n",
            "               precision    recall  f1-score   support\n",
            "\n",
            "           0       0.92      0.92      0.92      1190\n",
            "           1       0.44      0.43      0.43       167\n",
            "\n",
            "    accuracy                           0.86      1357\n",
            "   macro avg       0.68      0.67      0.68      1357\n",
            "weighted avg       0.86      0.86      0.86      1357\n",
            "\n"
          ]
        }
      ]
    },
    {
      "cell_type": "markdown",
      "source": [
        "# **Naive Bayes**"
      ],
      "metadata": {
        "id": "MpzNAa4VEeBB"
      }
    },
    {
      "cell_type": "markdown",
      "source": [
        "Selanjutnya melakukan permodelan dengan Naive Bayes"
      ],
      "metadata": {
        "id": "ZNkFDSb6EeBC"
      }
    },
    {
      "cell_type": "code",
      "source": [
        "x_train, x_test, y_train, y_test = train_test_split(x, y, test_size=0.3, random_state=0)"
      ],
      "metadata": {
        "id": "Mylsj5qOEeBD"
      },
      "execution_count": 132,
      "outputs": []
    },
    {
      "cell_type": "code",
      "source": [
        "model = GaussianNB()\n",
        "model.fit(x_train, y_train)\n",
        "pred_test=model.predict(x_test)"
      ],
      "metadata": {
        "id": "KIOeDWT0EeBD"
      },
      "execution_count": 133,
      "outputs": []
    },
    {
      "cell_type": "code",
      "source": [
        "print(\"Akurasi Score :\",accuracy_score(y_test, pred_test),\"\\n\")\n",
        "matrix=confusion_matrix(y_test, pred_test)\n",
        "print(\"Confusion Matrix :\\n\",matrix,\"\\n\")\n",
        "print(\"Classfication Report :\\n\",classification_report(y_test, pred_test))"
      ],
      "metadata": {
        "colab": {
          "base_uri": "https://localhost:8080/"
        },
        "outputId": "2f3120ed-e07a-46a2-eaeb-25e7de5b9dc6",
        "id": "6MXDxeU4EeBD"
      },
      "execution_count": null,
      "outputs": [
        {
          "output_type": "stream",
          "name": "stdout",
          "text": [
            "Akurasi Score : 0.8621960206337509 \n",
            "\n",
            "Confusion Matrix :\n",
            " [[1099   91]\n",
            " [  96   71]] \n",
            "\n",
            "Classfication Report :\n",
            "               precision    recall  f1-score   support\n",
            "\n",
            "           0       0.92      0.92      0.92      1190\n",
            "           1       0.44      0.43      0.43       167\n",
            "\n",
            "    accuracy                           0.86      1357\n",
            "   macro avg       0.68      0.67      0.68      1357\n",
            "weighted avg       0.86      0.86      0.86      1357\n",
            "\n"
          ]
        }
      ]
    },
    {
      "cell_type": "markdown",
      "source": [
        "**Kesimpulan**\n",
        "\n",
        "Bardasarkan perhitungan serta permodelan yang telah dilakukan, tingkat nilai akurasi terbaik yaitu dengan menggunakan algoritma Random Forest. Tingkat nilai akurasi terendah dengan menggunakan algoritma Naive Bayes."
      ],
      "metadata": {
        "id": "9Ox6rQAyE5KD"
      }
    },
    {
      "cell_type": "code",
      "source": [],
      "metadata": {
        "id": "nV8pq23zFf4n"
      },
      "execution_count": null,
      "outputs": []
    }
  ]
}