{
 "cells": [
  {
   "cell_type": "code",
   "execution_count": 1,
   "id": "1daab041",
   "metadata": {},
   "outputs": [
    {
     "name": "stdout",
     "output_type": "stream",
     "text": [
      "Hai Pras\n"
     ]
    }
   ],
   "source": [
    "print(\"Hai Pras\")"
   ]
  },
  {
   "cell_type": "code",
   "execution_count": 2,
   "id": "1d872237",
   "metadata": {},
   "outputs": [
    {
     "name": "stdout",
     "output_type": "stream",
     "text": [
      "15\n",
      "5\n"
     ]
    }
   ],
   "source": [
    "a = 10\n",
    "b = 5\n",
    "print (a+b)\n",
    "print (a-b)\n"
   ]
  },
  {
   "cell_type": "markdown",
   "id": "b670db41",
   "metadata": {},
   "source": [
    "Integers"
   ]
  },
  {
   "cell_type": "code",
   "execution_count": 3,
   "id": "6d33549e",
   "metadata": {},
   "outputs": [
    {
     "name": "stdout",
     "output_type": "stream",
     "text": [
      "10\n",
      "<class 'int'>\n"
     ]
    }
   ],
   "source": [
    "print (10)\n",
    "print(type(10))"
   ]
  },
  {
   "cell_type": "markdown",
   "id": "fdaacbc4",
   "metadata": {},
   "source": [
    "Floating-Point Numbers"
   ]
  },
  {
   "cell_type": "code",
   "execution_count": 4,
   "id": "db3636a1",
   "metadata": {},
   "outputs": [
    {
     "name": "stdout",
     "output_type": "stream",
     "text": [
      "4.2\n",
      "<class 'float'>\n",
      "4.0\n",
      "0.2\n",
      "4000000.0\n",
      "0.00042\n"
     ]
    }
   ],
   "source": [
    "print (4.2)\n",
    "print(type(4.2))\n",
    "\n",
    "print (4.)\n",
    "print (.2)\n",
    "print (.4e7)\n",
    "print(4.2e-4)\n"
   ]
  },
  {
   "cell_type": "markdown",
   "id": "d4ae1451",
   "metadata": {},
   "source": [
    "Strings"
   ]
  },
  {
   "cell_type": "code",
   "execution_count": 5,
   "id": "333de005",
   "metadata": {},
   "outputs": [
    {
     "name": "stdout",
     "output_type": "stream",
     "text": [
      "I'm a student\n",
      "The book title is : \"Hacktiv8\"\n"
     ]
    }
   ],
   "source": [
    "print(\"I'm a student\")\n",
    "print('The book title is : \"Hacktiv8\"')\n"
   ]
  },
  {
   "cell_type": "code",
   "execution_count": 6,
   "id": "71420c1b",
   "metadata": {},
   "outputs": [
    {
     "name": "stdout",
     "output_type": "stream",
     "text": [
      "<class 'str'>\n",
      "<class 'str'>\n"
     ]
    }
   ],
   "source": [
    "print(type(\"Hacktiv8\"))\n",
    "print(type('Hacktiv8'))\n"
   ]
  },
  {
   "cell_type": "code",
   "execution_count": 7,
   "id": "a522a33a",
   "metadata": {},
   "outputs": [
    {
     "name": "stdout",
     "output_type": "stream",
     "text": [
      "This string contains a single quote (') character.\n",
      "This string contains a double quote (\") character.\n"
     ]
    }
   ],
   "source": [
    "print(\"This string contains a single quote (') character.\")\n",
    "\n",
    "print('This string contains a double quote (\") character.')\n"
   ]
  },
  {
   "cell_type": "markdown",
   "id": "aa3ed896",
   "metadata": {},
   "source": [
    "Boolean Type, Boolean Context and \"\"Truthiness\""
   ]
  },
  {
   "cell_type": "code",
   "execution_count": 8,
   "id": "c2ab18d5",
   "metadata": {},
   "outputs": [
    {
     "name": "stdout",
     "output_type": "stream",
     "text": [
      "<class 'bool'>\n",
      "<class 'bool'>\n"
     ]
    }
   ],
   "source": [
    "print (type(True))\n",
    "print(type(False))"
   ]
  },
  {
   "cell_type": "markdown",
   "id": "c300e4af",
   "metadata": {},
   "source": [
    "Variabel Assignment"
   ]
  },
  {
   "cell_type": "code",
   "execution_count": 10,
   "id": "a1bc8be0",
   "metadata": {},
   "outputs": [
    {
     "ename": "SyntaxError",
     "evalue": "invalid decimal literal (95285118.py, line 1)",
     "output_type": "error",
     "traceback": [
      "\u001b[1;36m  Input \u001b[1;32mIn [10]\u001b[1;36m\u001b[0m\n\u001b[1;33m    9_kepala_naga = \"kepala\"  #Error karena penamaan variable diawali dengan angka\u001b[0m\n\u001b[1;37m     ^\u001b[0m\n\u001b[1;31mSyntaxError\u001b[0m\u001b[1;31m:\u001b[0m invalid decimal literal\n"
     ]
    }
   ],
   "source": [
    "9_kepala_naga = \"kepala\"  #Error karena penamaan variable diawali dengan angka\n",
    "\n"
   ]
  },
  {
   "cell_type": "code",
   "execution_count": 11,
   "id": "972ff8d7",
   "metadata": {},
   "outputs": [
    {
     "name": "stdout",
     "output_type": "stream",
     "text": [
      "Ani Ina\n"
     ]
    }
   ],
   "source": [
    "nama = \"Ani\"\n",
    "Nama = \"Ina\"\n",
    "print (nama, Nama)"
   ]
  },
  {
   "cell_type": "markdown",
   "id": "deb0d0c2",
   "metadata": {},
   "source": [
    "variable Nama"
   ]
  },
  {
   "cell_type": "code",
   "execution_count": null,
   "id": "1e0ccdc5",
   "metadata": {},
   "outputs": [],
   "source": [
    "name = \"Hacktiv 8 \"\n",
    "age = 20\n",
    "has_laptops = True\n",
    "print (name, age, has)"
   ]
  },
  {
   "cell_type": "code",
   "execution_count": 13,
   "id": "1de8088f",
   "metadata": {},
   "outputs": [
    {
     "name": "stdout",
     "output_type": "stream",
     "text": [
      "1 2 3 4 5 6 7 8\n"
     ]
    }
   ],
   "source": [
    "age = 1\n",
    "Age = 2\n",
    "aGe = 3\n",
    "AGE = 4\n",
    "a_g_e = 5\n",
    "_age = 6\n",
    "age_ = 7\n",
    "_AGE_ = 8\n",
    "print(age, Age, aGe, AGE, a_g_e, _age, age_, _AGE_)"
   ]
  },
  {
   "cell_type": "markdown",
   "id": "b11a6a10",
   "metadata": {},
   "source": [
    "Operators and Expressions in Python"
   ]
  },
  {
   "cell_type": "code",
   "execution_count": 15,
   "id": "77164c7e",
   "metadata": {},
   "outputs": [
    {
     "name": "stdout",
     "output_type": "stream",
     "text": [
      "7\n",
      "1\n",
      "12\n",
      "1.3333333333333333\n",
      "1\n",
      "1\n",
      "64\n",
      "<class 'float'>\n",
      "<class 'int'>\n"
     ]
    }
   ],
   "source": [
    "a = 4\n",
    "b = 3\n",
    "\n",
    "print(a + b) #7\n",
    "print(a - b) #1\n",
    "print(a * b) #12\n",
    "print(a / b)  #division\t#1.333\n",
    "print(a // b) #integer division 1\n",
    "print(a % b)  #modulo 1\n",
    "print(a ** b) #pangkat 64\n",
    "print(type(a / b))  #division\t#1.333\n",
    "print(type(a // b)) #integer division 1\n"
   ]
  },
  {
   "cell_type": "code",
   "execution_count": 18,
   "id": "857837c2",
   "metadata": {},
   "outputs": [
    {
     "data": {
      "text/plain": [
       "' foo  foo  foo  foo  foo  hello'"
      ]
     },
     "execution_count": 18,
     "metadata": {},
     "output_type": "execute_result"
    }
   ],
   "source": [
    "# * Operators\n",
    "\n",
    "s = ' foo ' \n",
    "s * 8\n",
    "s * 5 + \" hello\""
   ]
  },
  {
   "cell_type": "markdown",
   "id": "8707ccb4",
   "metadata": {},
   "source": [
    "String Manipulation"
   ]
  },
  {
   "cell_type": "code",
   "execution_count": 21,
   "id": "f3999cb8",
   "metadata": {},
   "outputs": [
    {
     "name": "stdout",
     "output_type": "stream",
     "text": [
      "foo  bar\n",
      "foo  bar baz \n",
      " Hacktiv8  ptp \n"
     ]
    }
   ],
   "source": [
    "s = \"foo \"\n",
    "t = \" bar\"\n",
    "u = \" baz \"\n",
    "\n",
    "print (s + t)\n",
    "print (s+t+u)\n",
    "print (\" Hacktiv8 \"+\" ptp \")"
   ]
  },
  {
   "cell_type": "code",
   "execution_count": null,
   "id": "137ec0dc",
   "metadata": {},
   "outputs": [],
   "source": [
    "# in Operators\n",
    "\n",
    "s = 'foo'\n",
    "print(s in 'That food for us')\n",
    "#   'foo'\n"
   ]
  },
  {
   "cell_type": "code",
   "execution_count": 23,
   "id": "20b8136d",
   "metadata": {},
   "outputs": [
    {
     "name": "stdout",
     "output_type": "stream",
     "text": [
      "True\n",
      "False\n"
     ]
    }
   ],
   "source": [
    "\n",
    "s = 'foo'\n",
    "print(s in 'That food for us')\n",
    "#   'foo'\n",
    "\n",
    "s = 'ccc'\n",
    "print(s in 'That food for us')\n",
    "#   'ccc'"
   ]
  },
  {
   "cell_type": "markdown",
   "id": "e71efe15",
   "metadata": {},
   "source": [
    "List python"
   ]
  },
  {
   "cell_type": "code",
   "execution_count": 29,
   "id": "b897583e",
   "metadata": {},
   "outputs": [
    {
     "data": {
      "text/plain": [
       "False"
      ]
     },
     "execution_count": 29,
     "metadata": {},
     "output_type": "execute_result"
    }
   ],
   "source": [
    "a = ['foo', 'bar', 'baz', 'qux']\n",
    "b =  ['baz', 'qux', 'bar', 'foo']\n",
    "\n",
    "a==b\n"
   ]
  },
  {
   "cell_type": "code",
   "execution_count": 32,
   "id": "5718818e",
   "metadata": {},
   "outputs": [
    {
     "name": "stdout",
     "output_type": "stream",
     "text": [
      "[21.42, 'foobar', 3, 4, 'bark', False, 3.14]\n"
     ]
    }
   ],
   "source": [
    "a = [21.42, 'foobar', 3, 4, 'bark', False, 3.14]\n",
    "print (a)"
   ]
  },
  {
   "cell_type": "code",
   "execution_count": 41,
   "id": "2ebe265a",
   "metadata": {},
   "outputs": [
    {
     "name": "stdout",
     "output_type": "stream",
     "text": [
      "foo\n",
      "corge\n",
      "corge\n",
      "6\n",
      "bar\n",
      "qux\n",
      "['foo', 'bar', 'baz', 'qux', 'quux', 'corge']\n",
      "['foo', 'bar', 'baz', 'qux', 'quux', 'corge', 'grault', 'garply']\n",
      "['foo', 'bar', 'baz', 'qux', 'quux', 'corge', 'foo', 'bar', 'baz', 'qux', 'quux', 'corge']\n"
     ]
    }
   ],
   "source": [
    "a = ['foo', 'bar', 'baz', 'qux', 'quux', 'corge']\n",
    "print (a[0])\n",
    "print(a[5])\n",
    "print(a[-1])\n",
    "a[2:5]\n",
    "\n",
    "print(len(a)) #buat tau panjang\n",
    "print(min(a))\n",
    "print(max(a))\n",
    "\n",
    "print (a)\n",
    "print (a+['grault','garply'])\n",
    "print (a*2)\n",
    "\n"
   ]
  },
  {
   "cell_type": "markdown",
   "id": "fd19aa54",
   "metadata": {},
   "source": [
    "Manipulasi Single List"
   ]
  },
  {
   "cell_type": "code",
   "execution_count": 43,
   "id": "5729f92e",
   "metadata": {},
   "outputs": [
    {
     "name": "stdout",
     "output_type": "stream",
     "text": [
      "['foo', 'bar', 'baz', 'qux', 'quux', 'corge']\n",
      "['foo', 'bar', 10, 'qux', 'quux', 20]\n"
     ]
    }
   ],
   "source": [
    "a = ['foo', 'bar', 'baz', 'qux', 'quux', 'corge']\n",
    "print (a)\n",
    "\n",
    "a[2] = 10\n",
    "a[-1] = 20\n",
    "\n",
    "print (a)"
   ]
  },
  {
   "cell_type": "markdown",
   "id": "1b599c2f",
   "metadata": {},
   "source": [
    "Python Tuples"
   ]
  },
  {
   "cell_type": "code",
   "execution_count": 49,
   "id": "9ec1de7c",
   "metadata": {},
   "outputs": [
    {
     "name": "stdout",
     "output_type": "stream",
     "text": [
      "('foo', 'bar', 'baz', 'qux', 'quux', 'corge')\n",
      "foo\n",
      "corge\n"
     ]
    }
   ],
   "source": [
    "t = ('foo', 'bar', 'baz', 'qux', 'quux', 'corge')\n",
    "print(t)\n",
    "\n",
    "print(t[0])\n",
    "print(t[-1])\n",
    "\n",
    "#packing and unpacking\n",
    "\n",
    "(s1, s2, s3, s4) = ('foo', 'bar', 'baz', 'qux')"
   ]
  },
  {
   "cell_type": "code",
   "execution_count": 3,
   "id": "6f63755b",
   "metadata": {},
   "outputs": [
    {
     "name": "stdout",
     "output_type": "stream",
     "text": [
      "15\n"
     ]
    }
   ],
   "source": [
    "#operasi\n",
    "a = 5\n",
    "b = 10\n",
    "print (a+b)"
   ]
  },
  {
   "cell_type": "code",
   "execution_count": null,
   "id": "9c43aef6",
   "metadata": {},
   "outputs": [],
   "source": []
  }
 ],
 "metadata": {
  "kernelspec": {
   "display_name": "Python 3 (ipykernel)",
   "language": "python",
   "name": "python3"
  },
  "language_info": {
   "codemirror_mode": {
    "name": "ipython",
    "version": 3
   },
   "file_extension": ".py",
   "mimetype": "text/x-python",
   "name": "python",
   "nbconvert_exporter": "python",
   "pygments_lexer": "ipython3",
   "version": "3.9.12"
  }
 },
 "nbformat": 4,
 "nbformat_minor": 5
}
