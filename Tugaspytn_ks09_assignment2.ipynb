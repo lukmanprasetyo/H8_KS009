{
  "cells": [
    {
      "cell_type": "markdown",
      "metadata": {
        "id": "view-in-github",
        "colab_type": "text"
      },
      "source": [
        "<a href=\"https://colab.research.google.com/github/lukmanprasetyo/H8_KS009/blob/master/Tugaspytn_ks09_assignment2.ipynb\" target=\"_parent\"><img src=\"https://colab.research.google.com/assets/colab-badge.svg\" alt=\"Open In Colab\"/></a>"
      ]
    },
    {
      "cell_type": "markdown",
      "id": "1a166508",
      "metadata": {
        "id": "1a166508"
      },
      "source": [
        "```\n",
        "Kalau kita buat listnya/summary dari perintah di module kode id :\n",
        "\n",
        "A. Measure of Central Tendency: Mean     (P/N/S)\n",
        "B. Measure of Central Tendency: Median   (P/N/S)\n",
        "C. Measure of Central Tendency: Modus    (P/N/S)\n",
        "D. Measure of Spread: Range              (P/N/S)\n",
        "E. Measure of Spread: Variance           (P/N/S)\n",
        "F. Measure of Spread: Standard Deviation (P/N/S)\n",
        "G. Probability Distribution              (+C)\n",
        "H. Confidence Intervals\n",
        "I. Hypothesis Testing                    (+C)\n",
        "\n",
        "*for each (A - I):\n",
        "- Question/what data we want to look up\n",
        "- Pre-processing as needed\n",
        "\n",
        "===\n",
        "Keterangan:\n",
        "(P/N/S) : Pandas / NumPy / Scipy\n",
        "(+C)    : +Conclusion (menarik informasi/kesimpulan)\n",
        "\n",
        "===\n",
        "(*)Untuk:\n",
        "- contoh question,  ada di page/halamannya Assignment 2 \"Examples of questions can be ...\"\n",
        "- more detail tentang dekripsi kolom pada dataset & special note tentang dataset, juga ada di halaman yang sama\n",
        "```"
      ]
    },
    {
      "cell_type": "markdown",
      "source": [
        "**Nama**  : Lukman Prasetyo Nugroho \\\n",
        "**Absensi** : 004 \\\n",
        "**Alasan telat**: Terkendala di perangkat (rusak) telah disampaikan ke mentor"
      ],
      "metadata": {
        "id": "8sKtxXskPamQ"
      },
      "id": "8sKtxXskPamQ"
    },
    {
      "cell_type": "code",
      "source": [
        "import math\n",
        "import statistics\n",
        "import numpy as np\n",
        "import scipy.stats\n",
        "import pandas as pd"
      ],
      "metadata": {
        "id": "z2_JUusYOKOA"
      },
      "id": "z2_JUusYOKOA",
      "execution_count": null,
      "outputs": []
    },
    {
      "cell_type": "code",
      "source": [
        "# data yang digunakan \"https://www.abs.gov.au/websitedbs/D3310114.nsf/home/statistical+language+-+measures+of+spread\""
      ],
      "metadata": {
        "id": "TDaiy0YuOBx4"
      },
      "id": "TDaiy0YuOBx4",
      "execution_count": null,
      "outputs": []
    },
    {
      "cell_type": "code",
      "source": [
        "x = [4, 5, 5, 5, 6, 6, 6, 6, 7, 7, 7, 8]\n",
        "x_with_nan = [4, 5, 5, 5, 6, 6, 6, 6, 7, 7, 7, 8]\n",
        "print(x)\n",
        "print(x_with_nan)"
      ],
      "metadata": {
        "colab": {
          "base_uri": "https://localhost:8080/"
        },
        "id": "8QqU8zVePXVn",
        "outputId": "6500c6a0-f882-4956-f2e5-8fd15695aad9"
      },
      "id": "8QqU8zVePXVn",
      "execution_count": null,
      "outputs": [
        {
          "output_type": "stream",
          "name": "stdout",
          "text": [
            "[4, 5, 5, 5, 6, 6, 6, 6, 7, 7, 7, 8]\n",
            "[4, 5, 5, 5, 6, 6, 6, 6, 7, 7, 7, 8]\n"
          ]
        }
      ]
    },
    {
      "cell_type": "code",
      "source": [
        "y, y_with_nan = np.array(x), np.array(x_with_nan)\n",
        "z, z_with_nan = pd.Series(x), pd.Series(x_with_nan)\n",
        "print(y)\n",
        "print(y_with_nan)\n",
        "print(z_with_nan)"
      ],
      "metadata": {
        "colab": {
          "base_uri": "https://localhost:8080/"
        },
        "id": "Qqs8qEmWR-2G",
        "outputId": "fcfe2750-c476-4212-80d5-5525c7761f24"
      },
      "id": "Qqs8qEmWR-2G",
      "execution_count": null,
      "outputs": [
        {
          "output_type": "stream",
          "name": "stdout",
          "text": [
            "[4 5 5 5 6 6 6 6 7 7 7 8]\n",
            "[4 5 5 5 6 6 6 6 7 7 7 8]\n",
            "0     4\n",
            "1     5\n",
            "2     5\n",
            "3     5\n",
            "4     6\n",
            "5     6\n",
            "6     6\n",
            "7     6\n",
            "8     7\n",
            "9     7\n",
            "10    7\n",
            "11    8\n",
            "dtype: int64\n"
          ]
        }
      ]
    },
    {
      "cell_type": "markdown",
      "id": "7dfd9562",
      "metadata": {
        "id": "7dfd9562"
      },
      "source": [
        "---\n",
        "# A. Measure of Central Tendency : Mean"
      ]
    },
    {
      "cell_type": "markdown",
      "id": "8df186fc",
      "metadata": {
        "id": "8df186fc"
      },
      "source": [
        "**Question** Mencari Mean dari data Statistical Language - Measures of Spread\n",
        "step 2*"
      ]
    },
    {
      "cell_type": "code",
      "execution_count": null,
      "id": "f9ac7f09",
      "metadata": {
        "id": "f9ac7f09"
      },
      "outputs": [],
      "source": [
        "# Question: ......"
      ]
    },
    {
      "cell_type": "markdown",
      "id": "dbc535b3",
      "metadata": {
        "id": "dbc535b3"
      },
      "source": [
        "**Pre-processing if needed** // *Student melakukan preproses dataset sebelum melakukan Proses Statistik*"
      ]
    },
    {
      "cell_type": "code",
      "execution_count": null,
      "id": "ceb78fdb",
      "metadata": {
        "id": "ceb78fdb"
      },
      "outputs": [],
      "source": [
        "# 1. pre-processing as needed\n"
      ]
    },
    {
      "cell_type": "code",
      "execution_count": null,
      "id": "2a13ac40",
      "metadata": {
        "id": "2a13ac40",
        "colab": {
          "base_uri": "https://localhost:8080/"
        },
        "outputId": "2630b0d4-3c01-459d-9016-019badccb1b9"
      },
      "outputs": [
        {
          "output_type": "execute_result",
          "data": {
            "text/plain": [
              "6.0"
            ]
          },
          "metadata": {},
          "execution_count": 5
        }
      ],
      "source": [
        "mean_ = sum(x) / len(x)\n",
        "mean_"
      ]
    },
    {
      "cell_type": "code",
      "source": [
        "mean_ = statistics.mean(x)\n",
        "print(mean_)"
      ],
      "metadata": {
        "colab": {
          "base_uri": "https://localhost:8080/"
        },
        "id": "jkhd5mFhP773",
        "outputId": "9828a94d-f64f-402d-9439-a25a021bba17"
      },
      "id": "jkhd5mFhP773",
      "execution_count": null,
      "outputs": [
        {
          "output_type": "stream",
          "name": "stdout",
          "text": [
            "6\n"
          ]
        }
      ]
    },
    {
      "cell_type": "markdown",
      "id": "7f60908c",
      "metadata": {
        "id": "7f60908c"
      },
      "source": [
        "**Implement statistical method** // *Mengimplementaskan Mean dari kolom/data spesifik menggunakan Pandas, NumPy, atau Scipy*"
      ]
    },
    {
      "cell_type": "code",
      "execution_count": null,
      "id": "9d09cb07",
      "metadata": {
        "id": "9d09cb07",
        "colab": {
          "base_uri": "https://localhost:8080/"
        },
        "outputId": "3c2c0e2e-08ed-47e0-c8f1-9f1f192a3b11"
      },
      "outputs": [
        {
          "output_type": "execute_result",
          "data": {
            "text/plain": [
              "6.0"
            ]
          },
          "metadata": {},
          "execution_count": 8
        }
      ],
      "source": [
        "# 2. Implement/try-to-use statistical method here ..\n",
        "#Menggunakan Method yang disediakan oleh NumPy\n",
        "\n",
        "mean_ = np.mean(x)\n",
        "mean_\n",
        "#akan menghasilkan nilai tengah 6\n"
      ]
    },
    {
      "cell_type": "code",
      "source": [
        "#Numpy menggunakan method .mean()\n",
        "mean_ = y.mean()\n",
        "mean_"
      ],
      "metadata": {
        "colab": {
          "base_uri": "https://localhost:8080/"
        },
        "id": "pHEZ818mRn2_",
        "outputId": "e6b13856-6665-4d9e-cdc5-09e6ad10bd27"
      },
      "id": "pHEZ818mRn2_",
      "execution_count": null,
      "outputs": [
        {
          "output_type": "execute_result",
          "data": {
            "text/plain": [
              "6.0"
            ]
          },
          "metadata": {},
          "execution_count": 13
        }
      ]
    },
    {
      "cell_type": "code",
      "source": [
        "#Pandas menggunakan method .mean()\n",
        "mean_ = z.mean()\n",
        "mean_"
      ],
      "metadata": {
        "colab": {
          "base_uri": "https://localhost:8080/"
        },
        "id": "JgHKszCPSZWR",
        "outputId": "366c434c-0061-4895-c214-6e4e3a835488"
      },
      "id": "JgHKszCPSZWR",
      "execution_count": null,
      "outputs": [
        {
          "output_type": "execute_result",
          "data": {
            "text/plain": [
              "6.0"
            ]
          },
          "metadata": {},
          "execution_count": 14
        }
      ]
    },
    {
      "cell_type": "markdown",
      "id": "4a193849",
      "metadata": {
        "id": "4a193849"
      },
      "source": [
        "---\n",
        "# B. Measure of Central Tendency : Median"
      ]
    },
    {
      "cell_type": "code",
      "execution_count": null,
      "id": "4d31ef2a",
      "metadata": {
        "id": "4d31ef2a"
      },
      "outputs": [],
      "source": [
        "# Question: Mencari Median (nilai tengah) dari data Statistical Language - Measures of Spread"
      ]
    },
    {
      "cell_type": "code",
      "execution_count": null,
      "id": "ade0039d",
      "metadata": {
        "id": "ade0039d"
      },
      "outputs": [],
      "source": [
        "# 1. pre-processing as needed"
      ]
    },
    {
      "cell_type": "code",
      "source": [
        "#menggunakan python pure\n",
        "n = len(x)\n",
        "if n % 2:\n",
        "    median_ = sorted(x)[round(0.5*(n-1))]\n",
        "else:\n",
        "    x_ord, index = sorted(x), round(0.5 * n)\n",
        "    median_ = 0.5 * (x_ord[index-1] + x_ord[index])\n",
        "\n",
        "median_"
      ],
      "metadata": {
        "colab": {
          "base_uri": "https://localhost:8080/"
        },
        "id": "C676sGJ_TqGz",
        "outputId": "e35b04ac-a2cf-4715-e533-ba7e5c195d23"
      },
      "id": "C676sGJ_TqGz",
      "execution_count": null,
      "outputs": [
        {
          "output_type": "execute_result",
          "data": {
            "text/plain": [
              "6.0"
            ]
          },
          "metadata": {},
          "execution_count": 15
        }
      ]
    },
    {
      "cell_type": "code",
      "execution_count": null,
      "id": "54184f49",
      "metadata": {
        "id": "54184f49"
      },
      "outputs": [],
      "source": [
        "# 2. Implement/try-to-use statistical method here .."
      ]
    },
    {
      "cell_type": "code",
      "source": [
        "#menggunakan fungsi median(),(low),(high)\n",
        "print(statistics.median(x_with_nan))\n",
        "print(statistics.median_low(x_with_nan))\n",
        "print(statistics.median_high(x_with_nan))\n"
      ],
      "metadata": {
        "colab": {
          "base_uri": "https://localhost:8080/"
        },
        "id": "xtlCQDd0T6i8",
        "outputId": "ee453b6c-23ea-45e9-d163-42a25bfdddab"
      },
      "id": "xtlCQDd0T6i8",
      "execution_count": null,
      "outputs": [
        {
          "output_type": "stream",
          "name": "stdout",
          "text": [
            "6.0\n",
            "6\n",
            "6\n"
          ]
        }
      ]
    },
    {
      "cell_type": "code",
      "source": [
        "#menggunakan Numpy\n",
        "median_ = np.median(y)\n",
        "print(median_)"
      ],
      "metadata": {
        "colab": {
          "base_uri": "https://localhost:8080/"
        },
        "id": "lxT3I36eUFol",
        "outputId": "66540371-5d86-4cfb-e99a-7a0439c47b81"
      },
      "id": "lxT3I36eUFol",
      "execution_count": null,
      "outputs": [
        {
          "output_type": "stream",
          "name": "stdout",
          "text": [
            "6.0\n"
          ]
        }
      ]
    },
    {
      "cell_type": "code",
      "source": [
        "median_ = np.median(y[:-1])\n",
        "print(median_)"
      ],
      "metadata": {
        "colab": {
          "base_uri": "https://localhost:8080/"
        },
        "id": "5cPZj_WIUW3f",
        "outputId": "0d98c61a-66ad-46d1-b30b-9f7e76b52d76"
      },
      "id": "5cPZj_WIUW3f",
      "execution_count": null,
      "outputs": [
        {
          "output_type": "stream",
          "name": "stdout",
          "text": [
            "6.0\n"
          ]
        }
      ]
    },
    {
      "cell_type": "markdown",
      "id": "38f3aa2b",
      "metadata": {
        "id": "38f3aa2b"
      },
      "source": [
        "\n",
        "..."
      ]
    },
    {
      "cell_type": "markdown",
      "metadata": {
        "id": "GmQP8MIdUdUE"
      },
      "source": [
        "---\n",
        "# C. Measure of Central Tendency : Modus/Mode"
      ],
      "id": "GmQP8MIdUdUE"
    },
    {
      "cell_type": "code",
      "execution_count": null,
      "metadata": {
        "id": "JeIcUCe1UdUF"
      },
      "outputs": [],
      "source": [
        "# Question: Mencari Modus (nilai tengah) dari data Statistical Language - Measures of Spread"
      ],
      "id": "JeIcUCe1UdUF"
    },
    {
      "cell_type": "code",
      "execution_count": null,
      "metadata": {
        "id": "coM7ITDQUdUG"
      },
      "outputs": [],
      "source": [
        "# 1. pre-processing as needed"
      ],
      "id": "coM7ITDQUdUG"
    },
    {
      "cell_type": "code",
      "source": [
        "u = [4, 5, 5, 5, 6, 6, 6, 6, 7, 7, 7, 8]\n",
        "v = [1, 2, 3, 4, 5, 6, 6, 7, 8, 9, 10, 11]\n",
        "\n",
        "mode_ = max((u.count(item), item) for item in set(u))[1]\n",
        "mode_"
      ],
      "metadata": {
        "colab": {
          "base_uri": "https://localhost:8080/"
        },
        "outputId": "af52bbae-186f-44bb-dcb9-11d65ba83827",
        "id": "40sbA1o-UdUG"
      },
      "execution_count": null,
      "outputs": [
        {
          "output_type": "execute_result",
          "data": {
            "text/plain": [
              "6"
            ]
          },
          "metadata": {},
          "execution_count": 20
        }
      ],
      "id": "40sbA1o-UdUG"
    },
    {
      "cell_type": "code",
      "source": [
        "mode_ = statistics.mode(u)\n",
        "mode_"
      ],
      "metadata": {
        "colab": {
          "base_uri": "https://localhost:8080/"
        },
        "id": "3LHTWJSjUzl1",
        "outputId": "e555b1b4-827f-4743-85d6-f2efb6a7f877"
      },
      "id": "3LHTWJSjUzl1",
      "execution_count": null,
      "outputs": [
        {
          "output_type": "execute_result",
          "data": {
            "text/plain": [
              "6"
            ]
          },
          "metadata": {},
          "execution_count": 21
        }
      ]
    },
    {
      "cell_type": "code",
      "execution_count": null,
      "metadata": {
        "id": "QYQcqahRUdUI"
      },
      "outputs": [],
      "source": [
        "# 2. Implement/try-to-use statistical method here .."
      ],
      "id": "QYQcqahRUdUI"
    },
    {
      "cell_type": "code",
      "source": [
        "#menggunakan scipy.stats.mode()\n",
        "u, v = np.array(u), np.array(v)\n",
        "\n",
        "mode_ = scipy.stats.mode(u)\n",
        "mode_"
      ],
      "metadata": {
        "colab": {
          "base_uri": "https://localhost:8080/"
        },
        "outputId": "9a6a12c3-d90f-4b73-eb04-4668a258bd72",
        "id": "5Li9OOTcUdUJ"
      },
      "execution_count": null,
      "outputs": [
        {
          "output_type": "execute_result",
          "data": {
            "text/plain": [
              "ModeResult(mode=array([6]), count=array([4]))"
            ]
          },
          "metadata": {},
          "execution_count": 22
        }
      ],
      "id": "5Li9OOTcUdUJ"
    },
    {
      "cell_type": "markdown",
      "metadata": {
        "id": "wTsrkGxUUdUN"
      },
      "source": [
        "\n",
        "..."
      ],
      "id": "wTsrkGxUUdUN"
    },
    {
      "cell_type": "markdown",
      "metadata": {
        "id": "xKSvwPJjVXnf"
      },
      "source": [
        "---\n",
        "# D. Measure of Central Tendency : Range"
      ],
      "id": "xKSvwPJjVXnf"
    },
    {
      "cell_type": "code",
      "execution_count": null,
      "metadata": {
        "id": "h7bOZw00VXn5"
      },
      "outputs": [],
      "source": [
        "# Question: Mencari Range (Rentang Data) dari data Statistical Language - Measures of Spread"
      ],
      "id": "h7bOZw00VXn5"
    },
    {
      "cell_type": "code",
      "execution_count": null,
      "metadata": {
        "id": "J2WVquJGVXn6"
      },
      "outputs": [],
      "source": [
        "# 1. pre-processing as needed"
      ],
      "id": "J2WVquJGVXn6"
    },
    {
      "cell_type": "code",
      "source": [
        "u = [4, 5, 5, 5, 6, 6, 6, 6, 7, 7, 7, 8]\n",
        "v = [1, 2, 3, 4, 5, 6, 6, 7, 8, 9, 10, 11]\n",
        "\n",
        "print(u)\n",
        "print(v)"
      ],
      "metadata": {
        "colab": {
          "base_uri": "https://localhost:8080/"
        },
        "outputId": "eff5a4b3-1379-415f-96e7-e35c10007c95",
        "id": "OGtLEazXVXn7"
      },
      "execution_count": null,
      "outputs": [
        {
          "output_type": "stream",
          "name": "stdout",
          "text": [
            "[4, 5, 5, 5, 6, 6, 6, 6, 7, 7, 7, 8]\n",
            "[1, 2, 3, 4, 5, 6, 6, 7, 8, 9, 10, 11]\n"
          ]
        }
      ],
      "id": "OGtLEazXVXn7"
    },
    {
      "cell_type": "code",
      "source": [
        "np.ptp(u)"
      ],
      "metadata": {
        "colab": {
          "base_uri": "https://localhost:8080/"
        },
        "outputId": "ccde7f07-4135-474e-96fa-1e034dce4246",
        "id": "anC1maevVXn8"
      },
      "execution_count": null,
      "outputs": [
        {
          "output_type": "execute_result",
          "data": {
            "text/plain": [
              "4"
            ]
          },
          "metadata": {},
          "execution_count": 26
        }
      ],
      "id": "anC1maevVXn8"
    },
    {
      "cell_type": "code",
      "execution_count": null,
      "metadata": {
        "id": "CcD5d-i2VXn9"
      },
      "outputs": [],
      "source": [
        "# 2. Implement/try-to-use statistical method here .."
      ],
      "id": "CcD5d-i2VXn9"
    },
    {
      "cell_type": "code",
      "source": [
        "#menggunakan fungsi dan method Python, Numpy atau pandas\n",
        "\n",
        "#untuk mengetahui nilai max dan min menggunakan Numpy\n",
        "\n",
        "np.amax(u) - np.min(v)\n",
        "#hasilnya akan 7, nilai terbesar 8 dikurangi nilai terkecil 1 "
      ],
      "metadata": {
        "colab": {
          "base_uri": "https://localhost:8080/"
        },
        "outputId": "a0a30179-cb67-4232-c265-3abd2ffd2610",
        "id": "tuwJ9MNLVXn-"
      },
      "execution_count": null,
      "outputs": [
        {
          "output_type": "execute_result",
          "data": {
            "text/plain": [
              "7"
            ]
          },
          "metadata": {},
          "execution_count": 28
        }
      ],
      "id": "tuwJ9MNLVXn-"
    },
    {
      "cell_type": "markdown",
      "metadata": {
        "id": "KLNsU2UnVXn-"
      },
      "source": [
        "\n",
        "..."
      ],
      "id": "KLNsU2UnVXn-"
    },
    {
      "cell_type": "markdown",
      "metadata": {
        "id": "fgsBcPU2XVAU"
      },
      "source": [
        "---\n",
        "# E. Measure of Central Tendency : Variance"
      ],
      "id": "fgsBcPU2XVAU"
    },
    {
      "cell_type": "code",
      "execution_count": null,
      "metadata": {
        "id": "xl6GEqWTXVAV"
      },
      "outputs": [],
      "source": [
        "# Question: Menghitung (Variance) dari data Statistical Language - Measures of Spread"
      ],
      "id": "xl6GEqWTXVAV"
    },
    {
      "cell_type": "code",
      "execution_count": null,
      "metadata": {
        "id": "YtUPDJrbXVAW"
      },
      "outputs": [],
      "source": [
        "# 1. pre-processing as needed"
      ],
      "id": "YtUPDJrbXVAW"
    },
    {
      "cell_type": "code",
      "source": [
        "u = [4, 5, 5, 5, 6, 6, 6, 6, 7, 7, 7, 8]\n",
        "v = [1, 2, 3, 4, 5, 6, 6, 7, 8, 9, 10, 11]\n",
        "\n",
        "print(u)\n",
        "print(v)"
      ],
      "metadata": {
        "colab": {
          "base_uri": "https://localhost:8080/"
        },
        "outputId": "eff5a4b3-1379-415f-96e7-e35c10007c95",
        "id": "OjLvO6bmXVAW"
      },
      "execution_count": null,
      "outputs": [
        {
          "output_type": "stream",
          "name": "stdout",
          "text": [
            "[4, 5, 5, 5, 6, 6, 6, 6, 7, 7, 7, 8]\n",
            "[1, 2, 3, 4, 5, 6, 6, 7, 8, 9, 10, 11]\n"
          ]
        }
      ],
      "id": "OjLvO6bmXVAW"
    },
    {
      "cell_type": "code",
      "source": [
        "n = len(u)\n",
        "mean_ = sum(u) / n\n",
        "\n",
        "var_ = sum((item - mean_)**2 for item in x) / (n - 1)\n",
        "var_\n"
      ],
      "metadata": {
        "colab": {
          "base_uri": "https://localhost:8080/"
        },
        "outputId": "5e6c9a0c-9280-4fc2-8d95-21a004910865",
        "id": "IaWuyT-QXVAX"
      },
      "execution_count": null,
      "outputs": [
        {
          "output_type": "execute_result",
          "data": {
            "text/plain": [
              "1.2727272727272727"
            ]
          },
          "metadata": {},
          "execution_count": 36
        }
      ],
      "id": "IaWuyT-QXVAX"
    },
    {
      "cell_type": "code",
      "execution_count": null,
      "metadata": {
        "id": "TrS_9cX7XVAY"
      },
      "outputs": [],
      "source": [
        "# 2. Implement/try-to-use statistical method here .."
      ],
      "id": "TrS_9cX7XVAY"
    },
    {
      "cell_type": "code",
      "source": [
        "#menggunakan fungsi dan method Python, Numpy atau pandas\n",
        "\n",
        "#Menggunakan fungsi statistics.variance()\n",
        "\n",
        "var_ = statistics.variance(x)\n",
        "var_"
      ],
      "metadata": {
        "colab": {
          "base_uri": "https://localhost:8080/"
        },
        "outputId": "490f6c9b-40fe-4330-ce46-e90c9bf2fe70",
        "id": "u0Shq7wqXVAZ"
      },
      "execution_count": null,
      "outputs": [
        {
          "output_type": "execute_result",
          "data": {
            "text/plain": [
              "1.2727272727272727"
            ]
          },
          "metadata": {},
          "execution_count": 38
        }
      ],
      "id": "u0Shq7wqXVAZ"
    },
    {
      "cell_type": "code",
      "source": [
        "#Menggunakan Numpy\n",
        "var_ = np.var(u, ddof=1)\n",
        "var_"
      ],
      "metadata": {
        "colab": {
          "base_uri": "https://localhost:8080/"
        },
        "id": "0W_8cT1WYZAo",
        "outputId": "75fb6ac5-f7ee-47c0-c18f-0f868abb8d1d"
      },
      "id": "0W_8cT1WYZAo",
      "execution_count": null,
      "outputs": [
        {
          "output_type": "execute_result",
          "data": {
            "text/plain": [
              "1.2727272727272727"
            ]
          },
          "metadata": {},
          "execution_count": 41
        }
      ]
    },
    {
      "cell_type": "code",
      "source": [],
      "metadata": {
        "id": "Srfk0ciIYg0t"
      },
      "id": "Srfk0ciIYg0t",
      "execution_count": null,
      "outputs": []
    },
    {
      "cell_type": "markdown",
      "metadata": {
        "id": "E0WgzKaSY3AB"
      },
      "source": [
        "---\n",
        "# F. Measure of Central Tendency : Standard Deviation"
      ],
      "id": "E0WgzKaSY3AB"
    },
    {
      "cell_type": "code",
      "execution_count": null,
      "metadata": {
        "id": "fsPqJPmkY3AC"
      },
      "outputs": [],
      "source": [
        "# Question: Menghitung Standard Deviation dari data Statistical Language - Measures of Spread"
      ],
      "id": "fsPqJPmkY3AC"
    },
    {
      "cell_type": "code",
      "execution_count": null,
      "metadata": {
        "id": "vEs1H0EoY3AD"
      },
      "outputs": [],
      "source": [
        "# 1. pre-processing as needed"
      ],
      "id": "vEs1H0EoY3AD"
    },
    {
      "cell_type": "code",
      "source": [
        "u = [4, 5, 5, 5, 6, 6, 6, 6, 7, 7, 7, 8]\n",
        "v = [1, 2, 3, 4, 5, 6, 6, 7, 8, 9, 10, 11]\n",
        "\n",
        "print(u)\n",
        "print(v)"
      ],
      "metadata": {
        "colab": {
          "base_uri": "https://localhost:8080/"
        },
        "outputId": "eff5a4b3-1379-415f-96e7-e35c10007c95",
        "id": "ltGIWt_RY3AE"
      },
      "execution_count": null,
      "outputs": [
        {
          "output_type": "stream",
          "name": "stdout",
          "text": [
            "[4, 5, 5, 5, 6, 6, 6, 6, 7, 7, 7, 8]\n",
            "[1, 2, 3, 4, 5, 6, 6, 7, 8, 9, 10, 11]\n"
          ]
        }
      ],
      "id": "ltGIWt_RY3AE"
    },
    {
      "cell_type": "code",
      "source": [
        "std_ = var_ ** 0.5\n",
        "std_"
      ],
      "metadata": {
        "colab": {
          "base_uri": "https://localhost:8080/"
        },
        "outputId": "385ad95e-8c22-416d-c125-af4c9d593ef0",
        "id": "S-iE8AktY3AF"
      },
      "execution_count": null,
      "outputs": [
        {
          "output_type": "execute_result",
          "data": {
            "text/plain": [
              "1.1281521496355325"
            ]
          },
          "metadata": {},
          "execution_count": 43
        }
      ],
      "id": "S-iE8AktY3AF"
    },
    {
      "cell_type": "code",
      "execution_count": null,
      "metadata": {
        "id": "jMrQl97nY3AG"
      },
      "outputs": [],
      "source": [
        "# 2. Implement/try-to-use statistical method here .."
      ],
      "id": "jMrQl97nY3AG"
    },
    {
      "cell_type": "code",
      "source": [
        "#menggunakan fungsi dan method Python, Numpy atau pandas\n",
        "\n",
        "#Menggunakan fungsi statistics.stdev():\n",
        "std_ = statistics.stdev(x)\n",
        "std_"
      ],
      "metadata": {
        "colab": {
          "base_uri": "https://localhost:8080/"
        },
        "outputId": "ac479c4b-206b-453a-ad35-bcec0c14dfdb",
        "id": "Wa7efrbuY3AH"
      },
      "execution_count": null,
      "outputs": [
        {
          "output_type": "execute_result",
          "data": {
            "text/plain": [
              "1.1281521496355325"
            ]
          },
          "metadata": {},
          "execution_count": 44
        }
      ],
      "id": "Wa7efrbuY3AH"
    },
    {
      "cell_type": "code",
      "source": [
        "#Menggunakan Numpy\n",
        "np.std(y, ddof=1)"
      ],
      "metadata": {
        "colab": {
          "base_uri": "https://localhost:8080/"
        },
        "outputId": "755c45dc-ac28-4ccf-a727-446967ea924c",
        "id": "Ug00TZJXY3AI"
      },
      "execution_count": null,
      "outputs": [
        {
          "output_type": "execute_result",
          "data": {
            "text/plain": [
              "1.1281521496355325"
            ]
          },
          "metadata": {},
          "execution_count": 45
        }
      ],
      "id": "Ug00TZJXY3AI"
    },
    {
      "cell_type": "code",
      "source": [
        "#Menggunakan Pandas\n",
        "z.std(ddof=1)"
      ],
      "metadata": {
        "colab": {
          "base_uri": "https://localhost:8080/"
        },
        "id": "rHDiNPJtZuIK",
        "outputId": "91b7c7a1-1bd7-43f9-aa2f-e7269b398b66"
      },
      "id": "rHDiNPJtZuIK",
      "execution_count": null,
      "outputs": [
        {
          "output_type": "execute_result",
          "data": {
            "text/plain": [
              "1.1281521496355325"
            ]
          },
          "metadata": {},
          "execution_count": 46
        }
      ]
    },
    {
      "cell_type": "markdown",
      "metadata": {
        "id": "qrcBXeH4ayE3"
      },
      "source": [
        "---\n",
        "# G. Probability Distribution "
      ],
      "id": "qrcBXeH4ayE3"
    },
    {
      "cell_type": "code",
      "execution_count": null,
      "metadata": {
        "id": "8Do7cxW5ayE6"
      },
      "outputs": [],
      "source": [
        "# Question: Kesimpulan Probability Distribution dari data Statistical Language - Measures of Spread"
      ],
      "id": "8Do7cxW5ayE6"
    },
    {
      "cell_type": "markdown",
      "source": [
        "untuk mengetahui kemungkinan hasil yang berbeda, disini saya menampilkannya menggunakan Normal distribusi untuk mengetahui apakah data yang ada berada dalan jarak satu standard deviation dari mean."
      ],
      "metadata": {
        "id": "eEKygoagbQhH"
      },
      "id": "eEKygoagbQhH"
    },
    {
      "cell_type": "code",
      "execution_count": null,
      "metadata": {
        "id": "5IvZYHVhayE8"
      },
      "outputs": [],
      "source": [
        "# 1. pre-processing as needed"
      ],
      "id": "5IvZYHVhayE8"
    },
    {
      "cell_type": "code",
      "source": [
        "\n",
        "%matplotlib inline\n",
        "import matplotlib.pyplot as plt\n",
        "from IPython.display import Math, Latex\n",
        "from IPython.core.display import Image"
      ],
      "metadata": {
        "id": "tcG4DkuXcKq5"
      },
      "id": "tcG4DkuXcKq5",
      "execution_count": null,
      "outputs": []
    },
    {
      "cell_type": "code",
      "source": [
        "import seaborn as sns\n",
        "sns.set(color_codes=True)\n",
        "sns.set(rc={'figure.figsize':(5,5)})"
      ],
      "metadata": {
        "id": "QMes99V-c_Xk"
      },
      "id": "QMes99V-c_Xk",
      "execution_count": null,
      "outputs": []
    },
    {
      "cell_type": "code",
      "source": [
        "from scipy.stats import norm\n",
        "# generate random numbers from N(0,1)\n",
        "data_normal = [4, 5, 5, 5, 6, 6, 6, 6, 7, 7, 7, 8]"
      ],
      "metadata": {
        "id": "ABq_ZDaPayE8"
      },
      "execution_count": null,
      "outputs": [],
      "id": "ABq_ZDaPayE8"
    },
    {
      "cell_type": "code",
      "source": [
        "ax = sns.distplot(data_normal,\n",
        "                  bins=100,\n",
        "                  kde=True,\n",
        "                  color='skyblue',\n",
        "                  hist_kws={\"linewidth\": 15,'alpha':1})\n",
        "ax.set(xlabel='Normal Distribution', ylabel='Frequency')"
      ],
      "metadata": {
        "colab": {
          "base_uri": "https://localhost:8080/"
        },
        "outputId": "17a95ca2-d0b7-4f0b-d86b-0fde4d6067bf",
        "id": "mLMe8AqTayE-"
      },
      "execution_count": null,
      "outputs": [
        {
          "output_type": "stream",
          "name": "stderr",
          "text": [
            "/usr/local/lib/python3.7/dist-packages/seaborn/distributions.py:2619: FutureWarning: `distplot` is a deprecated function and will be removed in a future version. Please adapt your code to use either `displot` (a figure-level function with similar flexibility) or `histplot` (an axes-level function for histograms).\n",
            "  warnings.warn(msg, FutureWarning)\n"
          ]
        },
        {
          "output_type": "execute_result",
          "data": {
            "text/plain": [
              "[Text(0, 0.5, 'Frequency'), Text(0.5, 0, 'Normal Distribution')]"
            ]
          },
          "metadata": {},
          "execution_count": 70
        },
        {
          "output_type": "display_data",
          "data": {
            "text/plain": [
              "<Figure size 360x360 with 1 Axes>"
            ],
            "image/png": "[encoded data removed]"
          },
          "metadata": {}
        }
      ],
      "id": "mLMe8AqTayE-"
    },
    {
      "cell_type": "markdown",
      "metadata": {
        "id": "xMIUjUROdbH-"
      },
      "source": [
        "---\n",
        "# H. Confidence Intervals "
      ],
      "id": "xMIUjUROdbH-"
    },
    {
      "cell_type": "code",
      "execution_count": null,
      "metadata": {
        "id": "iEvBz9X_dbH_"
      },
      "outputs": [],
      "source": [
        "# Question: Kesimpulan Confidence Intervals  dari data Statistical Language - Measures of Spread"
      ],
      "id": "iEvBz9X_dbH_"
    },
    {
      "cell_type": "markdown",
      "source": [
        "untuk mengetahui kemungkinan hasil yang berbeda, disini saya menampilkannya menggunakan Normal distribusi untuk mengetahui apakah data yang ada berada dalan jarak satu standard deviation dari mean."
      ],
      "metadata": {
        "id": "7fYdOD3udbIA"
      },
      "id": "7fYdOD3udbIA"
    },
    {
      "cell_type": "code",
      "execution_count": null,
      "metadata": {
        "id": "UXVrIB6mdbIA"
      },
      "outputs": [],
      "source": [
        "# 1. pre-processing as needed"
      ],
      "id": "UXVrIB6mdbIA"
    },
    {
      "cell_type": "code",
      "source": [
        "\n",
        "%matplotlib inline\n",
        "import matplotlib.pyplot as plt\n",
        "from IPython.display import Math, Latex\n",
        "from IPython.core.display import Image"
      ],
      "metadata": {
        "id": "o5FIbHDDdbIB"
      },
      "execution_count": null,
      "outputs": [],
      "id": "o5FIbHDDdbIB"
    },
    {
      "cell_type": "code",
      "source": [
        "import seaborn as sns\n",
        "sns.set(color_codes=True)\n",
        "sns.set(rc={'figure.figsize':(5,5)})"
      ],
      "metadata": {
        "id": "90D8872NdbIC"
      },
      "execution_count": null,
      "outputs": [],
      "id": "90D8872NdbIC"
    },
    {
      "cell_type": "code",
      "source": [
        "from scipy.stats import norm\n",
        "# generate random numbers from N(0,1)\n",
        "data_normal = [4, 5, 5, 5, 6, 6, 6, 6, 7, 7, 7, 8]"
      ],
      "metadata": {
        "id": "b-qeHkmjdbID"
      },
      "execution_count": null,
      "outputs": [],
      "id": "b-qeHkmjdbID"
    },
    {
      "cell_type": "code",
      "source": [
        "ax = sns.distplot(data_normal,\n",
        "                  bins=100,\n",
        "                  kde=True,\n",
        "                  color='skyblue',\n",
        "                  hist_kws={\"linewidth\": 15,'alpha':1})\n",
        "ax.set(xlabel='Confidence Intervals', ylabel='Frequency')"
      ],
      "metadata": {
        "colab": {
          "base_uri": "https://localhost:8080/",
          "height": 414
        },
        "outputId": "baf59e86-6851-45e2-dbae-b1cec2a8286f",
        "id": "GGayZeNXdbID"
      },
      "execution_count": null,
      "outputs": [
        {
          "output_type": "stream",
          "name": "stderr",
          "text": [
            "/usr/local/lib/python3.7/dist-packages/seaborn/distributions.py:2619: FutureWarning: `distplot` is a deprecated function and will be removed in a future version. Please adapt your code to use either `displot` (a figure-level function with similar flexibility) or `histplot` (an axes-level function for histograms).\n",
            "  warnings.warn(msg, FutureWarning)\n"
          ]
        },
        {
          "output_type": "execute_result",
          "data": {
            "text/plain": [
              "[Text(0, 0.5, 'Frequency'), Text(0.5, 0, 'Confidence Intervals')]"
            ]
          },
          "metadata": {},
          "execution_count": 78
        },
        {
          "output_type": "display_data",
          "data": {
            "text/plain": [
              "<Figure size 360x360 with 1 Axes>"
            ],
            "image/png": "[encoded data removed]"
          },
          "metadata": {}
        }
      ],
      "id": "GGayZeNXdbID"
    },
    {
      "cell_type": "code",
      "source": [],
      "metadata": {
        "id": "8yp5kqjQf0BJ"
      },
      "id": "8yp5kqjQf0BJ",
      "execution_count": null,
      "outputs": []
    },
    {
      "cell_type": "markdown",
      "metadata": {
        "id": "EcueoiOOf-JG"
      },
      "source": [
        "---\n",
        "# I. Hypothesis Testing "
      ],
      "id": "EcueoiOOf-JG"
    },
    {
      "cell_type": "code",
      "execution_count": null,
      "metadata": {
        "id": "TvQ2Hbr6f-JI"
      },
      "outputs": [],
      "source": [
        "# Question: Kesimpulan Hypothesis Testing  dari data Statistical Language - Measures of Spread"
      ],
      "id": "TvQ2Hbr6f-JI"
    },
    {
      "cell_type": "markdown",
      "source": [
        "# **Kesimpulan**, berdasarkan perhitungan yang telah dilakukan dari A-H, data Statistical Language - Measures Of Spread mempunyai nilai median 6. Dapat dilihat pada Confidence intervel, angka 6 terletak di tengah tengah yang artinya perhitungan yang dilakukan telah sesuai."
      ],
      "metadata": {
        "id": "qm18TFdYf-JJ"
      },
      "id": "qm18TFdYf-JJ"
    }
  ],
  "metadata": {
    "kernelspec": {
      "display_name": "Python 3.9.7 ('base')",
      "language": "python",
      "name": "python397jvsc74a57bd06d46af94c2bbce495f1e668725902fa517c90b1782bcfe2fce0dd9868df553d3"
    },
    "language_info": {
      "codemirror_mode": {
        "name": "ipython",
        "version": 3
      },
      "file_extension": ".py",
      "mimetype": "text/x-python",
      "name": "python",
      "nbconvert_exporter": "python",
      "pygments_lexer": "ipython3",
      "version": "3.9.7"
    },
    "colab": {
      "provenance": [],
      "collapsed_sections": [
        "7dfd9562",
        "4a193849",
        "GmQP8MIdUdUE",
        "xKSvwPJjVXnf",
        "fgsBcPU2XVAU",
        "E0WgzKaSY3AB",
        "qrcBXeH4ayE3"
      ],
      "include_colab_link": true
    }
  },
  "nbformat": 4,
  "nbformat_minor": 5
}