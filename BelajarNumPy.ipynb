{
 "cells": [
  {
   "cell_type": "markdown",
   "id": "2dc441b1",
   "metadata": {},
   "source": [
    "Belajar Numpy"
   ]
  },
  {
   "cell_type": "code",
   "execution_count": 2,
   "id": "0a7df453",
   "metadata": {},
   "outputs": [
    {
     "data": {
      "text/plain": [
       "'1.21.5'"
      ]
     },
     "execution_count": 2,
     "metadata": {},
     "output_type": "execute_result"
    }
   ],
   "source": [
    "import numpy as np\n",
    "np.__version__"
   ]
  },
  {
   "cell_type": "markdown",
   "id": "e794219f",
   "metadata": {},
   "source": [
    "## Python List"
   ]
  },
  {
   "cell_type": "code",
   "execution_count": 4,
   "id": "7a817228",
   "metadata": {},
   "outputs": [],
   "source": [
    "ipk_as_list = [4.0, 3.2, 3.5]"
   ]
  },
  {
   "cell_type": "code",
   "execution_count": 5,
   "id": "1ebf625a",
   "metadata": {
    "scrolled": true
   },
   "outputs": [
    {
     "data": {
      "text/plain": [
       "[4.0, 3.2, 3.5, 4.0]"
      ]
     },
     "execution_count": 5,
     "metadata": {},
     "output_type": "execute_result"
    }
   ],
   "source": [
    "ipk_as_list.append(4.0) #append menambahkan diakhir\n",
    "ipk_as_list"
   ]
  },
  {
   "cell_type": "code",
   "execution_count": 6,
   "id": "fccf05c3",
   "metadata": {},
   "outputs": [
    {
     "data": {
      "text/plain": [
       "[4.0, 'Belum ada', 3.2, 3.5, 4.0]"
      ]
     },
     "execution_count": 6,
     "metadata": {},
     "output_type": "execute_result"
    }
   ],
   "source": [
    "ipk_as_list.insert(1, \"Belum ada\")#menambahkan di tengah\n",
    "ipk_as_list"
   ]
  },
  {
   "cell_type": "code",
   "execution_count": 7,
   "id": "9d987ca4",
   "metadata": {},
   "outputs": [
    {
     "data": {
      "text/plain": [
       "[4.0, 3.2, 3.5, 4.0]"
      ]
     },
     "execution_count": 7,
     "metadata": {},
     "output_type": "execute_result"
    }
   ],
   "source": [
    "ipk_as_list.pop(1) #menghapus\n",
    "ipk_as_list"
   ]
  },
  {
   "cell_type": "markdown",
   "id": "8c8d59fa",
   "metadata": {},
   "source": [
    "## Numpy Array"
   ]
  },
  {
   "cell_type": "code",
   "execution_count": 10,
   "id": "b87706e9",
   "metadata": {},
   "outputs": [],
   "source": [
    "ipk = np.array(ipk_as_list)"
   ]
  },
  {
   "cell_type": "code",
   "execution_count": 12,
   "id": "9e95dd3c",
   "metadata": {},
   "outputs": [
    {
     "data": {
      "text/plain": [
       "dtype('float64')"
      ]
     },
     "execution_count": 12,
     "metadata": {},
     "output_type": "execute_result"
    }
   ],
   "source": [
    "ipk.dtype"
   ]
  },
  {
   "cell_type": "code",
   "execution_count": 13,
   "id": "84702f03",
   "metadata": {},
   "outputs": [
    {
     "data": {
      "text/plain": [
       "4"
      ]
     },
     "execution_count": 13,
     "metadata": {},
     "output_type": "execute_result"
    }
   ],
   "source": [
    "ipk.size"
   ]
  },
  {
   "cell_type": "code",
   "execution_count": null,
   "id": "ed459635",
   "metadata": {},
   "outputs": [],
   "source": []
  }
 ],
 "metadata": {
  "kernelspec": {
   "display_name": "Python 3 (ipykernel)",
   "language": "python",
   "name": "python3"
  },
  "language_info": {
   "codemirror_mode": {
    "name": "ipython",
    "version": 3
   },
   "file_extension": ".py",
   "mimetype": "text/x-python",
   "name": "python",
   "nbconvert_exporter": "python",
   "pygments_lexer": "ipython3",
   "version": "3.9.12"
  }
 },
 "nbformat": 4,
 "nbformat_minor": 5
}
