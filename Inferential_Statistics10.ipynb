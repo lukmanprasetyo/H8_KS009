{
  "nbformat": 4,
  "nbformat_minor": 0,
  "metadata": {
    "colab": {
      "provenance": [],
      "collapsed_sections": [
        "xa4bTnbGSkrH",
        "QOKsb-DXUFaI",
        "bpEEDJVoUZ3l",
        "Sk0tW5ecWbwE",
        "GPur5KO-XTc0",
        "qMDZgRd_YJeM",
        "2TS0-DhnlRa7",
        "aRBaSeBhmJYq",
        "EWQ2wEDUmlRL",
        "PV-QogjCpC1h",
        "gnIXLtNWoFqS"
      ],
      "authorship_tag": "ABX9TyP1LivvLQmCdK6zo90PdQyC",
      "include_colab_link": true
    },
    "kernelspec": {
      "name": "python3",
      "display_name": "Python 3"
    },
    "language_info": {
      "name": "python"
    }
  },
  "cells": [
    {
      "cell_type": "markdown",
      "metadata": {
        "id": "view-in-github",
        "colab_type": "text"
      },
      "source": [
        "<a href=\"https://colab.research.google.com/github/lukmanprasetyo/H8_KS009/blob/master/Inferential_Statistics10.ipynb\" target=\"_parent\"><img src=\"https://colab.research.google.com/assets/colab-badge.svg\" alt=\"Open In Colab\"/></a>"
      ]
    },
    {
      "cell_type": "markdown",
      "source": [
        "# **Inferential Statistics**\n",
        "mengambil data sebagai sampel dari populasi yang lebih besar untuk membuat kesimpulan. Tujuan utama dari metode ini adalah untuk menarik kesimpulan dari sampel dan menggeneralisasikannya untuk populasi yang lebih besar."
      ],
      "metadata": {
        "id": "xa4bTnbGSkrH"
      }
    },
    {
      "cell_type": "code",
      "execution_count": 2,
      "metadata": {
        "id": "2cL3ZWvSQwm-"
      },
      "outputs": [],
      "source": []
    },
    {
      "cell_type": "markdown",
      "source": [
        "# **Probability Distributions**\n",
        "\n",
        "adalah fungsi dibawah teori dan statistik proabilitas - yang memberi kita seberapa besar kemungkinan hasil yang berbeda dalam sebuah eksperimen. "
      ],
      "metadata": {
        "id": "QOKsb-DXUFaI"
      }
    },
    {
      "cell_type": "markdown",
      "source": [
        "# **Random Variable**\n",
        "adalah variabel yang kemungkinan nilainya hasil numerik dari fenomena acak. ada dua jenis variabel acak, diskrit dan kontinue.\n",
        "\n",
        " * **Discrete random** Variable variable adalah variabel yang mungkin hanya mengambil nilai berbeda yang dapat dihitung dan dengan demikian dapat dikuantifikasi.\n",
        "*  **continuous random variable** adalah variabel yang mengambil jumlah kemungkinan nilai tak terbatas. Contohnya untuk menentukan variabel acak X sebagai tinggi siswa di kelas.\n",
        "\n",
        "\n"
      ],
      "metadata": {
        "id": "bpEEDJVoUZ3l"
      }
    },
    {
      "cell_type": "code",
      "source": [
        "\n",
        "%matplotlib inline\n",
        "import matplotlib.pyplot as plt\n",
        "from IPython.display import Math, Latex\n",
        "from IPython.core.display import Image"
      ],
      "metadata": {
        "id": "L8x1X1s_UW_Q"
      },
      "execution_count": 3,
      "outputs": []
    },
    {
      "cell_type": "code",
      "source": [
        "# import seaborn\n",
        "import seaborn as sns\n",
        "# settings for seaborn plotting style\n",
        "sns.set(color_codes=True)\n",
        "# settings for seaborn plot sizes\n",
        "sns.set(rc={'figure.figsize':(5,5)})"
      ],
      "metadata": {
        "id": "_JXjKGyGWVNR"
      },
      "execution_count": 4,
      "outputs": []
    },
    {
      "cell_type": "markdown",
      "source": [
        "# **Uniform Distribution**\n",
        "adalah salah satu distribusi yang paling sederhana dan berguna. Digambarkan dalam bentuk kurva persegi panjang"
      ],
      "metadata": {
        "id": "Sk0tW5ecWbwE"
      }
    },
    {
      "cell_type": "code",
      "source": [
        "from scipy.stats import uniform"
      ],
      "metadata": {
        "id": "STjb6BJNWVpR"
      },
      "execution_count": 5,
      "outputs": []
    },
    {
      "cell_type": "code",
      "source": [
        "# random numbers from uniform distribution\n",
        "n = 10000\n",
        "start = 10\n",
        "width = 20\n",
        "data_uniform = uniform.rvs(size=n, loc = start, scale=width)"
      ],
      "metadata": {
        "id": "2djv4gEFWvmr"
      },
      "execution_count": 6,
      "outputs": []
    },
    {
      "cell_type": "markdown",
      "source": [
        "Anda dapat menggunakan distplot Seaborn untuk memplot histogram distribusi yang baru saja Anda buat. Distplot Seaborn mengambil beberapa argumen untuk menyesuaikan plot. Anda terlebih dahulu membuat plot objek kapak. Di sini, Anda dapat menentukan jumlah bins di histogram, menentukan warna histogram dan menentukan opsi plot kepadatan dengan kde dan opsi linewidth dengan hist_kws. Anda juga dapat mengatur label untuk sumbu x dan y menggunakan argumen xlabel dan ylabel."
      ],
      "metadata": {
        "id": "Uh-Ri1ROW7Fc"
      }
    },
    {
      "cell_type": "code",
      "source": [
        "ax = sns.distplot(data_uniform,\n",
        "                  bins=100,\n",
        "                  kde=True,\n",
        "                  color='skyblue',\n",
        "                  hist_kws={\"linewidth\": 15,'alpha':1})\n",
        "ax.set(xlabel='Uniform Distribution ', ylabel='Frequency')"
      ],
      "metadata": {
        "colab": {
          "base_uri": "https://localhost:8080/",
          "height": 414
        },
        "id": "djbDETWzWzcs",
        "outputId": "967bcd75-6b64-4ab2-efdd-09be21b747c2"
      },
      "execution_count": 7,
      "outputs": [
        {
          "output_type": "stream",
          "name": "stderr",
          "text": [
            "/usr/local/lib/python3.7/dist-packages/seaborn/distributions.py:2619: FutureWarning: `distplot` is a deprecated function and will be removed in a future version. Please adapt your code to use either `displot` (a figure-level function with similar flexibility) or `histplot` (an axes-level function for histograms).\n",
            "  warnings.warn(msg, FutureWarning)\n"
          ]
        },
        {
          "output_type": "execute_result",
          "data": {
            "text/plain": [
              "[Text(0, 0.5, 'Frequency'), Text(0.5, 0, 'Uniform Distribution ')]"
            ]
          },
          "metadata": {},
          "execution_count": 7
        },
        {
          "output_type": "display_data",
          "data": {
            "text/plain": [
              "<Figure size 360x360 with 1 Axes>"
            ],
            "image/png": "[encoded data removed]"
          },
          "metadata": {}
        }
      ]
    },
    {
      "cell_type": "markdown",
      "source": [
        "# **Normal Distribution**\n",
        "memiliki kurva kerapatan berbentuk lonceng yang dijelaskan dengan mean dan deviasi standarnya 0.\n"
      ],
      "metadata": {
        "id": "GPur5KO-XTc0"
      }
    },
    {
      "cell_type": "markdown",
      "source": [
        "Anda dapat membuat variabel acak terdistribusi normal menggunakan metode norm.rvs() modul scipy.stats. Argumen loc sesuai dengan rata-rata distribusi. skala sesuai dengan standar deviasi dan ukuran dengan jumlah variasi acak. Jika Anda ingin mempertahankan reproduktifitas, sertakan argumen random_state yang ditetapkan ke nomor."
      ],
      "metadata": {
        "id": "Uk50jdRnXp-6"
      }
    },
    {
      "cell_type": "code",
      "source": [
        "from scipy.stats import norm\n",
        "# generate random numbers from N(0,1)\n",
        "data_normal = norm.rvs(size=10000,loc=0,scale=1)"
      ],
      "metadata": {
        "id": "xxQbVmBLXMze"
      },
      "execution_count": 8,
      "outputs": []
    },
    {
      "cell_type": "markdown",
      "source": [
        "Anda dapat memvisualisasikan distribusi seperti yang Anda lakukan dengan uniform distribution, menggunakan fungsi distplot seaborn."
      ],
      "metadata": {
        "id": "wwpv6nKKX3IN"
      }
    },
    {
      "cell_type": "code",
      "source": [
        "ax = sns.distplot(data_normal,\n",
        "                  bins=100,\n",
        "                  kde=True,\n",
        "                  color='skyblue',\n",
        "                  hist_kws={\"linewidth\": 15,'alpha':1})\n",
        "ax.set(xlabel='Normal Distribution', ylabel='Frequency')"
      ],
      "metadata": {
        "colab": {
          "base_uri": "https://localhost:8080/",
          "height": 414
        },
        "id": "08X-TjujX-y6",
        "outputId": "d818323c-ca26-43da-ac49-17f5dd842784"
      },
      "execution_count": 9,
      "outputs": [
        {
          "output_type": "stream",
          "name": "stderr",
          "text": [
            "/usr/local/lib/python3.7/dist-packages/seaborn/distributions.py:2619: FutureWarning: `distplot` is a deprecated function and will be removed in a future version. Please adapt your code to use either `displot` (a figure-level function with similar flexibility) or `histplot` (an axes-level function for histograms).\n",
            "  warnings.warn(msg, FutureWarning)\n"
          ]
        },
        {
          "output_type": "execute_result",
          "data": {
            "text/plain": [
              "[Text(0, 0.5, 'Frequency'), Text(0.5, 0, 'Normal Distribution')]"
            ]
          },
          "metadata": {},
          "execution_count": 9
        },
        {
          "output_type": "display_data",
          "data": {
            "text/plain": [
              "<Figure size 360x360 with 1 Axes>"
            ],
            "image/png": "[encoded data removed]"
          },
          "metadata": {}
        }
      ]
    },
    {
      "cell_type": "code",
      "source": [],
      "metadata": {
        "id": "OwYQK1SBX_3W"
      },
      "execution_count": 9,
      "outputs": []
    },
    {
      "cell_type": "markdown",
      "source": [
        "# **Gamma Distribution**\n",
        "dua parameter keluarga dari continous probability distriutions. \n",
        "Membuat gamma dengan metode gamma.rvs() modul scipy.stats yang mengambil parameter shape a sebagai argumennya. \n",
        "\n"
      ],
      "metadata": {
        "id": "qMDZgRd_YJeM"
      }
    },
    {
      "cell_type": "code",
      "source": [
        "from scipy.stats import gamma\n",
        "data_gamma = gamma.rvs(a=5, size=10000)"
      ],
      "metadata": {
        "id": "lVDkOq5JYJeP"
      },
      "execution_count": 10,
      "outputs": []
    },
    {
      "cell_type": "markdown",
      "source": [
        "Kita dapat memvisualisasikan distribusi seperti yang kita lakukan dengan uniform distribution, menggunakan fungsi displot seaborn."
      ],
      "metadata": {
        "id": "BAdgGdSUYJeO"
      }
    },
    {
      "cell_type": "code",
      "source": [
        "ax = sns.distplot(data_gamma,\n",
        "                  kde=True,\n",
        "                  bins=100,\n",
        "                  color='skyblue',\n",
        "                  hist_kws={\"linewidth\": 15,'alpha':1})\n",
        "ax.set(xlabel='Gamma Distribution', ylabel='Frequency')"
      ],
      "metadata": {
        "colab": {
          "base_uri": "https://localhost:8080/",
          "height": 414
        },
        "outputId": "a775dee1-1ab5-4496-dd79-0acff3731c77",
        "id": "k2negvGeYJeR"
      },
      "execution_count": 11,
      "outputs": [
        {
          "output_type": "stream",
          "name": "stderr",
          "text": [
            "/usr/local/lib/python3.7/dist-packages/seaborn/distributions.py:2619: FutureWarning: `distplot` is a deprecated function and will be removed in a future version. Please adapt your code to use either `displot` (a figure-level function with similar flexibility) or `histplot` (an axes-level function for histograms).\n",
            "  warnings.warn(msg, FutureWarning)\n"
          ]
        },
        {
          "output_type": "execute_result",
          "data": {
            "text/plain": [
              "[Text(0, 0.5, 'Frequency'), Text(0.5, 0, 'Gamma Distribution')]"
            ]
          },
          "metadata": {},
          "execution_count": 11
        },
        {
          "output_type": "display_data",
          "data": {
            "text/plain": [
              "<Figure size 360x360 with 1 Axes>"
            ],
            "image/png": "[encoded data removed]"
          },
          "metadata": {}
        }
      ]
    },
    {
      "cell_type": "markdown",
      "source": [
        "# **Exponential Distribution**\n",
        "menggambarkan waktu antara peristiwa dalam poisson point process, yaitu proses dimana peristiwa terjadi terus menerus dan independen pada tingkat rata rata konstan."
      ],
      "metadata": {
        "id": "2TS0-DhnlRa7"
      }
    },
    {
      "cell_type": "code",
      "source": [
        "from scipy.stats import expon\n",
        "data_expon = expon.rvs(scale=1,loc=0,size=1000)"
      ],
      "metadata": {
        "id": "pjXtMq1eYJeT"
      },
      "execution_count": 12,
      "outputs": []
    },
    {
      "cell_type": "code",
      "source": [
        "ax = sns.distplot(data_expon,\n",
        "                  kde=True,\n",
        "                  bins=100,\n",
        "                  color='skyblue',\n",
        "                  hist_kws={\"linewidth\": 15,'alpha':1})\n",
        "ax.set(xlabel='Exponential Distribution', ylabel='Frequency')"
      ],
      "metadata": {
        "colab": {
          "base_uri": "https://localhost:8080/",
          "height": 414
        },
        "id": "tKvKiHmplrky",
        "outputId": "1d5a80e4-6b12-4cec-bc17-58e5668fb23e"
      },
      "execution_count": 13,
      "outputs": [
        {
          "output_type": "stream",
          "name": "stderr",
          "text": [
            "/usr/local/lib/python3.7/dist-packages/seaborn/distributions.py:2619: FutureWarning: `distplot` is a deprecated function and will be removed in a future version. Please adapt your code to use either `displot` (a figure-level function with similar flexibility) or `histplot` (an axes-level function for histograms).\n",
            "  warnings.warn(msg, FutureWarning)\n"
          ]
        },
        {
          "output_type": "execute_result",
          "data": {
            "text/plain": [
              "[Text(0, 0.5, 'Frequency'), Text(0.5, 0, 'Exponential Distribution')]"
            ]
          },
          "metadata": {},
          "execution_count": 13
        },
        {
          "output_type": "display_data",
          "data": {
            "text/plain": [
              "<Figure size 360x360 with 1 Axes>"
            ],
            "image/png": "[encoded data removed]"
          },
          "metadata": {}
        }
      ]
    },
    {
      "cell_type": "markdown",
      "source": [
        "# **Poisson Distribution**\n",
        "digunakan untuk memodelkan beberapa kali suatu peristiwa terjadi dalam interval waktu. COntohnya pengguna yang berkunjung di situs web dalam suatu interval"
      ],
      "metadata": {
        "id": "aRBaSeBhmJYq"
      }
    },
    {
      "cell_type": "code",
      "source": [
        "from scipy.stats import poisson\n",
        "data_poisson = poisson.rvs(mu=3, size=10000)"
      ],
      "metadata": {
        "id": "mf0J33HxmcKT"
      },
      "execution_count": 14,
      "outputs": []
    },
    {
      "cell_type": "code",
      "source": [
        "ax = sns.distplot(data_poisson,\n",
        "                  bins=30,\n",
        "                  kde=False,\n",
        "                  color='skyblue',\n",
        "                  hist_kws={\"linewidth\": 15,'alpha':1})\n",
        "ax.set(xlabel='Poisson Distribution', ylabel='Frequency')"
      ],
      "metadata": {
        "colab": {
          "base_uri": "https://localhost:8080/",
          "height": 414
        },
        "id": "y1Iqy6PdmfEW",
        "outputId": "baab4d27-aa17-4eec-e9df-0c9e666c27be"
      },
      "execution_count": 15,
      "outputs": [
        {
          "output_type": "stream",
          "name": "stderr",
          "text": [
            "/usr/local/lib/python3.7/dist-packages/seaborn/distributions.py:2619: FutureWarning: `distplot` is a deprecated function and will be removed in a future version. Please adapt your code to use either `displot` (a figure-level function with similar flexibility) or `histplot` (an axes-level function for histograms).\n",
            "  warnings.warn(msg, FutureWarning)\n"
          ]
        },
        {
          "output_type": "execute_result",
          "data": {
            "text/plain": [
              "[Text(0, 0.5, 'Frequency'), Text(0.5, 0, 'Poisson Distribution')]"
            ]
          },
          "metadata": {},
          "execution_count": 15
        },
        {
          "output_type": "display_data",
          "data": {
            "text/plain": [
              "<Figure size 360x360 with 1 Axes>"
            ],
            "image/png": "[encoded data removed]"
          },
          "metadata": {}
        }
      ]
    },
    {
      "cell_type": "markdown",
      "source": [
        "# **Binomial DIstribution**\n",
        "Distribusi yang mana hanya menghasilkan dua hasil yang mungkin, seperti sukses atau gagal, untung atau rugi, menang atau kalah dan dimana probabilitas keberhasilan dan kegagalan sama untuk semua percobaan"
      ],
      "metadata": {
        "id": "EWQ2wEDUmlRL"
      }
    },
    {
      "cell_type": "code",
      "source": [
        "from scipy.stats import binom\n",
        "data_binom = binom.rvs(n=10,p=0.8,size=10000)"
      ],
      "metadata": {
        "id": "xCzGevU6mgeM"
      },
      "execution_count": 16,
      "outputs": []
    },
    {
      "cell_type": "code",
      "source": [
        "ax = sns.distplot(data_binom,\n",
        "                  kde=False,\n",
        "                  color='green',\n",
        "                  hist_kws={\"linewidth\": 15,'alpha':1})\n",
        "ax.set(xlabel='Binomial Distribution', ylabel='Frequency')"
      ],
      "metadata": {
        "colab": {
          "base_uri": "https://localhost:8080/",
          "height": 357
        },
        "id": "WsgPkIXwnEMG",
        "outputId": "e2939139-2485-4f5b-d747-10c5d15881b8"
      },
      "execution_count": 19,
      "outputs": [
        {
          "output_type": "execute_result",
          "data": {
            "text/plain": [
              "[Text(0, 0.5, 'Frequency'), Text(0.5, 0, 'Binomial Distribution')]"
            ]
          },
          "metadata": {},
          "execution_count": 19
        },
        {
          "output_type": "display_data",
          "data": {
            "text/plain": [
              "<Figure size 360x360 with 1 Axes>"
            ],
            "image/png": "[encoded data removed]"
          },
          "metadata": {}
        }
      ]
    },
    {
      "cell_type": "markdown",
      "source": [
        "# **Bernoulli Distribution**\n",
        "adalah dua kemungkinan hasil, yaitu 1 (Berhasil) dan 0(Gagal) dan dalam sekali percobaan, misalnya lempar koin."
      ],
      "metadata": {
        "id": "PV-QogjCpC1h"
      }
    },
    {
      "cell_type": "code",
      "source": [
        "from scipy.stats import bernoulli\n",
        "data_bern = bernoulli.rvs(size=10000,p=0.6)"
      ],
      "metadata": {
        "id": "CXfLalLnpVu8"
      },
      "execution_count": 20,
      "outputs": []
    },
    {
      "cell_type": "code",
      "source": [
        "ax= sns.distplot(data_bern,\n",
        "                 kde=False,\n",
        "                 color=\"skyblue\",\n",
        "                 hist_kws={\"linewidth\": 15,'alpha':1})\n",
        "ax.set(xlabel='Bernoulli Distribution', ylabel='Frequency')"
      ],
      "metadata": {
        "colab": {
          "base_uri": "https://localhost:8080/",
          "height": 357
        },
        "id": "9T8O9VDtpaso",
        "outputId": "f383a2f1-e07b-4e0e-d6cd-94a18c2c88b7"
      },
      "execution_count": 21,
      "outputs": [
        {
          "output_type": "execute_result",
          "data": {
            "text/plain": [
              "[Text(0, 0.5, 'Frequency'), Text(0.5, 0, 'Bernoulli Distribution')]"
            ]
          },
          "metadata": {},
          "execution_count": 21
        },
        {
          "output_type": "display_data",
          "data": {
            "text/plain": [
              "<Figure size 360x360 with 1 Axes>"
            ],
            "image/png": "[encoded data removed]"
          },
          "metadata": {}
        }
      ]
    },
    {
      "cell_type": "markdown",
      "source": [
        "# **Confidence Intervals**\n",
        "adalah jenis estimasi yang dihitung dari data statistik yang diamati.Singkatnya rentang antara dua nilai di mana nilai suatu sample mean tepat berada di tengah-tengahnya.\n",
        "\n",
        "RUmus condidence interval dan margin of error\n",
        "![image.png](data:image/png;base64,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)"
      ],
      "metadata": {
        "id": "gnIXLtNWoFqS"
      }
    },
    {
      "cell_type": "markdown",
      "source": [],
      "metadata": {
        "id": "S2lS_r9yojqN"
      }
    },
    {
      "cell_type": "code",
      "source": [
        "import pandas as pd\n",
        "import seaborn as sns\n",
        "import scipy.stats as stats\n",
        "import numpy as np\n",
        "import random\n",
        "import warnings\n",
        "import matplotlib.pyplot as plt\n",
        "%matplotlib inline\n",
        "\n",
        "sns.set(rc={'figure.figsize':(13, 7.5)})\n",
        "sns.set_context('talk')"
      ],
      "metadata": {
        "id": "VRKzNvrUnJxu"
      },
      "execution_count": 23,
      "outputs": []
    },
    {
      "cell_type": "code",
      "source": [
        "#Generate Data of People's Mass in Pounds\n",
        "np.random.seed(42)\n",
        "normal_distribution_us_male_mass_pounds = np.random.normal(loc=181, scale=24, size=6000)\n",
        "normal_distribution_us_female_mass_pounds = np.random.normal(loc=132, scale=22, size=6500)\n",
        "all_mass_values = np.concatenate((normal_distribution_us_male_mass_pounds, normal_distribution_us_female_mass_pounds), axis=0)\n",
        "df_ppl_mass = pd.DataFrame(data={'us_people_mass_pounds': all_mass_values})"
      ],
      "metadata": {
        "id": "5X_9bKVZqrwu"
      },
      "execution_count": 27,
      "outputs": []
    },
    {
      "cell_type": "code",
      "source": [
        "df_ppl_mass.head()"
      ],
      "metadata": {
        "colab": {
          "base_uri": "https://localhost:8080/",
          "height": 206
        },
        "id": "FWa2EbSBqwCW",
        "outputId": "4f9610ac-2db5-44da-ba0b-201fc30c0cf9"
      },
      "execution_count": 28,
      "outputs": [
        {
          "output_type": "execute_result",
          "data": {
            "text/plain": [
              "   us_people_mass_pounds\n",
              "0             192.921140\n",
              "1             177.681657\n",
              "2             196.544525\n",
              "3             217.552717\n",
              "4             175.380319"
            ],
            "text/html": [
              "\n",
              "  <div id=\"df-2b7caca7-30bf-4309-8700-a85e62df4151\">\n",
              "    <div class=\"colab-df-container\">\n",
              "      <div>\n",
              "<style scoped>\n",
              "    .dataframe tbody tr th:only-of-type {\n",
              "        vertical-align: middle;\n",
              "    }\n",
              "\n",
              "    .dataframe tbody tr th {\n",
              "        vertical-align: top;\n",
              "    }\n",
              "\n",
              "    .dataframe thead th {\n",
              "        text-align: right;\n",
              "    }\n",
              "</style>\n",
              "<table border=\"1\" class=\"dataframe\">\n",
              "  <thead>\n",
              "    <tr style=\"text-align: right;\">\n",
              "      <th></th>\n",
              "      <th>us_people_mass_pounds</th>\n",
              "    </tr>\n",
              "  </thead>\n",
              "  <tbody>\n",
              "    <tr>\n",
              "      <th>0</th>\n",
              "      <td>192.921140</td>\n",
              "    </tr>\n",
              "    <tr>\n",
              "      <th>1</th>\n",
              "      <td>177.681657</td>\n",
              "    </tr>\n",
              "    <tr>\n",
              "      <th>2</th>\n",
              "      <td>196.544525</td>\n",
              "    </tr>\n",
              "    <tr>\n",
              "      <th>3</th>\n",
              "      <td>217.552717</td>\n",
              "    </tr>\n",
              "    <tr>\n",
              "      <th>4</th>\n",
              "      <td>175.380319</td>\n",
              "    </tr>\n",
              "  </tbody>\n",
              "</table>\n",
              "</div>\n",
              "      <button class=\"colab-df-convert\" onclick=\"convertToInteractive('df-2b7caca7-30bf-4309-8700-a85e62df4151')\"\n",
              "              title=\"Convert this dataframe to an interactive table.\"\n",
              "              style=\"display:none;\">\n",
              "        \n",
              "  <svg xmlns=\"http://www.w3.org/2000/svg\" height=\"24px\"viewBox=\"0 0 24 24\"\n",
              "       width=\"24px\">\n",
              "    <path d=\"M0 0h24v24H0V0z\" fill=\"none\"/>\n",
              "    <path d=\"M18.56 5.44l.94 2.06.94-2.06 2.06-.94-2.06-.94-.94-2.06-.94 2.06-2.06.94zm-11 1L8.5 8.5l.94-2.06 2.06-.94-2.06-.94L8.5 2.5l-.94 2.06-2.06.94zm10 10l.94 2.06.94-2.06 2.06-.94-2.06-.94-.94-2.06-.94 2.06-2.06.94z\"/><path d=\"M17.41 7.96l-1.37-1.37c-.4-.4-.92-.59-1.43-.59-.52 0-1.04.2-1.43.59L10.3 9.45l-7.72 7.72c-.78.78-.78 2.05 0 2.83L4 21.41c.39.39.9.59 1.41.59.51 0 1.02-.2 1.41-.59l7.78-7.78 2.81-2.81c.8-.78.8-2.07 0-2.86zM5.41 20L4 18.59l7.72-7.72 1.47 1.35L5.41 20z\"/>\n",
              "  </svg>\n",
              "      </button>\n",
              "      \n",
              "  <style>\n",
              "    .colab-df-container {\n",
              "      display:flex;\n",
              "      flex-wrap:wrap;\n",
              "      gap: 12px;\n",
              "    }\n",
              "\n",
              "    .colab-df-convert {\n",
              "      background-color: #E8F0FE;\n",
              "      border: none;\n",
              "      border-radius: 50%;\n",
              "      cursor: pointer;\n",
              "      display: none;\n",
              "      fill: #1967D2;\n",
              "      height: 32px;\n",
              "      padding: 0 0 0 0;\n",
              "      width: 32px;\n",
              "    }\n",
              "\n",
              "    .colab-df-convert:hover {\n",
              "      background-color: #E2EBFA;\n",
              "      box-shadow: 0px 1px 2px rgba(60, 64, 67, 0.3), 0px 1px 3px 1px rgba(60, 64, 67, 0.15);\n",
              "      fill: #174EA6;\n",
              "    }\n",
              "\n",
              "    [theme=dark] .colab-df-convert {\n",
              "      background-color: #3B4455;\n",
              "      fill: #D2E3FC;\n",
              "    }\n",
              "\n",
              "    [theme=dark] .colab-df-convert:hover {\n",
              "      background-color: #434B5C;\n",
              "      box-shadow: 0px 1px 3px 1px rgba(0, 0, 0, 0.15);\n",
              "      filter: drop-shadow(0px 1px 2px rgba(0, 0, 0, 0.3));\n",
              "      fill: #FFFFFF;\n",
              "    }\n",
              "  </style>\n",
              "\n",
              "      <script>\n",
              "        const buttonEl =\n",
              "          document.querySelector('#df-2b7caca7-30bf-4309-8700-a85e62df4151 button.colab-df-convert');\n",
              "        buttonEl.style.display =\n",
              "          google.colab.kernel.accessAllowed ? 'block' : 'none';\n",
              "\n",
              "        async function convertToInteractive(key) {\n",
              "          const element = document.querySelector('#df-2b7caca7-30bf-4309-8700-a85e62df4151');\n",
              "          const dataTable =\n",
              "            await google.colab.kernel.invokeFunction('convertToInteractive',\n",
              "                                                     [key], {});\n",
              "          if (!dataTable) return;\n",
              "\n",
              "          const docLinkHtml = 'Like what you see? Visit the ' +\n",
              "            '<a target=\"_blank\" href=https://colab.research.google.com/notebooks/data_table.ipynb>data table notebook</a>'\n",
              "            + ' to learn more about interactive tables.';\n",
              "          element.innerHTML = '';\n",
              "          dataTable['output_type'] = 'display_data';\n",
              "          await google.colab.output.renderOutput(dataTable, element);\n",
              "          const docLink = document.createElement('div');\n",
              "          docLink.innerHTML = docLinkHtml;\n",
              "          element.appendChild(docLink);\n",
              "        }\n",
              "      </script>\n",
              "    </div>\n",
              "  </div>\n",
              "  "
            ]
          },
          "metadata": {},
          "execution_count": 28
        }
      ]
    },
    {
      "cell_type": "code",
      "source": [
        "#View Distribution of U.S. People's Mass\n",
        "sns.distplot(df_ppl_mass['us_people_mass_pounds'], color=\"darkslategrey\")\n",
        "plt.xlabel(\"mass [pounds]\", labelpad=14)\n",
        "plt.ylabel(\"probability of occurence\", labelpad=14)\n",
        "plt.title(\"Distribution of Mass of People in U.S.\", y=1.015, fontsize=20);"
      ],
      "metadata": {
        "colab": {
          "base_uri": "https://localhost:8080/",
          "height": 584
        },
        "id": "0z0kBjrFqwKY",
        "outputId": "a3fbda59-187a-41a0-8e56-8887e1ae2c05"
      },
      "execution_count": 26,
      "outputs": [
        {
          "output_type": "stream",
          "name": "stderr",
          "text": [
            "/usr/local/lib/python3.7/dist-packages/seaborn/distributions.py:2619: FutureWarning: `distplot` is a deprecated function and will be removed in a future version. Please adapt your code to use either `displot` (a figure-level function with similar flexibility) or `histplot` (an axes-level function for histograms).\n",
            "  warnings.warn(msg, FutureWarning)\n"
          ]
        },
        {
          "output_type": "display_data",
          "data": {
            "text/plain": [
              "<Figure size 936x540 with 1 Axes>"
            ],
            "image/png": "[encoded data removed]"
          },
          "metadata": {}
        }
      ]
    },
    {
      "cell_type": "code",
      "source": [
        "# Calculation Population Mean\n",
        "pop_mean_mass = df_ppl_mass['us_people_mass_pounds'].mean()\n",
        "pop_mean_mass"
      ],
      "metadata": {
        "colab": {
          "base_uri": "https://localhost:8080/"
        },
        "id": "Mc2x-syVrBe5",
        "outputId": "bce18e59-aaa2-4e2d-b4a2-2f0f28e1164d"
      },
      "execution_count": 29,
      "outputs": [
        {
          "output_type": "execute_result",
          "data": {
            "text/plain": [
              "155.42328059423372"
            ]
          },
          "metadata": {},
          "execution_count": 29
        }
      ]
    },
    {
      "cell_type": "code",
      "source": [
        "# Calculate Population Standard Deviation\n",
        "pop_std_dev_mass = df_ppl_mass['us_people_mass_pounds'].std()\n",
        "pop_std_dev_mass"
      ],
      "metadata": {
        "colab": {
          "base_uri": "https://localhost:8080/"
        },
        "id": "yneYJisgrL_h",
        "outputId": "bf9afe5b-17fa-4f20-c303-321e4744d0d5"
      },
      "execution_count": 30,
      "outputs": [
        {
          "output_type": "execute_result",
          "data": {
            "text/plain": [
              "33.58519088395858"
            ]
          },
          "metadata": {},
          "execution_count": 30
        }
      ]
    },
    {
      "cell_type": "code",
      "source": [
        "#mengambil 300 sampel masing masing dari 25 nilai acak. Setiap sampel, akan menghitung nilai rata rata sampel. Semua sample means disimpan dalam list_sample_means\n",
        "\n",
        "sample_means = []\n",
        "n = 25\n",
        "for sample in range(0, 300):\n",
        "    # random sampling done with replacement\n",
        "    sample_values = np.random.choice(a=df_ppl_mass['us_people_mass_pounds'], size=n)    \n",
        "    sample_mean = np.mean(sample_values)\n",
        "    sample_means.append(sample_mean)"
      ],
      "metadata": {
        "id": "YF8nrj_mrOe4"
      },
      "execution_count": 31,
      "outputs": []
    },
    {
      "cell_type": "code",
      "source": [
        "# View Distribution of Sample Means (Otherwise Called Sampling Distribution)\n",
        "sns.distplot(sample_means)\n",
        "plt.title(\"Distribution of Sample Means ($n=25$) of People's Mass in Pounds\", y=1.015, fontsize=20)\n",
        "plt.xlabel(\"sample mean mass [pounds]\", labelpad=14)\n",
        "plt.ylabel(\"frequency of occurence\", labelpad=14);"
      ],
      "metadata": {
        "colab": {
          "base_uri": "https://localhost:8080/",
          "height": 586
        },
        "id": "iklMhgMprjwU",
        "outputId": "f4deb724-0d6c-4a9c-a63a-e7f31e588251"
      },
      "execution_count": 32,
      "outputs": [
        {
          "output_type": "stream",
          "name": "stderr",
          "text": [
            "/usr/local/lib/python3.7/dist-packages/seaborn/distributions.py:2619: FutureWarning: `distplot` is a deprecated function and will be removed in a future version. Please adapt your code to use either `displot` (a figure-level function with similar flexibility) or `histplot` (an axes-level function for histograms).\n",
            "  warnings.warn(msg, FutureWarning)\n"
          ]
        },
        {
          "output_type": "display_data",
          "data": {
            "text/plain": [
              "<Figure size 936x540 with 1 Axes>"
            ],
            "image/png": "[encoded data removed]"
          },
          "metadata": {}
        }
      ]
    },
    {
      "cell_type": "markdown",
      "source": [
        "Calculate Sampling Distribution (n=25) Summary Statistics"
      ],
      "metadata": {
        "id": "8kcxw0_xruPQ"
      }
    },
    {
      "cell_type": "code",
      "source": [
        "# Calculate Median of Sample Means\n",
        "median_of_sample_means = np.mean(sample_means)\n",
        "median_of_sample_means"
      ],
      "metadata": {
        "colab": {
          "base_uri": "https://localhost:8080/"
        },
        "id": "plQQ8wEwrm-a",
        "outputId": "347949d9-ecf2-4ead-e79a-426764aa5913"
      },
      "execution_count": 34,
      "outputs": [
        {
          "output_type": "execute_result",
          "data": {
            "text/plain": [
              "155.12418330193915"
            ]
          },
          "metadata": {},
          "execution_count": 34
        }
      ]
    },
    {
      "cell_type": "code",
      "source": [
        "# Calculate Mean of Sample Means\n",
        "mean_of_sample_means = np.mean(sample_means)\n",
        "mean_of_sample_means"
      ],
      "metadata": {
        "colab": {
          "base_uri": "https://localhost:8080/"
        },
        "id": "INT5MAx4rwqS",
        "outputId": "c0050efd-ff3e-4fe7-f257-fb4aa506cb6b"
      },
      "execution_count": 35,
      "outputs": [
        {
          "output_type": "execute_result",
          "data": {
            "text/plain": [
              "155.12418330193915"
            ]
          },
          "metadata": {},
          "execution_count": 35
        }
      ]
    },
    {
      "cell_type": "code",
      "source": [
        "pop_mean_mass"
      ],
      "metadata": {
        "colab": {
          "base_uri": "https://localhost:8080/"
        },
        "id": "6_rF-aKUrzV_",
        "outputId": "4703b6a1-c662-4945-b221-20b0bb30a822"
      },
      "execution_count": 36,
      "outputs": [
        {
          "output_type": "execute_result",
          "data": {
            "text/plain": [
              "155.42328059423372"
            ]
          },
          "metadata": {},
          "execution_count": 36
        }
      ]
    },
    {
      "cell_type": "code",
      "source": [
        "# Calculate Standard Deviation of Sample Means\n",
        "std_dev_of_sample_means = np.std(sample_means)\n",
        "std_dev_of_sample_means"
      ],
      "metadata": {
        "colab": {
          "base_uri": "https://localhost:8080/"
        },
        "id": "genc39Emr0jJ",
        "outputId": "9a4c4429-45b5-4952-a242-fb41d82f5103"
      },
      "execution_count": 37,
      "outputs": [
        {
          "output_type": "execute_result",
          "data": {
            "text/plain": [
              "6.734407481483423"
            ]
          },
          "metadata": {},
          "execution_count": 37
        }
      ]
    },
    {
      "cell_type": "markdown",
      "source": [
        "Equation for Standard Deviation of Sampling Distribution\n",
        "standard deviation dari sample means sering disebut standard error(SE). Persamaan standard eror adalah![image.png](data:image/png;base64,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)"
      ],
      "metadata": {
        "id": "BVFErjeXr_uf"
      }
    },
    {
      "cell_type": "code",
      "source": [
        "standard_error = pop_std_dev_mass/np.sqrt(n)\n",
        "standard_error"
      ],
      "metadata": {
        "colab": {
          "base_uri": "https://localhost:8080/"
        },
        "id": "OOLInnhbr2Rf",
        "outputId": "348430e1-f73a-4461-ac58-5cd3d325a6fd"
      },
      "execution_count": 38,
      "outputs": [
        {
          "output_type": "execute_result",
          "data": {
            "text/plain": [
              "6.717038176791716"
            ]
          },
          "metadata": {},
          "execution_count": 38
        }
      ]
    },
    {
      "cell_type": "code",
      "source": [
        "std_dev_of_sample_means"
      ],
      "metadata": {
        "colab": {
          "base_uri": "https://localhost:8080/"
        },
        "id": "iKXgHR4_sSuX",
        "outputId": "78c2fb75-7836-4711-8e7d-b94001a3cfa7"
      },
      "execution_count": 39,
      "outputs": [
        {
          "output_type": "execute_result",
          "data": {
            "text/plain": [
              "6.734407481483423"
            ]
          },
          "metadata": {},
          "execution_count": 39
        }
      ]
    },
    {
      "cell_type": "markdown",
      "source": [
        "**Critical Z-Scores**\n",
        "kira kira 95% nilai akan berada dalam 2 standard errors dari mean, mari kita hitung z-score yang mengikat 95% data"
      ],
      "metadata": {
        "id": "7eBa3YGcshod"
      }
    },
    {
      "cell_type": "code",
      "source": [
        "#mengggunakan z-score1,96 menghitung ekor 0,025\n",
        "tail = 1 - stats.norm.cdf(1.96)\n",
        "tail"
      ],
      "metadata": {
        "colab": {
          "base_uri": "https://localhost:8080/"
        },
        "id": "IooZ7wKZsUPq",
        "outputId": "4dfd6340-b310-4df8-fc97-39cdad41833a"
      },
      "execution_count": 40,
      "outputs": [
        {
          "output_type": "execute_result",
          "data": {
            "text/plain": [
              "0.024997895148220484"
            ]
          },
          "metadata": {},
          "execution_count": 40
        }
      ]
    },
    {
      "cell_type": "code",
      "source": [
        "# The area under the curve between the z-critcal scores is approximately 0.95\n",
        "1 - (tail * 2)"
      ],
      "metadata": {
        "colab": {
          "base_uri": "https://localhost:8080/"
        },
        "id": "e-Y2tAbxtKQn",
        "outputId": "f85659fc-3565-427b-c43c-35229b150902"
      },
      "execution_count": 41,
      "outputs": [
        {
          "output_type": "execute_result",
          "data": {
            "text/plain": [
              "0.950004209703559"
            ]
          },
          "metadata": {},
          "execution_count": 41
        }
      ]
    },
    {
      "cell_type": "code",
      "source": [
        "#Menghitung batas yang tepat untuk area 95% sampel berada dari mean populasi\n",
        "lower_95_perc_bound = mean_of_sample_means - 1.96*standard_error\n",
        "lower_95_perc_bound"
      ],
      "metadata": {
        "colab": {
          "base_uri": "https://localhost:8080/"
        },
        "id": "p_nKoPybtMsS",
        "outputId": "a9c06b9c-fd52-43dc-baa0-752c475eff0e"
      },
      "execution_count": 43,
      "outputs": [
        {
          "output_type": "execute_result",
          "data": {
            "text/plain": [
              "141.95878847542738"
            ]
          },
          "metadata": {},
          "execution_count": 43
        }
      ]
    },
    {
      "cell_type": "code",
      "source": [
        "upper_95_perc_bound = mean_of_sample_means + 1.96*standard_error\n",
        "upper_95_perc_bound"
      ],
      "metadata": {
        "colab": {
          "base_uri": "https://localhost:8080/"
        },
        "id": "QahxOeqRtWFi",
        "outputId": "f0e46d49-0676-4050-82b6-80c09aff5c63"
      },
      "execution_count": 44,
      "outputs": [
        {
          "output_type": "execute_result",
          "data": {
            "text/plain": [
              "168.28957812845093"
            ]
          },
          "metadata": {},
          "execution_count": 44
        }
      ]
    },
    {
      "cell_type": "code",
      "source": [
        "kde = stats.gaussian_kde(sample_means)\n",
        "pos = np.linspace(np.min(sample_means), np.max(sample_means), 10000)\n",
        "plt.plot(pos, kde(pos), color='teal')\n",
        "shade = np.linspace(lower_95_perc_bound, upper_95_perc_bound, 300)\n",
        "plt.fill_between(shade, kde(shade), alpha=0.45, color='teal',)\n",
        "plt.text(x=154, y=.01, horizontalalignment='center', fontsize=17, \n",
        "         s=\"95% of sample means fall within\\nthis shaded area of plus or minus\\n1.96 z-scores from the mean\", \n",
        "         bbox=dict(facecolor='whitesmoke', boxstyle=\"round, pad=0.1\"))\n",
        "plt.title(\"Distribution of Sample Means ($n=25$) of People's Mass in Pounds\", y=1.015, fontsize=20)\n",
        "plt.xlabel(\"sample mean mass [pounds]\", labelpad=14)\n",
        "plt.ylabel(\"frequency of occurence\", labelpad=14);"
      ],
      "metadata": {
        "colab": {
          "base_uri": "https://localhost:8080/",
          "height": 530
        },
        "id": "SRl7u-hftb6Q",
        "outputId": "e6164221-5533-40a2-cf7b-cccd89100a56"
      },
      "execution_count": 45,
      "outputs": [
        {
          "output_type": "display_data",
          "data": {
            "text/plain": [
              "<Figure size 936x540 with 1 Axes>"
            ],
            "image/png": "[encoded data removed]"
          },
          "metadata": {}
        }
      ]
    },
    {
      "cell_type": "code",
      "source": [],
      "metadata": {
        "id": "OAg-5q-ctetb"
      },
      "execution_count": null,
      "outputs": []
    },
    {
      "cell_type": "markdown",
      "source": [
        "# **Hypothesis Testing**\n",
        "adalah anggapan dasar atau jawaban sementara terhadap masalah yang masih bersifat praduga karena masih harus dibuktikan kebenarannya.\n",
        "\n",
        "Contoh: \n",
        "* A new medicine you think might work.\n",
        "* A way of teaching you think might be better.\n",
        "* A possible location of new species.\n",
        "* A fairer way to administer standardized tests.\n",
        "\n",
        "**What is a Hypothesis Statement?**\\\n",
        "Pernyataan hipotesis yang baik harus\n",
        "* Include an “if” and “then” statement (according to the University of California).\n",
        "* Include both the independent and dependent variables.\n",
        "* Be testable by experiment, survey or other scientifically sound technique.\n",
        "* Be based on information in prior research (either yours or someone else’s).\n",
        "* Have design criteria (for engineering or programming projects).\n",
        "\n",
        "**What is Hypothesis Testing**\n",
        "Hypothesis testing dalam statistik adalah cara kita menguji hasil survei atau eksperimen untuk melihat apakah kita memiliki hasil yang bermakna. Yang perlu dilakukan : \\\n",
        "\n",
        "* Figure out your null hypothesis,\n",
        "* State your null hypothesis,\n",
        "* Choose what kind of test you need to perform,\n",
        "* Either support or reject the null hypothesis.\n",
        "\n",
        "**What is the Null Hypothesis ?**\n",
        "merupakan fakta yang diterima, contoh sederhana null hypothesis yang secara umum diterima sebagai benar adalah :\n",
        "\n",
        "* DNA is shaped like a double helix.\n",
        "* There are 8 planets in the solar system (excluding Pluto).\n",
        "* Taking Vioxx can increase your risk of heart problems (a drug now taken off the market)."
      ],
      "metadata": {
        "id": "y4DUmnjQuNrx"
      }
    },
    {
      "cell_type": "markdown",
      "source": [
        "**Hypothesis Testing Examples 1: Basic Example**\\\n",
        "Seorang peneliti berpikir bahwa jika pasien operasi lutut pergi ke terapi fisik dua kali seminggu (bukan 3 kali), masa pemulihan mereka akan lebih lama. Waktu pemulihan rata-rata untuk pasien operasi lutut adalah 8,2 minggu.\n",
        "\n",
        "Pernyataan hipotesis dalam pertanyaan ini adalah bahwa peneliti percaya waktu pemulihan rata-rata lebih dari 8,2 minggu. Hal ini dapat ditulis dalam istilah matematika sebagai: H1: > 8.2\n",
        "\n",
        "Selanjutnya, Anda harus menyatakan hipotesis nol (Lihat: Cara menyatakan hipotesis nol). Itulah yang akan terjadi jika peneliti salah. Dalam contoh di atas, jika peneliti salah maka waktu pemulihan kurang dari atau sama dengan 8,2 minggu. Dalam matematika, yaitu: H0 8.2\n",
        "\n",
        "**Statistical Test Interpretation**\n",
        "Hasil uji hipotesis statistik harus ditafsirkan agar kita dapat mulai membuat klaim.\n",
        "\n",
        "Ini adalah poin yang dapat menyebabkan banyak kebingungan bagi pemula dan praktisi berpengalaman.\n",
        "\n",
        "Ada dua bentuk umum yang dapat diambil dari hasil uji hipotesis statistik, dan keduanya harus ditafsirkan dengan cara yang berbeda. Mereka adalah nilai-p dan nilai-nilai kritis."
      ],
      "metadata": {
        "id": "rO14RaTK5egE"
      }
    },
    {
      "cell_type": "markdown",
      "source": [
        "For example, if we were performing a test of whether a data sample was normal and we calculated a p-value of .07, we could state something like:\n",
        "\n",
        "The test found that the data sample was normal, failing to reject the null hypothesis at a 5% significance level."
      ],
      "metadata": {
        "id": "omhHQleA7dh8"
      }
    },
    {
      "cell_type": "code",
      "source": [
        "import statsmodels.api as sm\n",
        "import numpy as np\n",
        "import matplotlib.pyplot as plt\n",
        "import pandas as pd"
      ],
      "metadata": {
        "id": "lRaoTjHBudQM"
      },
      "execution_count": 62,
      "outputs": []
    },
    {
      "cell_type": "markdown",
      "source": [
        "**One Population Proportion**\n",
        "\n",
        "Research Question\n",
        "\n",
        "Pada tahun-tahun sebelumnya, 52% orang tua percaya bahwa elektronik dan media sosial adalah penyebab anak remaja mereka kurang tidur. Apakah lebih banyak orang tua saat ini percaya bahwa anak remaja mereka kurang tidur disebabkan karena elektronik dan media sosial?\n",
        "\n",
        "Populasi: Orang tua dengan anak remaja (usia 13-18)\\\n",
        "Parameter Minat: p\n",
        "\n",
        "Hipotesis Null: p = 0,52\\ \n",
        "Hipotesis Alternatif: p > 0,52 (perhatikan bahwa ini adalah tes satu sisi)\n",
        "\n",
        "Data: 1018 orang yang disurvei. 56% dari mereka yang disurvei percaya bahwa anak remaja mereka kurang tidur disebabkan karena elektronik dan media sosial.\n"
      ],
      "metadata": {
        "id": "gJkXdzsX7mti"
      }
    },
    {
      "cell_type": "markdown",
      "source": [
        "**Use of proportions_ztest() from statsmodels**\n",
        "Perhatikan argumen alternatif=\"lebih besar\" yang menunjukkan pengujian satu sisi. Fungsi mengembalikan dua nilai - z-statistik dan nilai p yang sesuai."
      ],
      "metadata": {
        "id": "YjFalGJ28VhF"
      }
    },
    {
      "cell_type": "code",
      "source": [
        "n = 1018\n",
        "pnull = .52\n",
        "phat = .56"
      ],
      "metadata": {
        "id": "g-bKTBpY7hO9"
      },
      "execution_count": 63,
      "outputs": []
    },
    {
      "cell_type": "code",
      "source": [
        "sm.stats.proportions_ztest(phat * n, n, pnull, alternative='larger')"
      ],
      "metadata": {
        "colab": {
          "base_uri": "https://localhost:8080/"
        },
        "id": "Kfh9yg3z8asn",
        "outputId": "c0ffdf45-a5bc-460f-c8ba-e477d30e170b"
      },
      "execution_count": 64,
      "outputs": [
        {
          "output_type": "execute_result",
          "data": {
            "text/plain": [
              "(2.571067795759113, 0.005069273865860533)"
            ]
          },
          "metadata": {},
          "execution_count": 64
        }
      ]
    },
    {
      "cell_type": "markdown",
      "source": [
        "**Conclusion of the hypothesis test**\n",
        "Karena nilai p yang dihitung dari uji-z cukup kecil, kita dapat reject the Null hypothesis bahwa persentase orang tua, yang percaya bahwa kurang tidur anak remaja mereka disebabkan oleh elektronik dan media sosial, sama seperti tahun-tahun sebelumnya. ' perkiraan yaitu 52%.\n",
        "\n",
        "Meskipun, kami tidak menerima hipotesis alternatif, ini secara informal berarti bahwa ada kemungkinan besar proporsi ini lebih dari 52%."
      ],
      "metadata": {
        "id": "KZ_hYraV8hwK"
      }
    },
    {
      "cell_type": "markdown",
      "source": [
        "**Difference in Population Means**\n",
        "Dengan mempertimbangkan data NHANES, apakah pria memiliki Indeks Massa Tubuh rata-rata yang jauh lebih tinggi daripada wanita?\\\n",
        "\n",
        "Population: Adults in the NHANES data.\\ Parameter of Interest:  μ1−μ2 , Body Mass Index.\\\n",
        "\n",
        "Null Hypothesis:  μ1=μ2 \\ \n",
        "Alternative Hypthosis:  μ1≠μ2 \\\n",
        "\n",
        "Data:\\\n",
        "2976 Females \\\n",
        " μ1=29.94 \\ \n",
        "  σ1=7.75 \\\n",
        "\n",
        "2759 Male Adults\\\n",
        "  μ2=28.78 \\ \n",
        "   σ2=6.25 \\\n",
        "μ1−μ2=1.16"
      ],
      "metadata": {
        "id": "NprYrQpr8_W6"
      }
    },
    {
      "cell_type": "code",
      "source": [
        "url = \"https://raw.githubusercontent.com/kshedden/statswpy/master/NHANES/merged/nhanes_2015_2016.csv\"\n",
        "da = pd.read_csv(url)\n",
        "da.head()"
      ],
      "metadata": {
        "colab": {
          "base_uri": "https://localhost:8080/",
          "height": 235
        },
        "id": "dX-hANPd8dYi",
        "outputId": "f7babecd-3388-497b-db4f-af6fa168aa98"
      },
      "execution_count": 65,
      "outputs": [
        {
          "output_type": "execute_result",
          "data": {
            "text/plain": [
              "    SEQN  ALQ101  ALQ110  ALQ130  SMQ020  RIAGENDR  RIDAGEYR  RIDRETH1  \\\n",
              "0  83732     1.0     NaN     1.0       1         1        62         3   \n",
              "1  83733     1.0     NaN     6.0       1         1        53         3   \n",
              "2  83734     1.0     NaN     NaN       1         1        78         3   \n",
              "3  83735     2.0     1.0     1.0       2         2        56         3   \n",
              "4  83736     2.0     1.0     1.0       2         2        42         4   \n",
              "\n",
              "   DMDCITZN  DMDEDUC2  ...  BPXSY2  BPXDI2  BMXWT  BMXHT  BMXBMI  BMXLEG  \\\n",
              "0       1.0       5.0  ...   124.0    64.0   94.8  184.5    27.8    43.3   \n",
              "1       2.0       3.0  ...   140.0    88.0   90.4  171.4    30.8    38.0   \n",
              "2       1.0       3.0  ...   132.0    44.0   83.4  170.1    28.8    35.6   \n",
              "3       1.0       5.0  ...   134.0    68.0  109.8  160.9    42.4    38.5   \n",
              "4       1.0       4.0  ...   114.0    54.0   55.2  164.9    20.3    37.4   \n",
              "\n",
              "   BMXARML  BMXARMC  BMXWAIST  HIQ210  \n",
              "0     43.6     35.9     101.1     2.0  \n",
              "1     40.0     33.2     107.9     NaN  \n",
              "2     37.0     31.0     116.5     2.0  \n",
              "3     37.7     38.3     110.1     2.0  \n",
              "4     36.0     27.2      80.4     2.0  \n",
              "\n",
              "[5 rows x 28 columns]"
            ],
            "text/html": [
              "\n",
              "  <div id=\"df-098a5ad5-25a4-413b-9fd3-42ee64828075\">\n",
              "    <div class=\"colab-df-container\">\n",
              "      <div>\n",
              "<style scoped>\n",
              "    .dataframe tbody tr th:only-of-type {\n",
              "        vertical-align: middle;\n",
              "    }\n",
              "\n",
              "    .dataframe tbody tr th {\n",
              "        vertical-align: top;\n",
              "    }\n",
              "\n",
              "    .dataframe thead th {\n",
              "        text-align: right;\n",
              "    }\n",
              "</style>\n",
              "<table border=\"1\" class=\"dataframe\">\n",
              "  <thead>\n",
              "    <tr style=\"text-align: right;\">\n",
              "      <th></th>\n",
              "      <th>SEQN</th>\n",
              "      <th>ALQ101</th>\n",
              "      <th>ALQ110</th>\n",
              "      <th>ALQ130</th>\n",
              "      <th>SMQ020</th>\n",
              "      <th>RIAGENDR</th>\n",
              "      <th>RIDAGEYR</th>\n",
              "      <th>RIDRETH1</th>\n",
              "      <th>DMDCITZN</th>\n",
              "      <th>DMDEDUC2</th>\n",
              "      <th>...</th>\n",
              "      <th>BPXSY2</th>\n",
              "      <th>BPXDI2</th>\n",
              "      <th>BMXWT</th>\n",
              "      <th>BMXHT</th>\n",
              "      <th>BMXBMI</th>\n",
              "      <th>BMXLEG</th>\n",
              "      <th>BMXARML</th>\n",
              "      <th>BMXARMC</th>\n",
              "      <th>BMXWAIST</th>\n",
              "      <th>HIQ210</th>\n",
              "    </tr>\n",
              "  </thead>\n",
              "  <tbody>\n",
              "    <tr>\n",
              "      <th>0</th>\n",
              "      <td>83732</td>\n",
              "      <td>1.0</td>\n",
              "      <td>NaN</td>\n",
              "      <td>1.0</td>\n",
              "      <td>1</td>\n",
              "      <td>1</td>\n",
              "      <td>62</td>\n",
              "      <td>3</td>\n",
              "      <td>1.0</td>\n",
              "      <td>5.0</td>\n",
              "      <td>...</td>\n",
              "      <td>124.0</td>\n",
              "      <td>64.0</td>\n",
              "      <td>94.8</td>\n",
              "      <td>184.5</td>\n",
              "      <td>27.8</td>\n",
              "      <td>43.3</td>\n",
              "      <td>43.6</td>\n",
              "      <td>35.9</td>\n",
              "      <td>101.1</td>\n",
              "      <td>2.0</td>\n",
              "    </tr>\n",
              "    <tr>\n",
              "      <th>1</th>\n",
              "      <td>83733</td>\n",
              "      <td>1.0</td>\n",
              "      <td>NaN</td>\n",
              "      <td>6.0</td>\n",
              "      <td>1</td>\n",
              "      <td>1</td>\n",
              "      <td>53</td>\n",
              "      <td>3</td>\n",
              "      <td>2.0</td>\n",
              "      <td>3.0</td>\n",
              "      <td>...</td>\n",
              "      <td>140.0</td>\n",
              "      <td>88.0</td>\n",
              "      <td>90.4</td>\n",
              "      <td>171.4</td>\n",
              "      <td>30.8</td>\n",
              "      <td>38.0</td>\n",
              "      <td>40.0</td>\n",
              "      <td>33.2</td>\n",
              "      <td>107.9</td>\n",
              "      <td>NaN</td>\n",
              "    </tr>\n",
              "    <tr>\n",
              "      <th>2</th>\n",
              "      <td>83734</td>\n",
              "      <td>1.0</td>\n",
              "      <td>NaN</td>\n",
              "      <td>NaN</td>\n",
              "      <td>1</td>\n",
              "      <td>1</td>\n",
              "      <td>78</td>\n",
              "      <td>3</td>\n",
              "      <td>1.0</td>\n",
              "      <td>3.0</td>\n",
              "      <td>...</td>\n",
              "      <td>132.0</td>\n",
              "      <td>44.0</td>\n",
              "      <td>83.4</td>\n",
              "      <td>170.1</td>\n",
              "      <td>28.8</td>\n",
              "      <td>35.6</td>\n",
              "      <td>37.0</td>\n",
              "      <td>31.0</td>\n",
              "      <td>116.5</td>\n",
              "      <td>2.0</td>\n",
              "    </tr>\n",
              "    <tr>\n",
              "      <th>3</th>\n",
              "      <td>83735</td>\n",
              "      <td>2.0</td>\n",
              "      <td>1.0</td>\n",
              "      <td>1.0</td>\n",
              "      <td>2</td>\n",
              "      <td>2</td>\n",
              "      <td>56</td>\n",
              "      <td>3</td>\n",
              "      <td>1.0</td>\n",
              "      <td>5.0</td>\n",
              "      <td>...</td>\n",
              "      <td>134.0</td>\n",
              "      <td>68.0</td>\n",
              "      <td>109.8</td>\n",
              "      <td>160.9</td>\n",
              "      <td>42.4</td>\n",
              "      <td>38.5</td>\n",
              "      <td>37.7</td>\n",
              "      <td>38.3</td>\n",
              "      <td>110.1</td>\n",
              "      <td>2.0</td>\n",
              "    </tr>\n",
              "    <tr>\n",
              "      <th>4</th>\n",
              "      <td>83736</td>\n",
              "      <td>2.0</td>\n",
              "      <td>1.0</td>\n",
              "      <td>1.0</td>\n",
              "      <td>2</td>\n",
              "      <td>2</td>\n",
              "      <td>42</td>\n",
              "      <td>4</td>\n",
              "      <td>1.0</td>\n",
              "      <td>4.0</td>\n",
              "      <td>...</td>\n",
              "      <td>114.0</td>\n",
              "      <td>54.0</td>\n",
              "      <td>55.2</td>\n",
              "      <td>164.9</td>\n",
              "      <td>20.3</td>\n",
              "      <td>37.4</td>\n",
              "      <td>36.0</td>\n",
              "      <td>27.2</td>\n",
              "      <td>80.4</td>\n",
              "      <td>2.0</td>\n",
              "    </tr>\n",
              "  </tbody>\n",
              "</table>\n",
              "<p>5 rows × 28 columns</p>\n",
              "</div>\n",
              "      <button class=\"colab-df-convert\" onclick=\"convertToInteractive('df-098a5ad5-25a4-413b-9fd3-42ee64828075')\"\n",
              "              title=\"Convert this dataframe to an interactive table.\"\n",
              "              style=\"display:none;\">\n",
              "        \n",
              "  <svg xmlns=\"http://www.w3.org/2000/svg\" height=\"24px\"viewBox=\"0 0 24 24\"\n",
              "       width=\"24px\">\n",
              "    <path d=\"M0 0h24v24H0V0z\" fill=\"none\"/>\n",
              "    <path d=\"M18.56 5.44l.94 2.06.94-2.06 2.06-.94-2.06-.94-.94-2.06-.94 2.06-2.06.94zm-11 1L8.5 8.5l.94-2.06 2.06-.94-2.06-.94L8.5 2.5l-.94 2.06-2.06.94zm10 10l.94 2.06.94-2.06 2.06-.94-2.06-.94-.94-2.06-.94 2.06-2.06.94z\"/><path d=\"M17.41 7.96l-1.37-1.37c-.4-.4-.92-.59-1.43-.59-.52 0-1.04.2-1.43.59L10.3 9.45l-7.72 7.72c-.78.78-.78 2.05 0 2.83L4 21.41c.39.39.9.59 1.41.59.51 0 1.02-.2 1.41-.59l7.78-7.78 2.81-2.81c.8-.78.8-2.07 0-2.86zM5.41 20L4 18.59l7.72-7.72 1.47 1.35L5.41 20z\"/>\n",
              "  </svg>\n",
              "      </button>\n",
              "      \n",
              "  <style>\n",
              "    .colab-df-container {\n",
              "      display:flex;\n",
              "      flex-wrap:wrap;\n",
              "      gap: 12px;\n",
              "    }\n",
              "\n",
              "    .colab-df-convert {\n",
              "      background-color: #E8F0FE;\n",
              "      border: none;\n",
              "      border-radius: 50%;\n",
              "      cursor: pointer;\n",
              "      display: none;\n",
              "      fill: #1967D2;\n",
              "      height: 32px;\n",
              "      padding: 0 0 0 0;\n",
              "      width: 32px;\n",
              "    }\n",
              "\n",
              "    .colab-df-convert:hover {\n",
              "      background-color: #E2EBFA;\n",
              "      box-shadow: 0px 1px 2px rgba(60, 64, 67, 0.3), 0px 1px 3px 1px rgba(60, 64, 67, 0.15);\n",
              "      fill: #174EA6;\n",
              "    }\n",
              "\n",
              "    [theme=dark] .colab-df-convert {\n",
              "      background-color: #3B4455;\n",
              "      fill: #D2E3FC;\n",
              "    }\n",
              "\n",
              "    [theme=dark] .colab-df-convert:hover {\n",
              "      background-color: #434B5C;\n",
              "      box-shadow: 0px 1px 3px 1px rgba(0, 0, 0, 0.15);\n",
              "      filter: drop-shadow(0px 1px 2px rgba(0, 0, 0, 0.3));\n",
              "      fill: #FFFFFF;\n",
              "    }\n",
              "  </style>\n",
              "\n",
              "      <script>\n",
              "        const buttonEl =\n",
              "          document.querySelector('#df-098a5ad5-25a4-413b-9fd3-42ee64828075 button.colab-df-convert');\n",
              "        buttonEl.style.display =\n",
              "          google.colab.kernel.accessAllowed ? 'block' : 'none';\n",
              "\n",
              "        async function convertToInteractive(key) {\n",
              "          const element = document.querySelector('#df-098a5ad5-25a4-413b-9fd3-42ee64828075');\n",
              "          const dataTable =\n",
              "            await google.colab.kernel.invokeFunction('convertToInteractive',\n",
              "                                                     [key], {});\n",
              "          if (!dataTable) return;\n",
              "\n",
              "          const docLinkHtml = 'Like what you see? Visit the ' +\n",
              "            '<a target=\"_blank\" href=https://colab.research.google.com/notebooks/data_table.ipynb>data table notebook</a>'\n",
              "            + ' to learn more about interactive tables.';\n",
              "          element.innerHTML = '';\n",
              "          dataTable['output_type'] = 'display_data';\n",
              "          await google.colab.output.renderOutput(dataTable, element);\n",
              "          const docLink = document.createElement('div');\n",
              "          docLink.innerHTML = docLinkHtml;\n",
              "          element.appendChild(docLink);\n",
              "        }\n",
              "      </script>\n",
              "    </div>\n",
              "  </div>\n",
              "  "
            ]
          },
          "metadata": {},
          "execution_count": 65
        }
      ]
    },
    {
      "cell_type": "code",
      "source": [
        "females = da[da[\"RIAGENDR\"] == 2]\n",
        "male = da[da[\"RIAGENDR\"] == 1]"
      ],
      "metadata": {
        "id": "fF8Q2SLv9odD"
      },
      "execution_count": 66,
      "outputs": []
    },
    {
      "cell_type": "code",
      "source": [
        "n1 = len(females)\n",
        "mu1 = females[\"BMXBMI\"].mean()\n",
        "sd1 = females[\"BMXBMI\"].std()\n",
        "\n",
        "(n1, mu1, sd1)"
      ],
      "metadata": {
        "colab": {
          "base_uri": "https://localhost:8080/"
        },
        "id": "cPSGnunm9rnz",
        "outputId": "8db77c58-6442-4190-fa5a-27fb07e603f0"
      },
      "execution_count": 67,
      "outputs": [
        {
          "output_type": "execute_result",
          "data": {
            "text/plain": [
              "(2976, 29.93994565217392, 7.753318809545674)"
            ]
          },
          "metadata": {},
          "execution_count": 67
        }
      ]
    },
    {
      "cell_type": "code",
      "source": [
        "n2 = len(male)\n",
        "mu2 = male[\"BMXBMI\"].mean()\n",
        "sd2 = male[\"BMXBMI\"].std()\n",
        "\n",
        "(n2, mu2, sd2)"
      ],
      "metadata": {
        "colab": {
          "base_uri": "https://localhost:8080/"
        },
        "id": "E26hY8s_9sEX",
        "outputId": "05d1670e-dab6-48d3-998c-c6cfacac5b71"
      },
      "execution_count": 68,
      "outputs": [
        {
          "output_type": "execute_result",
          "data": {
            "text/plain": [
              "(2759, 28.778072111846942, 6.2525676168014614)"
            ]
          },
          "metadata": {},
          "execution_count": 68
        }
      ]
    },
    {
      "cell_type": "code",
      "source": [
        "sm.stats.ztest(females[\"BMXBMI\"].dropna(), male[\"BMXBMI\"].dropna(),alternative='two-sided')"
      ],
      "metadata": {
        "colab": {
          "base_uri": "https://localhost:8080/"
        },
        "id": "aI4OhCFd9vUF",
        "outputId": "75e5accd-9832-4c8b-896c-de26f7b9faac"
      },
      "execution_count": 69,
      "outputs": [
        {
          "output_type": "execute_result",
          "data": {
            "text/plain": [
              "(6.1755933531383205, 6.591544431126401e-10)"
            ]
          },
          "metadata": {},
          "execution_count": 69
        }
      ]
    },
    {
      "cell_type": "markdown",
      "source": [
        "**Conclusion of the hypothesis test**\\\n",
        "Karena nilai p (6,59e-10) sangat kecil,  we can reject the Null hypothesis bahwa rata-rata BMI pria sama dengan wanita. Catatan, kami menggunakan alternatif=\"dua sisi\" dalam uji-z karena di sini kami memeriksa ketidaksetaraan.\n",
        "\n",
        "Kami juga dapat memplot histogram data untuk memeriksa apakah kira-kira mengikuti distribusi Normal."
      ],
      "metadata": {
        "id": "yeGBvys99-gI"
      }
    },
    {
      "cell_type": "code",
      "source": [
        "plt.figure(figsize=(7,4))\n",
        "plt.title(\"Female BMI histogram\",fontsize=16)\n",
        "plt.hist(females[\"BMXBMI\"].dropna(),edgecolor='k',color='pink',bins=25)\n",
        "plt.show()\n",
        "\n",
        "plt.figure(figsize=(7,4))\n",
        "plt.title(\"Male BMI histogram\",fontsize=16)\n",
        "plt.hist(male[\"BMXBMI\"].dropna(),edgecolor='k',color='blue',bins=25)\n",
        "plt.show()"
      ],
      "metadata": {
        "colab": {
          "base_uri": "https://localhost:8080/",
          "height": 577
        },
        "id": "XImg77UK9yi3",
        "outputId": "c99e052c-79f4-4146-91fd-43a690efa0d6"
      },
      "execution_count": 70,
      "outputs": [
        {
          "output_type": "display_data",
          "data": {
            "text/plain": [
              "<Figure size 504x288 with 1 Axes>"
            ],
            "image/png": "[encoded data removed]"
          },
          "metadata": {}
        },
        {
          "output_type": "display_data",
          "data": {
            "text/plain": [
              "<Figure size 504x288 with 1 Axes>"
            ],
            "image/png": "[encoded data removed]"
          },
          "metadata": {}
        }
      ]
    },
    {
      "cell_type": "markdown",
      "source": [
        "**Statistical Hypothesis Test Cheatsheet**\n",
        "\n",
        "**Normality Tests** \\\n",
        "This section lists statistical tests that you can use to check if your data has a Gaussian distribution.\n",
        "\n",
        "Tests whether a data sample has a Gaussian distribution.\n",
        "\n",
        "**Assumptions**\n",
        "\n",
        "Observations in each sample are independent and identically distributed (iid).\n",
        "\n",
        "**Interpretation**\n",
        "\n",
        "H0: the sample has a Gaussian distribution.\n",
        "H1: the sample does not have a Gaussian distribution.\n",
        "Shapiro-Wilk Test"
      ],
      "metadata": {
        "id": "uhbbmnUX-g_X"
      }
    },
    {
      "cell_type": "markdown",
      "source": [
        "**Shapiro-Wilk Test**"
      ],
      "metadata": {
        "id": "fJs9XdcS-0Dg"
      }
    },
    {
      "cell_type": "code",
      "source": [
        "# Example of the Shapiro-Wilk Normality Test\n",
        "\n",
        "from scipy.stats import shapiro\n",
        "data = [0.873, 2.817, 0.121, -0.945, -0.055, -1.436, 0.360, -1.478, -1.637, -1.869]\n",
        "stat, p = shapiro(data)\n",
        "print('stat=%.3f, p=%.3f' % (stat, p))\n",
        "if p > 0.05:\n",
        "    print('Probably Gaussian')\n",
        "else:\n",
        "    print('Probably not Gaussian')"
      ],
      "metadata": {
        "colab": {
          "base_uri": "https://localhost:8080/"
        },
        "id": "-Jjtf9S--VVb",
        "outputId": "6e0e092e-e53e-483d-d7a7-2b3b8b1e3cc4"
      },
      "execution_count": 71,
      "outputs": [
        {
          "output_type": "stream",
          "name": "stdout",
          "text": [
            "stat=0.895, p=0.193\n",
            "Probably Gaussian\n"
          ]
        }
      ]
    },
    {
      "cell_type": "markdown",
      "source": [
        "**D’Agostino’s K^2 Test**"
      ],
      "metadata": {
        "id": "y6MzLXZP-5Eg"
      }
    },
    {
      "cell_type": "code",
      "source": [
        "# Example of the D'Agostino's K^2 Normality Test\n",
        "from scipy.stats import normaltest\n",
        "data = [0.873, 2.817, 0.121, -0.945, -0.055, -1.436, 0.360, -1.478, -1.637, -1.869]\n",
        "stat, p = normaltest(data)\n",
        "print('stat=%.3f, p=%.3f' % (stat, p))\n",
        "if p > 0.05:\n",
        "    print('Probably Gaussian')\n",
        "else:\n",
        "    print('Probably not Gaussian')"
      ],
      "metadata": {
        "colab": {
          "base_uri": "https://localhost:8080/"
        },
        "id": "8LOSeJCD-2Xk",
        "outputId": "03c2f210-02dd-499e-9bfd-bb07977a886e"
      },
      "execution_count": 72,
      "outputs": [
        {
          "output_type": "stream",
          "name": "stdout",
          "text": [
            "stat=3.392, p=0.183\n",
            "Probably Gaussian\n"
          ]
        },
        {
          "output_type": "stream",
          "name": "stderr",
          "text": [
            "/usr/local/lib/python3.7/dist-packages/scipy/stats/stats.py:1542: UserWarning: kurtosistest only valid for n>=20 ... continuing anyway, n=10\n",
            "  \"anyway, n=%i\" % int(n))\n"
          ]
        }
      ]
    },
    {
      "cell_type": "markdown",
      "source": [
        "**Anderson-Darling Test**"
      ],
      "metadata": {
        "id": "Ur88L9-w_CBn"
      }
    },
    {
      "cell_type": "code",
      "source": [
        "# Example of the Anderson-Darling Normality Test\n",
        "from scipy.stats import anderson\n",
        "data = [0.873, 2.817, 0.121, -0.945, -0.055, -1.436, 0.360, -1.478, -1.637, -1.869]\n",
        "result = anderson(data)\n",
        "print('stat=%.3f' % (result.statistic))\n",
        "for i in range(len(result.critical_values)):\n",
        "    sl, cv = result.significance_level[i], result.critical_values[i]\n",
        "    if result.statistic < cv:\n",
        "        print('Probably Gaussian at the %.1f%% level' % (sl))\n",
        "    else:\n",
        "        print('Probably not Gaussian at the %.1f%% level' % (sl))"
      ],
      "metadata": {
        "colab": {
          "base_uri": "https://localhost:8080/"
        },
        "id": "YEXRxfh8_BRU",
        "outputId": "33b7d6e6-84e0-4870-f48c-54044915a2cb"
      },
      "execution_count": 73,
      "outputs": [
        {
          "output_type": "stream",
          "name": "stdout",
          "text": [
            "stat=0.424\n",
            "Probably Gaussian at the 15.0% level\n",
            "Probably Gaussian at the 10.0% level\n",
            "Probably Gaussian at the 5.0% level\n",
            "Probably Gaussian at the 2.5% level\n",
            "Probably Gaussian at the 1.0% level\n"
          ]
        }
      ]
    },
    {
      "cell_type": "markdown",
      "source": [
        "**Correlation Tests**\n",
        "\n",
        "This section lists statistical tests that you can use to check if two samples are related.\n",
        "\n",
        "**Pearson’s Correlation Coefficient**\\\n",
        "Tests whether two samples have a linear relationship.\n",
        "\n",
        "**Assumptions**\\\n",
        "\n",
        "Observations in each sample are independent and identically distributed (iid).\n",
        "Observations in each sample are normally distributed.\n",
        "Observations in each sample have the same variance.\\\n",
        "**Interpretation**\n",
        "\n",
        "H0: the two samples are independent.\\\n",
        "H1: there is a dependency between the samples."
      ],
      "metadata": {
        "id": "qR3m4dViAyyG"
      }
    },
    {
      "cell_type": "code",
      "source": [
        "# Example of the Pearson's Correlation test\n",
        "from scipy.stats import pearsonr\n",
        "data1 = [0.873, 2.817, 0.121, -0.945, -0.055, -1.436, 0.360, -1.478, -1.637, -1.869]\n",
        "data2 = [0.353, 3.517, 0.125, -7.545, -0.555, -1.536, 3.350, -1.578, -3.537, -1.579]\n",
        "stat, p = pearsonr(data1, data2)\n",
        "print('stat=%.3f, p=%.3f' % (stat, p))\n",
        "if p > 0.05:\n",
        "    print('Probably independent')\n",
        "else:\n",
        "    print('Probably dependent')"
      ],
      "metadata": {
        "colab": {
          "base_uri": "https://localhost:8080/"
        },
        "id": "uJ2CxNcMBCA4",
        "outputId": "12386e3a-00ae-49da-85e8-a96b8e4df5a6"
      },
      "execution_count": 74,
      "outputs": [
        {
          "output_type": "stream",
          "name": "stdout",
          "text": [
            "stat=0.688, p=0.028\n",
            "Probably dependent\n"
          ]
        }
      ]
    },
    {
      "cell_type": "code",
      "source": [],
      "metadata": {
        "id": "ItYzYNNFBCtl"
      },
      "execution_count": 74,
      "outputs": []
    },
    {
      "cell_type": "markdown",
      "source": [
        "**Spearman’s Rank Correlation**\n",
        "\n",
        "Tests whether two samples have a monotonic relationship.\n",
        "\n",
        "**Assumptions**\n",
        "\n",
        "Observations in each sample are independent and identically distributed (iid). Observations in each sample can be ranked.\n",
        "\n",
        "**Interpretation**\n",
        "\n",
        "H0: the two samples are independent. H1: there is a dependency between the samples."
      ],
      "metadata": {
        "id": "5ej7yXhsBIPy"
      }
    },
    {
      "cell_type": "code",
      "source": [
        "# Example of the Spearman's Rank Correlation Test\n",
        "from scipy.stats import spearmanr\n",
        "data1 = [0.873, 2.817, 0.121, -0.945, -0.055, -1.436, 0.360, -1.478, -1.637, -1.869]\n",
        "data2 = [0.353, 3.517, 0.125, -7.545, -0.555, -1.536, 3.350, -1.578, -3.537, -1.579]\n",
        "stat, p = spearmanr(data1, data2)\n",
        "print('stat=%.3f, p=%.3f' % (stat, p))\n",
        "if p > 0.05:\n",
        "    print('Probably independent')\n",
        "else:\n",
        "    print('Probably dependent')"
      ],
      "metadata": {
        "colab": {
          "base_uri": "https://localhost:8080/"
        },
        "id": "z6gq4tY-BPC_",
        "outputId": "0d88d3e4-8e20-46f7-e397-725770acf617"
      },
      "execution_count": 75,
      "outputs": [
        {
          "output_type": "stream",
          "name": "stdout",
          "text": [
            "stat=0.855, p=0.002\n",
            "Probably dependent\n"
          ]
        }
      ]
    },
    {
      "cell_type": "markdown",
      "source": [
        "**Kendall’s Rank Correlation**\\\n",
        "Tests whether two samples have a monotonic relationship.\n",
        "\n",
        "**Assumptions**\n",
        "\n",
        "Observations in each sample are independent and identically distributed (iid).\\\n",
        "Observations in each sample can be ranked.\\\n",
        "**Interpretation**\n",
        "\n",
        "H0: the two samples are independent.\\\n",
        "H1: there is a dependency between the samples."
      ],
      "metadata": {
        "id": "W26y_eHfBXxf"
      }
    },
    {
      "cell_type": "code",
      "source": [
        "# Example of the Kendall's Rank Correlation Test\n",
        "from scipy.stats import kendalltau\n",
        "data1 = [0.873, 2.817, 0.121, -0.945, -0.055, -1.436, 0.360, -1.478, -1.637, -1.869]\n",
        "data2 = [0.353, 3.517, 0.125, -7.545, -0.555, -1.536, 3.350, -1.578, -3.537, -1.579]\n",
        "stat, p = kendalltau(data1, data2)\n",
        "print('stat=%.3f, p=%.3f' % (stat, p))\n",
        "if p > 0.05:\n",
        "    print('Probably independent')\n",
        "else:\n",
        "    print('Probably dependent')"
      ],
      "metadata": {
        "colab": {
          "base_uri": "https://localhost:8080/"
        },
        "id": "KLth7ypLBeqV",
        "outputId": "2e397554-e934-4d9a-bc92-6a9c60aea91f"
      },
      "execution_count": 76,
      "outputs": [
        {
          "output_type": "stream",
          "name": "stdout",
          "text": [
            "stat=0.733, p=0.002\n",
            "Probably dependent\n"
          ]
        }
      ]
    },
    {
      "cell_type": "markdown",
      "source": [
        "**Chi-Squared Test**\n",
        "Tests whether two categorical variables are related or independent.\n",
        "\n",
        "**Assumptions**\n",
        "\n",
        "* Observations used in the calculation of the contingency table are independent.\n",
        "* 25 or more examples in each cell of the contingency table.\n",
        "\n",
        "**Interpretation**\n",
        "\n",
        "* H0: the two samples are independent.\\\n",
        "* H1: there is a dependency between the samples."
      ],
      "metadata": {
        "id": "uY3x8oCHBeQG"
      }
    },
    {
      "cell_type": "code",
      "source": [
        "# Example of the Chi-Squared Test\n",
        "from scipy.stats import chi2_contingency\n",
        "table = [[10, 20, 30],[6,  9,  17]]\n",
        "stat, p, dof, expected = chi2_contingency(table)\n",
        "print('stat=%.3f, p=%.3f' % (stat, p))\n",
        "if p > 0.05:\n",
        "    print('Probably independent')\n",
        "else:\n",
        "    print('Probably dependent')"
      ],
      "metadata": {
        "colab": {
          "base_uri": "https://localhost:8080/"
        },
        "id": "NZ_kRyYjBPj9",
        "outputId": "a757f458-3c71-4dfd-9da8-8bf0416dce7f"
      },
      "execution_count": 77,
      "outputs": [
        {
          "output_type": "stream",
          "name": "stdout",
          "text": [
            "stat=0.272, p=0.873\n",
            "Probably independent\n"
          ]
        }
      ]
    },
    {
      "cell_type": "markdown",
      "source": [
        "**Stationary Tests**\\\n",
        "This section lists statistical tests that you can use to check if a time series is stationary or not.\n",
        "\n",
        "**Augmented Dickey-Fuller Unit Root Test**\\\n",
        "Tests whether a time series has a unit root, e.g. has a trend or more generally is autoregressive.\\\n",
        "\n",
        "**Assumptions**\n",
        "\n",
        "* Observations in are temporally ordered.\\\n",
        "\n",
        "**Interpretation**\n",
        "\n",
        "* H0: a unit root is present (series is non-stationary).\\\n",
        "* H1: a unit root is not present (series is stationary)."
      ],
      "metadata": {
        "id": "X-qtxgbMCAvG"
      }
    },
    {
      "cell_type": "code",
      "source": [
        "# Example of the Augmented Dickey-Fuller unit root test\n",
        "from statsmodels.tsa.stattools import adfuller\n",
        "data = [0, 1, 2, 3, 4, 5, 6, 7, 8, 9]\n",
        "stat, p, lags, obs, crit, t = adfuller(data)\n",
        "print('stat=%.3f, p=%.3f' % (stat, p))\n",
        "if p > 0.05:\n",
        "    print('Probably not Stationary')\n",
        "else:\n",
        "    print('Probably Stationary')"
      ],
      "metadata": {
        "colab": {
          "base_uri": "https://localhost:8080/"
        },
        "id": "cs4_XEreCQw3",
        "outputId": "16e715f0-f3be-4697-8888-838838553d81"
      },
      "execution_count": 78,
      "outputs": [
        {
          "output_type": "stream",
          "name": "stdout",
          "text": [
            "stat=0.517, p=0.985\n",
            "Probably not Stationary\n"
          ]
        }
      ]
    },
    {
      "cell_type": "markdown",
      "source": [
        "**Kwiatkowski-Phillips-Schmidt-Shin**\\\n",
        "Tests whether a time series is trend stationary or not.\n",
        "\n",
        "**Assumptions**\n",
        "\n",
        "* Observations in are temporally ordered.\n",
        "\n",
        "**Interpretation**\n",
        "\n",
        "* H0: the time series is not trend-stationary.\n",
        "* H1: the time series is trend-stationary."
      ],
      "metadata": {
        "id": "F_PdGsShCdnL"
      }
    },
    {
      "cell_type": "code",
      "source": [
        "# Example of the Kwiatkowski-Phillips-Schmidt-Shin test\n",
        "from statsmodels.tsa.stattools import kpss\n",
        "data = [0, 1, 2, 3, 4, 5, 6, 7, 8, 9]\n",
        "stat, p, lags, crit = kpss(data)\n",
        "print('stat=%.3f, p=%.3f' % (stat, p))\n",
        "if p > 0.05:\n",
        "    print('Probably not Stationary')\n",
        "else:\n",
        "    print('Probably Stationary')"
      ],
      "metadata": {
        "colab": {
          "base_uri": "https://localhost:8080/"
        },
        "id": "cgBqIO6cCSg4",
        "outputId": "a3eff03e-4a7d-4bf5-9b84-c37944ebb0b8"
      },
      "execution_count": 79,
      "outputs": [
        {
          "output_type": "stream",
          "name": "stdout",
          "text": [
            "stat=0.410, p=0.073\n",
            "Probably not Stationary\n"
          ]
        },
        {
          "output_type": "stream",
          "name": "stderr",
          "text": [
            "/usr/local/lib/python3.7/dist-packages/statsmodels/tsa/stattools.py:1875: FutureWarning: The behavior of using nlags=None will change in release 0.13.Currently nlags=None is the same as nlags=\"legacy\", and so a sample-size lag length is used. After the next release, the default will change to be the same as nlags=\"auto\" which uses an automatic lag length selection method. To silence this warning, either use \"auto\" or \"legacy\"\n",
            "  warnings.warn(msg, FutureWarning)\n"
          ]
        }
      ]
    },
    {
      "cell_type": "markdown",
      "source": [
        "**Parametric Statistical Hypothesis Tests**\\\n",
        "This section lists statistical tests that you can use to compare data samples.\n",
        "\n",
        "**Student’s t-test** \\\n",
        "Tests whether the means of two independent samples are significantly different.\n",
        "\\\n",
        "**Assumptions**\n",
        "\n",
        "* Observations in each sample are independent and identically distributed (iid).\n",
        "* Observations in each sample are normally distributed.\n",
        "* Observations in each sample have the same variance.\n",
        "\n",
        "**Interpretation**\n",
        "\n",
        "* H0: the means of the samples are equal.\n",
        "* H1: the means of the samples are unequal."
      ],
      "metadata": {
        "id": "Ys2H6ZqtCw9N"
      }
    },
    {
      "cell_type": "code",
      "source": [
        "# Example of the Student's t-test\n",
        "from scipy.stats import ttest_ind\n",
        "data1 = [0.873, 2.817, 0.121, -0.945, -0.055, -1.436, 0.360, -1.478, -1.637, -1.869]\n",
        "data2 = [1.142, -0.432, -0.938, -0.729, -0.846, -0.157, 0.500, 1.183, -1.075, -0.169]\n",
        "stat, p = ttest_ind(data1, data2)\n",
        "print('stat=%.3f, p=%.3f' % (stat, p))\n",
        "if p > 0.05:\n",
        "    print('Probably the same distribution')\n",
        "else:\n",
        "    print('Probably different distributions')"
      ],
      "metadata": {
        "colab": {
          "base_uri": "https://localhost:8080/"
        },
        "id": "-Csje6apDAAN",
        "outputId": "3175947c-5f84-4fb2-9ba5-e6ad14bba48a"
      },
      "execution_count": 80,
      "outputs": [
        {
          "output_type": "stream",
          "name": "stdout",
          "text": [
            "stat=-0.326, p=0.748\n",
            "Probably the same distribution\n"
          ]
        }
      ]
    },
    {
      "cell_type": "markdown",
      "source": [
        "**Paired Student’s t-test**\\\n",
        "Tests whether the means of two paired samples are significantly different.\n",
        "\n",
        "**Assumptions**\n",
        "\n",
        "* Observations in each sample are independent and identically distributed (iid).\n",
        "* Observations in each sample are normally distributed.\n",
        "* Observations in each sample have the same variance.\n",
        "* Observations across each sample are paired.\n",
        "\n",
        "**Interpretation**\n",
        "\n",
        "* H0: the means of the samples are equal.\n",
        "* H1: the means of the samples are unequal."
      ],
      "metadata": {
        "id": "jImaWWsEDGD8"
      }
    },
    {
      "cell_type": "code",
      "source": [
        "# Example of the Paired Student's t-test\n",
        "from scipy.stats import ttest_rel\n",
        "data1 = [0.873, 2.817, 0.121, -0.945, -0.055, -1.436, 0.360, -1.478, -1.637, -1.869]\n",
        "data2 = [1.142, -0.432, -0.938, -0.729, -0.846, -0.157, 0.500, 1.183, -1.075, -0.169]\n",
        "stat, p = ttest_rel(data1, data2)\n",
        "print('stat=%.3f, p=%.3f' % (stat, p))\n",
        "if p > 0.05:\n",
        "    print('Probably the same distribution')\n",
        "else:\n",
        "    print('Probably different distributions')"
      ],
      "metadata": {
        "colab": {
          "base_uri": "https://localhost:8080/"
        },
        "id": "cLozT0AfDTk6",
        "outputId": "2d1f52a0-39cc-4821-9391-0994133d989a"
      },
      "execution_count": 81,
      "outputs": [
        {
          "output_type": "stream",
          "name": "stdout",
          "text": [
            "stat=-0.334, p=0.746\n",
            "Probably the same distribution\n"
          ]
        }
      ]
    },
    {
      "cell_type": "markdown",
      "source": [
        "**Analysis of Variance Test (ANOVA)**\n",
        "Tests whether the means of two or more independent samples are significantly different.\n",
        "\n",
        "**Assumptions **\n",
        "\n",
        "* Observations in each sample are independent and identically distributed (iid).\n",
        "* Observations in each sample are normally distributed.\n",
        "* Observations in each sample have the same variance.\n",
        "\n",
        "**Interpretation**\n",
        "\n",
        "* H0: the means of the samples are equal.\n",
        "* H1: one or more of the means of the samples are unequal."
      ],
      "metadata": {
        "id": "MVJQzOeEDRs0"
      }
    },
    {
      "cell_type": "code",
      "source": [
        "# Example of the Analysis of Variance Test\n",
        "from scipy.stats import f_oneway\n",
        "data1 = [0.873, 2.817, 0.121, -0.945, -0.055, -1.436, 0.360, -1.478, -1.637, -1.869]\n",
        "data2 = [1.142, -0.432, -0.938, -0.729, -0.846, -0.157, 0.500, 1.183, -1.075, -0.169]\n",
        "data3 = [-0.208, 0.696, 0.928, -1.148, -0.213, 0.229, 0.137, 0.269, -0.870, -1.204]\n",
        "stat, p = f_oneway(data1, data2, data3)\n",
        "print('stat=%.3f, p=%.3f' % (stat, p))\n",
        "if p > 0.05:\n",
        "    print('Probably the same distribution')\n",
        "else:\n",
        "    print('Probably different distributions')"
      ],
      "metadata": {
        "colab": {
          "base_uri": "https://localhost:8080/"
        },
        "id": "rphqBk0cDoGa",
        "outputId": "37354fb0-5a42-4a52-e8a4-f3610e44d16a"
      },
      "execution_count": 82,
      "outputs": [
        {
          "output_type": "stream",
          "name": "stdout",
          "text": [
            "stat=0.096, p=0.908\n",
            "Probably the same distribution\n"
          ]
        }
      ]
    },
    {
      "cell_type": "markdown",
      "source": [
        "**Nonparametric Statistical Hypothesis Tests**\n",
        "\n",
        "**Mann-Whitney U Test**\n",
        "\n",
        "Tests whether the distributions of two independent samples are equal or not.\n",
        "\n",
        "**Assumptions**\n",
        "\n",
        "* Observations in each sample are independent and identically distributed (iid).\n",
        "* Observations in each sample can be ranked.\n",
        "\n",
        "**Interpretation**\n",
        "\n",
        "* H0: the distributions of both samples are equal.\n",
        "* H1: the distributions of both samples are not equal."
      ],
      "metadata": {
        "id": "xdL5aaMdD3Db"
      }
    },
    {
      "cell_type": "code",
      "source": [
        "# Example of the Mann-Whitney U Test\n",
        "from scipy.stats import mannwhitneyu\n",
        "data1 = [0.873, 2.817, 0.121, -0.945, -0.055, -1.436, 0.360, -1.478, -1.637, -1.869]\n",
        "data2 = [1.142, -0.432, -0.938, -0.729, -0.846, -0.157, 0.500, 1.183, -1.075, -0.169]\n",
        "stat, p = mannwhitneyu(data1, data2)\n",
        "print('stat=%.3f, p=%.3f' % (stat, p))\n",
        "if p > 0.05:\n",
        "    print('Probably the same distribution')\n",
        "else:\n",
        "    print('Probably different distributions')"
      ],
      "metadata": {
        "colab": {
          "base_uri": "https://localhost:8080/"
        },
        "id": "rgSojuu8EBic",
        "outputId": "24e54a5f-10f8-4f03-c0ad-640671a37ed2"
      },
      "execution_count": 83,
      "outputs": [
        {
          "output_type": "stream",
          "name": "stdout",
          "text": [
            "stat=40.000, p=0.473\n",
            "Probably the same distribution\n"
          ]
        }
      ]
    },
    {
      "cell_type": "markdown",
      "source": [
        "**Wilcoxon Signed-Rank Test**\\\n",
        "Tests whether the distributions of two paired samples are equal or not.\n",
        "\n",
        "**Assumptions**\n",
        "\n",
        "* Observations in each sample are independent and identically distributed (iid).\n",
        "* Observations in each sample can be ranked.\n",
        "* Observations across each sample are paired.\\\n",
        "**Interpretation**\n",
        "\n",
        "* H0: the distributions of both samples are equal.\n",
        "* H1: the distributions of both samples are not equal."
      ],
      "metadata": {
        "id": "CzY1EKPeEELi"
      }
    },
    {
      "cell_type": "code",
      "source": [
        "# Example of the Wilcoxon Signed-Rank Test\n",
        "from scipy.stats import wilcoxon\n",
        "data1 = [0.873, 2.817, 0.121, -0.945, -0.055, -1.436, 0.360, -1.478, -1.637, -1.869]\n",
        "data2 = [1.142, -0.432, -0.938, -0.729, -0.846, -0.157, 0.500, 1.183, -1.075, -0.169]\n",
        "stat, p = wilcoxon(data1, data2)\n",
        "print('stat=%.3f, p=%.3f' % (stat, p))\n",
        "if p > 0.05:\n",
        "    print('Probably the same distribution')\n",
        "else:\n",
        "    print('Probably different distributions')"
      ],
      "metadata": {
        "colab": {
          "base_uri": "https://localhost:8080/"
        },
        "id": "uXNgCbHAEDgw",
        "outputId": "ddcbc94a-8c3d-492c-a07c-18ce42ddb9ad"
      },
      "execution_count": 84,
      "outputs": [
        {
          "output_type": "stream",
          "name": "stdout",
          "text": [
            "stat=21.000, p=0.557\n",
            "Probably the same distribution\n"
          ]
        }
      ]
    },
    {
      "cell_type": "markdown",
      "source": [
        "**Kruskal-Wallis H Test**\n",
        "Tests whether the distributions of two or more independent samples are equal or not.\n",
        "\n",
        "**Assumptions**\n",
        "\n",
        "* Observations in each sample are independent and identically distributed (iid).\n",
        "* Observations in each sample can be ranked.\n",
        "\n",
        "**Interpretation**\n",
        "\n",
        "* H0: the distributions of all samples are equal.\n",
        "* H1: the distributions of one or more samples are not equal."
      ],
      "metadata": {
        "id": "zAwsvlnjEUSi"
      }
    },
    {
      "cell_type": "code",
      "source": [
        "# Example of the Kruskal-Wallis H Test\n",
        "from scipy.stats import kruskal\n",
        "data1 = [0.873, 2.817, 0.121, -0.945, -0.055, -1.436, 0.360, -1.478, -1.637, -1.869]\n",
        "data2 = [1.142, -0.432, -0.938, -0.729, -0.846, -0.157, 0.500, 1.183, -1.075, -0.169]\n",
        "stat, p = kruskal(data1, data2)\n",
        "print('stat=%.3f, p=%.3f' % (stat, p))\n",
        "if p > 0.05:\n",
        "    print('Probably the same distribution')\n",
        "else:\n",
        "    print('Probably different distributions')"
      ],
      "metadata": {
        "colab": {
          "base_uri": "https://localhost:8080/"
        },
        "id": "RVqIfV5SEcRk",
        "outputId": "ef8df943-5727-45f1-ca6e-82aec05f0299"
      },
      "execution_count": 85,
      "outputs": [
        {
          "output_type": "stream",
          "name": "stdout",
          "text": [
            "stat=0.571, p=0.450\n",
            "Probably the same distribution\n"
          ]
        }
      ]
    },
    {
      "cell_type": "markdown",
      "source": [
        "**Friedman Test**\\\n",
        "Tests whether the distributions of two or more paired samples are equal or not.\n",
        "\n",
        "**Assumptions**\n",
        "\n",
        "* Observations in each sample are independent and identically distributed (iid).\n",
        "* Observations in each sample can be ranked.\n",
        "* Observations across each sample are paired.\n",
        "\n",
        "**Interpretation**\n",
        "\n",
        "* H0: the distributions of all samples are equal.\n",
        "* H1: the distributions of one or more samples are not equal."
      ],
      "metadata": {
        "id": "1BAoQ1CPEdPi"
      }
    },
    {
      "cell_type": "code",
      "source": [
        "# Example of the Friedman Test\n",
        "from scipy.stats import friedmanchisquare\n",
        "data1 = [0.873, 2.817, 0.121, -0.945, -0.055, -1.436, 0.360, -1.478, -1.637, -1.869]\n",
        "data2 = [1.142, -0.432, -0.938, -0.729, -0.846, -0.157, 0.500, 1.183, -1.075, -0.169]\n",
        "data3 = [-0.208, 0.696, 0.928, -1.148, -0.213, 0.229, 0.137, 0.269, -0.870, -1.204]\n",
        "stat, p = friedmanchisquare(data1, data2, data3)\n",
        "print('stat=%.3f, p=%.3f' % (stat, p))\n",
        "if p > 0.05:\n",
        "    print('Probably the same distribution')\n",
        "else:\n",
        "    print('Probably different distributions')"
      ],
      "metadata": {
        "colab": {
          "base_uri": "https://localhost:8080/"
        },
        "id": "VpnQqK4VEmPB",
        "outputId": "34f66c3b-b835-46ec-a506-6cd1ff50ca28"
      },
      "execution_count": 86,
      "outputs": [
        {
          "output_type": "stream",
          "name": "stdout",
          "text": [
            "stat=0.800, p=0.670\n",
            "Probably the same distribution\n"
          ]
        }
      ]
    }
  ]
}