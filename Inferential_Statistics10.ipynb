{
  "nbformat": 4,
  "nbformat_minor": 0,
  "metadata": {
    "colab": {
      "provenance": [],
      "collapsed_sections": [],
      "authorship_tag": "ABX9TyP959qmoHUnXR4izpRUX64G",
      "include_colab_link": true
    },
    "kernelspec": {
      "name": "python3",
      "display_name": "Python 3"
    },
    "language_info": {
      "name": "python"
    }
  },
  "cells": [
    {
      "cell_type": "markdown",
      "metadata": {
        "id": "view-in-github",
        "colab_type": "text"
      },
      "source": [
        "<a href=\"https://colab.research.google.com/github/lukmanprasetyo/H8_KS009/blob/master/Inferential_Statistics10.ipynb\" target=\"_parent\"><img src=\"https://colab.research.google.com/assets/colab-badge.svg\" alt=\"Open In Colab\"/></a>"
      ]
    },
    {
      "cell_type": "markdown",
      "source": [
        "# **Inferential Statistics**\n",
        "mengambil data sebagai sampel dari populasi yang lebih besar untuk membuat kesimpulan. Tujuan utama dari metode ini adalah untuk menarik kesimpulan dari sampel dan menggeneralisasikannya untuk populasi yang lebih besar."
      ],
      "metadata": {
        "id": "xa4bTnbGSkrH"
      }
    },
    {
      "cell_type": "code",
      "execution_count": 2,
      "metadata": {
        "id": "2cL3ZWvSQwm-"
      },
      "outputs": [],
      "source": []
    },
    {
      "cell_type": "markdown",
      "source": [
        "# **Probability Distributions**\n",
        "\n",
        "adalah fungsi dibawah teori dan statistik proabilitas - yang memberi kita seberapa besar kemungkinan hasil yang berbeda dalam sebuah eksperimen. "
      ],
      "metadata": {
        "id": "QOKsb-DXUFaI"
      }
    },
    {
      "cell_type": "markdown",
      "source": [
        "# **Random Variable**\n",
        "adalah variabel yang kemungkinan nilainya hasil numerik dari fenomena acak. ada dua jenis variabel acak, diskrit dan kontinue.\n",
        "\n",
        " * **Discrete random** Variable variable adalah variabel yang mungkin hanya mengambil nilai berbeda yang dapat dihitung dan dengan demikian dapat dikuantifikasi.\n",
        "*  **continuous random variable** adalah variabel yang mengambil jumlah kemungkinan nilai tak terbatas. Contohnya untuk menentukan variabel acak X sebagai tinggi siswa di kelas.\n",
        "\n",
        "\n"
      ],
      "metadata": {
        "id": "bpEEDJVoUZ3l"
      }
    },
    {
      "cell_type": "code",
      "source": [
        "\n",
        "%matplotlib inline\n",
        "import matplotlib.pyplot as plt\n",
        "from IPython.display import Math, Latex\n",
        "from IPython.core.display import Image"
      ],
      "metadata": {
        "id": "L8x1X1s_UW_Q"
      },
      "execution_count": 3,
      "outputs": []
    },
    {
      "cell_type": "code",
      "source": [
        "# import seaborn\n",
        "import seaborn as sns\n",
        "# settings for seaborn plotting style\n",
        "sns.set(color_codes=True)\n",
        "# settings for seaborn plot sizes\n",
        "sns.set(rc={'figure.figsize':(5,5)})"
      ],
      "metadata": {
        "id": "_JXjKGyGWVNR"
      },
      "execution_count": 4,
      "outputs": []
    },
    {
      "cell_type": "markdown",
      "source": [
        "# **Uniform Distribution**\n",
        "adalah salah satu distribusi yang paling sederhana dan berguna. Digambarkan dalam bentuk kurva persegi panjang"
      ],
      "metadata": {
        "id": "Sk0tW5ecWbwE"
      }
    },
    {
      "cell_type": "code",
      "source": [
        "from scipy.stats import uniform"
      ],
      "metadata": {
        "id": "STjb6BJNWVpR"
      },
      "execution_count": 5,
      "outputs": []
    },
    {
      "cell_type": "code",
      "source": [
        "# random numbers from uniform distribution\n",
        "n = 10000\n",
        "start = 10\n",
        "width = 20\n",
        "data_uniform = uniform.rvs(size=n, loc = start, scale=width)"
      ],
      "metadata": {
        "id": "2djv4gEFWvmr"
      },
      "execution_count": 6,
      "outputs": []
    },
    {
      "cell_type": "markdown",
      "source": [
        "Anda dapat menggunakan distplot Seaborn untuk memplot histogram distribusi yang baru saja Anda buat. Distplot Seaborn mengambil beberapa argumen untuk menyesuaikan plot. Anda terlebih dahulu membuat plot objek kapak. Di sini, Anda dapat menentukan jumlah bins di histogram, menentukan warna histogram dan menentukan opsi plot kepadatan dengan kde dan opsi linewidth dengan hist_kws. Anda juga dapat mengatur label untuk sumbu x dan y menggunakan argumen xlabel dan ylabel."
      ],
      "metadata": {
        "id": "Uh-Ri1ROW7Fc"
      }
    },
    {
      "cell_type": "code",
      "source": [
        "ax = sns.distplot(data_uniform,\n",
        "                  bins=100,\n",
        "                  kde=True,\n",
        "                  color='skyblue',\n",
        "                  hist_kws={\"linewidth\": 15,'alpha':1})\n",
        "ax.set(xlabel='Uniform Distribution ', ylabel='Frequency')"
      ],
      "metadata": {
        "colab": {
          "base_uri": "https://localhost:8080/",
          "height": 414
        },
        "id": "djbDETWzWzcs",
        "outputId": "967bcd75-6b64-4ab2-efdd-09be21b747c2"
      },
      "execution_count": 7,
      "outputs": [
        {
          "output_type": "stream",
          "name": "stderr",
          "text": [
            "/usr/local/lib/python3.7/dist-packages/seaborn/distributions.py:2619: FutureWarning: `distplot` is a deprecated function and will be removed in a future version. Please adapt your code to use either `displot` (a figure-level function with similar flexibility) or `histplot` (an axes-level function for histograms).\n",
            "  warnings.warn(msg, FutureWarning)\n"
          ]
        },
        {
          "output_type": "execute_result",
          "data": {
            "text/plain": [
              "[Text(0, 0.5, 'Frequency'), Text(0.5, 0, 'Uniform Distribution ')]"
            ]
          },
          "metadata": {},
          "execution_count": 7
        },
        {
          "output_type": "display_data",
          "data": {
            "text/plain": [
              "<Figure size 360x360 with 1 Axes>"
            ],
            "image/png": "[encoded data removed]"
          },
          "metadata": {}
        }
      ]
    },
    {
      "cell_type": "markdown",
      "source": [
        "# **Normal Distribution**\n",
        "memiliki kurva kerapatan berbentuk lonceng yang dijelaskan dengan mean dan deviasi standarnya 0.\n"
      ],
      "metadata": {
        "id": "GPur5KO-XTc0"
      }
    },
    {
      "cell_type": "markdown",
      "source": [
        "Anda dapat membuat variabel acak terdistribusi normal menggunakan metode norm.rvs() modul scipy.stats. Argumen loc sesuai dengan rata-rata distribusi. skala sesuai dengan standar deviasi dan ukuran dengan jumlah variasi acak. Jika Anda ingin mempertahankan reproduktifitas, sertakan argumen random_state yang ditetapkan ke nomor."
      ],
      "metadata": {
        "id": "Uk50jdRnXp-6"
      }
    },
    {
      "cell_type": "code",
      "source": [
        "from scipy.stats import norm\n",
        "# generate random numbers from N(0,1)\n",
        "data_normal = norm.rvs(size=10000,loc=0,scale=1)"
      ],
      "metadata": {
        "id": "xxQbVmBLXMze"
      },
      "execution_count": 8,
      "outputs": []
    },
    {
      "cell_type": "markdown",
      "source": [
        "Anda dapat memvisualisasikan distribusi seperti yang Anda lakukan dengan uniform distribution, menggunakan fungsi distplot seaborn."
      ],
      "metadata": {
        "id": "wwpv6nKKX3IN"
      }
    },
    {
      "cell_type": "code",
      "source": [
        "ax = sns.distplot(data_normal,\n",
        "                  bins=100,\n",
        "                  kde=True,\n",
        "                  color='skyblue',\n",
        "                  hist_kws={\"linewidth\": 15,'alpha':1})\n",
        "ax.set(xlabel='Normal Distribution', ylabel='Frequency')"
      ],
      "metadata": {
        "colab": {
          "base_uri": "https://localhost:8080/",
          "height": 414
        },
        "id": "08X-TjujX-y6",
        "outputId": "d818323c-ca26-43da-ac49-17f5dd842784"
      },
      "execution_count": 9,
      "outputs": [
        {
          "output_type": "stream",
          "name": "stderr",
          "text": [
            "/usr/local/lib/python3.7/dist-packages/seaborn/distributions.py:2619: FutureWarning: `distplot` is a deprecated function and will be removed in a future version. Please adapt your code to use either `displot` (a figure-level function with similar flexibility) or `histplot` (an axes-level function for histograms).\n",
            "  warnings.warn(msg, FutureWarning)\n"
          ]
        },
        {
          "output_type": "execute_result",
          "data": {
            "text/plain": [
              "[Text(0, 0.5, 'Frequency'), Text(0.5, 0, 'Normal Distribution')]"
            ]
          },
          "metadata": {},
          "execution_count": 9
        },
        {
          "output_type": "display_data",
          "data": {
            "text/plain": [
              "<Figure size 360x360 with 1 Axes>"
            ],
            "image/png": "[encoded data removed]"
          },
          "metadata": {}
        }
      ]
    },
    {
      "cell_type": "code",
      "source": [],
      "metadata": {
        "id": "OwYQK1SBX_3W"
      },
      "execution_count": 9,
      "outputs": []
    },
    {
      "cell_type": "markdown",
      "source": [
        "# **Gamma Distribution**\n",
        "dua parameter keluarga dari continous probability distriutions. \n",
        "Membuat gamma dengan metode gamma.rvs() modul scipy.stats yang mengambil parameter shape a sebagai argumennya. \n",
        "\n"
      ],
      "metadata": {
        "id": "qMDZgRd_YJeM"
      }
    },
    {
      "cell_type": "code",
      "source": [
        "from scipy.stats import gamma\n",
        "data_gamma = gamma.rvs(a=5, size=10000)"
      ],
      "metadata": {
        "id": "lVDkOq5JYJeP"
      },
      "execution_count": 10,
      "outputs": []
    },
    {
      "cell_type": "markdown",
      "source": [
        "Kita dapat memvisualisasikan distribusi seperti yang kita lakukan dengan uniform distribution, menggunakan fungsi displot seaborn."
      ],
      "metadata": {
        "id": "BAdgGdSUYJeO"
      }
    },
    {
      "cell_type": "code",
      "source": [
        "ax = sns.distplot(data_gamma,\n",
        "                  kde=True,\n",
        "                  bins=100,\n",
        "                  color='skyblue',\n",
        "                  hist_kws={\"linewidth\": 15,'alpha':1})\n",
        "ax.set(xlabel='Gamma Distribution', ylabel='Frequency')"
      ],
      "metadata": {
        "colab": {
          "base_uri": "https://localhost:8080/",
          "height": 414
        },
        "outputId": "a775dee1-1ab5-4496-dd79-0acff3731c77",
        "id": "k2negvGeYJeR"
      },
      "execution_count": 11,
      "outputs": [
        {
          "output_type": "stream",
          "name": "stderr",
          "text": [
            "/usr/local/lib/python3.7/dist-packages/seaborn/distributions.py:2619: FutureWarning: `distplot` is a deprecated function and will be removed in a future version. Please adapt your code to use either `displot` (a figure-level function with similar flexibility) or `histplot` (an axes-level function for histograms).\n",
            "  warnings.warn(msg, FutureWarning)\n"
          ]
        },
        {
          "output_type": "execute_result",
          "data": {
            "text/plain": [
              "[Text(0, 0.5, 'Frequency'), Text(0.5, 0, 'Gamma Distribution')]"
            ]
          },
          "metadata": {},
          "execution_count": 11
        },
        {
          "output_type": "display_data",
          "data": {
            "text/plain": [
              "<Figure size 360x360 with 1 Axes>"
            ],
            "image/png": "[encoded data removed]"
          },
          "metadata": {}
        }
      ]
    },
    {
      "cell_type": "markdown",
      "source": [
        "# **Exponential Distribution**\n",
        "menggambarkan waktu antara peristiwa dalam poisson point process, yaitu proses dimana peristiwa terjadi terus menerus dan independen pada tingkat rata rata konstan."
      ],
      "metadata": {
        "id": "2TS0-DhnlRa7"
      }
    },
    {
      "cell_type": "code",
      "source": [
        "from scipy.stats import expon\n",
        "data_expon = expon.rvs(scale=1,loc=0,size=1000)"
      ],
      "metadata": {
        "id": "pjXtMq1eYJeT"
      },
      "execution_count": 12,
      "outputs": []
    },
    {
      "cell_type": "code",
      "source": [
        "ax = sns.distplot(data_expon,\n",
        "                  kde=True,\n",
        "                  bins=100,\n",
        "                  color='skyblue',\n",
        "                  hist_kws={\"linewidth\": 15,'alpha':1})\n",
        "ax.set(xlabel='Exponential Distribution', ylabel='Frequency')"
      ],
      "metadata": {
        "colab": {
          "base_uri": "https://localhost:8080/",
          "height": 414
        },
        "id": "tKvKiHmplrky",
        "outputId": "1d5a80e4-6b12-4cec-bc17-58e5668fb23e"
      },
      "execution_count": 13,
      "outputs": [
        {
          "output_type": "stream",
          "name": "stderr",
          "text": [
            "/usr/local/lib/python3.7/dist-packages/seaborn/distributions.py:2619: FutureWarning: `distplot` is a deprecated function and will be removed in a future version. Please adapt your code to use either `displot` (a figure-level function with similar flexibility) or `histplot` (an axes-level function for histograms).\n",
            "  warnings.warn(msg, FutureWarning)\n"
          ]
        },
        {
          "output_type": "execute_result",
          "data": {
            "text/plain": [
              "[Text(0, 0.5, 'Frequency'), Text(0.5, 0, 'Exponential Distribution')]"
            ]
          },
          "metadata": {},
          "execution_count": 13
        },
        {
          "output_type": "display_data",
          "data": {
            "text/plain": [
              "<Figure size 360x360 with 1 Axes>"
            ],
            "image/png": "[encoded data removed]"
          },
          "metadata": {}
        }
      ]
    },
    {
      "cell_type": "markdown",
      "source": [
        "# **Poisson Distribution**\n",
        "digunakan untuk memodelkan beberapa kali suatu peristiwa terjadi dalam interval waktu. COntohnya pengguna yang berkunjung di situs web dalam suatu interval"
      ],
      "metadata": {
        "id": "aRBaSeBhmJYq"
      }
    },
    {
      "cell_type": "code",
      "source": [
        "from scipy.stats import poisson\n",
        "data_poisson = poisson.rvs(mu=3, size=10000)"
      ],
      "metadata": {
        "id": "mf0J33HxmcKT"
      },
      "execution_count": 14,
      "outputs": []
    },
    {
      "cell_type": "code",
      "source": [
        "ax = sns.distplot(data_poisson,\n",
        "                  bins=30,\n",
        "                  kde=False,\n",
        "                  color='skyblue',\n",
        "                  hist_kws={\"linewidth\": 15,'alpha':1})\n",
        "ax.set(xlabel='Poisson Distribution', ylabel='Frequency')"
      ],
      "metadata": {
        "colab": {
          "base_uri": "https://localhost:8080/",
          "height": 414
        },
        "id": "y1Iqy6PdmfEW",
        "outputId": "baab4d27-aa17-4eec-e9df-0c9e666c27be"
      },
      "execution_count": 15,
      "outputs": [
        {
          "output_type": "stream",
          "name": "stderr",
          "text": [
            "/usr/local/lib/python3.7/dist-packages/seaborn/distributions.py:2619: FutureWarning: `distplot` is a deprecated function and will be removed in a future version. Please adapt your code to use either `displot` (a figure-level function with similar flexibility) or `histplot` (an axes-level function for histograms).\n",
            "  warnings.warn(msg, FutureWarning)\n"
          ]
        },
        {
          "output_type": "execute_result",
          "data": {
            "text/plain": [
              "[Text(0, 0.5, 'Frequency'), Text(0.5, 0, 'Poisson Distribution')]"
            ]
          },
          "metadata": {},
          "execution_count": 15
        },
        {
          "output_type": "display_data",
          "data": {
            "text/plain": [
              "<Figure size 360x360 with 1 Axes>"
            ],
            "image/png": "[encoded data removed]"
          },
          "metadata": {}
        }
      ]
    },
    {
      "cell_type": "markdown",
      "source": [
        "# **Binomial DIstribution**\n",
        "Distribusi yang mana hanya menghasilkan dua hasil yang mungkin, seperti sukses atau gagal, untung atau rugi, menang atau kalah dan dimana probabilitas keberhasilan dan kegagalan sama untuk semua percobaan"
      ],
      "metadata": {
        "id": "EWQ2wEDUmlRL"
      }
    },
    {
      "cell_type": "code",
      "source": [],
      "metadata": {
        "id": "xCzGevU6mgeM"
      },
      "execution_count": null,
      "outputs": []
    }
  ]
}