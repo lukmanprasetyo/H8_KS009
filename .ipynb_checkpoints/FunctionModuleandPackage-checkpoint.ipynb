{
 "cells": [
  {
   "cell_type": "markdown",
   "id": "6c855e60",
   "metadata": {},
   "source": [
    "## Function"
   ]
  },
  {
   "cell_type": "code",
   "execution_count": 17,
   "id": "660d32aa",
   "metadata": {},
   "outputs": [],
   "source": [
    "def greeting():\n",
    "\t'''Fungsi ini akan menampilkan pesan default yaitu Hello World 10 x'''\n",
    "\tprint('Hello world' * 10)\n"
   ]
  },
  {
   "cell_type": "code",
   "execution_count": 18,
   "id": "7b6872a5",
   "metadata": {},
   "outputs": [
    {
     "data": {
      "text/plain": [
       "<function __main__.greeting()>"
      ]
     },
     "execution_count": 18,
     "metadata": {},
     "output_type": "execute_result"
    }
   ],
   "source": [
    "greeting"
   ]
  },
  {
   "cell_type": "code",
   "execution_count": 19,
   "id": "c7454162",
   "metadata": {},
   "outputs": [
    {
     "name": "stdout",
     "output_type": "stream",
     "text": [
      "Hello worldHello worldHello worldHello worldHello worldHello worldHello worldHello worldHello worldHello world\n"
     ]
    }
   ],
   "source": [
    "greeting()"
   ]
  },
  {
   "cell_type": "code",
   "execution_count": 20,
   "id": "6129eaaa",
   "metadata": {},
   "outputs": [
    {
     "data": {
      "text/plain": [
       "'Fungsi ini akan menampilkan pesan default yaitu Hello World 10 x'"
      ]
     },
     "execution_count": 20,
     "metadata": {},
     "output_type": "execute_result"
    }
   ],
   "source": [
    "greeting.__doc__"
   ]
  },
  {
   "cell_type": "code",
   "execution_count": 21,
   "id": "707353d4",
   "metadata": {},
   "outputs": [
    {
     "data": {
      "text/plain": [
       "['__annotations__',\n",
       " '__call__',\n",
       " '__class__',\n",
       " '__closure__',\n",
       " '__code__',\n",
       " '__defaults__',\n",
       " '__delattr__',\n",
       " '__dict__',\n",
       " '__dir__',\n",
       " '__doc__',\n",
       " '__eq__',\n",
       " '__format__',\n",
       " '__ge__',\n",
       " '__get__',\n",
       " '__getattribute__',\n",
       " '__globals__',\n",
       " '__gt__',\n",
       " '__hash__',\n",
       " '__init__',\n",
       " '__init_subclass__',\n",
       " '__kwdefaults__',\n",
       " '__le__',\n",
       " '__lt__',\n",
       " '__module__',\n",
       " '__name__',\n",
       " '__ne__',\n",
       " '__new__',\n",
       " '__qualname__',\n",
       " '__reduce__',\n",
       " '__reduce_ex__',\n",
       " '__repr__',\n",
       " '__setattr__',\n",
       " '__sizeof__',\n",
       " '__str__',\n",
       " '__subclasshook__']"
      ]
     },
     "execution_count": 21,
     "metadata": {},
     "output_type": "execute_result"
    }
   ],
   "source": [
    "dir(greeting)"
   ]
  },
  {
   "cell_type": "code",
   "execution_count": 22,
   "id": "f4595380",
   "metadata": {},
   "outputs": [],
   "source": [
    "def my_function(p, l): #parameter\n",
    "\t'''Function untuk menghitung luas'''\n",
    "\tprint(p * l)\n",
    "\t# return None\n"
   ]
  },
  {
   "cell_type": "code",
   "execution_count": 23,
   "id": "8f4b81f3",
   "metadata": {},
   "outputs": [
    {
     "ename": "TypeError",
     "evalue": "my_function() missing 2 required positional arguments: 'p' and 'l'",
     "output_type": "error",
     "traceback": [
      "\u001b[1;31m---------------------------------------------------------------------------\u001b[0m",
      "\u001b[1;31mTypeError\u001b[0m                                 Traceback (most recent call last)",
      "Input \u001b[1;32mIn [23]\u001b[0m, in \u001b[0;36m<cell line: 1>\u001b[1;34m()\u001b[0m\n\u001b[1;32m----> 1\u001b[0m \u001b[43mmy_function\u001b[49m\u001b[43m(\u001b[49m\u001b[43m)\u001b[49m\n",
      "\u001b[1;31mTypeError\u001b[0m: my_function() missing 2 required positional arguments: 'p' and 'l'"
     ]
    }
   ],
   "source": [
    "my_function()\n",
    "#memang error\n"
   ]
  },
  {
   "cell_type": "code",
   "execution_count": 24,
   "id": "baf423bd",
   "metadata": {},
   "outputs": [
    {
     "name": "stdout",
     "output_type": "stream",
     "text": [
      "16\n"
     ]
    }
   ],
   "source": [
    "my_function(2, 8)"
   ]
  },
  {
   "cell_type": "code",
   "execution_count": 25,
   "id": "4ef3b1dc",
   "metadata": {},
   "outputs": [
    {
     "name": "stdout",
     "output_type": "stream",
     "text": [
      "16\n",
      "None\n"
     ]
    }
   ],
   "source": [
    "print(my_function(2, 8))"
   ]
  },
  {
   "cell_type": "code",
   "execution_count": 26,
   "id": "ed2dc6ba",
   "metadata": {},
   "outputs": [
    {
     "data": {
      "text/plain": [
       "'Function untuk menghitung luas'"
      ]
     },
     "execution_count": 26,
     "metadata": {},
     "output_type": "execute_result"
    }
   ],
   "source": [
    "my_function.__doc__"
   ]
  },
  {
   "cell_type": "markdown",
   "id": "4b07f5bc",
   "metadata": {},
   "source": [
    "## Calling a Function\n"
   ]
  },
  {
   "cell_type": "code",
   "execution_count": 27,
   "id": "ab2642ee",
   "metadata": {},
   "outputs": [
    {
     "name": "stdout",
     "output_type": "stream",
     "text": [
      "panggil pertama\n",
      "panggil kedua\n"
     ]
    }
   ],
   "source": [
    "#function definition is here\n",
    "def printme(str):\n",
    "    \"This prints a passed string into this function\"\n",
    "    print(str)\n",
    "    return;\n",
    "\n",
    "#buat manggil\n",
    "printme(\"panggil pertama\")\n",
    "printme(\"panggil kedua\")"
   ]
  },
  {
   "cell_type": "markdown",
   "id": "27d51bac",
   "metadata": {},
   "source": [
    "## Pass By Reference Vs Value\n"
   ]
  },
  {
   "cell_type": "markdown",
   "id": "6fdc8892",
   "metadata": {},
   "source": [
    "#### Maksudnya parameter dalam satu fungsi akan kembali ke fungsi pemanggil\n"
   ]
  },
  {
   "cell_type": "code",
   "execution_count": 28,
   "id": "505fa9e2",
   "metadata": {},
   "outputs": [
    {
     "name": "stdout",
     "output_type": "stream",
     "text": [
      "Values inside the function:  [10, 20, 30, [1, 2, 3, 4]]\n",
      "Values outside the function:  [10, 20, 30, [1, 2, 3, 4]]\n"
     ]
    }
   ],
   "source": [
    "# Function definition is here\n",
    "def changeme(mylist):\n",
    "\t\"This changes a passed list into this function\"\n",
    "\tmylist.append([1, 2, 3, 4])\n",
    "\tprint(\"Values inside the function: \", mylist)\n",
    "\treturn\n",
    "\n",
    "\n",
    "# Now you can call the changeme function\n",
    "mylist = [10, 20, 30]\n",
    "changeme(mylist)\n",
    "print(\"Values outside the function: \", mylist)\n"
   ]
  },
  {
   "cell_type": "markdown",
   "id": "3167ffa8",
   "metadata": {},
   "source": [
    "#### diteruskan oleh reference dan reference kemudian di overwritte\n"
   ]
  },
  {
   "cell_type": "code",
   "execution_count": 29,
   "id": "8acb7510",
   "metadata": {},
   "outputs": [
    {
     "name": "stdout",
     "output_type": "stream",
     "text": [
      "Values inside the function:  [1, 2, 3, 4]\n",
      "Values outside the function:  [10, 20, 30]\n"
     ]
    }
   ],
   "source": [
    "# Function definition is here\n",
    "def changeme(mylist):\n",
    "\t'''This changes a passed list into this function'''\n",
    "\tmylist = [1, 2, 3, 4] # This would assign new reference in mylist\n",
    "\tprint(\"Values inside the function: \", mylist) #** 1 2 3 4\n",
    "\treturn\n",
    "\n",
    "\n",
    "# Now you can call changeme function\n",
    "mylist = [10, 20, 30]\n",
    "changeme(mylist)\n",
    "print(\"Values outside the function: \", mylist)  #**10, 20, 30\n"
   ]
  },
  {
   "cell_type": "markdown",
   "id": "dd8558b2",
   "metadata": {},
   "source": [
    "## Keyword Arguments\n"
   ]
  },
  {
   "cell_type": "code",
   "execution_count": 30,
   "id": "ff63ca97",
   "metadata": {},
   "outputs": [
    {
     "name": "stdout",
     "output_type": "stream",
     "text": [
      "Name:  ari\n",
      "Age:  45\n"
     ]
    }
   ],
   "source": [
    "# Function definition is here\n",
    "def print_info(name, age):\n",
    "\t'''This prints a passed info this function'''\n",
    "\tprint(\"Name: \", name)\n",
    "\tprint(\"Age: \", age)\n",
    "\treturn\n",
    "\n",
    "# Now you can call printinfo function\n",
    "print_info(\"ari\", 45)\n"
   ]
  },
  {
   "cell_type": "code",
   "execution_count": 31,
   "id": "f28e5f37",
   "metadata": {},
   "outputs": [
    {
     "name": "stdout",
     "output_type": "stream",
     "text": [
      "Name:  45\n",
      "Age:  ari\n"
     ]
    }
   ],
   "source": [
    "print_info(45, \"ari\")\n",
    "#       \t(name, age)"
   ]
  },
  {
   "cell_type": "code",
   "execution_count": 32,
   "id": "632aa658",
   "metadata": {},
   "outputs": [
    {
     "ename": "TypeError",
     "evalue": "print_info() got an unexpected keyword argument 'nama'",
     "output_type": "error",
     "traceback": [
      "\u001b[1;31m---------------------------------------------------------------------------\u001b[0m",
      "\u001b[1;31mTypeError\u001b[0m                                 Traceback (most recent call last)",
      "Input \u001b[1;32mIn [32]\u001b[0m, in \u001b[0;36m<cell line: 1>\u001b[1;34m()\u001b[0m\n\u001b[1;32m----> 1\u001b[0m \u001b[43mprint_info\u001b[49m\u001b[43m(\u001b[49m\u001b[43mnama\u001b[49m\u001b[38;5;241;43m=\u001b[39;49m\u001b[38;5;124;43m\"\u001b[39;49m\u001b[38;5;124;43mari\u001b[39;49m\u001b[38;5;124;43m\"\u001b[39;49m\u001b[43m,\u001b[49m\u001b[43m \u001b[49m\u001b[43mage\u001b[49m\u001b[38;5;241;43m=\u001b[39;49m\u001b[38;5;241;43m45\u001b[39;49m\u001b[43m)\u001b[49m\n",
      "\u001b[1;31mTypeError\u001b[0m: print_info() got an unexpected keyword argument 'nama'"
     ]
    }
   ],
   "source": [
    "print_info(nama=\"ari\", age=45)\n",
    "#memang error\n"
   ]
  },
  {
   "cell_type": "code",
   "execution_count": 33,
   "id": "53a9a649",
   "metadata": {},
   "outputs": [
    {
     "name": "stdout",
     "output_type": "stream",
     "text": [
      "Name:  ari\n",
      "Age:  45\n"
     ]
    }
   ],
   "source": [
    "print_info(age=45, name=\"ari\")"
   ]
  },
  {
   "cell_type": "code",
   "execution_count": 36,
   "id": "0e5cf374",
   "metadata": {},
   "outputs": [
    {
     "ename": "TypeError",
     "evalue": "print_info() missing 1 required positional argument: 'age'",
     "output_type": "error",
     "traceback": [
      "\u001b[1;31m---------------------------------------------------------------------------\u001b[0m",
      "\u001b[1;31mTypeError\u001b[0m                                 Traceback (most recent call last)",
      "Input \u001b[1;32mIn [36]\u001b[0m, in \u001b[0;36m<cell line: 2>\u001b[1;34m()\u001b[0m\n\u001b[0;32m      1\u001b[0m \u001b[38;5;66;03m#before\u001b[39;00m\n\u001b[1;32m----> 2\u001b[0m \u001b[43mprint_info\u001b[49m\u001b[43m(\u001b[49m\u001b[38;5;124;43m'\u001b[39;49m\u001b[38;5;124;43mIra\u001b[39;49m\u001b[38;5;124;43m'\u001b[39;49m\u001b[43m)\u001b[49m\n",
      "\u001b[1;31mTypeError\u001b[0m: print_info() missing 1 required positional argument: 'age'"
     ]
    }
   ],
   "source": [
    "#before\n",
    "print_info('Ira')\n"
   ]
  },
  {
   "cell_type": "code",
   "execution_count": 37,
   "id": "b2cc9001",
   "metadata": {},
   "outputs": [],
   "source": [
    "#modify\n",
    "# Function definition is here\n",
    "def print_info(name, age=17):\n",
    "\t'''This prints a passed info this function'''\n",
    "\tprint(\"Name: \", name)\n",
    "\tprint(\"Age: \", age)\n",
    "\treturn\n",
    "\n"
   ]
  },
  {
   "cell_type": "code",
   "execution_count": 38,
   "id": "a947bf81",
   "metadata": {},
   "outputs": [
    {
     "name": "stdout",
     "output_type": "stream",
     "text": [
      "Name:  Ira\n",
      "Age:  17\n",
      "Name:  Indira\n",
      "Age:  17\n",
      "Name:  Dira\n",
      "Age:  17\n"
     ]
    }
   ],
   "source": [
    "#after\n",
    "print_info('Ira')\n",
    "print_info('Indira')\n",
    "print_info('Dira')\n"
   ]
  },
  {
   "cell_type": "code",
   "execution_count": 39,
   "id": "3eeb693c",
   "metadata": {},
   "outputs": [
    {
     "ename": "IndentationError",
     "evalue": "expected an indented block (2630231716.py, line 5)",
     "output_type": "error",
     "traceback": [
      "\u001b[1;36m  Input \u001b[1;32mIn [39]\u001b[1;36m\u001b[0m\n\u001b[1;33m    # def print_info(nasabah, *loan)\u001b[0m\n\u001b[1;37m                                    ^\u001b[0m\n\u001b[1;31mIndentationError\u001b[0m\u001b[1;31m:\u001b[0m expected an indented block\n"
     ]
    }
   ],
   "source": [
    "# Function definition is here\n",
    "def print_info(arg1, *vartuple):\n",
    "# def print_info(cust_name, *items):\n",
    "# def print_info(menu, *ingredients):\n",
    "# def print_info(nasabah, *loan)\n"
   ]
  },
  {
   "cell_type": "markdown",
   "id": "a1d5c400",
   "metadata": {},
   "source": [
    "## variable-length argument\n"
   ]
  },
  {
   "cell_type": "code",
   "execution_count": 56,
   "id": "8e85d746",
   "metadata": {},
   "outputs": [
    {
     "ename": "IndentationError",
     "evalue": "unindent does not match any outer indentation level (<tokenize>, line 8)",
     "output_type": "error",
     "traceback": [
      "\u001b[1;36m  File \u001b[1;32m<tokenize>:8\u001b[1;36m\u001b[0m\n\u001b[1;33m    return;\u001b[0m\n\u001b[1;37m    ^\u001b[0m\n\u001b[1;31mIndentationError\u001b[0m\u001b[1;31m:\u001b[0m unindent does not match any outer indentation level\n"
     ]
    }
   ],
   "source": [
    "# Function definition is here\n",
    "def print_info(arg1, *vartuple):\n",
    "\t\"This prints a variable passed arguments\"\n",
    "\tprint(\"Output is: \")\n",
    "\tprint(arg1)\n",
    "\tfor var in vartuple:\n",
    "    \tprint(var)\n",
    "    return;"
   ]
  },
  {
   "cell_type": "code",
   "execution_count": 57,
   "id": "be8e39bb",
   "metadata": {},
   "outputs": [
    {
     "name": "stdout",
     "output_type": "stream",
     "text": [
      "Name:  10\n",
      "Age:  17\n"
     ]
    },
    {
     "ename": "TypeError",
     "evalue": "print_info() takes from 1 to 2 positional arguments but 4 were given",
     "output_type": "error",
     "traceback": [
      "\u001b[1;31m---------------------------------------------------------------------------\u001b[0m",
      "\u001b[1;31mTypeError\u001b[0m                                 Traceback (most recent call last)",
      "Input \u001b[1;32mIn [57]\u001b[0m, in \u001b[0;36m<cell line: 4>\u001b[1;34m()\u001b[0m\n\u001b[0;32m      2\u001b[0m print_info( \u001b[38;5;241m10\u001b[39m )\n\u001b[0;32m      3\u001b[0m \u001b[38;5;66;03m# (arg1, *vartuple= () )\u001b[39;00m\n\u001b[1;32m----> 4\u001b[0m \u001b[43mprint_info\u001b[49m\u001b[43m(\u001b[49m\u001b[43m \u001b[49m\u001b[38;5;241;43m70\u001b[39;49m\u001b[43m,\u001b[49m\u001b[43m \u001b[49m\u001b[38;5;241;43m60\u001b[39;49m\u001b[43m,\u001b[49m\u001b[43m \u001b[49m\u001b[38;5;241;43m50\u001b[39;49m\u001b[43m,\u001b[49m\u001b[43m \u001b[49m\u001b[38;5;124;43m\"\u001b[39;49m\u001b[38;5;124;43ma\u001b[39;49m\u001b[38;5;124;43m\"\u001b[39;49m\u001b[43m \u001b[49m\u001b[43m)\u001b[49m\n",
      "\u001b[1;31mTypeError\u001b[0m: print_info() takes from 1 to 2 positional arguments but 4 were given"
     ]
    }
   ],
   "source": [
    "# Now you can call printinfo function\n",
    "print_info( 10 )\n",
    "# (arg1, *vartuple= () )\n",
    "print_info( 70, 60, 50, \"a\" )\n",
    "# arg1, *vartuple= (60, 50, \"a\") )\n"
   ]
  },
  {
   "cell_type": "code",
   "execution_count": 60,
   "id": "f687f503",
   "metadata": {},
   "outputs": [
    {
     "ename": "TabError",
     "evalue": "inconsistent use of tabs and spaces in indentation (3579396280.py, line 9)",
     "output_type": "error",
     "traceback": [
      "\u001b[1;36m  Input \u001b[1;32mIn [60]\u001b[1;36m\u001b[0m\n\u001b[1;33m    print(\"item ke-\",key, \": \", items[key])\u001b[0m\n\u001b[1;37m    ^\u001b[0m\n\u001b[1;31mTabError\u001b[0m\u001b[1;31m:\u001b[0m inconsistent use of tabs and spaces in indentation\n"
     ]
    }
   ],
   "source": [
    "# Function definition is here\n",
    "def buy(cust_name, **items):\n",
    "\t'''This prints items bought by a customer '''\n",
    "    \n",
    "\tprint(\"Customer name: \", cust_name)\n",
    "    \n",
    "\tfor key in items:\n",
    "# \tfor item in items.keys():\n",
    "    \tprint(\"item ke-\",key, \": \", items[key])\n",
    "    \n",
    "\treturn"
   ]
  },
  {
   "cell_type": "code",
   "execution_count": 61,
   "id": "438eab12",
   "metadata": {},
   "outputs": [
    {
     "ename": "NameError",
     "evalue": "name 'buy' is not defined",
     "output_type": "error",
     "traceback": [
      "\u001b[1;31m---------------------------------------------------------------------------\u001b[0m",
      "\u001b[1;31mNameError\u001b[0m                                 Traceback (most recent call last)",
      "Input \u001b[1;32mIn [61]\u001b[0m, in \u001b[0;36m<cell line: 1>\u001b[1;34m()\u001b[0m\n\u001b[1;32m----> 1\u001b[0m \u001b[43mbuy\u001b[49m(\u001b[38;5;124m\"\u001b[39m\u001b[38;5;124mAni\u001b[39m\u001b[38;5;124m\"\u001b[39m, first\u001b[38;5;241m=\u001b[39m\u001b[38;5;124m\"\u001b[39m\u001b[38;5;124megg\u001b[39m\u001b[38;5;124m\"\u001b[39m, second\u001b[38;5;241m=\u001b[39m\u001b[38;5;124m\"\u001b[39m\u001b[38;5;124msugar\u001b[39m\u001b[38;5;124m\"\u001b[39m, third\u001b[38;5;241m=\u001b[39m\u001b[38;5;124m\"\u001b[39m\u001b[38;5;124msalt\u001b[39m\u001b[38;5;124m\"\u001b[39m, fourth\u001b[38;5;241m=\u001b[39m\u001b[38;5;124m\"\u001b[39m\u001b[38;5;124mbaking powder\u001b[39m\u001b[38;5;124m\"\u001b[39m)\n",
      "\u001b[1;31mNameError\u001b[0m: name 'buy' is not defined"
     ]
    }
   ],
   "source": [
    "buy(\"Ani\", first=\"egg\", second=\"sugar\", third=\"salt\", fourth=\"baking powder\")"
   ]
  },
  {
   "cell_type": "code",
   "execution_count": 62,
   "id": "eb895845",
   "metadata": {},
   "outputs": [
    {
     "ename": "NameError",
     "evalue": "name 'buy' is not defined",
     "output_type": "error",
     "traceback": [
      "\u001b[1;31m---------------------------------------------------------------------------\u001b[0m",
      "\u001b[1;31mNameError\u001b[0m                                 Traceback (most recent call last)",
      "Input \u001b[1;32mIn [62]\u001b[0m, in \u001b[0;36m<cell line: 1>\u001b[1;34m()\u001b[0m\n\u001b[1;32m----> 1\u001b[0m \u001b[43mbuy\u001b[49m(\u001b[38;5;124m\"\u001b[39m\u001b[38;5;124mNuri\u001b[39m\u001b[38;5;124m\"\u001b[39m, satu\u001b[38;5;241m=\u001b[39m\u001b[38;5;124m\"\u001b[39m\u001b[38;5;124mbuku\u001b[39m\u001b[38;5;124m\"\u001b[39m)\n",
      "\u001b[1;31mNameError\u001b[0m: name 'buy' is not defined"
     ]
    }
   ],
   "source": [
    "buy(\"Nuri\", satu=\"buku\")"
   ]
  },
  {
   "cell_type": "code",
   "execution_count": 63,
   "id": "9af24b4f",
   "metadata": {},
   "outputs": [
    {
     "ename": "NameError",
     "evalue": "name 'buy' is not defined",
     "output_type": "error",
     "traceback": [
      "\u001b[1;31m---------------------------------------------------------------------------\u001b[0m",
      "\u001b[1;31mNameError\u001b[0m                                 Traceback (most recent call last)",
      "Input \u001b[1;32mIn [63]\u001b[0m, in \u001b[0;36m<cell line: 1>\u001b[1;34m()\u001b[0m\n\u001b[1;32m----> 1\u001b[0m \u001b[43mbuy\u001b[49m(\u001b[38;5;124m\"\u001b[39m\u001b[38;5;124mNuri\u001b[39m\u001b[38;5;124m\"\u001b[39m, stationary\u001b[38;5;241m=\u001b[39m(\u001b[38;5;124m\"\u001b[39m\u001b[38;5;124mbuku\u001b[39m\u001b[38;5;124m\"\u001b[39m, \u001b[38;5;124m\"\u001b[39m\u001b[38;5;124mpulpen\u001b[39m\u001b[38;5;124m\"\u001b[39m), detergent\u001b[38;5;241m=\u001b[39m\u001b[38;5;124m\"\u001b[39m\u001b[38;5;124mdetergent X\u001b[39m\u001b[38;5;124m\"\u001b[39m)\n",
      "\u001b[1;31mNameError\u001b[0m: name 'buy' is not defined"
     ]
    }
   ],
   "source": [
    "buy(\"Nuri\", stationary=(\"buku\", \"pulpen\"), detergent=\"detergent X\")"
   ]
  },
  {
   "cell_type": "code",
   "execution_count": 64,
   "id": "38fb6397",
   "metadata": {},
   "outputs": [
    {
     "name": "stdout",
     "output_type": "stream",
     "text": [
      "80\n"
     ]
    }
   ],
   "source": [
    "def calculate_area(p, l):\n",
    "\t'''Function untuk menghitung luas'''\n",
    "# \tprint(p * l)\n",
    "\n",
    "# \treturn p * l\n",
    "\n",
    "\tresult = p *l\n",
    "\treturn result\n",
    "# \treturn result, \"AAAA\"\n",
    "\n",
    "area = calculate_area(10, 8)\n",
    "# area = 80\n",
    "print(area)\n"
   ]
  },
  {
   "cell_type": "markdown",
   "id": "bc5a5cc5",
   "metadata": {},
   "source": [
    "## The Anonymous Functions\n"
   ]
  },
  {
   "cell_type": "code",
   "execution_count": 65,
   "id": "1415884e",
   "metadata": {},
   "outputs": [
    {
     "name": "stdout",
     "output_type": "stream",
     "text": [
      "Value of total :  30\n",
      "Value of total :  40\n"
     ]
    }
   ],
   "source": [
    "# Function definition is here\n",
    "sum = lambda arg1, arg2: arg1 + arg2\n",
    "# dari contoh yang sum(10, 20)\n",
    "# sum = arg1 + arg2\n",
    "# sum = 10 + 20\n",
    "# sum = 30\n",
    "\n",
    "\n",
    "# Now you can call sum as a function\n",
    "print(\"Value of total : \", sum(10, 20))\n",
    "\n",
    "print(\"Value of total : \", sum(20, 20))\n"
   ]
  },
  {
   "cell_type": "code",
   "execution_count": 66,
   "id": "24f7e056",
   "metadata": {},
   "outputs": [],
   "source": [
    "penjumlahan = lambda arg1, arg2: arg1 + arg2"
   ]
  },
  {
   "cell_type": "code",
   "execution_count": 67,
   "id": "99824c65",
   "metadata": {},
   "outputs": [],
   "source": [
    "def penjumlahan (arg1, arg2):\n",
    "\treturn arg1 + arg2\n"
   ]
  },
  {
   "cell_type": "code",
   "execution_count": 68,
   "id": "712c8b9d",
   "metadata": {},
   "outputs": [
    {
     "data": {
      "text/plain": [
       "100"
      ]
     },
     "execution_count": 68,
     "metadata": {},
     "output_type": "execute_result"
    }
   ],
   "source": [
    "x = 10\n",
    "y = 90\n",
    "penjumlahan (x, y)\n"
   ]
  },
  {
   "cell_type": "markdown",
   "id": "1cd6c6af",
   "metadata": {},
   "source": [
    "## The Return Statement\n"
   ]
  },
  {
   "cell_type": "code",
   "execution_count": 71,
   "id": "1d16a3a4",
   "metadata": {},
   "outputs": [
    {
     "name": "stdout",
     "output_type": "stream",
     "text": [
      "Inside the function :  30\n",
      "Outside the function :  40\n"
     ]
    }
   ],
   "source": [
    "# Function definition is here\n",
    "def sum(arg1, arg2):\n",
    "\t'''Add both the parameters and return them.'''\n",
    "\ttotal = arg1 + arg2\n",
    "\ttotal2 = total + arg1\n",
    "\tprint(\"Inside the function : \", total)\n",
    "\treturn total2\n",
    "\n",
    "# Now you can call sum function\n",
    "total = sum(10, 20)\n",
    "print(\"Outside the function : \", total)\n"
   ]
  },
  {
   "cell_type": "markdown",
   "id": "3b10dd2e",
   "metadata": {},
   "source": [
    "## Global vs Local Variables\n"
   ]
  },
  {
   "cell_type": "code",
   "execution_count": 72,
   "id": "b44ff229",
   "metadata": {},
   "outputs": [
    {
     "name": "stdout",
     "output_type": "stream",
     "text": [
      "Inside the function local total :  30\n",
      "Outside the function global total :  0\n"
     ]
    }
   ],
   "source": [
    "total = 0\n",
    "\n",
    "def sum(arg1, arg2):\n",
    "\ttotal = arg1 + arg2\n",
    "\tprint(\"Inside the function local total : \", total)\n",
    "\treturn total\n",
    "\n",
    "def min():\n",
    "\tpass\n",
    "    \n",
    "sum(10, 20)\n",
    "print(\"Outside the function global total : \", total)\n"
   ]
  },
  {
   "cell_type": "code",
   "execution_count": 76,
   "id": "00fc2081",
   "metadata": {},
   "outputs": [
    {
     "data": {
      "text/plain": [
       "40"
      ]
     },
     "execution_count": 76,
     "metadata": {},
     "output_type": "execute_result"
    }
   ],
   "source": [
    "jumlahKucing = 20\n",
    "\n",
    "def jumlahHewan():\n",
    "\tjumlahAnjing = 30\n",
    "\treturn jumlahKucing + jumlahAnjing\n",
    "\n",
    "def jumlahKelinci():\n",
    "\treturn jumlahKucing + jumlahKucing\n",
    "\n",
    "jumlahHewan()\n",
    "jumlahKelinci()\n"
   ]
  },
  {
   "cell_type": "markdown",
   "id": "9615af78",
   "metadata": {},
   "source": [
    "## Module\n"
   ]
  },
  {
   "cell_type": "code",
   "execution_count": 80,
   "id": "6076084c",
   "metadata": {},
   "outputs": [
    {
     "ename": "SyntaxError",
     "evalue": "invalid syntax (695419679.py, line 3)",
     "output_type": "error",
     "traceback": [
      "\u001b[1;36m  Input \u001b[1;32mIn [80]\u001b[1;36m\u001b[0m\n\u001b[1;33m    Data  Science\u001b[0m\n\u001b[1;37m          ^\u001b[0m\n\u001b[1;31mSyntaxError\u001b[0m\u001b[1;31m:\u001b[0m invalid syntax\n"
     ]
    }
   ],
   "source": [
    ">>> import mod\n",
    ">>> print(mod.s)\n",
    "Data  Science\n",
    ">>> mod.a\n",
    "[100, 200, 300]\n",
    "\n",
    ">>>mod.foo(['quux', 'corge', 'grault'])\n",
    "arg = ['quux', 'corge', 'grault']\n",
    "arg =  ['quux', 'corge', 'grault']\n",
    ">>> x = mod.Foo()\n",
    ">>> x\n",
    "<mod.Foo object at 0x0000019F24B5AAF0>\n",
    ">>> type(x)\n",
    "<class 'mod.Foo'>\n",
    ">>> from mod import s, a, foo\n",
    ">>> print(s)\n",
    "Hacktiv8-PTP Python For Data Science\n",
    ">>> print(a)\n",
    "[100, 200, 300]\n",
    ">>> foo(['abcdefg', 'hijklmno'])\n",
    "arg = ['abcdefg', 'hijklmno']\n",
    "arg =  ['abcdefg', 'hijklmno']\n",
    ">>> x = Foo()\n",
    "Traceback (most recent call last):\n",
    "  File \"<stdin>\", line 1, in <module>\n",
    "NameError: name 'Foo' is not defined\n",
    ">>>\n"
   ]
  },
  {
   "cell_type": "code",
   "execution_count": 81,
   "id": "3dc249b8",
   "metadata": {},
   "outputs": [
    {
     "ename": "NameError",
     "evalue": "name 'mod' is not defined",
     "output_type": "error",
     "traceback": [
      "\u001b[1;31m---------------------------------------------------------------------------\u001b[0m",
      "\u001b[1;31mNameError\u001b[0m                                 Traceback (most recent call last)",
      "Input \u001b[1;32mIn [81]\u001b[0m, in \u001b[0;36m<cell line: 1>\u001b[1;34m()\u001b[0m\n\u001b[1;32m----> 1\u001b[0m \u001b[43mmod\u001b[49m\u001b[38;5;241m.\u001b[39ma\n",
      "\u001b[1;31mNameError\u001b[0m: name 'mod' is not defined"
     ]
    }
   ],
   "source": [
    "mod.a"
   ]
  },
  {
   "cell_type": "code",
   "execution_count": 82,
   "id": "02a63901",
   "metadata": {},
   "outputs": [
    {
     "ename": "NameError",
     "evalue": "name 'Pkg1' is not defined",
     "output_type": "error",
     "traceback": [
      "\u001b[1;31m---------------------------------------------------------------------------\u001b[0m",
      "\u001b[1;31mNameError\u001b[0m                                 Traceback (most recent call last)",
      "Input \u001b[1;32mIn [82]\u001b[0m, in \u001b[0;36m<cell line: 1>\u001b[1;34m()\u001b[0m\n\u001b[1;32m----> 1\u001b[0m \u001b[43mPkg1\u001b[49m\u001b[38;5;241m.\u001b[39mmod\n\u001b[0;32m      2\u001b[0m [packacge\u001b[38;5;241m.\u001b[39mmodule\u001b[38;5;241m.\u001b[39mobject]\n",
      "\u001b[1;31mNameError\u001b[0m: name 'Pkg1' is not defined"
     ]
    }
   ],
   "source": [
    "Pkg1.mod\n",
    "[packacge.module.object]\n"
   ]
  },
  {
   "cell_type": "code",
   "execution_count": 84,
   "id": "8a1d7965",
   "metadata": {},
   "outputs": [
    {
     "ename": "ModuleNotFoundError",
     "evalue": "No module named 'mod'",
     "output_type": "error",
     "traceback": [
      "\u001b[1;31m---------------------------------------------------------------------------\u001b[0m",
      "\u001b[1;31mModuleNotFoundError\u001b[0m                       Traceback (most recent call last)",
      "Input \u001b[1;32mIn [84]\u001b[0m, in \u001b[0;36m<cell line: 1>\u001b[1;34m()\u001b[0m\n\u001b[1;32m----> 1\u001b[0m \u001b[38;5;28;01mimport\u001b[39;00m \u001b[38;5;21;01mmod\u001b[39;00m\n\u001b[0;32m      2\u001b[0m mod\n",
      "\u001b[1;31mModuleNotFoundError\u001b[0m: No module named 'mod'"
     ]
    }
   ],
   "source": [
    ">>> import mod\n",
    ">>> mod"
   ]
  },
  {
   "cell_type": "code",
   "execution_count": null,
   "id": "a5cb3670",
   "metadata": {},
   "outputs": [],
   "source": []
  }
 ],
 "metadata": {
  "kernelspec": {
   "display_name": "Python 3 (ipykernel)",
   "language": "python",
   "name": "python3"
  },
  "language_info": {
   "codemirror_mode": {
    "name": "ipython",
    "version": 3
   },
   "file_extension": ".py",
   "mimetype": "text/x-python",
   "name": "python",
   "nbconvert_exporter": "python",
   "pygments_lexer": "ipython3",
   "version": "3.9.12"
  }
 },
 "nbformat": 4,
 "nbformat_minor": 5
}
