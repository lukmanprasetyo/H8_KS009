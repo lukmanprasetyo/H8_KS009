{
 "cells": [
  {
   "cell_type": "markdown",
   "id": "846241ce",
   "metadata": {},
   "source": [
    "Conditional"
   ]
  },
  {
   "cell_type": "code",
   "execution_count": null,
   "id": "9dea5fd6",
   "metadata": {},
   "outputs": [],
   "source": [
    "x = 5\n",
    "y = 5\n",
    "\n",
    "if x < y: #Truthy\n",
    "    print('yes')\n",
    "if y < x:#Falsy\n",
    "    print('yes')\n",
    "if x :#Falsy\n",
    "    print('yes')\n",
    "if  y: #Truthy\n",
    "    print('yes\n",
    "          \n",
    "if 'aul' in 'grault': #truthy\n",
    "          "
   ]
  },
  {
   "cell_type": "code",
   "execution_count": null,
   "id": "0a1f430b",
   "metadata": {},
   "outputs": [],
   "source": []
  }
 ],
 "metadata": {
  "kernelspec": {
   "display_name": "Python 3 (ipykernel)",
   "language": "python",
   "name": "python3"
  },
  "language_info": {
   "codemirror_mode": {
    "name": "ipython",
    "version": 3
   },
   "file_extension": ".py",
   "mimetype": "text/x-python",
   "name": "python",
   "nbconvert_exporter": "python",
   "pygments_lexer": "ipython3",
   "version": "3.9.12"
  }
 },
 "nbformat": 4,
 "nbformat_minor": 5
}
