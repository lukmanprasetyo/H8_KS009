{
  "nbformat": 4,
  "nbformat_minor": 0,
  "metadata": {
    "colab": {
      "provenance": [],
      "authorship_tag": "ABX9TyO3zU2NZaAR34syXVj0wX+v",
      "include_colab_link": true
    },
    "kernelspec": {
      "name": "python3",
      "display_name": "Python 3"
    },
    "language_info": {
      "name": "python"
    }
  },
  "cells": [
    {
      "cell_type": "markdown",
      "metadata": {
        "id": "view-in-github",
        "colab_type": "text"
      },
      "source": [
        "<a href=\"https://colab.research.google.com/github/lukmanprasetyo/H8_KS009/blob/master/Descriptive_Statistics9.ipynb\" target=\"_parent\"><img src=\"https://colab.research.google.com/assets/colab-badge.svg\" alt=\"Open In Colab\"/></a>"
      ]
    },
    {
      "cell_type": "markdown",
      "source": [
        "# **Descriptive Statistics**"
      ],
      "metadata": {
        "id": "vxz7HlYI9LUq"
      }
    },
    {
      "cell_type": "markdown",
      "source": [
        "Memahami data atau mendeskripsikan data sehingga lebih mudah dipahami\n",
        "Terbagi menjadi dua yaitu Measures of central tendency and measures of variability (spread). artinya kecenderungan secara netral dan kecenderungan penyebaran"
      ],
      "metadata": {
        "id": "CrgrRw4xDzzL"
      }
    },
    {
      "cell_type": "code",
      "execution_count": null,
      "metadata": {
        "id": "psLYxQ_m82mi"
      },
      "outputs": [],
      "source": []
    },
    {
      "cell_type": "markdown",
      "source": [
        "## **Measure Of Central Tendency**\n",
        "\n",
        "Terdiri dari \n",
        "\n",
        "* Mean (Rata rata)\n",
        "* Median (Nilai Tengah)\n",
        "* Modus/mode (Nilai yang sering muncul)\n",
        "\n"
      ],
      "metadata": {
        "id": "XxnZ2ufUFGpw"
      }
    }
  ]
}